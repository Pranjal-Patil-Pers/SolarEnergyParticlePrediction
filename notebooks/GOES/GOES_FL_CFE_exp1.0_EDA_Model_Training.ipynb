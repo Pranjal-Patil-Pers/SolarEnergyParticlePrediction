{
 "cells": [
  {
   "metadata": {
    "ExecuteTime": {
     "end_time": "2025-10-29T12:54:57.687461Z",
     "start_time": "2025-10-29T12:54:57.682886Z"
    }
   },
   "cell_type": "code",
   "source": [
    "import wandb\n",
    "import matplotlib.pyplot as plt\n",
    "import dice_ml\n",
    "import warnings\n",
    "import pandas as pd\n",
    "import numpy as np\n",
    "from sklearn.ensemble import RandomForestClassifier\n",
    "from sklearn.model_selection import GridSearchCV, StratifiedKFold\n",
    "from sklearn.metrics import f1_score, make_scorer, roc_auc_score,precision_score, recall_score\n",
    "from sklearn.metrics import accuracy_score, classification_report, confusion_matrix\n",
    "from sklearn.pipeline import Pipeline\n",
    "# import seaborn as sns\n",
    "import joblib\n",
    "from sklearn.model_selection import train_test_split\n",
    "import os\n",
    "from sklearn.preprocessing import MinMaxScaler,StandardScaler\n",
    "from scripts.SEP_CFE_functions import *\n",
    "\n",
    "\n",
    "\n",
    "min_max_scaler = MinMaxScaler()\n",
    "warnings.filterwarnings(\"ignore\")\n",
    "# scale_factor = 1e8"
   ],
   "id": "70470739c46f1560",
   "outputs": [],
   "execution_count": 54
  },
  {
   "metadata": {
    "ExecuteTime": {
     "end_time": "2025-10-29T12:54:57.700859Z",
     "start_time": "2025-10-29T12:54:57.694490Z"
    }
   },
   "cell_type": "code",
   "source": [
    "# --- Patch DiCE PublicData.get_decimal_precisions early to avoid IndexError in empty/malformed modes ---\n",
    "import dice_ml.data_interfaces.public_data_interface as pdi\n",
    "\n",
    "def safe_get_decimal_precisions(self, output_type=\"list\"):\n",
    "    \"\"\"Return decimal precision per feature safely.\n",
    "\n",
    "    Returns a list by default (same shape as original DiCE implementation) where each\n",
    "    index corresponds to the feature order in `self.feature_names`. Also supports\n",
    "    output_type='dict' to return a mapping {feature_name: precision}.\n",
    "\n",
    "    This is defensive: if modes are empty or unparsable the default precision is 6.\n",
    "    \"\"\"\n",
    "    from collections import defaultdict\n",
    "    precisions_dict = defaultdict(int)\n",
    "    # initialize a list matching feature_names length (default 0)\n",
    "    precisions_list = [0] * len(self.feature_names)\n",
    "\n",
    "    for idx, feat in enumerate(self.feature_names):\n",
    "        # default precision\n",
    "        precisions_list[idx] = 6\n",
    "        precisions_dict[feat] = 6\n",
    "\n",
    "    # Now compute precisions for continuous features only\n",
    "    for col in self.continuous_feature_names:\n",
    "        try:\n",
    "            # determine index of this feature in feature_names\n",
    "            try:\n",
    "                ix = self.feature_names.index(col)\n",
    "            except ValueError:\n",
    "                # fallback: place precision at leftmost free slot (shouldn't normally happen)\n",
    "                ix = None\n",
    "\n",
    "            if (self.continuous_features_precision is not None) and (col in self.continuous_features_precision):\n",
    "                prec = int(self.continuous_features_precision[col])\n",
    "            else:\n",
    "                # only compute modes if dtype is float-like\n",
    "                if getattr(self.data_df[col], 'dtype', None) in [np.float32, np.float64]:\n",
    "                    modes = self.data_df[col].mode()\n",
    "                    if len(modes) == 0:\n",
    "                        prec = 6\n",
    "                    else:\n",
    "                        # compute maximal fractional length among modes\n",
    "                        maxp = 0\n",
    "                        for m in modes:\n",
    "                            s = str(m)\n",
    "                            if '.' in s:\n",
    "                                parts = s.split('.')\n",
    "                                if len(parts) > 1:\n",
    "                                    maxp = max(maxp, len(parts[1]))\n",
    "                        prec = maxp if maxp > 0 else 6\n",
    "                else:\n",
    "                    prec = 6\n",
    "            # set into both structures\n",
    "            if ix is not None:\n",
    "                precisions_list[ix] = prec\n",
    "            precisions_dict[col] = prec\n",
    "        except Exception:\n",
    "            # any unexpected error -> keep default precision 6\n",
    "            precisions_dict[col] = 6\n",
    "            try:\n",
    "                if ix is not None:\n",
    "                    precisions_list[ix] = 6\n",
    "            except Exception:\n",
    "                pass\n",
    "\n",
    "    if output_type == \"list\":\n",
    "        return precisions_list\n",
    "    elif output_type == \"dict\":\n",
    "        return dict(precisions_dict)\n",
    "    else:\n",
    "        # preserve backward compatibility: return list by default for any unknown output_type\n",
    "        return precisions_list\n",
    "\n",
    "# Apply the patch so subsequent DiCE calls use this safe version\n",
    "pdi.PublicData.get_decimal_precisions = safe_get_decimal_precisions"
   ],
   "id": "ab9902539f98bc4b",
   "outputs": [],
   "execution_count": 55
  },
  {
   "metadata": {
    "ExecuteTime": {
     "end_time": "2025-10-29T12:54:57.940427Z",
     "start_time": "2025-10-29T12:54:57.704806Z"
    }
   },
   "cell_type": "code",
   "source": [
    "abt_path_train = '../../data/raw/GOES/goes18_2024.csv'\n",
    "df_train = pd.read_csv(abt_path_train,  sep=',' )\n",
    "df_train.columns.values[0] = 'timestamp'\n",
    "df_train['timestamp'] = pd.to_datetime(df_train['timestamp'])"
   ],
   "id": "e80451e479260ebd",
   "outputs": [],
   "execution_count": 56
  },
  {
   "metadata": {
    "ExecuteTime": {
     "end_time": "2025-10-29T12:55:01.675314Z",
     "start_time": "2025-10-29T12:54:57.944580Z"
    }
   },
   "cell_type": "code",
   "source": [
    "def create_and_save_windows(df, save_dir=\"windows\", input_hours=2, pred_hours=2, stride_hours=2):\n",
    "    os.makedirs(save_dir, exist_ok=True)\n",
    "    input_len = input_hours * 60     # convert to minutes\n",
    "    pred_len = pred_hours * 60\n",
    "    stride = stride_hours * 60\n",
    "    n = len(df)\n",
    "    timestamps = df['timestamp']\n",
    "    window_count = 0\n",
    "\n",
    "    for start in range(0, n - input_len - pred_len + 1, stride):\n",
    "        end_input = start + input_len\n",
    "        end_pred = end_input + pred_len\n",
    "\n",
    "        input_df = df.iloc[start:end_input]\n",
    "        pred_df  = df.iloc[end_input:end_pred]\n",
    "\n",
    "        start_time = timestamps[start].strftime(\"%Y%m%d_%H%M\")\n",
    "        input_file = os.path.join(save_dir, f\"GOES18_2024_{window_count:04d}_{start_time}_input.csv\")\n",
    "        pred_file  = os.path.join(save_dir, f\"GOES18_2024_{window_count:04d}_{start_time}_pred.csv\")\n",
    "\n",
    "        input_df.to_csv(input_file)\n",
    "        pred_df.to_csv(pred_file)\n",
    "        window_count += 1\n",
    "    print(f\"✅ Created {window_count} overlapping windows in '{save_dir}'\")\n",
    "\n",
    "# Create and save windows with stride = 2 hours\n",
    "create_and_save_windows(df_train, save_dir=\"../../data/processed/goes18_2024\", input_hours=2, pred_hours=2, stride_hours=2)"
   ],
   "id": "791d0b6c018f8125",
   "outputs": [
    {
     "name": "stdout",
     "output_type": "stream",
     "text": [
      "✅ Created 4391 overlapping windows in '../../data/processed/goes18_2024'\n"
     ]
    }
   ],
   "execution_count": 57
  },
  {
   "metadata": {
    "ExecuteTime": {
     "end_time": "2025-10-29T12:55:01.717187Z",
     "start_time": "2025-10-29T12:55:01.713723Z"
    }
   },
   "cell_type": "code",
   "source": [
    "def create_flare_label_dataset_from_pred(input_pred_dir, save_path=None):\n",
    "    rows = []\n",
    "    for file in sorted(os.listdir(input_pred_dir)):\n",
    "        if file.endswith(\"_pred.csv\"):\n",
    "            pred_file_path = os.path.join(input_pred_dir, file)\n",
    "            df_pred = pd.read_csv(pred_file_path)\n",
    "\n",
    "            max_flux = df_pred['xrsb'].max()\n",
    "            if max_flux >= 1e-4:\n",
    "                label = 'X'\n",
    "            elif max_flux >= 1e-5:\n",
    "                label = 'M'\n",
    "            elif max_flux >= 1e-6:\n",
    "                label = 'C'\n",
    "            elif max_flux >= 1e-7:\n",
    "                label = 'B'\n",
    "            elif max_flux >= 1e-8:\n",
    "                label = 'A'\n",
    "            else:\n",
    "                label = 'NF'\n",
    "\n",
    "            input_filename = file.replace('_pred', '_input')\n",
    "            rows.append({'input_filename': input_filename, 'label': label})\n",
    "\n",
    "    label_df = pd.DataFrame(rows)\n",
    "    if save_path:\n",
    "        label_df.to_csv(save_path, index=False)\n",
    "        print(f\"Label dataset saved to: {save_path}\")\n",
    "\n",
    "    return label_df\n"
   ],
   "id": "3124d153f341090b",
   "outputs": [],
   "execution_count": 58
  },
  {
   "metadata": {
    "ExecuteTime": {
     "end_time": "2025-10-29T12:55:03.263808Z",
     "start_time": "2025-10-29T12:55:01.722118Z"
    }
   },
   "cell_type": "code",
   "source": [
    "input_pred_dir = \"../../data/processed/goes18_2024\"\n",
    "save_file = \"../../data/processed/goes18_2024_labels.csv\"\n",
    "\n",
    "label_df = create_flare_label_dataset_from_pred(input_pred_dir, save_path=save_file)\n",
    "print(label_df.head())"
   ],
   "id": "c7757e9115c468fa",
   "outputs": [
    {
     "name": "stdout",
     "output_type": "stream",
     "text": [
      "Label dataset saved to: ../../data/processed/goes18_2024_labels.csv\n",
      "                             input_filename label\n",
      "0  GOES18_2024_0000_20240101_0000_input.csv     C\n",
      "1  GOES18_2024_0001_20240101_0200_input.csv     C\n",
      "2  GOES18_2024_0002_20240101_0400_input.csv     C\n",
      "3  GOES18_2024_0003_20240101_0600_input.csv     M\n",
      "4  GOES18_2024_0004_20240101_0800_input.csv     C\n"
     ]
    }
   ],
   "execution_count": 59
  },
  {
   "metadata": {
    "ExecuteTime": {
     "end_time": "2025-10-29T12:55:03.301660Z",
     "start_time": "2025-10-29T12:55:03.300194Z"
    }
   },
   "cell_type": "code",
   "source": "# label_df = pd.read_csv(\"../../data/processed/goes18_2024_labels.csv\")",
   "id": "9693fc2e9524fa43",
   "outputs": [],
   "execution_count": 60
  },
  {
   "metadata": {
    "ExecuteTime": {
     "end_time": "2025-10-29T12:55:03.307250Z",
     "start_time": "2025-10-29T12:55:03.304569Z"
    }
   },
   "cell_type": "code",
   "source": [
    "def recursive_slices(start, end, min_size=5):\n",
    "    length = end - start\n",
    "    if length <= min_size:\n",
    "        return [(start, end)]\n",
    "    else:\n",
    "        mid = start + length // 2\n",
    "        left = recursive_slices(start, mid, min_size)\n",
    "        right = recursive_slices(mid, end, min_size)\n",
    "        return [(start, end)] + left + right\n",
    "\n",
    "def generate_mean_features(df, min_size=5, prefix=None):\n",
    "    n_timesteps = df.shape[0]\n",
    "    slices = recursive_slices(0, n_timesteps, min_size)\n",
    "    features = {}\n",
    "\n",
    "    for channel in ['xrsa', 'xrsb']:\n",
    "        data = pd.to_numeric(df[channel], errors='coerce').values\n",
    "        for (s, e) in slices:\n",
    "            name = f\"{prefix+'_' if prefix else ''}{channel}[{s}:{e}]_mean\"\n",
    "            val = np.mean(data[s:e])\n",
    "\n",
    "            # Only add feature if val is not NaN\n",
    "            if not np.isnan(val):\n",
    "                # features[name] = val*scale_factor\n",
    "                val = np.log(val.clip(min=1e-10))   # natural log, safe for small values\n",
    "                features[name] = val\n",
    "\n",
    "    return pd.Series(features)\n",
    "\n"
   ],
   "id": "dd589b79713889b",
   "outputs": [],
   "execution_count": 61
  },
  {
   "metadata": {
    "ExecuteTime": {
     "end_time": "2025-10-29T12:55:03.312989Z",
     "start_time": "2025-10-29T12:55:03.310804Z"
    }
   },
   "cell_type": "code",
   "source": [
    "def create_mean_features_by_window_sizes(input_dir, output_file, window_sizes=None):\n",
    "    rows = []\n",
    "    input_files = sorted([f for f in os.listdir(input_dir) if \"_input.csv\" in f])\n",
    "    for file in input_files:\n",
    "        df = pd.read_csv(os.path.join(input_dir, file))\n",
    "        features = generate_mean_features(df, min_size=5)\n",
    "        feature_dict = {'input_filename': file, **features.to_dict()}\n",
    "        rows.append(feature_dict)\n",
    "\n",
    "    features_df = pd.DataFrame(rows)\n",
    "    features_df.dropna(inplace=True)\n",
    "    features_df.to_csv(output_file, index=False)\n",
    "    print(f\"✅ Mean-valued features saved to: {output_file}\")\n"
   ],
   "id": "99f8e6f57e2a7763",
   "outputs": [],
   "execution_count": 62
  },
  {
   "metadata": {
    "ExecuteTime": {
     "end_time": "2025-10-29T12:55:07.541110Z",
     "start_time": "2025-10-29T12:55:03.316848Z"
    }
   },
   "cell_type": "code",
   "source": [
    "input_dir = \"../../data/processed/goes18_2024/\"  # folder containing input files\n",
    "output_file = \"../../data/processed/goes18_2024_mean_features_custom_windows.csv\"\n",
    "\n",
    "create_mean_features_by_window_sizes(input_dir, output_file)"
   ],
   "id": "1fb06817869b18bc",
   "outputs": [
    {
     "name": "stdout",
     "output_type": "stream",
     "text": [
      "✅ Mean-valued features saved to: ../../data/processed/goes18_2024_mean_features_custom_windows.csv\n"
     ]
    }
   ],
   "execution_count": 63
  },
  {
   "metadata": {
    "ExecuteTime": {
     "end_time": "2025-10-29T12:55:07.634276Z",
     "start_time": "2025-10-29T12:55:07.582294Z"
    }
   },
   "cell_type": "code",
   "source": [
    "# Count of each flare type\n",
    "flare_counts = label_df['label'].value_counts().sort_index()  # sort by label\n",
    "\n",
    "plt.figure(figsize=(8,5))\n",
    "plt.bar(flare_counts.index, flare_counts.values, color='skyblue', edgecolor='black')\n",
    "plt.xlabel(\"Flare Class\")\n",
    "plt.ylabel(\"Count\")\n",
    "plt.title(\"Distribution of GOES Flare Classes in 2-hour Windows\")\n",
    "plt.tight_layout()\n",
    "plt.show()\n",
    "\n"
   ],
   "id": "926226aac8b5501d",
   "outputs": [
    {
     "data": {
      "text/plain": [
       "<Figure size 800x500 with 1 Axes>"
      ],
      "image/png": "[encoded data removed]"
     },
     "metadata": {},
     "output_type": "display_data",
     "jetTransient": {
      "display_id": null
     }
    }
   ],
   "execution_count": 64
  },
  {
   "metadata": {
    "ExecuteTime": {
     "end_time": "2025-10-29T12:55:07.940923Z",
     "start_time": "2025-10-29T12:55:07.643694Z"
    }
   },
   "cell_type": "code",
   "source": [
    "features_file = \"../../data/processed/goes18_2024_mean_features_custom_windows.csv\"\n",
    "features_df = pd.read_csv(features_file)\n",
    "combined_df = pd.merge(features_df, label_df, on=\"input_filename\", how=\"inner\")\n",
    "\n",
    "print(\"Combined dataset shape:\", combined_df.shape)\n",
    "print(combined_df.head())\n",
    "\n",
    "# Optionally, save to CSV\n",
    "combined_file = \"../../data/processed/goes18_2024_features_labels.csv\"\n",
    "combined_df.to_csv(combined_file, index=False)\n",
    "print(f\"✅ Combined dataset saved to: {combined_file}\")\n"
   ],
   "id": "3a106b06ea032dfd",
   "outputs": [
    {
     "name": "stdout",
     "output_type": "stream",
     "text": [
      "Combined dataset shape: (3888, 128)\n",
      "                             input_filename  xrsa[0:120]_mean  \\\n",
      "0  GOES18_2024_0000_20240101_0000_input.csv    -15.9544893143   \n",
      "1  GOES18_2024_0001_20240101_0200_input.csv    -17.4796593227   \n",
      "2  GOES18_2024_0002_20240101_0400_input.csv    -18.4241442046   \n",
      "3  GOES18_2024_0003_20240101_0600_input.csv    -17.9753384364   \n",
      "4  GOES18_2024_0004_20240101_0800_input.csv    -14.3676471708   \n",
      "\n",
      "   xrsa[0:60]_mean  xrsa[0:30]_mean  xrsa[0:15]_mean  xrsa[0:7]_mean  \\\n",
      "0   -15.6574412051   -15.4247161391   -15.2593308000  -15.1541785720   \n",
      "1   -17.2868522484   -17.1646074027   -17.1227580664  -17.1096069121   \n",
      "2   -18.3336280259   -18.1917582244   -18.1551668627  -18.1580654011   \n",
      "3   -18.2568666702   -18.5583730459   -18.1082726824  -17.6651721381   \n",
      "4   -13.8413106291   -15.2946328377   -14.8655667403  -14.6606588137   \n",
      "\n",
      "   xrsa[0:3]_mean  xrsa[3:7]_mean  xrsa[7:15]_mean  xrsa[7:11]_mean  ...  \\\n",
      "0  -15.0953181219  -15.2007152130   -15.3613853877   -15.3128278471  ...   \n",
      "1  -17.0797542759  -17.1325961718   -17.1344089347   -17.1308457220  ...   \n",
      "2  -18.1090059135  -18.1965070234   -18.1526375152   -18.1534720883  ...   \n",
      "3  -17.6571604249  -17.6712233293   -18.7773866116   -18.4845004488  ...   \n",
      "4  -14.8128125490  -14.5600374682   -15.0874430222   -14.8911666456  ...   \n",
      "\n",
      "   xrsb[97:101]_mean  xrsb[101:105]_mean  xrsb[105:120]_mean  \\\n",
      "0     -12.5375620392      -13.0975662703      -13.2568718796   \n",
      "1     -13.5937644827      -13.5883645472      -13.5809160149   \n",
      "2     -13.7351672570      -13.7719992070      -13.7982306394   \n",
      "3     -13.7147093904      -13.7066435074      -13.5185094182   \n",
      "4     -13.4620449936      -13.5586840409      -13.6743817589   \n",
      "\n",
      "   xrsb[105:112]_mean  xrsb[105:108]_mean  xrsb[108:112]_mean  \\\n",
      "0      -13.2323983888      -13.2161760673      -13.2447401999   \n",
      "1      -13.6101676566      -13.6037539121      -13.6150051057   \n",
      "2      -13.7953684365      -13.7763592062      -13.8098663167   \n",
      "3      -13.6817913705      -13.7085679045      -13.6621692341   \n",
      "4      -13.6300343039      -13.6133880896      -13.6427033696   \n",
      "\n",
      "   xrsb[112:120]_mean  xrsb[112:116]_mean  xrsb[116:120]_mean  label  \n",
      "0      -13.2787888071      -13.2672328900      -13.2904798262      C  \n",
      "1      -13.5560044414      -13.5566303172      -13.5553789571      C  \n",
      "2      -13.8007418049      -13.8267577714      -13.7753855423      C  \n",
      "3      -13.3946848634      -13.5779330591      -13.2398728239      M  \n",
      "4      -13.7148676791      -13.7057602764      -13.7240587895      C  \n",
      "\n",
      "[5 rows x 128 columns]\n",
      "✅ Combined dataset saved to: ../../data/processed/goes18_2024_features_labels.csv\n"
     ]
    }
   ],
   "execution_count": 65
  },
  {
   "metadata": {
    "ExecuteTime": {
     "end_time": "2025-10-29T12:55:08.189568Z",
     "start_time": "2025-10-29T12:55:07.945359Z"
    }
   },
   "cell_type": "code",
   "source": [
    "binary_map = {'NF': 0,'A': 0,'B': 0,'C': 0,'M': 1,'X': 1}\n",
    "combined_df['binary_label'] = combined_df['label'].map(binary_map)\n",
    "print(combined_df['binary_label'].value_counts())\n",
    "print(combined_df[['label', 'binary_label']].head())\n",
    "combined_file = \"../../data/processed/goes18_2024_features_labels.csv\"\n",
    "combined_df.to_csv(combined_file, index=False)\n",
    "print(f\"✅ Combined dataset saved to: {combined_file}\")\n"
   ],
   "id": "f91b03acb1dbcc5c",
   "outputs": [
    {
     "name": "stdout",
     "output_type": "stream",
     "text": [
      "binary_label\n",
      "0    3071\n",
      "1     817\n",
      "Name: count, dtype: int64\n",
      "  label  binary_label\n",
      "0     C             0\n",
      "1     C             0\n",
      "2     C             0\n",
      "3     M             1\n",
      "4     C             0\n",
      "✅ Combined dataset saved to: ../../data/processed/goes18_2024_features_labels.csv\n"
     ]
    }
   ],
   "execution_count": 66
  },
  {
   "metadata": {
    "ExecuteTime": {
     "end_time": "2025-10-29T12:55:08.235070Z",
     "start_time": "2025-10-29T12:55:08.194348Z"
    }
   },
   "cell_type": "code",
   "source": [
    "binary_counts = combined_df['binary_label'].value_counts().sort_index()\n",
    "\n",
    "# Plot\n",
    "plt.figure(figsize=(6,4))\n",
    "plt.bar(binary_counts.index, binary_counts.values, color=\"skyblue\", edgecolor='black')\n",
    "plt.xticks([0, 1], [\"Class 0 (NF/A/B/C)\", \"Class 1 (M/X)\"])\n",
    "plt.ylabel(\"Count\")\n",
    "plt.title(\"Binary Flare Class Distribution\")\n",
    "plt.tight_layout()\n",
    "plt.show()"
   ],
   "id": "66db5c6cdd6c85a8",
   "outputs": [
    {
     "data": {
      "text/plain": [
       "<Figure size 600x400 with 1 Axes>"
      ],
      "image/png": "[encoded data removed]"
     },
     "metadata": {},
     "output_type": "display_data",
     "jetTransient": {
      "display_id": null
     }
    }
   ],
   "execution_count": 67
  },
  {
   "metadata": {
    "ExecuteTime": {
     "end_time": "2025-10-29T12:55:08.250679Z",
     "start_time": "2025-10-29T12:55:08.244422Z"
    }
   },
   "cell_type": "code",
   "source": [
    "def split_df_by_percentage(df, train_frac=0.7, val_frac=0.15, test_frac=0.15, random_state=42):\n",
    "    if abs(train_frac + val_frac + test_frac - 1.0) > 1e-6:\n",
    "        raise ValueError(\"Fractions must sum to 1.0\")\n",
    "\n",
    "    train_df, temp_df = train_test_split(df, train_size=train_frac, random_state=random_state, shuffle=True)\n",
    "    temp_frac = test_frac / (val_frac + test_frac)\n",
    "    val_df, test_df = train_test_split(temp_df, test_size=temp_frac, random_state=random_state, shuffle=True)\n",
    "    return train_df.reset_index(drop=True), val_df.reset_index(drop=True), test_df.reset_index(drop=True)\n",
    "\n",
    "\n",
    "train_df, val_df, test_df = split_df_by_percentage(combined_df)\n",
    "\n",
    "print(\"Train shape:\", train_df.shape)\n",
    "print(\"Validation shape:\", val_df.shape)\n",
    "print(\"Test shape:\", test_df.shape)\n"
   ],
   "id": "9caf1024ff24dd3",
   "outputs": [
    {
     "name": "stdout",
     "output_type": "stream",
     "text": [
      "Train shape: (2721, 129)\n",
      "Validation shape: (583, 129)\n",
      "Test shape: (584, 129)\n"
     ]
    }
   ],
   "execution_count": 68
  },
  {
   "metadata": {
    "ExecuteTime": {
     "end_time": "2025-10-29T12:55:08.270353Z",
     "start_time": "2025-10-29T12:55:08.260541Z"
    }
   },
   "cell_type": "code",
   "source": [
    "feature_cols = [c for c in train_df.columns if c not in ['input_filename', 'label', 'binary_label']]\n",
    "mm_scaler = MinMaxScaler()\n",
    "scaled_train_df = mm_scaler.fit_transform(train_df[feature_cols].values)\n",
    "scaled_test_df = mm_scaler.fit_transform(test_df[feature_cols].values)\n",
    "scaled_val_df = mm_scaler.fit_transform(val_df[feature_cols].values)\n",
    "\n",
    "# X_train = train_df[feature_cols].values * scale_factor\n",
    "# y_train = train_df['binary_label'].values\n",
    "#\n",
    "# X_val = val_df[feature_cols].values * scale_factor\n",
    "# y_val = val_df['binary_label'].values\n",
    "#\n",
    "# X_test = test_df[feature_cols].values *scale_factor\n",
    "# y_test = test_df['binary_label'].values\n",
    "\n",
    "X_train = train_df[feature_cols].values\n",
    "y_train = train_df['binary_label'].values\n",
    "\n",
    "X_val = val_df[feature_cols].values\n",
    "y_val = val_df['binary_label'].values\n",
    "\n",
    "X_test = test_df[feature_cols].values\n",
    "y_test = test_df['binary_label'].values\n",
    "\n",
    "\n",
    "X_train = mm_scaler.fit_transform(X_train)\n",
    "X_val = mm_scaler.transform(X_val)\n",
    "X_test = mm_scaler.transform(X_test)\n",
    "\n",
    "print(\"Shapes:\")\n",
    "print(\"X_train:\", X_train.shape, \"y_train:\", y_train.shape)\n",
    "print(\"X_val:\", X_val.shape, \"y_val:\", y_val.shape)\n",
    "print(\"X_test:\", X_test.shape, \"y_test:\", y_test.shape)\n"
   ],
   "id": "99637b0e9295e5d3",
   "outputs": [
    {
     "name": "stdout",
     "output_type": "stream",
     "text": [
      "Shapes:\n",
      "X_train: (2721, 126) y_train: (2721,)\n",
      "X_val: (583, 126) y_val: (583,)\n",
      "X_test: (584, 126) y_test: (584,)\n"
     ]
    }
   ],
   "execution_count": 69
  },
  {
   "metadata": {
    "ExecuteTime": {
     "end_time": "2025-10-29T12:55:50.625974Z",
     "start_time": "2025-10-29T12:55:08.280405Z"
    }
   },
   "cell_type": "code",
   "source": [
    "# Define the hyperparameter grid\n",
    "param_grid = {\n",
    "    'n_estimators': [50, 100, 200, 300, 400, 500],\n",
    "    'max_depth': [2, 3, 4, 5, 6, 7, 8]\n",
    "}\n",
    "rf_clf = RandomForestClassifier(random_state=42, class_weight='balanced')\n",
    "\n",
    "cv = StratifiedKFold(n_splits=5, shuffle=True, random_state=42)\n",
    "\n",
    "scorer = make_scorer(f1_score, pos_label=1)\n",
    "\n",
    "grid_search = GridSearchCV(estimator=rf_clf, param_grid=param_grid,cv=cv,scoring=scorer,n_jobs=-1,verbose=1)\n",
    "\n",
    "grid_search.fit(X_train, y_train)\n",
    "\n",
    "# Print the best hyperparameters and corresponding score from cross-validation\n",
    "print(\"Best parameters found:\", grid_search.best_params_)\n",
    "print(\"Best F1 score (for positive class) from CV:\", grid_search.best_score_)\n",
    "\n",
    "# Retrieve the best estimator and evaluate on the test data\n",
    "best_rf = grid_search.best_estimator_\n",
    "Y_pred = best_rf.predict(X_train)\n",
    "\n",
    "# Save model\n",
    "joblib.dump(best_rf, '../../models/RandomForestClassifier_model_goes18_xrs_cfe.pkl')\n",
    "\n",
    "# Output the test classification report and confusion matrix\n",
    "print(\"\\nTest Classification Report:\\n\", classification_report(y_train, Y_pred))\n",
    "print(\"Test Confusion Matrix:\\n\", confusion_matrix(y_train, Y_pred))"
   ],
   "id": "4b214b21a0239cc2",
   "outputs": [
    {
     "name": "stdout",
     "output_type": "stream",
     "text": [
      "Fitting 5 folds for each of 42 candidates, totalling 210 fits\n",
      "Best parameters found: {'max_depth': 4, 'n_estimators': 300}\n",
      "Best F1 score (for positive class) from CV: 0.5362781484037523\n",
      "\n",
      "Test Classification Report:\n",
      "               precision    recall  f1-score   support\n",
      "\n",
      "           0       0.90      0.83      0.86      2154\n",
      "           1       0.50      0.65      0.57       567\n",
      "\n",
      "    accuracy                           0.79      2721\n",
      "   macro avg       0.70      0.74      0.72      2721\n",
      "weighted avg       0.82      0.79      0.80      2721\n",
      "\n",
      "Test Confusion Matrix:\n",
      " [[1793  361]\n",
      " [ 199  368]]\n"
     ]
    }
   ],
   "execution_count": 70
  },
  {
   "metadata": {
    "ExecuteTime": {
     "end_time": "2025-10-29T12:55:50.693398Z",
     "start_time": "2025-10-29T12:55:50.662636Z"
    }
   },
   "cell_type": "code",
   "source": [
    "overall_results = []\n",
    "overall_results.append(('training set', TSS(y_train, Y_pred), HSS(y_train, Y_pred),accuracy_score(y_train, Y_pred),precision_score(y_train, Y_pred),f1_score(y_train, Y_pred),recall_score(y_train, Y_pred)))\n",
    "\n",
    "y_val_pred = best_rf.predict(X_val)\n",
    "overall_results.append(('validation set', TSS(y_val, y_val_pred), HSS(y_val, y_val_pred),accuracy_score(y_val, y_val_pred),precision_score(y_val, y_val_pred),f1_score(y_val, y_val_pred),recall_score(y_val, y_val_pred)))\n",
    "\n",
    "y_test_pred = best_rf.predict(X_test)\n",
    "overall_results.append(('testing set', TSS(y_test, y_test_pred), HSS(y_test, y_test_pred),accuracy_score(y_test, y_test_pred),precision_score(y_test, y_test_pred),f1_score(y_test, y_test_pred),recall_score(y_test, y_test_pred)))\n",
    "print(pd.DataFrame(overall_results, columns=[\"Dataset\",  \"TSS\", \"HSS\",\"Accuracy\",\"Precision Score\",\"F1_score\",\"Recall_score\"]))\n"
   ],
   "id": "e090500e906656a0",
   "outputs": [
    {
     "name": "stdout",
     "output_type": "stream",
     "text": [
      "          Dataset          TSS          HSS     Accuracy  Precision Score  \\\n",
      "0    training set 0.4814348106 0.4355880032 0.7941933113     0.5048010974   \n",
      "1  validation set 0.4235405220 0.3906405891 0.7735849057     0.4873417722   \n",
      "2     testing set 0.5295933575 0.4663042459 0.7996575342     0.5149700599   \n",
      "\n",
      "      F1_score  Recall_score  \n",
      "0 0.5679012346  0.6490299824  \n",
      "1 0.5384615385  0.6015625000  \n",
      "2 0.5951557093  0.7049180328  \n"
     ]
    }
   ],
   "execution_count": 71
  },
  {
   "metadata": {
    "ExecuteTime": {
     "end_time": "2025-10-29T12:55:50.838081Z",
     "start_time": "2025-10-29T12:55:50.705922Z"
    }
   },
   "cell_type": "code",
   "source": [
    "feature_importances = best_rf.feature_importances_\n",
    "cont_features = list(combined_df.drop([\"input_filename\",\"label\",\"binary_label\"],axis=1).columns)\n",
    "feature_importance_df = pd.DataFrame({\n",
    "    'Feature': cont_features,\n",
    "    'Importance': feature_importances\n",
    "})\n",
    "feature_importance_df = feature_importance_df.sort_values(by='Importance', ascending=False).head(20)\n",
    "print(feature_importance_df)\n",
    "\n",
    "\n",
    "plt.figure(figsize=(10, 6))\n",
    "plt.barh(feature_importance_df['Feature'], feature_importance_df['Importance'], color='skyblue')\n",
    "plt.xlabel('Importance Score')\n",
    "plt.ylabel('Feature')\n",
    "plt.title('Feature Importance based on Best Random Forest Model')\n",
    "plt.gca().invert_yaxis()  # Invert y-axis to show the most important feature at the top\n",
    "plt.show()"
   ],
   "id": "223c7bdd73abe3af",
   "outputs": [
    {
     "name": "stdout",
     "output_type": "stream",
     "text": [
      "                Feature   Importance\n",
      "125  xrsb[116:120]_mean 0.0925615109\n",
      "123  xrsb[112:120]_mean 0.0838768975\n",
      "62   xrsa[116:120]_mean 0.0689057835\n",
      "119  xrsb[105:120]_mean 0.0520684564\n",
      "124  xrsb[112:116]_mean 0.0514130094\n",
      "111   xrsb[90:120]_mean 0.0484817647\n",
      "60   xrsa[112:120]_mean 0.0432451798\n",
      "48    xrsa[90:120]_mean 0.0388688483\n",
      "122  xrsb[108:112]_mean 0.0283005879\n",
      "61   xrsa[112:116]_mean 0.0274411688\n",
      "56   xrsa[105:120]_mean 0.0250323118\n",
      "95    xrsb[60:120]_mean 0.0236383683\n",
      "120  xrsb[105:112]_mean 0.0215602279\n",
      "63     xrsb[0:120]_mean 0.0207834200\n",
      "32    xrsa[60:120]_mean 0.0187327622\n",
      "59   xrsa[108:112]_mean 0.0169607593\n",
      "0      xrsa[0:120]_mean 0.0163292797\n",
      "112   xrsb[90:105]_mean 0.0109641679\n",
      "105    xrsb[75:82]_mean 0.0101353562\n",
      "57   xrsa[105:112]_mean 0.0101122496\n"
     ]
    },
    {
     "data": {
      "text/plain": [
       "<Figure size 1000x600 with 1 Axes>"
      ],
      "image/png": "[encoded data removed]"
     },
     "metadata": {},
     "output_type": "display_data",
     "jetTransient": {
      "display_id": null
     }
    }
   ],
   "execution_count": 72
  },
  {
   "metadata": {},
   "cell_type": "markdown",
   "source": "Creating DiCE Counterfactual Explainers for SEP Prediction",
   "id": "7ecf793fc9f240a3"
  },
  {
   "metadata": {
    "ExecuteTime": {
     "end_time": "2025-10-29T12:55:51.099710Z",
     "start_time": "2025-10-29T12:55:50.909623Z"
    }
   },
   "cell_type": "code",
   "source": [
    "df_cfe=combined_df.drop([\"input_filename\",\"label\",],axis=1)\n",
    "# df_cfe = test_df.drop([\"label\",\"input_filename\"],axis=1)\n",
    "df_cfe['binary_label']=df_cfe['binary_label'].astype(float)\n",
    "# --- Clean continuous features so every column has a visible decimal part ---\n",
    "for col in cont_features:\n",
    "    # Force float, replace inf/nan\n",
    "    df_cfe[col] = pd.to_numeric(df_cfe[col], errors='coerce').fillna(0).astype(float)\n",
    "    # Round and force decimal representation\n",
    "    df_cfe[col] = df_cfe[col].apply(lambda x: float(f\"{x:.10f}\"))\n",
    "print(df_cfe.dtypes)       # all float64\n",
    "print(df_cfe.isna().sum()) # all zeros\n",
    "print(df_cfe.head())\n",
    "print(df_cfe.columns)\n"
   ],
   "id": "10289d8232ced9af",
   "outputs": [
    {
     "name": "stdout",
     "output_type": "stream",
     "text": [
      "xrsa[0:120]_mean      float64\n",
      "xrsa[0:60]_mean       float64\n",
      "xrsa[0:30]_mean       float64\n",
      "xrsa[0:15]_mean       float64\n",
      "xrsa[0:7]_mean        float64\n",
      "                       ...   \n",
      "xrsb[108:112]_mean    float64\n",
      "xrsb[112:120]_mean    float64\n",
      "xrsb[112:116]_mean    float64\n",
      "xrsb[116:120]_mean    float64\n",
      "binary_label          float64\n",
      "Length: 127, dtype: object\n",
      "xrsa[0:120]_mean      0\n",
      "xrsa[0:60]_mean       0\n",
      "xrsa[0:30]_mean       0\n",
      "xrsa[0:15]_mean       0\n",
      "xrsa[0:7]_mean        0\n",
      "                     ..\n",
      "xrsb[108:112]_mean    0\n",
      "xrsb[112:120]_mean    0\n",
      "xrsb[112:116]_mean    0\n",
      "xrsb[116:120]_mean    0\n",
      "binary_label          0\n",
      "Length: 127, dtype: int64\n",
      "   xrsa[0:120]_mean  xrsa[0:60]_mean  xrsa[0:30]_mean  xrsa[0:15]_mean  \\\n",
      "0    -15.9544893143   -15.6574412051   -15.4247161391   -15.2593308000   \n",
      "1    -17.4796593227   -17.2868522484   -17.1646074027   -17.1227580664   \n",
      "2    -18.4241442046   -18.3336280259   -18.1917582244   -18.1551668627   \n",
      "3    -17.9753384364   -18.2568666702   -18.5583730459   -18.1082726824   \n",
      "4    -14.3676471708   -13.8413106291   -15.2946328377   -14.8655667403   \n",
      "\n",
      "   xrsa[0:7]_mean  xrsa[0:3]_mean  xrsa[3:7]_mean  xrsa[7:15]_mean  \\\n",
      "0  -15.1541785720  -15.0953181219  -15.2007152130   -15.3613853877   \n",
      "1  -17.1096069121  -17.0797542759  -17.1325961718   -17.1344089347   \n",
      "2  -18.1580654011  -18.1090059135  -18.1965070234   -18.1526375152   \n",
      "3  -17.6651721381  -17.6571604249  -17.6712233293   -18.7773866116   \n",
      "4  -14.6606588137  -14.8128125490  -14.5600374682   -15.0874430222   \n",
      "\n",
      "   xrsa[7:11]_mean  xrsa[11:15]_mean  ...  xrsb[97:101]_mean  \\\n",
      "0   -15.3128278471    -15.4124216349  ...     -12.5375620392   \n",
      "1   -17.1308457220    -17.1379848892  ...     -13.5937644827   \n",
      "2   -18.1534720883    -18.1518036380  ...     -13.7351672570   \n",
      "3   -18.4845004488    -19.1933418595  ...     -13.7147093904   \n",
      "4   -14.8911666456    -15.3318908712  ...     -13.4620449936   \n",
      "\n",
      "   xrsb[101:105]_mean  xrsb[105:120]_mean  xrsb[105:112]_mean  \\\n",
      "0      -13.0975662703      -13.2568718796      -13.2323983888   \n",
      "1      -13.5883645472      -13.5809160149      -13.6101676566   \n",
      "2      -13.7719992070      -13.7982306394      -13.7953684365   \n",
      "3      -13.7066435074      -13.5185094182      -13.6817913705   \n",
      "4      -13.5586840409      -13.6743817589      -13.6300343039   \n",
      "\n",
      "   xrsb[105:108]_mean  xrsb[108:112]_mean  xrsb[112:120]_mean  \\\n",
      "0      -13.2161760673      -13.2447401999      -13.2787888071   \n",
      "1      -13.6037539121      -13.6150051057      -13.5560044414   \n",
      "2      -13.7763592062      -13.8098663167      -13.8007418049   \n",
      "3      -13.7085679045      -13.6621692341      -13.3946848634   \n",
      "4      -13.6133880896      -13.6427033696      -13.7148676791   \n",
      "\n",
      "   xrsb[112:116]_mean  xrsb[116:120]_mean  binary_label  \n",
      "0      -13.2672328900      -13.2904798262  0.0000000000  \n",
      "1      -13.5566303172      -13.5553789571  0.0000000000  \n",
      "2      -13.8267577714      -13.7753855423  0.0000000000  \n",
      "3      -13.5779330591      -13.2398728239  1.0000000000  \n",
      "4      -13.7057602764      -13.7240587895  0.0000000000  \n",
      "\n",
      "[5 rows x 127 columns]\n",
      "Index(['xrsa[0:120]_mean', 'xrsa[0:60]_mean', 'xrsa[0:30]_mean',\n",
      "       'xrsa[0:15]_mean', 'xrsa[0:7]_mean', 'xrsa[0:3]_mean', 'xrsa[3:7]_mean',\n",
      "       'xrsa[7:15]_mean', 'xrsa[7:11]_mean', 'xrsa[11:15]_mean',\n",
      "       ...\n",
      "       'xrsb[97:101]_mean', 'xrsb[101:105]_mean', 'xrsb[105:120]_mean',\n",
      "       'xrsb[105:112]_mean', 'xrsb[105:108]_mean', 'xrsb[108:112]_mean',\n",
      "       'xrsb[112:120]_mean', 'xrsb[112:116]_mean', 'xrsb[116:120]_mean',\n",
      "       'binary_label'],\n",
      "      dtype='object', length=127)\n"
     ]
    }
   ],
   "execution_count": 73
  },
  {
   "metadata": {
    "ExecuteTime": {
     "end_time": "2025-10-29T12:55:51.115407Z",
     "start_time": "2025-10-29T12:55:51.108825Z"
    }
   },
   "cell_type": "code",
   "source": "df_cfe.head()",
   "id": "74e5cde014a20800",
   "outputs": [
    {
     "data": {
      "text/plain": [
       "   xrsa[0:120]_mean  xrsa[0:60]_mean  xrsa[0:30]_mean  xrsa[0:15]_mean  \\\n",
       "0    -15.9544893143   -15.6574412051   -15.4247161391   -15.2593308000   \n",
       "1    -17.4796593227   -17.2868522484   -17.1646074027   -17.1227580664   \n",
       "2    -18.4241442046   -18.3336280259   -18.1917582244   -18.1551668627   \n",
       "3    -17.9753384364   -18.2568666702   -18.5583730459   -18.1082726824   \n",
       "4    -14.3676471708   -13.8413106291   -15.2946328377   -14.8655667403   \n",
       "\n",
       "   xrsa[0:7]_mean  xrsa[0:3]_mean  xrsa[3:7]_mean  xrsa[7:15]_mean  \\\n",
       "0  -15.1541785720  -15.0953181219  -15.2007152130   -15.3613853877   \n",
       "1  -17.1096069121  -17.0797542759  -17.1325961718   -17.1344089347   \n",
       "2  -18.1580654011  -18.1090059135  -18.1965070234   -18.1526375152   \n",
       "3  -17.6651721381  -17.6571604249  -17.6712233293   -18.7773866116   \n",
       "4  -14.6606588137  -14.8128125490  -14.5600374682   -15.0874430222   \n",
       "\n",
       "   xrsa[7:11]_mean  xrsa[11:15]_mean  ...  xrsb[97:101]_mean  \\\n",
       "0   -15.3128278471    -15.4124216349  ...     -12.5375620392   \n",
       "1   -17.1308457220    -17.1379848892  ...     -13.5937644827   \n",
       "2   -18.1534720883    -18.1518036380  ...     -13.7351672570   \n",
       "3   -18.4845004488    -19.1933418595  ...     -13.7147093904   \n",
       "4   -14.8911666456    -15.3318908712  ...     -13.4620449936   \n",
       "\n",
       "   xrsb[101:105]_mean  xrsb[105:120]_mean  xrsb[105:112]_mean  \\\n",
       "0      -13.0975662703      -13.2568718796      -13.2323983888   \n",
       "1      -13.5883645472      -13.5809160149      -13.6101676566   \n",
       "2      -13.7719992070      -13.7982306394      -13.7953684365   \n",
       "3      -13.7066435074      -13.5185094182      -13.6817913705   \n",
       "4      -13.5586840409      -13.6743817589      -13.6300343039   \n",
       "\n",
       "   xrsb[105:108]_mean  xrsb[108:112]_mean  xrsb[112:120]_mean  \\\n",
       "0      -13.2161760673      -13.2447401999      -13.2787888071   \n",
       "1      -13.6037539121      -13.6150051057      -13.5560044414   \n",
       "2      -13.7763592062      -13.8098663167      -13.8007418049   \n",
       "3      -13.7085679045      -13.6621692341      -13.3946848634   \n",
       "4      -13.6133880896      -13.6427033696      -13.7148676791   \n",
       "\n",
       "   xrsb[112:116]_mean  xrsb[116:120]_mean  binary_label  \n",
       "0      -13.2672328900      -13.2904798262  0.0000000000  \n",
       "1      -13.5566303172      -13.5553789571  0.0000000000  \n",
       "2      -13.8267577714      -13.7753855423  0.0000000000  \n",
       "3      -13.5779330591      -13.2398728239  1.0000000000  \n",
       "4      -13.7057602764      -13.7240587895  0.0000000000  \n",
       "\n",
       "[5 rows x 127 columns]"
      ],
      "text/html": [
       "<div>\n",
       "<style scoped>\n",
       "    .dataframe tbody tr th:only-of-type {\n",
       "        vertical-align: middle;\n",
       "    }\n",
       "\n",
       "    .dataframe tbody tr th {\n",
       "        vertical-align: top;\n",
       "    }\n",
       "\n",
       "    .dataframe thead th {\n",
       "        text-align: right;\n",
       "    }\n",
       "</style>\n",
       "<table border=\"1\" class=\"dataframe\">\n",
       "  <thead>\n",
       "    <tr style=\"text-align: right;\">\n",
       "      <th></th>\n",
       "      <th>xrsa[0:120]_mean</th>\n",
       "      <th>xrsa[0:60]_mean</th>\n",
       "      <th>xrsa[0:30]_mean</th>\n",
       "      <th>xrsa[0:15]_mean</th>\n",
       "      <th>xrsa[0:7]_mean</th>\n",
       "      <th>xrsa[0:3]_mean</th>\n",
       "      <th>xrsa[3:7]_mean</th>\n",
       "      <th>xrsa[7:15]_mean</th>\n",
       "      <th>xrsa[7:11]_mean</th>\n",
       "      <th>xrsa[11:15]_mean</th>\n",
       "      <th>...</th>\n",
       "      <th>xrsb[97:101]_mean</th>\n",
       "      <th>xrsb[101:105]_mean</th>\n",
       "      <th>xrsb[105:120]_mean</th>\n",
       "      <th>xrsb[105:112]_mean</th>\n",
       "      <th>xrsb[105:108]_mean</th>\n",
       "      <th>xrsb[108:112]_mean</th>\n",
       "      <th>xrsb[112:120]_mean</th>\n",
       "      <th>xrsb[112:116]_mean</th>\n",
       "      <th>xrsb[116:120]_mean</th>\n",
       "      <th>binary_label</th>\n",
       "    </tr>\n",
       "  </thead>\n",
       "  <tbody>\n",
       "    <tr>\n",
       "      <th>0</th>\n",
       "      <td>-15.9544893143</td>\n",
       "      <td>-15.6574412051</td>\n",
       "      <td>-15.4247161391</td>\n",
       "      <td>-15.2593308000</td>\n",
       "      <td>-15.1541785720</td>\n",
       "      <td>-15.0953181219</td>\n",
       "      <td>-15.2007152130</td>\n",
       "      <td>-15.3613853877</td>\n",
       "      <td>-15.3128278471</td>\n",
       "      <td>-15.4124216349</td>\n",
       "      <td>...</td>\n",
       "      <td>-12.5375620392</td>\n",
       "      <td>-13.0975662703</td>\n",
       "      <td>-13.2568718796</td>\n",
       "      <td>-13.2323983888</td>\n",
       "      <td>-13.2161760673</td>\n",
       "      <td>-13.2447401999</td>\n",
       "      <td>-13.2787888071</td>\n",
       "      <td>-13.2672328900</td>\n",
       "      <td>-13.2904798262</td>\n",
       "      <td>0.0000000000</td>\n",
       "    </tr>\n",
       "    <tr>\n",
       "      <th>1</th>\n",
       "      <td>-17.4796593227</td>\n",
       "      <td>-17.2868522484</td>\n",
       "      <td>-17.1646074027</td>\n",
       "      <td>-17.1227580664</td>\n",
       "      <td>-17.1096069121</td>\n",
       "      <td>-17.0797542759</td>\n",
       "      <td>-17.1325961718</td>\n",
       "      <td>-17.1344089347</td>\n",
       "      <td>-17.1308457220</td>\n",
       "      <td>-17.1379848892</td>\n",
       "      <td>...</td>\n",
       "      <td>-13.5937644827</td>\n",
       "      <td>-13.5883645472</td>\n",
       "      <td>-13.5809160149</td>\n",
       "      <td>-13.6101676566</td>\n",
       "      <td>-13.6037539121</td>\n",
       "      <td>-13.6150051057</td>\n",
       "      <td>-13.5560044414</td>\n",
       "      <td>-13.5566303172</td>\n",
       "      <td>-13.5553789571</td>\n",
       "      <td>0.0000000000</td>\n",
       "    </tr>\n",
       "    <tr>\n",
       "      <th>2</th>\n",
       "      <td>-18.4241442046</td>\n",
       "      <td>-18.3336280259</td>\n",
       "      <td>-18.1917582244</td>\n",
       "      <td>-18.1551668627</td>\n",
       "      <td>-18.1580654011</td>\n",
       "      <td>-18.1090059135</td>\n",
       "      <td>-18.1965070234</td>\n",
       "      <td>-18.1526375152</td>\n",
       "      <td>-18.1534720883</td>\n",
       "      <td>-18.1518036380</td>\n",
       "      <td>...</td>\n",
       "      <td>-13.7351672570</td>\n",
       "      <td>-13.7719992070</td>\n",
       "      <td>-13.7982306394</td>\n",
       "      <td>-13.7953684365</td>\n",
       "      <td>-13.7763592062</td>\n",
       "      <td>-13.8098663167</td>\n",
       "      <td>-13.8007418049</td>\n",
       "      <td>-13.8267577714</td>\n",
       "      <td>-13.7753855423</td>\n",
       "      <td>0.0000000000</td>\n",
       "    </tr>\n",
       "    <tr>\n",
       "      <th>3</th>\n",
       "      <td>-17.9753384364</td>\n",
       "      <td>-18.2568666702</td>\n",
       "      <td>-18.5583730459</td>\n",
       "      <td>-18.1082726824</td>\n",
       "      <td>-17.6651721381</td>\n",
       "      <td>-17.6571604249</td>\n",
       "      <td>-17.6712233293</td>\n",
       "      <td>-18.7773866116</td>\n",
       "      <td>-18.4845004488</td>\n",
       "      <td>-19.1933418595</td>\n",
       "      <td>...</td>\n",
       "      <td>-13.7147093904</td>\n",
       "      <td>-13.7066435074</td>\n",
       "      <td>-13.5185094182</td>\n",
       "      <td>-13.6817913705</td>\n",
       "      <td>-13.7085679045</td>\n",
       "      <td>-13.6621692341</td>\n",
       "      <td>-13.3946848634</td>\n",
       "      <td>-13.5779330591</td>\n",
       "      <td>-13.2398728239</td>\n",
       "      <td>1.0000000000</td>\n",
       "    </tr>\n",
       "    <tr>\n",
       "      <th>4</th>\n",
       "      <td>-14.3676471708</td>\n",
       "      <td>-13.8413106291</td>\n",
       "      <td>-15.2946328377</td>\n",
       "      <td>-14.8655667403</td>\n",
       "      <td>-14.6606588137</td>\n",
       "      <td>-14.8128125490</td>\n",
       "      <td>-14.5600374682</td>\n",
       "      <td>-15.0874430222</td>\n",
       "      <td>-14.8911666456</td>\n",
       "      <td>-15.3318908712</td>\n",
       "      <td>...</td>\n",
       "      <td>-13.4620449936</td>\n",
       "      <td>-13.5586840409</td>\n",
       "      <td>-13.6743817589</td>\n",
       "      <td>-13.6300343039</td>\n",
       "      <td>-13.6133880896</td>\n",
       "      <td>-13.6427033696</td>\n",
       "      <td>-13.7148676791</td>\n",
       "      <td>-13.7057602764</td>\n",
       "      <td>-13.7240587895</td>\n",
       "      <td>0.0000000000</td>\n",
       "    </tr>\n",
       "  </tbody>\n",
       "</table>\n",
       "<p>5 rows × 127 columns</p>\n",
       "</div>"
      ]
     },
     "execution_count": 74,
     "metadata": {},
     "output_type": "execute_result"
    }
   ],
   "execution_count": 74
  },
  {
   "metadata": {
    "ExecuteTime": {
     "end_time": "2025-10-29T12:55:51.146564Z",
     "start_time": "2025-10-29T12:55:51.144845Z"
    }
   },
   "cell_type": "code",
   "source": [
    "# import dice_ml.data_interfaces.public_data_interface as pdi\n",
    "#\n",
    "# def safe_get_decimal_precisions(self, output_type=\"dict\"):\n",
    "#     precisions = {}\n",
    "#     for col in self.data_df.columns:\n",
    "#         if self.data_df[col].dtype in [np.float32, np.float64]:\n",
    "#             modes = self.data_df[col].mode()\n",
    "#             if len(modes) == 0:\n",
    "#                 precisions[col] = 6\n",
    "#                 continue\n",
    "#             val_str = str(modes[0])\n",
    "#             precisions[col] = len(val_str.split('.')[1]) if '.' in val_str else 6\n",
    "#         else:\n",
    "#             precisions[col] = 6\n",
    "#     return precisions\n",
    "#\n",
    "# pdi.PublicData.get_decimal_precisions = safe_get_decimal_precisions\n",
    "# print(\"✅ Patched DiCE precision function safely.\")\n"
   ],
   "id": "a98196f888a3b38d",
   "outputs": [],
   "execution_count": 75
  },
  {
   "metadata": {
    "ExecuteTime": {
     "end_time": "2025-10-29T12:55:51.222811Z",
     "start_time": "2025-10-29T12:55:51.190340Z"
    }
   },
   "cell_type": "code",
   "source": [
    "for feat in cont_features:\n",
    "    df_cfe[feat]=df_cfe[feat].astype(float)\n",
    "\n",
    "# Ensure column names are strings to avoid mismatches with DiCE internals\n",
    "# and update cont_features to be string-typed as well\n",
    "df_cfe.columns = df_cfe.columns.map(str)\n",
    "cont_features = [str(c) for c in cont_features]\n",
    "\n",
    "# Create Data object\n",
    "data= dice_ml.Data(dataframe=df_cfe, continuous_features=cont_features, outcome_name=\"binary_label\")"
   ],
   "id": "3fe8a98494af043e",
   "outputs": [],
   "execution_count": 76
  },
  {
   "metadata": {
    "ExecuteTime": {
     "end_time": "2025-10-29T12:55:51.387246Z",
     "start_time": "2025-10-29T12:55:51.247413Z"
    }
   },
   "cell_type": "code",
   "source": [
    "# Create model wrapper\n",
    "cfe_model = dice_ml.Model(\n",
    "    model=best_rf,\n",
    "    backend=\"sklearn\",\n",
    "    model_type='classifier'\n",
    ")\n",
    "exp_genetic = dice_ml.Dice(\n",
    "    data_interface=data,\n",
    "    model_interface=cfe_model,\n",
    "    method=\"genetic\"\n",
    ")\n",
    "joblib.dump(exp_genetic, \"../../models/goes18_xrs_2024_cfe_genetic_explainer.pkl\")\n",
    "print(\"\\nGenetic Dice explainer created successfully.\\n\")\n",
    "\n",
    "\n",
    "exp_random = dice_ml.Dice(\n",
    "    data_interface=data,\n",
    "    model_interface=cfe_model,\n",
    "    method=\"random\"\n",
    ")\n",
    "joblib.dump(exp_random, \"../../models/goes18_xrs_2024_cfe_random_explainer.pkl\")\n",
    "\n",
    "print(\"\\nRandom Dice explainer created successfully.\\n\")"
   ],
   "id": "9270bd073b0a041f",
   "outputs": [
    {
     "name": "stdout",
     "output_type": "stream",
     "text": [
      "\n",
      "Genetic Dice explainer created successfully.\n",
      "\n",
      "\n",
      "Random Dice explainer created successfully.\n",
      "\n"
     ]
    }
   ],
   "execution_count": 77
  },
  {
   "metadata": {
    "ExecuteTime": {
     "end_time": "2025-10-29T12:55:51.393423Z",
     "start_time": "2025-10-29T12:55:51.391479Z"
    }
   },
   "cell_type": "code",
   "source": [
    "def get_filtered_min_max(df, feature_cols):\n",
    "    min_max_dict = {}\n",
    "    for col in feature_cols:\n",
    "        min_val = df[col].min()\n",
    "        max_val = df[col].max()\n",
    "        min_max_dict[col] = [min_val, max_val]\n",
    "    return min_max_dict"
   ],
   "id": "e655c1a66019e07",
   "outputs": [],
   "execution_count": 78
  },
  {
   "metadata": {
    "ExecuteTime": {
     "end_time": "2025-10-29T12:55:51.452608Z",
     "start_time": "2025-10-29T12:55:51.397968Z"
    }
   },
   "cell_type": "code",
   "source": [
    "df = pd.read_csv(\"../../data/processed/goes18_2024_features_labels.csv\")\n",
    "df[cont_features] = df[cont_features].astype(float)*scale_factor\n",
    "min_max_dict = get_filtered_min_max(df, cont_features)\n",
    "print(min_max_dict)"
   ],
   "id": "7ccde8d1be63de4c",
   "outputs": [
    {
     "name": "stdout",
     "output_type": "stream",
     "text": [
      "{'xrsa[0:120]_mean': [-2072231142.3377302, -1019829753.0195911], 'xrsa[0:60]_mean': [-2072326583.694641, -975769530.5526733], 'xrsa[0:30]_mean': [-2072326583.694641, -939549457.4770362], 'xrsa[0:15]_mean': [-2072326583.694641, -980579854.0156498], 'xrsa[0:7]_mean': [-2072326583.694641, -966976013.9832766], 'xrsa[0:3]_mean': [-2072326583.694641, -960353525.8102298], 'xrsa[3:7]_mean': [-2072326583.694641, -972247573.6411481], 'xrsa[7:15]_mean': [-2072326583.694641, -986181250.0373029], 'xrsa[7:11]_mean': [-2072326583.694641, -968061174.9063171], 'xrsa[11:15]_mean': [-2072326583.694641, -998099256.039533], 'xrsa[15:30]_mean': [-2072326583.694641, -870712447.4875731], 'xrsa[15:22]_mean': [-2072326583.694641, -838143150.9611639], 'xrsa[15:18]_mean': [-2072326583.694641, -869223807.7511951], 'xrsa[18:22]_mean': [-2072326583.694641, -819881142.6523573], 'xrsa[22:30]_mean': [-2072326583.694641, -911790313.3299766], 'xrsa[22:26]_mean': [-2072326583.694641, -883735090.1607869], 'xrsa[26:30]_mean': [-2072326583.694641, -950925927.5133971], 'xrsa[30:60]_mean': [-2072326583.694641, -906652472.7131436], 'xrsa[30:45]_mean': [-2072326583.694641, -923846024.9100536], 'xrsa[30:37]_mean': [-2072326583.694641, -904104259.0898783], 'xrsa[30:33]_mean': [-2072326583.694641, -919161574.381299], 'xrsa[33:37]_mean': [-2072326583.694641, -894134305.8742986], 'xrsa[37:45]_mean': [-2072326583.694641, -917426794.9637914], 'xrsa[37:41]_mean': [-2072326583.694641, -903313104.9998405], 'xrsa[41:45]_mean': [-2072326583.694641, -933865012.966722], 'xrsa[45:60]_mean': [-2072326583.694641, -837418319.7811415], 'xrsa[45:52]_mean': [-2072326583.694641, -844265795.7282017], 'xrsa[45:48]_mean': [-2072326583.694641, -951499478.3172147], 'xrsa[48:52]_mean': [-2072326583.694641, -792174583.3584327], 'xrsa[52:60]_mean': [-2072326583.694641, -831788784.068132], 'xrsa[52:56]_mean': [-2072326583.694641, -812393314.6327113], 'xrsa[56:60]_mean': [-2072326583.694641, -855873884.6152897], 'xrsa[60:120]_mean': [-2072326583.694641, -964664924.9109036], 'xrsa[60:90]_mean': [-2072326583.694641, -949208487.9996648], 'xrsa[60:75]_mean': [-2072326583.694641, -951612352.4071103], 'xrsa[60:67]_mean': [-2072326583.694641, -927469081.6325113], 'xrsa[60:63]_mean': [-2072326583.694641, -894975808.916712], 'xrsa[63:67]_mean': [-2072326583.694641, -933155673.8210067], 'xrsa[67:75]_mean': [-2072326583.694641, -925527618.2531617], 'xrsa[67:71]_mean': [-2072326583.694641, -928748527.6714188], 'xrsa[71:75]_mean': [-2072326583.694641, -922407222.3775636], 'xrsa[75:90]_mean': [-2072326583.694641, -880732524.4398633], 'xrsa[75:82]_mean': [-2072326583.694641, -888794709.5741179], 'xrsa[75:78]_mean': [-2072326583.694641, -937314096.4666724], 'xrsa[78:82]_mean': [-2072326583.694641, -860693959.1537777], 'xrsa[82:90]_mean': [-2072326583.694641, -874174789.418648], 'xrsa[82:86]_mean': [-2072326583.694641, -863157861.4874376], 'xrsa[86:90]_mean': [-2072326583.694641, -886557458.6391147], 'xrsa[90:120]_mean': [-2072326583.694641, -980789476.1155064], 'xrsa[90:105]_mean': [-2072326583.694641, -943647259.5759394], 'xrsa[90:97]_mean': [-2072326583.694641, -917300839.190626], 'xrsa[90:93]_mean': [-2072326583.694641, -903952989.7541293], 'xrsa[93:97]_mean': [-2072326583.694641, -928628629.7516533], 'xrsa[97:105]_mean': [-2072326583.694641, -973042591.8044683], 'xrsa[97:101]_mean': [-2072326583.694641, -960789615.8892895], 'xrsa[101:105]_mean': [-2072326583.694641, -985617637.2000194], 'xrsa[105:120]_mean': [-2072326583.694641, -953671629.209702], 'xrsa[105:112]_mean': [-2072326583.694641, -961014712.9500891], 'xrsa[105:108]_mean': [-2072326583.694641, -973252245.9181004], 'xrsa[108:112]_mean': [-2072326583.694641, -952728884.1257471], 'xrsa[112:120]_mean': [-2072326583.694641, -947660978.8759928], 'xrsa[112:116]_mean': [-2072326583.694641, -944944298.1819626], 'xrsa[116:120]_mean': [-2072326583.694641, -950453529.0374588], 'xrsb[0:120]_mean': [-1486120467.513544, -899442681.7950618], 'xrsb[0:60]_mean': [-1487142142.6060221, -866970248.0132662], 'xrsb[0:30]_mean': [-1487154334.4953008, -821454961.9595], 'xrsb[0:15]_mean': [-1487140338.2406917, -819158681.06848], 'xrsb[0:7]_mean': [-1487289743.132581, -810378737.0574003], 'xrsb[0:3]_mean': [-1487720998.683285, -806557610.5087612], 'xrsb[3:7]_mean': [-1486967517.6026444, -813343559.5746496], 'xrsb[7:15]_mean': [-1487009791.8185754, -827529237.763677], 'xrsb[7:11]_mean': [-1486737636.2211664, -822585110.9353496], 'xrsb[11:15]_mean': [-1487540754.9641874, -832730580.697984], 'xrsb[15:30]_mean': [-1487627489.4515295, -754139119.390414], 'xrsb[15:22]_mean': [-1487542751.7348158, -735852102.3001534], 'xrsb[15:18]_mean': [-1487710357.4103105, -779129685.0150317], 'xrsb[18:22]_mean': [-1487417231.5726264, -712465866.2579541], 'xrsb[22:30]_mean': [-1488324650.6172233, -773446175.8270262], 'xrsb[22:26]_mean': [-1488028259.1835318, -754722752.625931], 'xrsb[26:30]_mean': [-1488621923.1418598, -796501987.2934556], 'xrsb[30:60]_mean': [-1487211304.1039097, -822645093.6789374], 'xrsb[30:45]_mean': [-1487216836.2101083, -796004841.0095079], 'xrsb[30:37]_mean': [-1487224556.2269232, -786659279.9270384], 'xrsb[30:33]_mean': [-1488301698.927078, -803416223.539251], 'xrsb[33:37]_mean': [-1487258729.0757594, -775710040.859559], 'xrsb[37:45]_mean': [-1487210081.6842566, -804966313.4554781], 'xrsb[37:41]_mean': [-1487567763.6026564, -791893082.4891464], 'xrsb[41:45]_mean': [-1486853674.5710108, -816620771.1828753], 'xrsb[45:60]_mean': [-1488221699.8916419, -754295714.721612], 'xrsb[45:52]_mean': [-1487935215.0629227, -781310615.5740951], 'xrsb[45:48]_mean': [-1487969587.4347622, -836057494.4253212], 'xrsb[48:52]_mean': [-1487909443.5351539, -729074384.1578383], 'xrsb[52:60]_mean': [-1488771230.5648322, -735470117.8647803], 'xrsb[52:56]_mean': [-1488305434.4755208, -720190245.1897755], 'xrsb[56:60]_mean': [-1489239206.471576, -753513306.6550672], 'xrsb[60:120]_mean': [-1486372792.743801, -835649307.6822445], 'xrsb[60:90]_mean': [-1487581475.6523626, -835558201.7695765], 'xrsb[60:75]_mean': [-1536945177.236964, -839093558.4077525], 'xrsb[60:67]_mean': [-1488643675.7989893, -808541939.7476853], 'xrsb[60:63]_mean': [-1488983274.4306695, -783776154.0181234], 'xrsb[63:67]_mean': [-1569579250.1678555, -832211204.180952], 'xrsb[67:75]_mean': [-1674872043.514507, -815993113.1114054], 'xrsb[67:71]_mean': [-1748065198.178585, -818509102.5373341], 'xrsb[71:75]_mean': [-1707143918.7598197, -804918972.5226134], 'xrsb[75:90]_mean': [-1767785950.1087177, -768772000.6590676], 'xrsb[75:82]_mean': [-1784533569.5659714, -790946687.9349443], 'xrsb[75:78]_mean': [-1785692528.865654, -805724695.8234112], 'xrsb[78:82]_mean': [-1783673080.4878745, -761358474.0775667], 'xrsb[82:90]_mean': [-1755129042.7198672, -752728485.09898], 'xrsb[82:86]_mean': [-1779618106.1491911, -746904376.572352], 'xrsb[86:90]_mean': [-1735472919.0883806, -758912888.0924641], 'xrsb[90:120]_mean': [-1486660788.0897264, -824778506.1270156], 'xrsb[90:105]_mean': [-1487167900.0664496, -798063607.6344702], 'xrsb[90:97]_mean': [-1487414229.1737463, -781865464.89727], 'xrsb[90:93]_mean': [-1487442106.651806, -775191498.7411879], 'xrsb[93:97]_mean': [-1487393326.1640887, -787180530.0621876], 'xrsb[97:105]_mean': [-1487070400.0053039, -814770487.3008312], 'xrsb[97:101]_mean': [-1487495119.958667, -805315804.9143447], 'xrsb[101:105]_mean': [-1487170743.667305, -825213318.8718241], 'xrsb[105:120]_mean': [-1487049113.3949695, -818442507.08561], 'xrsb[105:112]_mean': [-1487247317.644444, -835703985.3439357], 'xrsb[105:108]_mean': [-1487032024.2545419, -841336719.2527268], 'xrsb[108:112]_mean': [-1487409092.413685, -824803659.5227823], 'xrsb[112:120]_mean': [-1487193331.5217106, -805451935.5687587], 'xrsb[112:116]_mean': [-1487410076.715888, -807564067.1255695], 'xrsb[116:120]_mean': [-1487173487.5693488, -803383493.8135668]}\n"
     ]
    }
   ],
   "execution_count": 79
  },
  {
   "metadata": {
    "ExecuteTime": {
     "end_time": "2025-10-29T13:04:14.088183Z",
     "start_time": "2025-10-29T13:04:14.083506Z"
    }
   },
   "cell_type": "code",
   "source": [
    "def get_query_instance(query_ts_filename, df_combined_labels, model):\n",
    "    \"\"\"\n",
    "    Retrieve the query instance and its target label for a given filename.\n",
    "\n",
    "    Args:\n",
    "           query_ts_filename (str): The filename identifying the query instance.\n",
    "           df_combined_labels (pd.DataFrame): DataFrame containing labeled data.\n",
    "           model: A trained classifier with a `.predict()` method.\n",
    "\n",
    "    Returns:\n",
    "        Tuple[pd.DataFrame, Any]: The query instance (features only) and its true label.\n",
    "     \"\"\"\n",
    "    query_instance_raw = df_combined_labels[df_combined_labels['input_filename'] == query_ts_filename]\n",
    "    query_instance = query_instance_raw.drop([\"label\", 'input_filename','binary_label'], axis=1)\n",
    "    query_instance = query_instance.fillna(0)\n",
    "    true_label = query_instance_raw[\"binary_label\"].values[0]\n",
    "    predicted_label = model.predict(query_instance)\n",
    "\n",
    "    print(\"Target value for the query instance:\\n\", true_label)\n",
    "    print(\"Predicted value:\\n\", predicted_label)\n",
    "\n",
    "    return query_instance, true_label, predicted_label"
   ],
   "id": "76a0acdbcb46159c",
   "outputs": [],
   "execution_count": 89
  },
  {
   "metadata": {
    "ExecuteTime": {
     "end_time": "2025-10-29T13:04:59.524710Z",
     "start_time": "2025-10-29T13:04:59.506368Z"
    }
   },
   "cell_type": "code",
   "source": [
    "query_ts1_filename ='GOES18_2024_3628_20241029_0800_input.csv'\n",
    "# query_ts1_filename ='GOES18_2024_4390_20241231_2000_input.csv'\n",
    "# query_ts1_filename ='GOES18_2024_0026_20240103_0400_input.csv'\n",
    "query_instance1, target_val1,predicted_val= get_query_instance(query_ts1_filename, df_combined_labels=combined_df, model=best_rf)\n",
    "query_instance1 = query_instance1.astype(float)\n",
    "query_instance1 = query_instance1.fillna(0)\n",
    "print(query_instance1)"
   ],
   "id": "485496ec46d5f518",
   "outputs": [
    {
     "name": "stdout",
     "output_type": "stream",
     "text": [
      "Target value for the query instance:\n",
      " 0\n",
      "Predicted value:\n",
      " [0]\n",
      "      xrsa[0:120]_mean  xrsa[0:60]_mean  xrsa[0:30]_mean  xrsa[0:15]_mean  \\\n",
      "3164    -15.8098607956   -15.5952509342   -15.2667989267   -15.1813607564   \n",
      "\n",
      "      xrsa[0:7]_mean  xrsa[0:3]_mean  xrsa[3:7]_mean  xrsa[7:15]_mean  \\\n",
      "3164  -15.1452198753  -15.1387453410  -15.1501034350   -15.2140923007   \n",
      "\n",
      "      xrsa[7:11]_mean  xrsa[11:15]_mean  ...  xrsb[97:105]_mean  \\\n",
      "3164   -15.1797844980    -15.2496190727  ...     -12.4544022763   \n",
      "\n",
      "      xrsb[97:101]_mean  xrsb[101:105]_mean  xrsb[105:120]_mean  \\\n",
      "3164     -12.4446157512      -12.4642855249      -12.5368158378   \n",
      "\n",
      "      xrsb[105:112]_mean  xrsb[105:108]_mean  xrsb[108:112]_mean  \\\n",
      "3164      -12.5340761116      -12.5058763153      -12.5557604068   \n",
      "\n",
      "      xrsb[112:120]_mean  xrsb[112:116]_mean  xrsb[116:120]_mean  \n",
      "3164      -12.5392192711      -12.5584989990      -12.5203042312  \n",
      "\n",
      "[1 rows x 126 columns]\n"
     ]
    }
   ],
   "execution_count": 91
  },
  {
   "metadata": {
    "jupyter": {
     "is_executing": true
    },
    "ExecuteTime": {
     "start_time": "2025-10-29T13:05:05.506605Z"
    }
   },
   "cell_type": "code",
   "source": [
    "# Generate counterfactuals\n",
    "cfe_genetic = exp_genetic.generate_counterfactuals(\n",
    "    query_instance1,\n",
    "    total_CFs=4,\n",
    "    permitted_range=min_max_dict,\n",
    "    desired_class=1\n",
    ")\n",
    "cfe_genetic.visualize_as_dataframe(show_only_changes=True)\n",
    "cfe_df_genetic = cfe_genetic.cf_examples_list[0].final_cfs_df"
   ],
   "id": "5c125e1d2aa7268c",
   "outputs": [
    {
     "name": "stderr",
     "output_type": "stream",
     "text": [
      "  0%|          | 0/1 [00:00<?, ?it/s]"
     ]
    }
   ],
   "execution_count": null
  },
  {
   "metadata": {
    "ExecuteTime": {
     "end_time": "2025-10-29T13:01:26.436318Z",
     "start_time": "2025-10-29T13:01:26.420944Z"
    }
   },
   "cell_type": "code",
   "source": "",
   "id": "29a19a1e52c2cb85",
   "outputs": [
    {
     "name": "stdout",
     "output_type": "stream",
     "text": [
      "Query instance (original outcome : 0)\n"
     ]
    },
    {
     "data": {
      "text/plain": [
       "        xrsa[0:120]_mean        xrsa[0:60]_mean        xrsa[0:30]_mean  \\\n",
       "0 -1446667648.0000000000 -1699067776.0000000000 -1701977600.0000000000   \n",
       "\n",
       "         xrsa[0:15]_mean         xrsa[0:7]_mean         xrsa[0:3]_mean  \\\n",
       "0 -1686546048.0000000000 -1681383808.0000000000 -1681268352.0000000000   \n",
       "\n",
       "          xrsa[3:7]_mean        xrsa[7:15]_mean        xrsa[7:11]_mean  \\\n",
       "0 -1681470336.0000000000 -1691292416.0000000000 -1685987328.0000000000   \n",
       "\n",
       "        xrsa[11:15]_mean  ...      xrsb[97:101]_mean     xrsb[101:105]_mean  \\\n",
       "0 -1696894720.0000000000  ... -1107578240.0000000000 -1089248512.0000000000   \n",
       "\n",
       "      xrsb[105:120]_mean     xrsb[105:112]_mean     xrsb[105:108]_mean  \\\n",
       "0 -1080906624.0000000000 -1079634432.0000000000 -1081124992.0000000000   \n",
       "\n",
       "      xrsb[108:112]_mean     xrsb[112:120]_mean     xrsb[112:116]_mean  \\\n",
       "0 -1078530944.0000000000 -1082033280.0000000000 -1079808000.0000000000   \n",
       "\n",
       "      xrsb[116:120]_mean  binary_label  \n",
       "0 -1084309120.0000000000             0  \n",
       "\n",
       "[1 rows x 127 columns]"
      ],
      "text/html": [
       "<div>\n",
       "<style scoped>\n",
       "    .dataframe tbody tr th:only-of-type {\n",
       "        vertical-align: middle;\n",
       "    }\n",
       "\n",
       "    .dataframe tbody tr th {\n",
       "        vertical-align: top;\n",
       "    }\n",
       "\n",
       "    .dataframe thead th {\n",
       "        text-align: right;\n",
       "    }\n",
       "</style>\n",
       "<table border=\"1\" class=\"dataframe\">\n",
       "  <thead>\n",
       "    <tr style=\"text-align: right;\">\n",
       "      <th></th>\n",
       "      <th>xrsa[0:120]_mean</th>\n",
       "      <th>xrsa[0:60]_mean</th>\n",
       "      <th>xrsa[0:30]_mean</th>\n",
       "      <th>xrsa[0:15]_mean</th>\n",
       "      <th>xrsa[0:7]_mean</th>\n",
       "      <th>xrsa[0:3]_mean</th>\n",
       "      <th>xrsa[3:7]_mean</th>\n",
       "      <th>xrsa[7:15]_mean</th>\n",
       "      <th>xrsa[7:11]_mean</th>\n",
       "      <th>xrsa[11:15]_mean</th>\n",
       "      <th>...</th>\n",
       "      <th>xrsb[97:101]_mean</th>\n",
       "      <th>xrsb[101:105]_mean</th>\n",
       "      <th>xrsb[105:120]_mean</th>\n",
       "      <th>xrsb[105:112]_mean</th>\n",
       "      <th>xrsb[105:108]_mean</th>\n",
       "      <th>xrsb[108:112]_mean</th>\n",
       "      <th>xrsb[112:120]_mean</th>\n",
       "      <th>xrsb[112:116]_mean</th>\n",
       "      <th>xrsb[116:120]_mean</th>\n",
       "      <th>binary_label</th>\n",
       "    </tr>\n",
       "  </thead>\n",
       "  <tbody>\n",
       "    <tr>\n",
       "      <th>0</th>\n",
       "      <td>-1446667648.0000000000</td>\n",
       "      <td>-1699067776.0000000000</td>\n",
       "      <td>-1701977600.0000000000</td>\n",
       "      <td>-1686546048.0000000000</td>\n",
       "      <td>-1681383808.0000000000</td>\n",
       "      <td>-1681268352.0000000000</td>\n",
       "      <td>-1681470336.0000000000</td>\n",
       "      <td>-1691292416.0000000000</td>\n",
       "      <td>-1685987328.0000000000</td>\n",
       "      <td>-1696894720.0000000000</td>\n",
       "      <td>...</td>\n",
       "      <td>-1107578240.0000000000</td>\n",
       "      <td>-1089248512.0000000000</td>\n",
       "      <td>-1080906624.0000000000</td>\n",
       "      <td>-1079634432.0000000000</td>\n",
       "      <td>-1081124992.0000000000</td>\n",
       "      <td>-1078530944.0000000000</td>\n",
       "      <td>-1082033280.0000000000</td>\n",
       "      <td>-1079808000.0000000000</td>\n",
       "      <td>-1084309120.0000000000</td>\n",
       "      <td>0</td>\n",
       "    </tr>\n",
       "  </tbody>\n",
       "</table>\n",
       "<p>1 rows × 127 columns</p>\n",
       "</div>"
      ]
     },
     "metadata": {},
     "output_type": "display_data",
     "jetTransient": {
      "display_id": null
     }
    },
    {
     "name": "stdout",
     "output_type": "stream",
     "text": [
      "\n",
      "Diverse Counterfactual set (new outcome: 0)\n"
     ]
    },
    {
     "data": {
      "text/plain": [
       "  xrsa[0:120]_mean xrsa[0:60]_mean xrsa[0:30]_mean xrsa[0:15]_mean  \\\n",
       "0                -               -               -               -   \n",
       "0                -               -               -               -   \n",
       "0                -               -               -               -   \n",
       "0                -               -               -               -   \n",
       "\n",
       "  xrsa[0:7]_mean xrsa[0:3]_mean xrsa[3:7]_mean xrsa[7:15]_mean  \\\n",
       "0              -              -              -               -   \n",
       "0              -              -              -               -   \n",
       "0              -              -              -               -   \n",
       "0              -              -              -               -   \n",
       "\n",
       "  xrsa[7:11]_mean xrsa[11:15]_mean  ... xrsb[97:101]_mean xrsb[101:105]_mean  \\\n",
       "0               -                -  ...                 -                  -   \n",
       "0               -                -  ...                 -                  -   \n",
       "0               -                -  ...                 -                  -   \n",
       "0               -                -  ...                 -                  -   \n",
       "\n",
       "  xrsb[105:120]_mean xrsb[105:112]_mean xrsb[105:108]_mean xrsb[108:112]_mean  \\\n",
       "0                  -                  -                  -                  -   \n",
       "0                  -                  -                  -                  -   \n",
       "0                  -                  -                  -                  -   \n",
       "0                  -                  -                  -                  -   \n",
       "\n",
       "  xrsb[112:120]_mean xrsb[112:116]_mean xrsb[116:120]_mean binary_label  \n",
       "0                  -                  -                  -            -  \n",
       "0                  -                  -                  -            -  \n",
       "0                  -                  -                  -            -  \n",
       "0                  -                  -                  -            -  \n",
       "\n",
       "[4 rows x 127 columns]"
      ],
      "text/html": [
       "<div>\n",
       "<style scoped>\n",
       "    .dataframe tbody tr th:only-of-type {\n",
       "        vertical-align: middle;\n",
       "    }\n",
       "\n",
       "    .dataframe tbody tr th {\n",
       "        vertical-align: top;\n",
       "    }\n",
       "\n",
       "    .dataframe thead th {\n",
       "        text-align: right;\n",
       "    }\n",
       "</style>\n",
       "<table border=\"1\" class=\"dataframe\">\n",
       "  <thead>\n",
       "    <tr style=\"text-align: right;\">\n",
       "      <th></th>\n",
       "      <th>xrsa[0:120]_mean</th>\n",
       "      <th>xrsa[0:60]_mean</th>\n",
       "      <th>xrsa[0:30]_mean</th>\n",
       "      <th>xrsa[0:15]_mean</th>\n",
       "      <th>xrsa[0:7]_mean</th>\n",
       "      <th>xrsa[0:3]_mean</th>\n",
       "      <th>xrsa[3:7]_mean</th>\n",
       "      <th>xrsa[7:15]_mean</th>\n",
       "      <th>xrsa[7:11]_mean</th>\n",
       "      <th>xrsa[11:15]_mean</th>\n",
       "      <th>...</th>\n",
       "      <th>xrsb[97:101]_mean</th>\n",
       "      <th>xrsb[101:105]_mean</th>\n",
       "      <th>xrsb[105:120]_mean</th>\n",
       "      <th>xrsb[105:112]_mean</th>\n",
       "      <th>xrsb[105:108]_mean</th>\n",
       "      <th>xrsb[108:112]_mean</th>\n",
       "      <th>xrsb[112:120]_mean</th>\n",
       "      <th>xrsb[112:116]_mean</th>\n",
       "      <th>xrsb[116:120]_mean</th>\n",
       "      <th>binary_label</th>\n",
       "    </tr>\n",
       "  </thead>\n",
       "  <tbody>\n",
       "    <tr>\n",
       "      <th>0</th>\n",
       "      <td>-</td>\n",
       "      <td>-</td>\n",
       "      <td>-</td>\n",
       "      <td>-</td>\n",
       "      <td>-</td>\n",
       "      <td>-</td>\n",
       "      <td>-</td>\n",
       "      <td>-</td>\n",
       "      <td>-</td>\n",
       "      <td>-</td>\n",
       "      <td>...</td>\n",
       "      <td>-</td>\n",
       "      <td>-</td>\n",
       "      <td>-</td>\n",
       "      <td>-</td>\n",
       "      <td>-</td>\n",
       "      <td>-</td>\n",
       "      <td>-</td>\n",
       "      <td>-</td>\n",
       "      <td>-</td>\n",
       "      <td>-</td>\n",
       "    </tr>\n",
       "    <tr>\n",
       "      <th>0</th>\n",
       "      <td>-</td>\n",
       "      <td>-</td>\n",
       "      <td>-</td>\n",
       "      <td>-</td>\n",
       "      <td>-</td>\n",
       "      <td>-</td>\n",
       "      <td>-</td>\n",
       "      <td>-</td>\n",
       "      <td>-</td>\n",
       "      <td>-</td>\n",
       "      <td>...</td>\n",
       "      <td>-</td>\n",
       "      <td>-</td>\n",
       "      <td>-</td>\n",
       "      <td>-</td>\n",
       "      <td>-</td>\n",
       "      <td>-</td>\n",
       "      <td>-</td>\n",
       "      <td>-</td>\n",
       "      <td>-</td>\n",
       "      <td>-</td>\n",
       "    </tr>\n",
       "    <tr>\n",
       "      <th>0</th>\n",
       "      <td>-</td>\n",
       "      <td>-</td>\n",
       "      <td>-</td>\n",
       "      <td>-</td>\n",
       "      <td>-</td>\n",
       "      <td>-</td>\n",
       "      <td>-</td>\n",
       "      <td>-</td>\n",
       "      <td>-</td>\n",
       "      <td>-</td>\n",
       "      <td>...</td>\n",
       "      <td>-</td>\n",
       "      <td>-</td>\n",
       "      <td>-</td>\n",
       "      <td>-</td>\n",
       "      <td>-</td>\n",
       "      <td>-</td>\n",
       "      <td>-</td>\n",
       "      <td>-</td>\n",
       "      <td>-</td>\n",
       "      <td>-</td>\n",
       "    </tr>\n",
       "    <tr>\n",
       "      <th>0</th>\n",
       "      <td>-</td>\n",
       "      <td>-</td>\n",
       "      <td>-</td>\n",
       "      <td>-</td>\n",
       "      <td>-</td>\n",
       "      <td>-</td>\n",
       "      <td>-</td>\n",
       "      <td>-</td>\n",
       "      <td>-</td>\n",
       "      <td>-</td>\n",
       "      <td>...</td>\n",
       "      <td>-</td>\n",
       "      <td>-</td>\n",
       "      <td>-</td>\n",
       "      <td>-</td>\n",
       "      <td>-</td>\n",
       "      <td>-</td>\n",
       "      <td>-</td>\n",
       "      <td>-</td>\n",
       "      <td>-</td>\n",
       "      <td>-</td>\n",
       "    </tr>\n",
       "  </tbody>\n",
       "</table>\n",
       "<p>4 rows × 127 columns</p>\n",
       "</div>"
      ]
     },
     "metadata": {},
     "output_type": "display_data",
     "jetTransient": {
      "display_id": null
     }
    }
   ],
   "execution_count": 86
  },
  {
   "metadata": {
    "ExecuteTime": {
     "end_time": "2025-10-29T12:55:52.629387Z",
     "start_time": "2025-10-29T12:55:52.152396Z"
    }
   },
   "cell_type": "code",
   "source": [
    "cfe_exp=[]\n",
    "cfe_random = exp_random.generate_counterfactuals(\n",
    "    query_instance1,  #multiple query instances can be provided as an input dataframe\n",
    "    total_CFs=4,  # Number of counterfactual examples to generate\n",
    "    permitted_range=min_max_dict,\n",
    "    desired_class=0#'opposite' #,  # Specify the desired class for a continuous target variable\n",
    "    )\n",
    "cfe_random.visualize_as_dataframe(show_only_changes=True)\n",
    "cfe_df = cfe_random.cf_examples_list[0].final_cfs_df\n",
    "\n"
   ],
   "id": "fb4ae803ec5dfca6",
   "outputs": [
    {
     "name": "stderr",
     "output_type": "stream",
     "text": [
      "100%|██████████| 1/1 [00:00<00:00,  2.16it/s]"
     ]
    },
    {
     "name": "stdout",
     "output_type": "stream",
     "text": [
      "Query instance (original outcome : 0)\n"
     ]
    },
    {
     "name": "stderr",
     "output_type": "stream",
     "text": [
      "\n"
     ]
    },
    {
     "data": {
      "text/plain": [
       "        xrsa[0:120]_mean        xrsa[0:60]_mean        xrsa[0:30]_mean  \\\n",
       "0 -1446667648.0000000000 -1699067776.0000000000 -1701977600.0000000000   \n",
       "\n",
       "         xrsa[0:15]_mean         xrsa[0:7]_mean         xrsa[0:3]_mean  \\\n",
       "0 -1686546048.0000000000 -1681383808.0000000000 -1681268352.0000000000   \n",
       "\n",
       "          xrsa[3:7]_mean        xrsa[7:15]_mean        xrsa[7:11]_mean  \\\n",
       "0 -1681470336.0000000000 -1691292416.0000000000 -1685987328.0000000000   \n",
       "\n",
       "        xrsa[11:15]_mean  ...      xrsb[97:101]_mean     xrsb[101:105]_mean  \\\n",
       "0 -1696894720.0000000000  ... -1107578240.0000000000 -1089248512.0000000000   \n",
       "\n",
       "      xrsb[105:120]_mean     xrsb[105:112]_mean     xrsb[105:108]_mean  \\\n",
       "0 -1080906624.0000000000 -1079634432.0000000000 -1081124992.0000000000   \n",
       "\n",
       "      xrsb[108:112]_mean     xrsb[112:120]_mean     xrsb[112:116]_mean  \\\n",
       "0 -1078530944.0000000000 -1082033280.0000000000 -1079808000.0000000000   \n",
       "\n",
       "      xrsb[116:120]_mean  binary_label  \n",
       "0 -1084309120.0000000000             0  \n",
       "\n",
       "[1 rows x 127 columns]"
      ],
      "text/html": [
       "<div>\n",
       "<style scoped>\n",
       "    .dataframe tbody tr th:only-of-type {\n",
       "        vertical-align: middle;\n",
       "    }\n",
       "\n",
       "    .dataframe tbody tr th {\n",
       "        vertical-align: top;\n",
       "    }\n",
       "\n",
       "    .dataframe thead th {\n",
       "        text-align: right;\n",
       "    }\n",
       "</style>\n",
       "<table border=\"1\" class=\"dataframe\">\n",
       "  <thead>\n",
       "    <tr style=\"text-align: right;\">\n",
       "      <th></th>\n",
       "      <th>xrsa[0:120]_mean</th>\n",
       "      <th>xrsa[0:60]_mean</th>\n",
       "      <th>xrsa[0:30]_mean</th>\n",
       "      <th>xrsa[0:15]_mean</th>\n",
       "      <th>xrsa[0:7]_mean</th>\n",
       "      <th>xrsa[0:3]_mean</th>\n",
       "      <th>xrsa[3:7]_mean</th>\n",
       "      <th>xrsa[7:15]_mean</th>\n",
       "      <th>xrsa[7:11]_mean</th>\n",
       "      <th>xrsa[11:15]_mean</th>\n",
       "      <th>...</th>\n",
       "      <th>xrsb[97:101]_mean</th>\n",
       "      <th>xrsb[101:105]_mean</th>\n",
       "      <th>xrsb[105:120]_mean</th>\n",
       "      <th>xrsb[105:112]_mean</th>\n",
       "      <th>xrsb[105:108]_mean</th>\n",
       "      <th>xrsb[108:112]_mean</th>\n",
       "      <th>xrsb[112:120]_mean</th>\n",
       "      <th>xrsb[112:116]_mean</th>\n",
       "      <th>xrsb[116:120]_mean</th>\n",
       "      <th>binary_label</th>\n",
       "    </tr>\n",
       "  </thead>\n",
       "  <tbody>\n",
       "    <tr>\n",
       "      <th>0</th>\n",
       "      <td>-1446667648.0000000000</td>\n",
       "      <td>-1699067776.0000000000</td>\n",
       "      <td>-1701977600.0000000000</td>\n",
       "      <td>-1686546048.0000000000</td>\n",
       "      <td>-1681383808.0000000000</td>\n",
       "      <td>-1681268352.0000000000</td>\n",
       "      <td>-1681470336.0000000000</td>\n",
       "      <td>-1691292416.0000000000</td>\n",
       "      <td>-1685987328.0000000000</td>\n",
       "      <td>-1696894720.0000000000</td>\n",
       "      <td>...</td>\n",
       "      <td>-1107578240.0000000000</td>\n",
       "      <td>-1089248512.0000000000</td>\n",
       "      <td>-1080906624.0000000000</td>\n",
       "      <td>-1079634432.0000000000</td>\n",
       "      <td>-1081124992.0000000000</td>\n",
       "      <td>-1078530944.0000000000</td>\n",
       "      <td>-1082033280.0000000000</td>\n",
       "      <td>-1079808000.0000000000</td>\n",
       "      <td>-1084309120.0000000000</td>\n",
       "      <td>0</td>\n",
       "    </tr>\n",
       "  </tbody>\n",
       "</table>\n",
       "<p>1 rows × 127 columns</p>\n",
       "</div>"
      ]
     },
     "metadata": {},
     "output_type": "display_data",
     "jetTransient": {
      "display_id": null
     }
    },
    {
     "name": "stdout",
     "output_type": "stream",
     "text": [
      "\n",
      "Diverse Counterfactual set (new outcome: 0)\n"
     ]
    },
    {
     "data": {
      "text/plain": [
       "  xrsa[0:120]_mean xrsa[0:60]_mean xrsa[0:30]_mean xrsa[0:15]_mean  \\\n",
       "0                -               -               -               -   \n",
       "1                -               -               -               -   \n",
       "2                -               -               -               -   \n",
       "3                -               -               -               -   \n",
       "\n",
       "  xrsa[0:7]_mean xrsa[0:3]_mean xrsa[3:7]_mean xrsa[7:15]_mean  \\\n",
       "0              -              -              -               -   \n",
       "1              -              -              -               -   \n",
       "2              -              -              -               -   \n",
       "3              -              -              -               -   \n",
       "\n",
       "  xrsa[7:11]_mean xrsa[11:15]_mean  ... xrsb[97:101]_mean xrsb[101:105]_mean  \\\n",
       "0               -                -  ...                 -                  -   \n",
       "1               -                -  ...                 -                  -   \n",
       "2               -                -  ...                 -                  -   \n",
       "3               -                -  ...                 -                  -   \n",
       "\n",
       "  xrsb[105:120]_mean xrsb[105:112]_mean xrsb[105:108]_mean xrsb[108:112]_mean  \\\n",
       "0                  -                  -                  -                  -   \n",
       "1                  -                  -                  -                  -   \n",
       "2                  -                  -                  -                  -   \n",
       "3                  -                  -                  -                  -   \n",
       "\n",
       "  xrsb[112:120]_mean xrsb[112:116]_mean xrsb[116:120]_mean binary_label  \n",
       "0                  -                  -                  -            -  \n",
       "1                  -                  -                  -            -  \n",
       "2                  -                  -                  -            -  \n",
       "3                  -                  -                  -            -  \n",
       "\n",
       "[4 rows x 127 columns]"
      ],
      "text/html": [
       "<div>\n",
       "<style scoped>\n",
       "    .dataframe tbody tr th:only-of-type {\n",
       "        vertical-align: middle;\n",
       "    }\n",
       "\n",
       "    .dataframe tbody tr th {\n",
       "        vertical-align: top;\n",
       "    }\n",
       "\n",
       "    .dataframe thead th {\n",
       "        text-align: right;\n",
       "    }\n",
       "</style>\n",
       "<table border=\"1\" class=\"dataframe\">\n",
       "  <thead>\n",
       "    <tr style=\"text-align: right;\">\n",
       "      <th></th>\n",
       "      <th>xrsa[0:120]_mean</th>\n",
       "      <th>xrsa[0:60]_mean</th>\n",
       "      <th>xrsa[0:30]_mean</th>\n",
       "      <th>xrsa[0:15]_mean</th>\n",
       "      <th>xrsa[0:7]_mean</th>\n",
       "      <th>xrsa[0:3]_mean</th>\n",
       "      <th>xrsa[3:7]_mean</th>\n",
       "      <th>xrsa[7:15]_mean</th>\n",
       "      <th>xrsa[7:11]_mean</th>\n",
       "      <th>xrsa[11:15]_mean</th>\n",
       "      <th>...</th>\n",
       "      <th>xrsb[97:101]_mean</th>\n",
       "      <th>xrsb[101:105]_mean</th>\n",
       "      <th>xrsb[105:120]_mean</th>\n",
       "      <th>xrsb[105:112]_mean</th>\n",
       "      <th>xrsb[105:108]_mean</th>\n",
       "      <th>xrsb[108:112]_mean</th>\n",
       "      <th>xrsb[112:120]_mean</th>\n",
       "      <th>xrsb[112:116]_mean</th>\n",
       "      <th>xrsb[116:120]_mean</th>\n",
       "      <th>binary_label</th>\n",
       "    </tr>\n",
       "  </thead>\n",
       "  <tbody>\n",
       "    <tr>\n",
       "      <th>0</th>\n",
       "      <td>-</td>\n",
       "      <td>-</td>\n",
       "      <td>-</td>\n",
       "      <td>-</td>\n",
       "      <td>-</td>\n",
       "      <td>-</td>\n",
       "      <td>-</td>\n",
       "      <td>-</td>\n",
       "      <td>-</td>\n",
       "      <td>-</td>\n",
       "      <td>...</td>\n",
       "      <td>-</td>\n",
       "      <td>-</td>\n",
       "      <td>-</td>\n",
       "      <td>-</td>\n",
       "      <td>-</td>\n",
       "      <td>-</td>\n",
       "      <td>-</td>\n",
       "      <td>-</td>\n",
       "      <td>-</td>\n",
       "      <td>-</td>\n",
       "    </tr>\n",
       "    <tr>\n",
       "      <th>1</th>\n",
       "      <td>-</td>\n",
       "      <td>-</td>\n",
       "      <td>-</td>\n",
       "      <td>-</td>\n",
       "      <td>-</td>\n",
       "      <td>-</td>\n",
       "      <td>-</td>\n",
       "      <td>-</td>\n",
       "      <td>-</td>\n",
       "      <td>-</td>\n",
       "      <td>...</td>\n",
       "      <td>-</td>\n",
       "      <td>-</td>\n",
       "      <td>-</td>\n",
       "      <td>-</td>\n",
       "      <td>-</td>\n",
       "      <td>-</td>\n",
       "      <td>-</td>\n",
       "      <td>-</td>\n",
       "      <td>-</td>\n",
       "      <td>-</td>\n",
       "    </tr>\n",
       "    <tr>\n",
       "      <th>2</th>\n",
       "      <td>-</td>\n",
       "      <td>-</td>\n",
       "      <td>-</td>\n",
       "      <td>-</td>\n",
       "      <td>-</td>\n",
       "      <td>-</td>\n",
       "      <td>-</td>\n",
       "      <td>-</td>\n",
       "      <td>-</td>\n",
       "      <td>-</td>\n",
       "      <td>...</td>\n",
       "      <td>-</td>\n",
       "      <td>-</td>\n",
       "      <td>-</td>\n",
       "      <td>-</td>\n",
       "      <td>-</td>\n",
       "      <td>-</td>\n",
       "      <td>-</td>\n",
       "      <td>-</td>\n",
       "      <td>-</td>\n",
       "      <td>-</td>\n",
       "    </tr>\n",
       "    <tr>\n",
       "      <th>3</th>\n",
       "      <td>-</td>\n",
       "      <td>-</td>\n",
       "      <td>-</td>\n",
       "      <td>-</td>\n",
       "      <td>-</td>\n",
       "      <td>-</td>\n",
       "      <td>-</td>\n",
       "      <td>-</td>\n",
       "      <td>-</td>\n",
       "      <td>-</td>\n",
       "      <td>...</td>\n",
       "      <td>-</td>\n",
       "      <td>-</td>\n",
       "      <td>-</td>\n",
       "      <td>-</td>\n",
       "      <td>-</td>\n",
       "      <td>-</td>\n",
       "      <td>-</td>\n",
       "      <td>-</td>\n",
       "      <td>-</td>\n",
       "      <td>-</td>\n",
       "    </tr>\n",
       "  </tbody>\n",
       "</table>\n",
       "<p>4 rows × 127 columns</p>\n",
       "</div>"
      ]
     },
     "metadata": {},
     "output_type": "display_data",
     "jetTransient": {
      "display_id": null
     }
    }
   ],
   "execution_count": 83
  },
  {
   "metadata": {
    "ExecuteTime": {
     "end_time": "2025-10-29T12:55:52.652175Z",
     "start_time": "2025-10-29T12:55:52.646282Z"
    }
   },
   "cell_type": "code",
   "source": [
    "# df_cfe_exp\n",
    "# --- Ensure data.get_decimal_precisions returns a list indexed by feature positions ---\n",
    "import types\n",
    "# keep a resilient reference to the original method (it may be on `data` or on `data.data_interface`)\n",
    "orig_get_decimals = None\n",
    "if hasattr(data, 'get_decimal_precisions'):\n",
    "    orig_get_decimals = data.get_decimal_precisions\n",
    "elif hasattr(data, 'data_interface') and hasattr(data.data_interface, 'get_decimal_precisions'):\n",
    "    orig_get_decimals = data.data_interface.get_decimal_precisions\n",
    "\n",
    "\n",
    "def _bound_get_decimal_precisions(self, output_type='list'):\n",
    "    \"\"\"Return a list (default) or dict of decimal precisions aligned with self.feature_names.\n",
    "\n",
    "    This wrapper is defensive: it attempts to call the original implementation (wherever it lives).\n",
    "    If none exists or it misbehaves, it falls back to safe defaults (precision=6).\n",
    "    \"\"\"\n",
    "    # 1) Try to call the original implementation if available\n",
    "    res = None\n",
    "    if orig_get_decimals is not None:\n",
    "        try:\n",
    "            # orig_get_decimals might be a bound method requiring no args, or unbound requiring self\n",
    "            try:\n",
    "                res = orig_get_decimals()\n",
    "            except TypeError:\n",
    "                res = orig_get_decimals(self)\n",
    "        except Exception:\n",
    "            res = None\n",
    "\n",
    "    # 2) If original returned a dict or list, normalize it\n",
    "    if isinstance(res, dict):\n",
    "        flist = [res.get(f, 6) for f in self.feature_names]\n",
    "        return flist if output_type == 'list' else {f: flist[i] for i, f in enumerate(self.feature_names)}\n",
    "    if isinstance(res, list):\n",
    "        return res if output_type == 'list' else {f: res[i] for i, f in enumerate(self.feature_names)}\n",
    "\n",
    "    # 3) Fallback: compute safe defaults based on data types where possible\n",
    "    try:\n",
    "        # default precision\n",
    "        default_prec = 6\n",
    "        prec_list = [default_prec] * len(self.feature_names)\n",
    "        prec_dict = {f: default_prec for f in self.feature_names}\n",
    "        # compute for continuous features if possible\n",
    "        for col in getattr(self, 'continuous_feature_names', []):\n",
    "            try:\n",
    "                ix = self.feature_names.index(col)\n",
    "            except ValueError:\n",
    "                ix = None\n",
    "            p = default_prec\n",
    "            try:\n",
    "                dtype = getattr(self.data_df[col], 'dtype', None)\n",
    "                if dtype in [np.float32, np.float64]:\n",
    "                    modes = self.data_df[col].mode()\n",
    "                    if len(modes) == 0:\n",
    "                        p = default_prec\n",
    "                    else:\n",
    "                        maxp = 0\n",
    "                        for m in modes:\n",
    "                            s = str(m)\n",
    "                            if '.' in s:\n",
    "                                parts = s.split('.')\n",
    "                                if len(parts) > 1:\n",
    "                                    maxp = max(maxp, len(parts[1]))\n",
    "                        p = maxp if maxp > 0 else default_prec\n",
    "                else:\n",
    "                    p = default_prec\n",
    "            except Exception:\n",
    "                p = default_prec\n",
    "            if ix is not None:\n",
    "                prec_list[ix] = p\n",
    "            prec_dict[col] = p\n",
    "        return prec_list if output_type == 'list' else prec_dict\n",
    "    except Exception:\n",
    "        # Last-resort fallback\n",
    "        flist = [6] * len(getattr(self, 'feature_names', []))\n",
    "        return flist if output_type == 'list' else {f: 6 for f in getattr(self, 'feature_names', [])}\n",
    "\n",
    "# Bind the wrapper as a proper method to the PublicData or Data instance\n",
    "try:\n",
    "    data.get_decimal_precisions = types.MethodType(_bound_get_decimal_precisions, data)\n",
    "except Exception:\n",
    "    # As a final fallback, attach to data.data_interface if present\n",
    "    if hasattr(data, 'data_interface'):\n",
    "        data.data_interface.get_decimal_precisions = types.MethodType(_bound_get_decimal_precisions, data.data_interface)\n"
   ],
   "id": "c9badbd85cc861b9",
   "outputs": [],
   "execution_count": 84
  }
 ],
 "metadata": {
  "kernelspec": {
   "display_name": "PGCFE",
   "language": "python",
   "name": "pgcfe"
  },
  "language_info": {
   "codemirror_mode": {
    "name": "ipython",
    "version": 2
   },
   "file_extension": ".py",
   "mimetype": "text/x-python",
   "name": "python",
   "nbconvert_exporter": "python",
   "pygments_lexer": "ipython2",
   "version": "2.7.6"
  }
 },
 "nbformat": 4,
 "nbformat_minor": 5
}
