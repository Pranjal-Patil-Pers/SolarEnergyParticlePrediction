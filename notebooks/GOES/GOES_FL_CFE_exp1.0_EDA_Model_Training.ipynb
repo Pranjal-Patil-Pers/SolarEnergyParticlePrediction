{
 "cells": [
  {
   "metadata": {
    "ExecuteTime": {
     "end_time": "2025-10-29T14:11:30.898894Z",
     "start_time": "2025-10-29T14:11:16.446194Z"
    }
   },
   "cell_type": "code",
   "source": [
    "import wandb\n",
    "import matplotlib.pyplot as plt\n",
    "import dice_ml\n",
    "import warnings\n",
    "import pandas as pd\n",
    "import numpy as np\n",
    "from sklearn.ensemble import RandomForestClassifier\n",
    "from sklearn.model_selection import GridSearchCV, StratifiedKFold\n",
    "from sklearn.metrics import f1_score, make_scorer, roc_auc_score,precision_score, recall_score\n",
    "from sklearn.metrics import accuracy_score, classification_report, confusion_matrix\n",
    "from sklearn.pipeline import Pipeline\n",
    "# import seaborn as sns\n",
    "import joblib\n",
    "from sklearn.model_selection import train_test_split\n",
    "import os\n",
    "from sklearn.preprocessing import MinMaxScaler,StandardScaler\n",
    "from scripts.SEP_CFE_functions import *\n",
    "\n",
    "\n",
    "\n",
    "min_max_scaler = MinMaxScaler()\n",
    "warnings.filterwarnings(\"ignore\")\n",
    "# scale_factor = 1e8"
   ],
   "id": "70470739c46f1560",
   "outputs": [],
   "execution_count": 2
  },
  {
   "metadata": {
    "ExecuteTime": {
     "end_time": "2025-10-29T14:11:30.916603Z",
     "start_time": "2025-10-29T14:11:30.906461Z"
    }
   },
   "cell_type": "code",
   "source": [
    "# --- Patch DiCE PublicData.get_decimal_precisions early to avoid IndexError in empty/malformed modes ---\n",
    "import dice_ml.data_interfaces.public_data_interface as pdi\n",
    "\n",
    "def safe_get_decimal_precisions(self, output_type=\"list\"):\n",
    "    \"\"\"Return decimal precision per feature safely.\n",
    "\n",
    "    Returns a list by default (same shape as original DiCE implementation) where each\n",
    "    index corresponds to the feature order in `self.feature_names`. Also supports\n",
    "    output_type='dict' to return a mapping {feature_name: precision}.\n",
    "\n",
    "    This is defensive: if modes are empty or unparsable the default precision is 6.\n",
    "    \"\"\"\n",
    "    from collections import defaultdict\n",
    "    precisions_dict = defaultdict(int)\n",
    "    # initialize a list matching feature_names length (default 0)\n",
    "    precisions_list = [0] * len(self.feature_names)\n",
    "\n",
    "    for idx, feat in enumerate(self.feature_names):\n",
    "        # default precision\n",
    "        precisions_list[idx] = 6\n",
    "        precisions_dict[feat] = 6\n",
    "\n",
    "    # Now compute precisions for continuous features only\n",
    "    for col in self.continuous_feature_names:\n",
    "        try:\n",
    "            # determine index of this feature in feature_names\n",
    "            try:\n",
    "                ix = self.feature_names.index(col)\n",
    "            except ValueError:\n",
    "                # fallback: place precision at leftmost free slot (shouldn't normally happen)\n",
    "                ix = None\n",
    "\n",
    "            if (self.continuous_features_precision is not None) and (col in self.continuous_features_precision):\n",
    "                prec = int(self.continuous_features_precision[col])\n",
    "            else:\n",
    "                # only compute modes if dtype is float-like\n",
    "                if getattr(self.data_df[col], 'dtype', None) in [np.float32, np.float64]:\n",
    "                    modes = self.data_df[col].mode()\n",
    "                    if len(modes) == 0:\n",
    "                        prec = 6\n",
    "                    else:\n",
    "                        # compute maximal fractional length among modes\n",
    "                        maxp = 0\n",
    "                        for m in modes:\n",
    "                            s = str(m)\n",
    "                            if '.' in s:\n",
    "                                parts = s.split('.')\n",
    "                                if len(parts) > 1:\n",
    "                                    maxp = max(maxp, len(parts[1]))\n",
    "                        prec = maxp if maxp > 0 else 6\n",
    "                else:\n",
    "                    prec = 6\n",
    "            # set into both structures\n",
    "            if ix is not None:\n",
    "                precisions_list[ix] = prec\n",
    "            precisions_dict[col] = prec\n",
    "        except Exception:\n",
    "            # any unexpected error -> keep default precision 6\n",
    "            precisions_dict[col] = 6\n",
    "            try:\n",
    "                if ix is not None:\n",
    "                    precisions_list[ix] = 6\n",
    "            except Exception:\n",
    "                pass\n",
    "\n",
    "    if output_type == \"list\":\n",
    "        return precisions_list\n",
    "    elif output_type == \"dict\":\n",
    "        return dict(precisions_dict)\n",
    "    else:\n",
    "        # preserve backward compatibility: return list by default for any unknown output_type\n",
    "        return precisions_list\n",
    "\n",
    "# Apply the patch so subsequent DiCE calls use this safe version\n",
    "pdi.PublicData.get_decimal_precisions = safe_get_decimal_precisions"
   ],
   "id": "ab9902539f98bc4b",
   "outputs": [],
   "execution_count": 3
  },
  {
   "metadata": {
    "ExecuteTime": {
     "end_time": "2025-10-29T14:13:13.517174Z",
     "start_time": "2025-10-29T14:13:12.970220Z"
    }
   },
   "cell_type": "code",
   "source": [
    "abt_path_train = '../../data/raw/GOES/goes18_2024.csv'\n",
    "df_train = pd.read_csv(abt_path_train,  sep=',' )\n",
    "df_train.columns.values[0] = 'timestamp'\n",
    "df_train['timestamp'] = pd.to_datetime(df_train['timestamp'])"
   ],
   "id": "e80451e479260ebd",
   "outputs": [],
   "execution_count": 5
  },
  {
   "metadata": {},
   "cell_type": "code",
   "outputs": [],
   "execution_count": null,
   "source": [
    "print(df_train[[\"xrsa\",\"xrsb\"]].min())\n",
    "print(df_train[[\"xrsa\",\"xrsb\"]].max())"
   ],
   "id": "33d83f7a41af792d"
  },
  {
   "metadata": {
    "ExecuteTime": {
     "end_time": "2025-10-29T14:13:26.991236Z",
     "start_time": "2025-10-29T14:13:16.460723Z"
    }
   },
   "cell_type": "code",
   "source": [
    "def create_and_save_windows(df, save_dir=\"windows\", input_hours=2, pred_hours=2, stride_hours=2):\n",
    "    os.makedirs(save_dir, exist_ok=True)\n",
    "    input_len = input_hours * 60     # convert to minutes\n",
    "    pred_len = pred_hours * 60\n",
    "    stride = stride_hours * 60\n",
    "    n = len(df)\n",
    "    timestamps = df['timestamp']\n",
    "    window_count = 0\n",
    "\n",
    "    for start in range(0, n - input_len - pred_len + 1, stride):\n",
    "        end_input = start + input_len\n",
    "        end_pred = end_input + pred_len\n",
    "\n",
    "        input_df = df.iloc[start:end_input]\n",
    "        pred_df  = df.iloc[end_input:end_pred]\n",
    "\n",
    "        start_time = timestamps[start].strftime(\"%Y%m%d_%H%M\")\n",
    "        input_file = os.path.join(save_dir, f\"GOES18_2024_{window_count:04d}_{start_time}_input.csv\")\n",
    "        pred_file  = os.path.join(save_dir, f\"GOES18_2024_{window_count:04d}_{start_time}_pred.csv\")\n",
    "\n",
    "        input_df.to_csv(input_file)\n",
    "        pred_df.to_csv(pred_file)\n",
    "        window_count += 1\n",
    "    print(f\"✅ Created {window_count} overlapping windows in '{save_dir}'\")\n",
    "\n",
    "# Create and save windows with stride = 2 hours\n",
    "create_and_save_windows(df_train, save_dir=\"../../data/processed/goes18_2024\", input_hours=2, pred_hours=2, stride_hours=2)"
   ],
   "id": "791d0b6c018f8125",
   "outputs": [
    {
     "name": "stdout",
     "output_type": "stream",
     "text": [
      "✅ Created 4391 overlapping windows in '../../data/processed/goes18_2024'\n"
     ]
    }
   ],
   "execution_count": 6
  },
  {
   "metadata": {
    "ExecuteTime": {
     "end_time": "2025-10-29T15:36:06.319906Z",
     "start_time": "2025-10-29T15:36:06.292359Z"
    }
   },
   "cell_type": "code",
   "source": [
    "def create_flare_label_dataset_from_pred(input_pred_dir, save_path=None):\n",
    "    rows = []\n",
    "    for file in sorted(os.listdir(input_pred_dir)):\n",
    "        if file.endswith(\"_pred.csv\"):\n",
    "            pred_file_path = os.path.join(input_pred_dir, file)\n",
    "            df_pred = pd.read_csv(pred_file_path)\n",
    "\n",
    "            max_flux = df_pred['xrsb'].max()\n",
    "            if max_flux >= 1e-4:\n",
    "                label = 'X'\n",
    "            elif max_flux >= 1e-5:\n",
    "                label = 'M'\n",
    "            elif max_flux >= 1e-6:\n",
    "                label = 'C'\n",
    "            elif max_flux >= 1e-7:\n",
    "                label = 'B'\n",
    "            elif max_flux >= 1e-8:\n",
    "                label = 'A'\n",
    "            else:\n",
    "                label = 'NF'\n",
    "\n",
    "            input_filename = file.replace('_pred', '_input')\n",
    "            rows.append({'input_filename': input_filename, 'label': label})\n",
    "\n",
    "    label_df = pd.DataFrame(rows)\n",
    "    if save_path:\n",
    "        label_df.to_csv(save_path, index=False)\n",
    "        print(f\"Label dataset saved to: {save_path}\")\n",
    "\n",
    "    return label_df\n"
   ],
   "id": "3124d153f341090b",
   "outputs": [],
   "execution_count": 38
  },
  {
   "metadata": {
    "ExecuteTime": {
     "end_time": "2025-10-29T15:37:42.253589Z",
     "start_time": "2025-10-29T15:36:08.310765Z"
    }
   },
   "cell_type": "code",
   "source": [
    "input_pred_dir = \"../../data/processed/goes18_2024\"\n",
    "save_file = \"../../data/processed/goes18_2024_labels.csv\"\n",
    "\n",
    "label_df = create_flare_label_dataset_from_pred(input_pred_dir, save_path=save_file)\n",
    "print(label_df.head())"
   ],
   "id": "c7757e9115c468fa",
   "outputs": [
    {
     "name": "stdout",
     "output_type": "stream",
     "text": [
      "Label dataset saved to: ../../data/processed/goes18_2024_labels.csv\n",
      "                             input_filename label\n",
      "0  GOES18_2024_0000_20240101_0000_input.csv     C\n",
      "1  GOES18_2024_0001_20240101_0200_input.csv     C\n",
      "2  GOES18_2024_0002_20240101_0400_input.csv     C\n",
      "3  GOES18_2024_0003_20240101_0600_input.csv     M\n",
      "4  GOES18_2024_0004_20240101_0800_input.csv     C\n"
     ]
    }
   ],
   "execution_count": 39
  },
  {
   "metadata": {
    "ExecuteTime": {
     "end_time": "2025-10-29T15:37:42.384327Z",
     "start_time": "2025-10-29T15:37:42.375933Z"
    }
   },
   "cell_type": "code",
   "source": "# label_df = pd.read_csv(\"../../data/processed/goes18_2024_labels.csv\")",
   "id": "9693fc2e9524fa43",
   "outputs": [],
   "execution_count": 40
  },
  {
   "metadata": {
    "ExecuteTime": {
     "end_time": "2025-10-29T15:37:42.653887Z",
     "start_time": "2025-10-29T15:37:42.396100Z"
    }
   },
   "cell_type": "code",
   "source": [
    "def recursive_slices(start, end, min_size=5):\n",
    "    length = end - start\n",
    "    if length <= min_size:\n",
    "        return [(start, end)]\n",
    "    else:\n",
    "        mid = start + length // 2\n",
    "        left = recursive_slices(start, mid, min_size)\n",
    "        right = recursive_slices(mid, end, min_size)\n",
    "        return [(start, end)] + left + right\n",
    "\n",
    "def generate_mean_features(df, min_size=5, prefix=None):\n",
    "    n_timesteps = df.shape[0]\n",
    "    slices = recursive_slices(0, n_timesteps, min_size)\n",
    "    features = {}\n",
    "\n",
    "    for channel in ['xrsa', 'xrsb']:\n",
    "        data = pd.to_numeric(df[channel], errors='coerce').values\n",
    "        for (s, e) in slices:\n",
    "            name = f\"{prefix+'_' if prefix else ''}{channel}[{s}:{e}]_mean\"\n",
    "            val = np.mean(data[s:e])\n",
    "\n",
    "            # Only add feature if val is not NaN\n",
    "            if not np.isnan(val):\n",
    "                # features[name] = val*scale_factor\n",
    "                val = np.log(val.clip(min=1e-10))   # natural log, safe for small values\n",
    "                features[name] = val\n",
    "\n",
    "    return pd.Series(features)\n",
    "\n"
   ],
   "id": "dd589b79713889b",
   "outputs": [],
   "execution_count": 41
  },
  {
   "metadata": {
    "ExecuteTime": {
     "end_time": "2025-10-29T15:37:50.643179Z",
     "start_time": "2025-10-29T15:37:50.622497Z"
    }
   },
   "cell_type": "code",
   "source": [
    "def create_mean_features_by_window_sizes(input_dir, output_file, window_sizes=None):\n",
    "    rows = []\n",
    "    input_files = sorted([f for f in os.listdir(input_dir) if \"_input.csv\" in f])\n",
    "    for file in input_files:\n",
    "        df = pd.read_csv(os.path.join(input_dir, file))\n",
    "        features = generate_mean_features(df, min_size=5)\n",
    "        feature_dict = {'input_filename': file, **features.to_dict()}\n",
    "        rows.append(feature_dict)\n",
    "\n",
    "    features_df = pd.DataFrame(rows)\n",
    "    features_df.dropna(inplace=True)\n",
    "    features_df.to_csv(output_file, index=False)\n",
    "    print(f\"✅ Mean-valued features saved to: {output_file}\")\n"
   ],
   "id": "99f8e6f57e2a7763",
   "outputs": [],
   "execution_count": 42
  },
  {
   "metadata": {
    "ExecuteTime": {
     "end_time": "2025-10-29T15:39:14.245750Z",
     "start_time": "2025-10-29T15:37:53.771868Z"
    }
   },
   "cell_type": "code",
   "source": [
    "input_dir = \"../../data/processed/goes18_2024/\"  # folder containing input files\n",
    "output_file = \"../../data/processed/goes18_2024_mean_features_custom_windows.csv\"\n",
    "\n",
    "create_mean_features_by_window_sizes(input_dir, output_file)"
   ],
   "id": "1fb06817869b18bc",
   "outputs": [
    {
     "name": "stdout",
     "output_type": "stream",
     "text": [
      "✅ Mean-valued features saved to: ../../data/processed/goes18_2024_mean_features_custom_windows.csv\n"
     ]
    }
   ],
   "execution_count": 43
  },
  {
   "metadata": {
    "ExecuteTime": {
     "end_time": "2025-10-29T15:41:43.164924Z",
     "start_time": "2025-10-29T15:41:42.687790Z"
    }
   },
   "cell_type": "code",
   "source": [
    "# Count of each flare type\n",
    "flare_counts = label_df['label'].value_counts().sort_index()  # sort by label\n",
    "\n",
    "plt.figure(figsize=(8,5))\n",
    "plt.bar(flare_counts.index, flare_counts.values, color='skyblue', edgecolor='black')\n",
    "plt.xlabel(\"Flare Class\")\n",
    "plt.ylabel(\"Count\")\n",
    "plt.title(\"Distribution of GOES Flare Classes in 2-hour Windows\")\n",
    "plt.tight_layout()\n",
    "plt.show()\n",
    "\n"
   ],
   "id": "926226aac8b5501d",
   "outputs": [
    {
     "data": {
      "text/plain": [
       "<Figure size 800x500 with 1 Axes>"
      ],
      "image/png": "[encoded data removed]"
     },
     "metadata": {},
     "output_type": "display_data"
    }
   ],
   "execution_count": 44
  },
  {
   "metadata": {
    "ExecuteTime": {
     "end_time": "2025-10-29T15:41:48.447435Z",
     "start_time": "2025-10-29T15:41:47.910515Z"
    }
   },
   "cell_type": "code",
   "source": [
    "features_file = \"../../data/processed/goes18_2024_mean_features_custom_windows.csv\"\n",
    "features_df = pd.read_csv(features_file)\n",
    "combined_df = pd.merge(features_df, label_df, on=\"input_filename\", how=\"inner\")\n",
    "\n",
    "print(\"Combined dataset shape:\", combined_df.shape)\n",
    "print(combined_df.head())\n",
    "\n",
    "# Optionally, save to CSV\n",
    "combined_file = \"../../data/processed/goes18_2024_features_labels.csv\"\n",
    "combined_df.to_csv(combined_file, index=False)\n",
    "print(f\"✅ Combined dataset saved to: {combined_file}\")\n"
   ],
   "id": "3a106b06ea032dfd",
   "outputs": [
    {
     "name": "stdout",
     "output_type": "stream",
     "text": [
      "Combined dataset shape: (3888, 128)\n",
      "                             input_filename  xrsa[0:120]_mean  \\\n",
      "0  GOES18_2024_0000_20240101_0000_input.csv        -15.954489   \n",
      "1  GOES18_2024_0001_20240101_0200_input.csv        -17.479659   \n",
      "2  GOES18_2024_0002_20240101_0400_input.csv        -18.424144   \n",
      "3  GOES18_2024_0003_20240101_0600_input.csv        -17.975338   \n",
      "4  GOES18_2024_0004_20240101_0800_input.csv        -14.367647   \n",
      "\n",
      "   xrsa[0:60]_mean  xrsa[0:30]_mean  xrsa[0:15]_mean  xrsa[0:7]_mean  \\\n",
      "0       -15.657441       -15.424716       -15.259331      -15.154179   \n",
      "1       -17.286852       -17.164607       -17.122758      -17.109607   \n",
      "2       -18.333628       -18.191758       -18.155167      -18.158065   \n",
      "3       -18.256867       -18.558373       -18.108273      -17.665172   \n",
      "4       -13.841311       -15.294633       -14.865567      -14.660659   \n",
      "\n",
      "   xrsa[0:3]_mean  xrsa[3:7]_mean  xrsa[7:15]_mean  xrsa[7:11]_mean  ...  \\\n",
      "0      -15.095318      -15.200715       -15.361385       -15.312828  ...   \n",
      "1      -17.079754      -17.132596       -17.134409       -17.130846  ...   \n",
      "2      -18.109006      -18.196507       -18.152638       -18.153472  ...   \n",
      "3      -17.657160      -17.671223       -18.777387       -18.484500  ...   \n",
      "4      -14.812813      -14.560037       -15.087443       -14.891167  ...   \n",
      "\n",
      "   xrsb[97:101]_mean  xrsb[101:105]_mean  xrsb[105:120]_mean  \\\n",
      "0         -12.537562          -13.097566          -13.256872   \n",
      "1         -13.593764          -13.588365          -13.580916   \n",
      "2         -13.735167          -13.771999          -13.798231   \n",
      "3         -13.714709          -13.706644          -13.518509   \n",
      "4         -13.462045          -13.558684          -13.674382   \n",
      "\n",
      "   xrsb[105:112]_mean  xrsb[105:108]_mean  xrsb[108:112]_mean  \\\n",
      "0          -13.232398          -13.216176          -13.244740   \n",
      "1          -13.610168          -13.603754          -13.615005   \n",
      "2          -13.795368          -13.776359          -13.809866   \n",
      "3          -13.681791          -13.708568          -13.662169   \n",
      "4          -13.630034          -13.613388          -13.642703   \n",
      "\n",
      "   xrsb[112:120]_mean  xrsb[112:116]_mean  xrsb[116:120]_mean  label  \n",
      "0          -13.278789          -13.267233          -13.290480      C  \n",
      "1          -13.556004          -13.556630          -13.555379      C  \n",
      "2          -13.800742          -13.826758          -13.775386      C  \n",
      "3          -13.394685          -13.577933          -13.239873      M  \n",
      "4          -13.714868          -13.705760          -13.724059      C  \n",
      "\n",
      "[5 rows x 128 columns]\n",
      "✅ Combined dataset saved to: ../../data/processed/goes18_2024_features_labels.csv\n"
     ]
    }
   ],
   "execution_count": 45
  },
  {
   "metadata": {
    "ExecuteTime": {
     "end_time": "2025-10-29T15:41:51.199311Z",
     "start_time": "2025-10-29T15:41:50.781322Z"
    }
   },
   "cell_type": "code",
   "source": [
    "binary_map = {'NF': 0,'A': 0,'B': 0,'C': 0,'M': 1,'X': 1}\n",
    "combined_df['binary_label'] = combined_df['label'].map(binary_map)\n",
    "print(combined_df['binary_label'].value_counts())\n",
    "print(combined_df[['label', 'binary_label']].head())\n",
    "combined_file = \"../../data/processed/goes18_2024_features_labels.csv\"\n",
    "combined_df.to_csv(combined_file, index=False)\n",
    "print(f\"✅ Combined dataset saved to: {combined_file}\")\n"
   ],
   "id": "f91b03acb1dbcc5c",
   "outputs": [
    {
     "name": "stdout",
     "output_type": "stream",
     "text": [
      "binary_label\n",
      "0    3071\n",
      "1     817\n",
      "Name: count, dtype: int64\n",
      "  label  binary_label\n",
      "0     C             0\n",
      "1     C             0\n",
      "2     C             0\n",
      "3     M             1\n",
      "4     C             0\n",
      "✅ Combined dataset saved to: ../../data/processed/goes18_2024_features_labels.csv\n"
     ]
    }
   ],
   "execution_count": 46
  },
  {
   "metadata": {
    "ExecuteTime": {
     "end_time": "2025-10-29T15:41:56.191384Z",
     "start_time": "2025-10-29T15:41:55.998239Z"
    }
   },
   "cell_type": "code",
   "source": [
    "binary_counts = combined_df['binary_label'].value_counts().sort_index()\n",
    "\n",
    "# Plot\n",
    "plt.figure(figsize=(6,4))\n",
    "plt.bar(binary_counts.index, binary_counts.values, color=\"skyblue\", edgecolor='black')\n",
    "plt.xticks([0, 1], [\"Class 0 (NF/A/B/C)\", \"Class 1 (M/X)\"])\n",
    "plt.ylabel(\"Count\")\n",
    "plt.title(\"Binary Flare Class Distribution\")\n",
    "plt.tight_layout()\n",
    "plt.show()"
   ],
   "id": "66db5c6cdd6c85a8",
   "outputs": [
    {
     "data": {
      "text/plain": [
       "<Figure size 600x400 with 1 Axes>"
      ],
      "image/png": "[encoded data removed]"
     },
     "metadata": {},
     "output_type": "display_data"
    }
   ],
   "execution_count": 47
  },
  {
   "metadata": {
    "ExecuteTime": {
     "end_time": "2025-10-29T15:42:11.264699Z",
     "start_time": "2025-10-29T15:42:11.239885Z"
    }
   },
   "cell_type": "code",
   "source": [
    "def split_df_by_percentage(df, train_frac=0.7, val_frac=0.15, test_frac=0.15, random_state=42):\n",
    "    if abs(train_frac + val_frac + test_frac - 1.0) > 1e-6:\n",
    "        raise ValueError(\"Fractions must sum to 1.0\")\n",
    "\n",
    "    train_df, temp_df = train_test_split(df, train_size=train_frac, random_state=random_state, shuffle=True)\n",
    "    temp_frac = test_frac / (val_frac + test_frac)\n",
    "    val_df, test_df = train_test_split(temp_df, test_size=temp_frac, random_state=random_state, shuffle=True)\n",
    "    return train_df.reset_index(drop=True), val_df.reset_index(drop=True), test_df.reset_index(drop=True)\n",
    "\n",
    "\n",
    "train_df, val_df, test_df = split_df_by_percentage(combined_df)\n",
    "\n",
    "print(\"Train shape:\", train_df.shape)\n",
    "print(\"Validation shape:\", val_df.shape)\n",
    "print(\"Test shape:\", test_df.shape)\n"
   ],
   "id": "9caf1024ff24dd3",
   "outputs": [
    {
     "name": "stdout",
     "output_type": "stream",
     "text": [
      "Train shape: (2721, 129)\n",
      "Validation shape: (583, 129)\n",
      "Test shape: (584, 129)\n"
     ]
    }
   ],
   "execution_count": 48
  },
  {
   "metadata": {
    "ExecuteTime": {
     "end_time": "2025-10-29T15:42:14.390429Z",
     "start_time": "2025-10-29T15:42:14.379762Z"
    }
   },
   "cell_type": "code",
   "source": [
    "feature_cols = [c for c in train_df.columns if c not in ['input_filename', 'label', 'binary_label']]\n",
    "# mm_scaler = MinMaxScaler()\n",
    "# scaled_train_df = mm_scaler.fit_transform(train_df[feature_cols].values)\n",
    "# scaled_test_df = mm_scaler.fit_transform(test_df[feature_cols].values)\n",
    "# scaled_val_df = mm_scaler.fit_transform(val_df[feature_cols].values)\n",
    "\n",
    "# X_train = train_df[feature_cols].values * scale_factor\n",
    "# y_train = train_df['binary_label'].values\n",
    "#\n",
    "# X_val = val_df[feature_cols].values * scale_factor\n",
    "# y_val = val_df['binary_label'].values\n",
    "#\n",
    "# X_test = test_df[feature_cols].values *scale_factor\n",
    "# y_test = test_df['binary_label'].values\n",
    "\n",
    "X_train = train_df[feature_cols].values\n",
    "y_train = train_df['binary_label'].values\n",
    "\n",
    "X_val = val_df[feature_cols].values\n",
    "y_val = val_df['binary_label'].values\n",
    "\n",
    "X_test = test_df[feature_cols].values\n",
    "y_test = test_df['binary_label'].values\n",
    "\n",
    "\n",
    "# X_train = mm_scaler.fit_transform(X_train)\n",
    "# X_val = mm_scaler.transform(X_val)\n",
    "# X_test = mm_scaler.transform(X_test)\n",
    "\n",
    "print(\"Shapes:\")\n",
    "print(\"X_train:\", X_train.shape, \"y_train:\", y_train.shape)\n",
    "print(\"X_val:\", X_val.shape, \"y_val:\", y_val.shape)\n",
    "print(\"X_test:\", X_test.shape, \"y_test:\", y_test.shape)\n"
   ],
   "id": "99637b0e9295e5d3",
   "outputs": [
    {
     "name": "stdout",
     "output_type": "stream",
     "text": [
      "Shapes:\n",
      "X_train: (2721, 126) y_train: (2721,)\n",
      "X_val: (583, 126) y_val: (583,)\n",
      "X_test: (584, 126) y_test: (584,)\n"
     ]
    }
   ],
   "execution_count": 49
  },
  {
   "metadata": {
    "ExecuteTime": {
     "end_time": "2025-10-29T15:45:01.537798Z",
     "start_time": "2025-10-29T15:42:39.007605Z"
    }
   },
   "cell_type": "code",
   "source": [
    "# Define the hyperparameter grid\n",
    "param_grid = {\n",
    "    'n_estimators': [50, 70, 100, 200, 300, 400],\n",
    "    'max_depth': [2, 3, 4, 5, 6, 7, 8]\n",
    "}\n",
    "rf_clf = RandomForestClassifier(random_state=42, class_weight='balanced')\n",
    "\n",
    "cv = StratifiedKFold(n_splits=5, shuffle=True, random_state=42)\n",
    "\n",
    "scorer = make_scorer(f1_score, pos_label=1)\n",
    "\n",
    "grid_search = GridSearchCV(estimator=rf_clf, param_grid=param_grid,cv=cv,scoring=scorer,n_jobs=-1,verbose=1)\n",
    "\n",
    "grid_search.fit(X_train, y_train)\n",
    "\n",
    "# Print the best hyperparameters and corresponding score from cross-validation\n",
    "print(\"Best parameters found:\", grid_search.best_params_)\n",
    "print(\"Best F1 score (for positive class) from CV:\", grid_search.best_score_)\n",
    "\n",
    "# Retrieve the best estimator and evaluate on the test data\n",
    "best_rf = grid_search.best_estimator_\n",
    "Y_pred = best_rf.predict(X_train)\n",
    "\n",
    "# Save model\n",
    "joblib.dump(best_rf, '../../models/RandomForestClassifier_model_goes18_xrs_cfe.pkl')\n",
    "\n",
    "# Output the test classification report and confusion matrix\n",
    "print(\"\\nTest Classification Report:\\n\", classification_report(y_train, Y_pred))\n",
    "print(\"Test Confusion Matrix:\\n\", confusion_matrix(y_train, Y_pred))"
   ],
   "id": "4b214b21a0239cc2",
   "outputs": [
    {
     "name": "stdout",
     "output_type": "stream",
     "text": [
      "Fitting 5 folds for each of 42 candidates, totalling 210 fits\n",
      "Best parameters found: {'max_depth': 4, 'n_estimators': 300}\n",
      "Best F1 score (for positive class) from CV: 0.5358550494900873\n",
      "\n",
      "Test Classification Report:\n",
      "               precision    recall  f1-score   support\n",
      "\n",
      "           0       0.90      0.83      0.86      2154\n",
      "           1       0.50      0.65      0.57       567\n",
      "\n",
      "    accuracy                           0.79      2721\n",
      "   macro avg       0.70      0.74      0.72      2721\n",
      "weighted avg       0.82      0.79      0.80      2721\n",
      "\n",
      "Test Confusion Matrix:\n",
      " [[1793  361]\n",
      " [ 199  368]]\n"
     ]
    }
   ],
   "execution_count": 50
  },
  {
   "metadata": {
    "ExecuteTime": {
     "end_time": "2025-10-29T15:45:19.781462Z",
     "start_time": "2025-10-29T15:45:19.688318Z"
    }
   },
   "cell_type": "code",
   "source": [
    "overall_results = []\n",
    "overall_results.append(('training set', TSS(y_train, Y_pred), HSS(y_train, Y_pred),accuracy_score(y_train, Y_pred),precision_score(y_train, Y_pred),f1_score(y_train, Y_pred),recall_score(y_train, Y_pred)))\n",
    "\n",
    "y_val_pred = best_rf.predict(X_val)\n",
    "overall_results.append(('validation set', TSS(y_val, y_val_pred), HSS(y_val, y_val_pred),accuracy_score(y_val, y_val_pred),precision_score(y_val, y_val_pred),f1_score(y_val, y_val_pred),recall_score(y_val, y_val_pred)))\n",
    "\n",
    "y_test_pred = best_rf.predict(X_test)\n",
    "overall_results.append(('testing set', TSS(y_test, y_test_pred), HSS(y_test, y_test_pred),accuracy_score(y_test, y_test_pred),precision_score(y_test, y_test_pred),f1_score(y_test, y_test_pred),recall_score(y_test, y_test_pred)))\n",
    "print(pd.DataFrame(overall_results, columns=[\"Dataset\",  \"TSS\", \"HSS\",\"Accuracy\",\"Precision Score\",\"F1_score\",\"Recall_score\"]))\n"
   ],
   "id": "e090500e906656a0",
   "outputs": [
    {
     "name": "stdout",
     "output_type": "stream",
     "text": [
      "          Dataset       TSS       HSS  Accuracy  Precision Score  F1_score  \\\n",
      "0    training set  0.481435  0.435588  0.794193         0.504801  0.567901   \n",
      "1  validation set  0.423541  0.390641  0.773585         0.487342  0.538462   \n",
      "2     testing set  0.529593  0.466304  0.799658         0.514970  0.595156   \n",
      "\n",
      "   Recall_score  \n",
      "0      0.649030  \n",
      "1      0.601562  \n",
      "2      0.704918  \n"
     ]
    }
   ],
   "execution_count": 51
  },
  {
   "metadata": {
    "ExecuteTime": {
     "end_time": "2025-10-29T15:45:33.312320Z",
     "start_time": "2025-10-29T15:45:33.019266Z"
    }
   },
   "cell_type": "code",
   "source": [
    "feature_importances = best_rf.feature_importances_\n",
    "cont_features = list(combined_df.drop([\"input_filename\",\"label\",\"binary_label\"],axis=1).columns)\n",
    "feature_importance_df = pd.DataFrame({\n",
    "    'Feature': cont_features,\n",
    "    'Importance': feature_importances\n",
    "})\n",
    "feature_importance_df = feature_importance_df.sort_values(by='Importance', ascending=False).head(20)\n",
    "print(feature_importance_df)\n",
    "\n",
    "\n",
    "plt.figure(figsize=(10, 6))\n",
    "plt.barh(feature_importance_df['Feature'], feature_importance_df['Importance'], color='skyblue')\n",
    "plt.xlabel('Importance Score')\n",
    "plt.ylabel('Feature')\n",
    "plt.title('Feature Importance based on Best Random Forest Model')\n",
    "plt.gca().invert_yaxis()  # Invert y-axis to show the most important feature at the top\n",
    "plt.show()"
   ],
   "id": "223c7bdd73abe3af",
   "outputs": [
    {
     "name": "stdout",
     "output_type": "stream",
     "text": [
      "                Feature  Importance\n",
      "125  xrsb[116:120]_mean    0.092562\n",
      "123  xrsb[112:120]_mean    0.083808\n",
      "62   xrsa[116:120]_mean    0.068906\n",
      "119  xrsb[105:120]_mean    0.052068\n",
      "124  xrsb[112:116]_mean    0.051413\n",
      "111   xrsb[90:120]_mean    0.048482\n",
      "60   xrsa[112:120]_mean    0.043314\n",
      "48    xrsa[90:120]_mean    0.038869\n",
      "122  xrsb[108:112]_mean    0.028301\n",
      "61   xrsa[112:116]_mean    0.027441\n",
      "56   xrsa[105:120]_mean    0.025032\n",
      "95    xrsb[60:120]_mean    0.023638\n",
      "120  xrsb[105:112]_mean    0.021560\n",
      "63     xrsb[0:120]_mean    0.020783\n",
      "32    xrsa[60:120]_mean    0.018733\n",
      "59   xrsa[108:112]_mean    0.016961\n",
      "0      xrsa[0:120]_mean    0.016329\n",
      "112   xrsb[90:105]_mean    0.010964\n",
      "105    xrsb[75:82]_mean    0.010135\n",
      "57   xrsa[105:112]_mean    0.010112\n"
     ]
    },
    {
     "data": {
      "text/plain": [
       "<Figure size 1000x600 with 1 Axes>"
      ],
      "image/png": "[encoded data removed]"
     },
     "metadata": {},
     "output_type": "display_data"
    }
   ],
   "execution_count": 52
  },
  {
   "metadata": {},
   "cell_type": "markdown",
   "source": "Creating DiCE Counterfactual Explainers for SEP Prediction",
   "id": "7ecf793fc9f240a3"
  },
  {
   "metadata": {
    "ExecuteTime": {
     "end_time": "2025-10-29T15:45:43.611070Z",
     "start_time": "2025-10-29T15:45:41.904543Z"
    }
   },
   "cell_type": "code",
   "source": [
    "df_cfe=combined_df.drop([\"input_filename\",\"label\",],axis=1)\n",
    "# df_cfe = test_df.drop([\"label\",\"input_filename\"],axis=1)\n",
    "df_cfe['binary_label']=df_cfe['binary_label'].astype(float)\n",
    "# --- Clean continuous features so every column has a visible decimal part ---\n",
    "for col in cont_features:\n",
    "    # Force float, replace inf/nan\n",
    "    df_cfe[col] = pd.to_numeric(df_cfe[col], errors='coerce').fillna(0).astype(float)\n",
    "    # Round and force decimal representation\n",
    "    df_cfe[col] = df_cfe[col].apply(lambda x: float(f\"{x:.10f}\"))\n",
    "print(df_cfe.dtypes)       # all float64\n",
    "print(df_cfe.isna().sum()) # all zeros\n",
    "print(df_cfe.head())\n",
    "print(df_cfe.columns)\n"
   ],
   "id": "10289d8232ced9af",
   "outputs": [
    {
     "name": "stdout",
     "output_type": "stream",
     "text": [
      "xrsa[0:120]_mean      float64\n",
      "xrsa[0:60]_mean       float64\n",
      "xrsa[0:30]_mean       float64\n",
      "xrsa[0:15]_mean       float64\n",
      "xrsa[0:7]_mean        float64\n",
      "                       ...   \n",
      "xrsb[108:112]_mean    float64\n",
      "xrsb[112:120]_mean    float64\n",
      "xrsb[112:116]_mean    float64\n",
      "xrsb[116:120]_mean    float64\n",
      "binary_label          float64\n",
      "Length: 127, dtype: object\n",
      "xrsa[0:120]_mean      0\n",
      "xrsa[0:60]_mean       0\n",
      "xrsa[0:30]_mean       0\n",
      "xrsa[0:15]_mean       0\n",
      "xrsa[0:7]_mean        0\n",
      "                     ..\n",
      "xrsb[108:112]_mean    0\n",
      "xrsb[112:120]_mean    0\n",
      "xrsb[112:116]_mean    0\n",
      "xrsb[116:120]_mean    0\n",
      "binary_label          0\n",
      "Length: 127, dtype: int64\n",
      "   xrsa[0:120]_mean  xrsa[0:60]_mean  xrsa[0:30]_mean  xrsa[0:15]_mean  \\\n",
      "0        -15.954489       -15.657441       -15.424716       -15.259331   \n",
      "1        -17.479659       -17.286852       -17.164607       -17.122758   \n",
      "2        -18.424144       -18.333628       -18.191758       -18.155167   \n",
      "3        -17.975338       -18.256867       -18.558373       -18.108273   \n",
      "4        -14.367647       -13.841311       -15.294633       -14.865567   \n",
      "\n",
      "   xrsa[0:7]_mean  xrsa[0:3]_mean  xrsa[3:7]_mean  xrsa[7:15]_mean  \\\n",
      "0      -15.154179      -15.095318      -15.200715       -15.361385   \n",
      "1      -17.109607      -17.079754      -17.132596       -17.134409   \n",
      "2      -18.158065      -18.109006      -18.196507       -18.152638   \n",
      "3      -17.665172      -17.657160      -17.671223       -18.777387   \n",
      "4      -14.660659      -14.812813      -14.560037       -15.087443   \n",
      "\n",
      "   xrsa[7:11]_mean  xrsa[11:15]_mean  ...  xrsb[97:101]_mean  \\\n",
      "0       -15.312828        -15.412422  ...         -12.537562   \n",
      "1       -17.130846        -17.137985  ...         -13.593764   \n",
      "2       -18.153472        -18.151804  ...         -13.735167   \n",
      "3       -18.484500        -19.193342  ...         -13.714709   \n",
      "4       -14.891167        -15.331891  ...         -13.462045   \n",
      "\n",
      "   xrsb[101:105]_mean  xrsb[105:120]_mean  xrsb[105:112]_mean  \\\n",
      "0          -13.097566          -13.256872          -13.232398   \n",
      "1          -13.588365          -13.580916          -13.610168   \n",
      "2          -13.771999          -13.798231          -13.795368   \n",
      "3          -13.706644          -13.518509          -13.681791   \n",
      "4          -13.558684          -13.674382          -13.630034   \n",
      "\n",
      "   xrsb[105:108]_mean  xrsb[108:112]_mean  xrsb[112:120]_mean  \\\n",
      "0          -13.216176          -13.244740          -13.278789   \n",
      "1          -13.603754          -13.615005          -13.556004   \n",
      "2          -13.776359          -13.809866          -13.800742   \n",
      "3          -13.708568          -13.662169          -13.394685   \n",
      "4          -13.613388          -13.642703          -13.714868   \n",
      "\n",
      "   xrsb[112:116]_mean  xrsb[116:120]_mean  binary_label  \n",
      "0          -13.267233          -13.290480           0.0  \n",
      "1          -13.556630          -13.555379           0.0  \n",
      "2          -13.826758          -13.775386           0.0  \n",
      "3          -13.577933          -13.239873           1.0  \n",
      "4          -13.705760          -13.724059           0.0  \n",
      "\n",
      "[5 rows x 127 columns]\n",
      "Index(['xrsa[0:120]_mean', 'xrsa[0:60]_mean', 'xrsa[0:30]_mean',\n",
      "       'xrsa[0:15]_mean', 'xrsa[0:7]_mean', 'xrsa[0:3]_mean', 'xrsa[3:7]_mean',\n",
      "       'xrsa[7:15]_mean', 'xrsa[7:11]_mean', 'xrsa[11:15]_mean',\n",
      "       ...\n",
      "       'xrsb[97:101]_mean', 'xrsb[101:105]_mean', 'xrsb[105:120]_mean',\n",
      "       'xrsb[105:112]_mean', 'xrsb[105:108]_mean', 'xrsb[108:112]_mean',\n",
      "       'xrsb[112:120]_mean', 'xrsb[112:116]_mean', 'xrsb[116:120]_mean',\n",
      "       'binary_label'],\n",
      "      dtype='object', length=127)\n"
     ]
    }
   ],
   "execution_count": 53
  },
  {
   "metadata": {
    "ExecuteTime": {
     "end_time": "2025-10-29T15:45:57.874060Z",
     "start_time": "2025-10-29T15:45:57.825838Z"
    }
   },
   "cell_type": "code",
   "source": "df_cfe.head()",
   "id": "74e5cde014a20800",
   "outputs": [
    {
     "data": {
      "text/plain": [
       "   xrsa[0:120]_mean  xrsa[0:60]_mean  xrsa[0:30]_mean  xrsa[0:15]_mean  \\\n",
       "0        -15.954489       -15.657441       -15.424716       -15.259331   \n",
       "1        -17.479659       -17.286852       -17.164607       -17.122758   \n",
       "2        -18.424144       -18.333628       -18.191758       -18.155167   \n",
       "3        -17.975338       -18.256867       -18.558373       -18.108273   \n",
       "4        -14.367647       -13.841311       -15.294633       -14.865567   \n",
       "\n",
       "   xrsa[0:7]_mean  xrsa[0:3]_mean  xrsa[3:7]_mean  xrsa[7:15]_mean  \\\n",
       "0      -15.154179      -15.095318      -15.200715       -15.361385   \n",
       "1      -17.109607      -17.079754      -17.132596       -17.134409   \n",
       "2      -18.158065      -18.109006      -18.196507       -18.152638   \n",
       "3      -17.665172      -17.657160      -17.671223       -18.777387   \n",
       "4      -14.660659      -14.812813      -14.560037       -15.087443   \n",
       "\n",
       "   xrsa[7:11]_mean  xrsa[11:15]_mean  ...  xrsb[97:101]_mean  \\\n",
       "0       -15.312828        -15.412422  ...         -12.537562   \n",
       "1       -17.130846        -17.137985  ...         -13.593764   \n",
       "2       -18.153472        -18.151804  ...         -13.735167   \n",
       "3       -18.484500        -19.193342  ...         -13.714709   \n",
       "4       -14.891167        -15.331891  ...         -13.462045   \n",
       "\n",
       "   xrsb[101:105]_mean  xrsb[105:120]_mean  xrsb[105:112]_mean  \\\n",
       "0          -13.097566          -13.256872          -13.232398   \n",
       "1          -13.588365          -13.580916          -13.610168   \n",
       "2          -13.771999          -13.798231          -13.795368   \n",
       "3          -13.706644          -13.518509          -13.681791   \n",
       "4          -13.558684          -13.674382          -13.630034   \n",
       "\n",
       "   xrsb[105:108]_mean  xrsb[108:112]_mean  xrsb[112:120]_mean  \\\n",
       "0          -13.216176          -13.244740          -13.278789   \n",
       "1          -13.603754          -13.615005          -13.556004   \n",
       "2          -13.776359          -13.809866          -13.800742   \n",
       "3          -13.708568          -13.662169          -13.394685   \n",
       "4          -13.613388          -13.642703          -13.714868   \n",
       "\n",
       "   xrsb[112:116]_mean  xrsb[116:120]_mean  binary_label  \n",
       "0          -13.267233          -13.290480           0.0  \n",
       "1          -13.556630          -13.555379           0.0  \n",
       "2          -13.826758          -13.775386           0.0  \n",
       "3          -13.577933          -13.239873           1.0  \n",
       "4          -13.705760          -13.724059           0.0  \n",
       "\n",
       "[5 rows x 127 columns]"
      ],
      "text/html": [
       "<div>\n",
       "<style scoped>\n",
       "    .dataframe tbody tr th:only-of-type {\n",
       "        vertical-align: middle;\n",
       "    }\n",
       "\n",
       "    .dataframe tbody tr th {\n",
       "        vertical-align: top;\n",
       "    }\n",
       "\n",
       "    .dataframe thead th {\n",
       "        text-align: right;\n",
       "    }\n",
       "</style>\n",
       "<table border=\"1\" class=\"dataframe\">\n",
       "  <thead>\n",
       "    <tr style=\"text-align: right;\">\n",
       "      <th></th>\n",
       "      <th>xrsa[0:120]_mean</th>\n",
       "      <th>xrsa[0:60]_mean</th>\n",
       "      <th>xrsa[0:30]_mean</th>\n",
       "      <th>xrsa[0:15]_mean</th>\n",
       "      <th>xrsa[0:7]_mean</th>\n",
       "      <th>xrsa[0:3]_mean</th>\n",
       "      <th>xrsa[3:7]_mean</th>\n",
       "      <th>xrsa[7:15]_mean</th>\n",
       "      <th>xrsa[7:11]_mean</th>\n",
       "      <th>xrsa[11:15]_mean</th>\n",
       "      <th>...</th>\n",
       "      <th>xrsb[97:101]_mean</th>\n",
       "      <th>xrsb[101:105]_mean</th>\n",
       "      <th>xrsb[105:120]_mean</th>\n",
       "      <th>xrsb[105:112]_mean</th>\n",
       "      <th>xrsb[105:108]_mean</th>\n",
       "      <th>xrsb[108:112]_mean</th>\n",
       "      <th>xrsb[112:120]_mean</th>\n",
       "      <th>xrsb[112:116]_mean</th>\n",
       "      <th>xrsb[116:120]_mean</th>\n",
       "      <th>binary_label</th>\n",
       "    </tr>\n",
       "  </thead>\n",
       "  <tbody>\n",
       "    <tr>\n",
       "      <th>0</th>\n",
       "      <td>-15.954489</td>\n",
       "      <td>-15.657441</td>\n",
       "      <td>-15.424716</td>\n",
       "      <td>-15.259331</td>\n",
       "      <td>-15.154179</td>\n",
       "      <td>-15.095318</td>\n",
       "      <td>-15.200715</td>\n",
       "      <td>-15.361385</td>\n",
       "      <td>-15.312828</td>\n",
       "      <td>-15.412422</td>\n",
       "      <td>...</td>\n",
       "      <td>-12.537562</td>\n",
       "      <td>-13.097566</td>\n",
       "      <td>-13.256872</td>\n",
       "      <td>-13.232398</td>\n",
       "      <td>-13.216176</td>\n",
       "      <td>-13.244740</td>\n",
       "      <td>-13.278789</td>\n",
       "      <td>-13.267233</td>\n",
       "      <td>-13.290480</td>\n",
       "      <td>0.0</td>\n",
       "    </tr>\n",
       "    <tr>\n",
       "      <th>1</th>\n",
       "      <td>-17.479659</td>\n",
       "      <td>-17.286852</td>\n",
       "      <td>-17.164607</td>\n",
       "      <td>-17.122758</td>\n",
       "      <td>-17.109607</td>\n",
       "      <td>-17.079754</td>\n",
       "      <td>-17.132596</td>\n",
       "      <td>-17.134409</td>\n",
       "      <td>-17.130846</td>\n",
       "      <td>-17.137985</td>\n",
       "      <td>...</td>\n",
       "      <td>-13.593764</td>\n",
       "      <td>-13.588365</td>\n",
       "      <td>-13.580916</td>\n",
       "      <td>-13.610168</td>\n",
       "      <td>-13.603754</td>\n",
       "      <td>-13.615005</td>\n",
       "      <td>-13.556004</td>\n",
       "      <td>-13.556630</td>\n",
       "      <td>-13.555379</td>\n",
       "      <td>0.0</td>\n",
       "    </tr>\n",
       "    <tr>\n",
       "      <th>2</th>\n",
       "      <td>-18.424144</td>\n",
       "      <td>-18.333628</td>\n",
       "      <td>-18.191758</td>\n",
       "      <td>-18.155167</td>\n",
       "      <td>-18.158065</td>\n",
       "      <td>-18.109006</td>\n",
       "      <td>-18.196507</td>\n",
       "      <td>-18.152638</td>\n",
       "      <td>-18.153472</td>\n",
       "      <td>-18.151804</td>\n",
       "      <td>...</td>\n",
       "      <td>-13.735167</td>\n",
       "      <td>-13.771999</td>\n",
       "      <td>-13.798231</td>\n",
       "      <td>-13.795368</td>\n",
       "      <td>-13.776359</td>\n",
       "      <td>-13.809866</td>\n",
       "      <td>-13.800742</td>\n",
       "      <td>-13.826758</td>\n",
       "      <td>-13.775386</td>\n",
       "      <td>0.0</td>\n",
       "    </tr>\n",
       "    <tr>\n",
       "      <th>3</th>\n",
       "      <td>-17.975338</td>\n",
       "      <td>-18.256867</td>\n",
       "      <td>-18.558373</td>\n",
       "      <td>-18.108273</td>\n",
       "      <td>-17.665172</td>\n",
       "      <td>-17.657160</td>\n",
       "      <td>-17.671223</td>\n",
       "      <td>-18.777387</td>\n",
       "      <td>-18.484500</td>\n",
       "      <td>-19.193342</td>\n",
       "      <td>...</td>\n",
       "      <td>-13.714709</td>\n",
       "      <td>-13.706644</td>\n",
       "      <td>-13.518509</td>\n",
       "      <td>-13.681791</td>\n",
       "      <td>-13.708568</td>\n",
       "      <td>-13.662169</td>\n",
       "      <td>-13.394685</td>\n",
       "      <td>-13.577933</td>\n",
       "      <td>-13.239873</td>\n",
       "      <td>1.0</td>\n",
       "    </tr>\n",
       "    <tr>\n",
       "      <th>4</th>\n",
       "      <td>-14.367647</td>\n",
       "      <td>-13.841311</td>\n",
       "      <td>-15.294633</td>\n",
       "      <td>-14.865567</td>\n",
       "      <td>-14.660659</td>\n",
       "      <td>-14.812813</td>\n",
       "      <td>-14.560037</td>\n",
       "      <td>-15.087443</td>\n",
       "      <td>-14.891167</td>\n",
       "      <td>-15.331891</td>\n",
       "      <td>...</td>\n",
       "      <td>-13.462045</td>\n",
       "      <td>-13.558684</td>\n",
       "      <td>-13.674382</td>\n",
       "      <td>-13.630034</td>\n",
       "      <td>-13.613388</td>\n",
       "      <td>-13.642703</td>\n",
       "      <td>-13.714868</td>\n",
       "      <td>-13.705760</td>\n",
       "      <td>-13.724059</td>\n",
       "      <td>0.0</td>\n",
       "    </tr>\n",
       "  </tbody>\n",
       "</table>\n",
       "<p>5 rows × 127 columns</p>\n",
       "</div>"
      ]
     },
     "execution_count": 54,
     "metadata": {},
     "output_type": "execute_result"
    }
   ],
   "execution_count": 54
  },
  {
   "metadata": {
    "ExecuteTime": {
     "end_time": "2025-10-29T14:11:31.576108200Z",
     "start_time": "2025-10-29T12:55:51.144845Z"
    }
   },
   "cell_type": "code",
   "source": [
    "# import dice_ml.data_interfaces.public_data_interface as pdi\n",
    "#\n",
    "# def safe_get_decimal_precisions(self, output_type=\"dict\"):\n",
    "#     precisions = {}\n",
    "#     for col in self.data_df.columns:\n",
    "#         if self.data_df[col].dtype in [np.float32, np.float64]:\n",
    "#             modes = self.data_df[col].mode()\n",
    "#             if len(modes) == 0:\n",
    "#                 precisions[col] = 6\n",
    "#                 continue\n",
    "#             val_str = str(modes[0])\n",
    "#             precisions[col] = len(val_str.split('.')[1]) if '.' in val_str else 6\n",
    "#         else:\n",
    "#             precisions[col] = 6\n",
    "#     return precisions\n",
    "#\n",
    "# pdi.PublicData.get_decimal_precisions = safe_get_decimal_precisions\n",
    "# print(\"✅ Patched DiCE precision function safely.\")\n"
   ],
   "id": "a98196f888a3b38d",
   "outputs": [],
   "execution_count": 75
  },
  {
   "metadata": {
    "ExecuteTime": {
     "end_time": "2025-10-29T15:46:03.712110Z",
     "start_time": "2025-10-29T15:46:03.568880Z"
    }
   },
   "cell_type": "code",
   "source": [
    "for feat in cont_features:\n",
    "    df_cfe[feat]=df_cfe[feat].astype(float)\n",
    "\n",
    "# Ensure column names are strings to avoid mismatches with DiCE internals\n",
    "# and update cont_features to be string-typed as well\n",
    "df_cfe.columns = df_cfe.columns.map(str)\n",
    "cont_features = [str(c) for c in cont_features]\n",
    "\n",
    "# Create Data object\n",
    "data= dice_ml.Data(dataframe=df_cfe, continuous_features=cont_features, outcome_name=\"binary_label\")"
   ],
   "id": "3fe8a98494af043e",
   "outputs": [],
   "execution_count": 55
  },
  {
   "metadata": {
    "ExecuteTime": {
     "end_time": "2025-10-29T15:46:31.580674Z",
     "start_time": "2025-10-29T15:46:27.579912Z"
    }
   },
   "cell_type": "code",
   "source": [
    "# Create model wrapper\n",
    "cfe_model = dice_ml.Model(\n",
    "    model=best_rf,\n",
    "    backend=\"sklearn\",\n",
    "    model_type='classifier'\n",
    ")\n",
    "exp_genetic = dice_ml.Dice(\n",
    "    data_interface=data,\n",
    "    model_interface=cfe_model,\n",
    "    method=\"genetic\"\n",
    ")\n",
    "joblib.dump(exp_genetic, \"../../models/goes18_xrs_2024_cfe_genetic_explainer.pkl\")\n",
    "print(\"\\nGenetic Dice explainer created successfully.\\n\")\n",
    "\n",
    "\n",
    "exp_random = dice_ml.Dice(\n",
    "    data_interface=data,\n",
    "    model_interface=cfe_model,\n",
    "    method=\"random\"\n",
    ")\n",
    "joblib.dump(exp_random, \"../../models/goes18_xrs_2024_cfe_random_explainer.pkl\")\n",
    "\n",
    "print(\"\\nRandom Dice explainer created successfully.\\n\")"
   ],
   "id": "9270bd073b0a041f",
   "outputs": [
    {
     "name": "stdout",
     "output_type": "stream",
     "text": [
      "\n",
      "Genetic Dice explainer created successfully.\n",
      "\n",
      "\n",
      "Random Dice explainer created successfully.\n",
      "\n"
     ]
    }
   ],
   "execution_count": 56
  },
  {
   "metadata": {
    "ExecuteTime": {
     "end_time": "2025-10-29T15:46:34.605610Z",
     "start_time": "2025-10-29T15:46:34.600389Z"
    }
   },
   "cell_type": "code",
   "source": [
    "def get_filtered_min_max(df, feature_cols):\n",
    "    min_max_dict = {}\n",
    "    for col in feature_cols:\n",
    "        min_val = df[col].min()\n",
    "        max_val = df[col].max()\n",
    "        min_max_dict[col] = [min_val, max_val]\n",
    "    return min_max_dict"
   ],
   "id": "e655c1a66019e07",
   "outputs": [],
   "execution_count": 57
  },
  {
   "metadata": {
    "ExecuteTime": {
     "end_time": "2025-10-29T15:46:52.049714Z",
     "start_time": "2025-10-29T15:46:49.655555Z"
    }
   },
   "cell_type": "code",
   "source": [
    "df = pd.read_csv(\"../../data/processed/goes18_2024_features_labels.csv\")\n",
    "df[cont_features] = df[cont_features].astype(float)\n",
    "min_max_dict = get_filtered_min_max(df, cont_features)\n",
    "print(min_max_dict)"
   ],
   "id": "7ccde8d1be63de4c",
   "outputs": [
    {
     "name": "stdout",
     "output_type": "stream",
     "text": [
      "{'xrsa[0:120]_mean': [-20.722311423377302, -10.19829753019591], 'xrsa[0:60]_mean': [-20.72326583694641, -9.757695305526733], 'xrsa[0:30]_mean': [-20.72326583694641, -9.395494574770362], 'xrsa[0:15]_mean': [-20.72326583694641, -9.805798540156498], 'xrsa[0:7]_mean': [-20.72326583694641, -9.669760139832766], 'xrsa[0:3]_mean': [-20.72326583694641, -9.603535258102298], 'xrsa[3:7]_mean': [-20.72326583694641, -9.72247573641148], 'xrsa[7:15]_mean': [-20.72326583694641, -9.861812500373029], 'xrsa[7:11]_mean': [-20.72326583694641, -9.680611749063171], 'xrsa[11:15]_mean': [-20.72326583694641, -9.98099256039533], 'xrsa[15:30]_mean': [-20.72326583694641, -8.707124474875732], 'xrsa[15:22]_mean': [-20.72326583694641, -8.38143150961164], 'xrsa[15:18]_mean': [-20.72326583694641, -8.69223807751195], 'xrsa[18:22]_mean': [-20.72326583694641, -8.198811426523573], 'xrsa[22:30]_mean': [-20.72326583694641, -9.117903133299766], 'xrsa[22:26]_mean': [-20.72326583694641, -8.837350901607868], 'xrsa[26:30]_mean': [-20.72326583694641, -9.50925927513397], 'xrsa[30:60]_mean': [-20.72326583694641, -9.066524727131435], 'xrsa[30:45]_mean': [-20.72326583694641, -9.238460249100536], 'xrsa[30:37]_mean': [-20.72326583694641, -9.041042590898783], 'xrsa[30:33]_mean': [-20.72326583694641, -9.19161574381299], 'xrsa[33:37]_mean': [-20.72326583694641, -8.941343058742985], 'xrsa[37:45]_mean': [-20.72326583694641, -9.174267949637914], 'xrsa[37:41]_mean': [-20.72326583694641, -9.033131049998405], 'xrsa[41:45]_mean': [-20.72326583694641, -9.33865012966722], 'xrsa[45:60]_mean': [-20.72326583694641, -8.374183197811416], 'xrsa[45:52]_mean': [-20.72326583694641, -8.442657957282018], 'xrsa[45:48]_mean': [-20.72326583694641, -9.514994783172147], 'xrsa[48:52]_mean': [-20.72326583694641, -7.9217458335843265], 'xrsa[52:60]_mean': [-20.72326583694641, -8.31788784068132], 'xrsa[52:56]_mean': [-20.72326583694641, -8.123933146327113], 'xrsa[56:60]_mean': [-20.72326583694641, -8.558738846152897], 'xrsa[60:120]_mean': [-20.72326583694641, -9.646649249109036], 'xrsa[60:90]_mean': [-20.72326583694641, -9.492084879996648], 'xrsa[60:75]_mean': [-20.72326583694641, -9.516123524071103], 'xrsa[60:67]_mean': [-20.72326583694641, -9.274690816325112], 'xrsa[60:63]_mean': [-20.72326583694641, -8.949758089167121], 'xrsa[63:67]_mean': [-20.72326583694641, -9.331556738210066], 'xrsa[67:75]_mean': [-20.72326583694641, -9.255276182531617], 'xrsa[67:71]_mean': [-20.72326583694641, -9.287485276714188], 'xrsa[71:75]_mean': [-20.72326583694641, -9.224072223775636], 'xrsa[75:90]_mean': [-20.72326583694641, -8.807325244398633], 'xrsa[75:82]_mean': [-20.72326583694641, -8.887947095741179], 'xrsa[75:78]_mean': [-20.72326583694641, -9.373140964666725], 'xrsa[78:82]_mean': [-20.72326583694641, -8.606939591537778], 'xrsa[82:90]_mean': [-20.72326583694641, -8.74174789418648], 'xrsa[82:86]_mean': [-20.72326583694641, -8.631578614874376], 'xrsa[86:90]_mean': [-20.72326583694641, -8.865574586391148], 'xrsa[90:120]_mean': [-20.72326583694641, -9.807894761155064], 'xrsa[90:105]_mean': [-20.72326583694641, -9.436472595759394], 'xrsa[90:97]_mean': [-20.72326583694641, -9.17300839190626], 'xrsa[90:93]_mean': [-20.72326583694641, -9.039529897541293], 'xrsa[93:97]_mean': [-20.72326583694641, -9.286286297516533], 'xrsa[97:105]_mean': [-20.72326583694641, -9.730425918044682], 'xrsa[97:101]_mean': [-20.72326583694641, -9.607896158892895], 'xrsa[101:105]_mean': [-20.72326583694641, -9.856176372000194], 'xrsa[105:120]_mean': [-20.72326583694641, -9.53671629209702], 'xrsa[105:112]_mean': [-20.72326583694641, -9.610147129500891], 'xrsa[105:108]_mean': [-20.72326583694641, -9.732522459181004], 'xrsa[108:112]_mean': [-20.72326583694641, -9.527288841257471], 'xrsa[112:120]_mean': [-20.72326583694641, -9.476609788759928], 'xrsa[112:116]_mean': [-20.72326583694641, -9.449442981819626], 'xrsa[116:120]_mean': [-20.72326583694641, -9.504535290374587], 'xrsb[0:120]_mean': [-14.861204675135442, -8.994426817950618], 'xrsb[0:60]_mean': [-14.871421426060222, -8.669702480132662], 'xrsb[0:30]_mean': [-14.871543344953007, -8.214549619595], 'xrsb[0:15]_mean': [-14.871403382406916, -8.1915868106848], 'xrsb[0:7]_mean': [-14.872897431325809, -8.103787370574004], 'xrsb[0:3]_mean': [-14.87720998683285, -8.065576105087612], 'xrsb[3:7]_mean': [-14.869675176026444, -8.133435595746496], 'xrsb[7:15]_mean': [-14.870097918185754, -8.27529237763677], 'xrsb[7:11]_mean': [-14.867376362211663, -8.225851109353496], 'xrsb[11:15]_mean': [-14.875407549641874, -8.32730580697984], 'xrsb[15:30]_mean': [-14.876274894515296, -7.54139119390414], 'xrsb[15:22]_mean': [-14.87542751734816, -7.358521023001534], 'xrsb[15:18]_mean': [-14.877103574103105, -7.791296850150316], 'xrsb[18:22]_mean': [-14.874172315726264, -7.124658662579541], 'xrsb[22:30]_mean': [-14.883246506172233, -7.734461758270262], 'xrsb[22:26]_mean': [-14.880282591835318, -7.54722752625931], 'xrsb[26:30]_mean': [-14.886219231418597, -7.9650198729345565], 'xrsb[30:60]_mean': [-14.872113041039096, -8.226450936789375], 'xrsb[30:45]_mean': [-14.872168362101084, -7.960048410095078], 'xrsb[30:37]_mean': [-14.872245562269232, -7.866592799270385], 'xrsb[30:33]_mean': [-14.88301698927078, -8.03416223539251], 'xrsb[33:37]_mean': [-14.872587290757595, -7.757100408595591], 'xrsb[37:45]_mean': [-14.872100816842565, -8.04966313455478], 'xrsb[37:41]_mean': [-14.875677636026564, -7.918930824891464], 'xrsb[41:45]_mean': [-14.868536745710108, -8.166207711828752], 'xrsb[45:60]_mean': [-14.882216998916418, -7.54295714721612], 'xrsb[45:52]_mean': [-14.879352150629227, -7.813106155740951], 'xrsb[45:48]_mean': [-14.879695874347622, -8.360574944253212], 'xrsb[48:52]_mean': [-14.879094435351538, -7.290743841578383], 'xrsb[52:60]_mean': [-14.887712305648323, -7.354701178647803], 'xrsb[52:56]_mean': [-14.883054344755209, -7.201902451897755], 'xrsb[56:60]_mean': [-14.89239206471576, -7.535133066550672], 'xrsb[60:120]_mean': [-14.863727927438012, -8.356493076822446], 'xrsb[60:90]_mean': [-14.875814756523626, -8.355582017695765], 'xrsb[60:75]_mean': [-15.36945177236964, -8.390935584077525], 'xrsb[60:67]_mean': [-14.886436757989893, -8.085419397476853], 'xrsb[60:63]_mean': [-14.889832744306696, -7.8377615401812335], 'xrsb[63:67]_mean': [-15.695792501678556, -8.32211204180952], 'xrsb[67:75]_mean': [-16.74872043514507, -8.159931131114053], 'xrsb[67:71]_mean': [-17.48065198178585, -8.18509102537334], 'xrsb[71:75]_mean': [-17.071439187598198, -8.049189725226134], 'xrsb[75:90]_mean': [-17.677859501087177, -7.687720006590676], 'xrsb[75:82]_mean': [-17.845335695659713, -7.909466879349443], 'xrsb[75:78]_mean': [-17.85692528865654, -8.057246958234112], 'xrsb[78:82]_mean': [-17.836730804878744, -7.613584740775668], 'xrsb[82:90]_mean': [-17.551290427198673, -7.527284850989799], 'xrsb[82:86]_mean': [-17.79618106149191, -7.46904376572352], 'xrsb[86:90]_mean': [-17.354729190883806, -7.58912888092464], 'xrsb[90:120]_mean': [-14.866607880897265, -8.247785061270156], 'xrsb[90:105]_mean': [-14.871679000664496, -7.980636076344703], 'xrsb[90:97]_mean': [-14.874142291737463, -7.818654648972699], 'xrsb[90:93]_mean': [-14.874421066518062, -7.75191498741188], 'xrsb[93:97]_mean': [-14.873933261640888, -7.871805300621875], 'xrsb[97:105]_mean': [-14.870704000053038, -8.147704873008312], 'xrsb[97:101]_mean': [-14.87495119958667, -8.053158049143446], 'xrsb[101:105]_mean': [-14.87170743667305, -8.252133188718242], 'xrsb[105:120]_mean': [-14.870491133949695, -8.1844250708561], 'xrsb[105:112]_mean': [-14.87247317644444, -8.357039853439357], 'xrsb[105:108]_mean': [-14.87032024254542, -8.413367192527268], 'xrsb[108:112]_mean': [-14.874090924136851, -8.248036595227823], 'xrsb[112:120]_mean': [-14.871933315217106, -8.054519355687587], 'xrsb[112:116]_mean': [-14.87410076715888, -8.075640671255695], 'xrsb[116:120]_mean': [-14.871734875693488, -8.033834938135668]}\n"
     ]
    }
   ],
   "execution_count": 58
  },
  {
   "metadata": {
    "ExecuteTime": {
     "end_time": "2025-10-29T15:46:57.286757Z",
     "start_time": "2025-10-29T15:46:57.272543Z"
    }
   },
   "cell_type": "code",
   "source": [
    "def get_query_instance(query_ts_filename, df_combined_labels, model):\n",
    "    \"\"\"\n",
    "    Retrieve the query instance and its target label for a given filename.\n",
    "\n",
    "    Args:\n",
    "           query_ts_filename (str): The filename identifying the query instance.\n",
    "           df_combined_labels (pd.DataFrame): DataFrame containing labeled data.\n",
    "           model: A trained classifier with a `.predict()` method.\n",
    "\n",
    "    Returns:\n",
    "        Tuple[pd.DataFrame, Any]: The query instance (features only) and its true label.\n",
    "     \"\"\"\n",
    "    query_instance_raw = df_combined_labels[df_combined_labels['input_filename'] == query_ts_filename]\n",
    "    query_instance = query_instance_raw.drop([\"label\", 'input_filename','binary_label'], axis=1)\n",
    "    query_instance = query_instance.fillna(0)\n",
    "    true_label = query_instance_raw[\"binary_label\"].values[0]\n",
    "    predicted_label = model.predict(query_instance)\n",
    "\n",
    "    print(\"Target value for the query instance:\\n\", true_label)\n",
    "    print(\"Predicted value:\\n\", predicted_label)\n",
    "\n",
    "    return query_instance, true_label, predicted_label"
   ],
   "id": "76a0acdbcb46159c",
   "outputs": [],
   "execution_count": 59
  },
  {
   "metadata": {
    "ExecuteTime": {
     "end_time": "2025-10-29T15:47:03.523050Z",
     "start_time": "2025-10-29T15:47:03.305798Z"
    }
   },
   "cell_type": "code",
   "source": [
    "query_ts1_filename ='GOES18_2024_3628_20241029_0800_input.csv'\n",
    "# query_ts1_filename ='GOES18_2024_4390_20241231_2000_input.csv'\n",
    "# query_ts1_filename ='GOES18_2024_0026_20240103_0400_input.csv'\n",
    "query_instance1, target_val1,predicted_val= get_query_instance(query_ts1_filename, df_combined_labels=combined_df, model=best_rf)\n",
    "query_instance1 = query_instance1.astype(float)\n",
    "query_instance1 = query_instance1.fillna(0)\n",
    "print(query_instance1)"
   ],
   "id": "485496ec46d5f518",
   "outputs": [
    {
     "name": "stdout",
     "output_type": "stream",
     "text": [
      "Target value for the query instance:\n",
      " 0\n",
      "Predicted value:\n",
      " [1]\n",
      "      xrsa[0:120]_mean  xrsa[0:60]_mean  xrsa[0:30]_mean  xrsa[0:15]_mean  \\\n",
      "3164        -15.809861       -15.595251       -15.266799       -15.181361   \n",
      "\n",
      "      xrsa[0:7]_mean  xrsa[0:3]_mean  xrsa[3:7]_mean  xrsa[7:15]_mean  \\\n",
      "3164       -15.14522      -15.138745      -15.150103       -15.214092   \n",
      "\n",
      "      xrsa[7:11]_mean  xrsa[11:15]_mean  ...  xrsb[97:105]_mean  \\\n",
      "3164       -15.179784        -15.249619  ...         -12.454402   \n",
      "\n",
      "      xrsb[97:101]_mean  xrsb[101:105]_mean  xrsb[105:120]_mean  \\\n",
      "3164         -12.444616          -12.464286          -12.536816   \n",
      "\n",
      "      xrsb[105:112]_mean  xrsb[105:108]_mean  xrsb[108:112]_mean  \\\n",
      "3164          -12.534076          -12.505876           -12.55576   \n",
      "\n",
      "      xrsb[112:120]_mean  xrsb[112:116]_mean  xrsb[116:120]_mean  \n",
      "3164          -12.539219          -12.558499          -12.520304  \n",
      "\n",
      "[1 rows x 126 columns]\n"
     ]
    }
   ],
   "execution_count": 60
  },
  {
   "metadata": {
    "ExecuteTime": {
     "end_time": "2025-10-29T15:47:22.904474Z",
     "start_time": "2025-10-29T15:47:09.021579Z"
    }
   },
   "cell_type": "code",
   "source": [
    "# Generate counterfactuals\n",
    "cfe_genetic = exp_genetic.generate_counterfactuals(\n",
    "    query_instance1,\n",
    "    total_CFs=4,\n",
    "    permitted_range=min_max_dict,\n",
    "    desired_class=1\n",
    ")\n",
    "cfe_genetic.visualize_as_dataframe(show_only_changes=True)\n",
    "cfe_df_genetic = cfe_genetic.cf_examples_list[0].final_cfs_df"
   ],
   "id": "5c125e1d2aa7268c",
   "outputs": [
    {
     "name": "stderr",
     "output_type": "stream",
     "text": [
      "100%|██████████| 1/1 [00:13<00:00, 13.63s/it]"
     ]
    },
    {
     "name": "stdout",
     "output_type": "stream",
     "text": [
      "Query instance (original outcome : 1)\n"
     ]
    },
    {
     "name": "stderr",
     "output_type": "stream",
     "text": [
      "\n"
     ]
    },
    {
     "data": {
      "text/plain": [
       "   xrsa[0:120]_mean  xrsa[0:60]_mean  xrsa[0:30]_mean  xrsa[0:15]_mean  \\\n",
       "0        -15.809861       -15.595251       -15.266799       -15.181361   \n",
       "\n",
       "   xrsa[0:7]_mean  xrsa[0:3]_mean  xrsa[3:7]_mean  xrsa[7:15]_mean  \\\n",
       "0       -15.14522      -15.138745      -15.150104       -15.214092   \n",
       "\n",
       "   xrsa[7:11]_mean  xrsa[11:15]_mean  ...  xrsb[97:101]_mean  \\\n",
       "0       -15.179785        -15.249619  ...         -12.444615   \n",
       "\n",
       "   xrsb[101:105]_mean  xrsb[105:120]_mean  xrsb[105:112]_mean  \\\n",
       "0          -12.464286          -12.536816          -12.534076   \n",
       "\n",
       "   xrsb[105:108]_mean  xrsb[108:112]_mean  xrsb[112:120]_mean  \\\n",
       "0          -12.505877           -12.55576          -12.539219   \n",
       "\n",
       "   xrsb[112:116]_mean  xrsb[116:120]_mean  binary_label  \n",
       "0          -12.558499          -12.520305             1  \n",
       "\n",
       "[1 rows x 127 columns]"
      ],
      "text/html": [
       "<div>\n",
       "<style scoped>\n",
       "    .dataframe tbody tr th:only-of-type {\n",
       "        vertical-align: middle;\n",
       "    }\n",
       "\n",
       "    .dataframe tbody tr th {\n",
       "        vertical-align: top;\n",
       "    }\n",
       "\n",
       "    .dataframe thead th {\n",
       "        text-align: right;\n",
       "    }\n",
       "</style>\n",
       "<table border=\"1\" class=\"dataframe\">\n",
       "  <thead>\n",
       "    <tr style=\"text-align: right;\">\n",
       "      <th></th>\n",
       "      <th>xrsa[0:120]_mean</th>\n",
       "      <th>xrsa[0:60]_mean</th>\n",
       "      <th>xrsa[0:30]_mean</th>\n",
       "      <th>xrsa[0:15]_mean</th>\n",
       "      <th>xrsa[0:7]_mean</th>\n",
       "      <th>xrsa[0:3]_mean</th>\n",
       "      <th>xrsa[3:7]_mean</th>\n",
       "      <th>xrsa[7:15]_mean</th>\n",
       "      <th>xrsa[7:11]_mean</th>\n",
       "      <th>xrsa[11:15]_mean</th>\n",
       "      <th>...</th>\n",
       "      <th>xrsb[97:101]_mean</th>\n",
       "      <th>xrsb[101:105]_mean</th>\n",
       "      <th>xrsb[105:120]_mean</th>\n",
       "      <th>xrsb[105:112]_mean</th>\n",
       "      <th>xrsb[105:108]_mean</th>\n",
       "      <th>xrsb[108:112]_mean</th>\n",
       "      <th>xrsb[112:120]_mean</th>\n",
       "      <th>xrsb[112:116]_mean</th>\n",
       "      <th>xrsb[116:120]_mean</th>\n",
       "      <th>binary_label</th>\n",
       "    </tr>\n",
       "  </thead>\n",
       "  <tbody>\n",
       "    <tr>\n",
       "      <th>0</th>\n",
       "      <td>-15.809861</td>\n",
       "      <td>-15.595251</td>\n",
       "      <td>-15.266799</td>\n",
       "      <td>-15.181361</td>\n",
       "      <td>-15.14522</td>\n",
       "      <td>-15.138745</td>\n",
       "      <td>-15.150104</td>\n",
       "      <td>-15.214092</td>\n",
       "      <td>-15.179785</td>\n",
       "      <td>-15.249619</td>\n",
       "      <td>...</td>\n",
       "      <td>-12.444615</td>\n",
       "      <td>-12.464286</td>\n",
       "      <td>-12.536816</td>\n",
       "      <td>-12.534076</td>\n",
       "      <td>-12.505877</td>\n",
       "      <td>-12.55576</td>\n",
       "      <td>-12.539219</td>\n",
       "      <td>-12.558499</td>\n",
       "      <td>-12.520305</td>\n",
       "      <td>1</td>\n",
       "    </tr>\n",
       "  </tbody>\n",
       "</table>\n",
       "<p>1 rows × 127 columns</p>\n",
       "</div>"
      ]
     },
     "metadata": {},
     "output_type": "display_data"
    },
    {
     "name": "stdout",
     "output_type": "stream",
     "text": [
      "\n",
      "Diverse Counterfactual set (new outcome: 1)\n"
     ]
    },
    {
     "data": {
      "text/plain": [
       "      xrsa[0:120]_mean    xrsa[0:60]_mean    xrsa[0:30]_mean  \\\n",
       "0                    -                  -                  -   \n",
       "0  -16.041629791259766  -15.8117504119873  -15.5909652709961   \n",
       "\n",
       "     xrsa[0:15]_mean     xrsa[0:7]_mean     xrsa[0:3]_mean     xrsa[3:7]_mean  \\\n",
       "0                  -                  -                  -                  -   \n",
       "0  -15.6088275909424  -15.7759866714478  -15.9724197387695  -15.6504487991333   \n",
       "\n",
       "     xrsa[7:15]_mean    xrsa[7:11]_mean   xrsa[11:15]_mean  ...  \\\n",
       "0                  -                  -                  -  ...   \n",
       "0  -15.4824647903442  -15.4946403503418  -15.4704360961914  ...   \n",
       "\n",
       "  xrsb[97:101]_mean   xrsb[101:105]_mean   xrsb[105:120]_mean  \\\n",
       "0                 -                    -                    -   \n",
       "0                 -  -12.398199081420898  -12.359607696533203   \n",
       "\n",
       "  xrsb[105:112]_mean   xrsb[105:108]_mean  xrsb[108:112]_mean  \\\n",
       "0                  -                    -                   -   \n",
       "0  -12.3513298034668  -12.341808319091797  -12.35853099822998   \n",
       "\n",
       "    xrsb[112:120]_mean   xrsb[112:116]_mean   xrsb[116:120]_mean binary_label  \n",
       "0                    -                    -                    -            -  \n",
       "0  -12.366907119750977  -12.393048286437988  -12.341431617736816            -  \n",
       "\n",
       "[2 rows x 127 columns]"
      ],
      "text/html": [
       "<div>\n",
       "<style scoped>\n",
       "    .dataframe tbody tr th:only-of-type {\n",
       "        vertical-align: middle;\n",
       "    }\n",
       "\n",
       "    .dataframe tbody tr th {\n",
       "        vertical-align: top;\n",
       "    }\n",
       "\n",
       "    .dataframe thead th {\n",
       "        text-align: right;\n",
       "    }\n",
       "</style>\n",
       "<table border=\"1\" class=\"dataframe\">\n",
       "  <thead>\n",
       "    <tr style=\"text-align: right;\">\n",
       "      <th></th>\n",
       "      <th>xrsa[0:120]_mean</th>\n",
       "      <th>xrsa[0:60]_mean</th>\n",
       "      <th>xrsa[0:30]_mean</th>\n",
       "      <th>xrsa[0:15]_mean</th>\n",
       "      <th>xrsa[0:7]_mean</th>\n",
       "      <th>xrsa[0:3]_mean</th>\n",
       "      <th>xrsa[3:7]_mean</th>\n",
       "      <th>xrsa[7:15]_mean</th>\n",
       "      <th>xrsa[7:11]_mean</th>\n",
       "      <th>xrsa[11:15]_mean</th>\n",
       "      <th>...</th>\n",
       "      <th>xrsb[97:101]_mean</th>\n",
       "      <th>xrsb[101:105]_mean</th>\n",
       "      <th>xrsb[105:120]_mean</th>\n",
       "      <th>xrsb[105:112]_mean</th>\n",
       "      <th>xrsb[105:108]_mean</th>\n",
       "      <th>xrsb[108:112]_mean</th>\n",
       "      <th>xrsb[112:120]_mean</th>\n",
       "      <th>xrsb[112:116]_mean</th>\n",
       "      <th>xrsb[116:120]_mean</th>\n",
       "      <th>binary_label</th>\n",
       "    </tr>\n",
       "  </thead>\n",
       "  <tbody>\n",
       "    <tr>\n",
       "      <th>0</th>\n",
       "      <td>-</td>\n",
       "      <td>-</td>\n",
       "      <td>-</td>\n",
       "      <td>-</td>\n",
       "      <td>-</td>\n",
       "      <td>-</td>\n",
       "      <td>-</td>\n",
       "      <td>-</td>\n",
       "      <td>-</td>\n",
       "      <td>-</td>\n",
       "      <td>...</td>\n",
       "      <td>-</td>\n",
       "      <td>-</td>\n",
       "      <td>-</td>\n",
       "      <td>-</td>\n",
       "      <td>-</td>\n",
       "      <td>-</td>\n",
       "      <td>-</td>\n",
       "      <td>-</td>\n",
       "      <td>-</td>\n",
       "      <td>-</td>\n",
       "    </tr>\n",
       "    <tr>\n",
       "      <th>0</th>\n",
       "      <td>-16.041629791259766</td>\n",
       "      <td>-15.8117504119873</td>\n",
       "      <td>-15.5909652709961</td>\n",
       "      <td>-15.6088275909424</td>\n",
       "      <td>-15.7759866714478</td>\n",
       "      <td>-15.9724197387695</td>\n",
       "      <td>-15.6504487991333</td>\n",
       "      <td>-15.4824647903442</td>\n",
       "      <td>-15.4946403503418</td>\n",
       "      <td>-15.4704360961914</td>\n",
       "      <td>...</td>\n",
       "      <td>-</td>\n",
       "      <td>-12.398199081420898</td>\n",
       "      <td>-12.359607696533203</td>\n",
       "      <td>-12.3513298034668</td>\n",
       "      <td>-12.341808319091797</td>\n",
       "      <td>-12.35853099822998</td>\n",
       "      <td>-12.366907119750977</td>\n",
       "      <td>-12.393048286437988</td>\n",
       "      <td>-12.341431617736816</td>\n",
       "      <td>-</td>\n",
       "    </tr>\n",
       "  </tbody>\n",
       "</table>\n",
       "<p>2 rows × 127 columns</p>\n",
       "</div>"
      ]
     },
     "metadata": {},
     "output_type": "display_data"
    }
   ],
   "execution_count": 61
  },
  {
   "metadata": {
    "ExecuteTime": {
     "end_time": "2025-10-29T15:51:21.350780Z",
     "start_time": "2025-10-29T15:51:21.330388Z"
    }
   },
   "cell_type": "code",
   "outputs": [
    {
     "name": "stdout",
     "output_type": "stream",
     "text": [
      "Target value for the query instance:\n",
      " 1\n",
      "Predicted value:\n",
      " [1]\n",
      "      xrsa[0:120]_mean  xrsa[0:60]_mean  xrsa[0:30]_mean  xrsa[0:15]_mean  \\\n",
      "3887        -14.466676       -16.990677       -17.019777        -16.86546   \n",
      "\n",
      "      xrsa[0:7]_mean  xrsa[0:3]_mean  xrsa[3:7]_mean  xrsa[7:15]_mean  \\\n",
      "3887      -16.813838      -16.812684      -16.814704       -16.912924   \n",
      "\n",
      "      xrsa[7:11]_mean  xrsa[11:15]_mean  ...  xrsb[97:105]_mean  \\\n",
      "3887       -16.859874        -16.968948  ...          -10.97994   \n",
      "\n",
      "      xrsb[97:101]_mean  xrsb[101:105]_mean  xrsb[105:120]_mean  \\\n",
      "3887         -11.075783          -10.892485          -10.809067   \n",
      "\n",
      "      xrsb[105:112]_mean  xrsb[105:108]_mean  xrsb[108:112]_mean  \\\n",
      "3887          -10.796345           -10.81125           -10.78531   \n",
      "\n",
      "      xrsb[112:120]_mean  xrsb[112:116]_mean  xrsb[116:120]_mean  \n",
      "3887          -10.820333           -10.79808          -10.843092  \n",
      "\n",
      "[1 rows x 126 columns]\n"
     ]
    }
   ],
   "execution_count": 62,
   "source": [
    "query_ts2_filename ='GOES18_2024_4390_20241231_2000_input.csv'\n",
    "# query_ts1_filename ='GOES18_2024_0026_20240103_0400_input.csv'\n",
    "query_instance2, target_val2,predicted_val= get_query_instance(query_ts2_filename, df_combined_labels=combined_df, model=best_rf)\n",
    "query_instance2 = query_instance2.astype(float)\n",
    "query_instance2 = query_instance2.fillna(0)\n",
    "print(query_instance2)"
   ],
   "id": "29b8159f10d58f06"
  },
  {
   "metadata": {
    "ExecuteTime": {
     "end_time": "2025-10-29T16:01:11.311070Z",
     "start_time": "2025-10-29T16:01:11.288364Z"
    }
   },
   "cell_type": "code",
   "source": "combined_df[combined_df['input_filename'] == query_ts2_filename]",
   "id": "10f6894abc8f5d4a",
   "outputs": [
    {
     "data": {
      "text/plain": [
       "                                input_filename  xrsa[0:120]_mean  \\\n",
       "3887  GOES18_2024_4390_20241231_2000_input.csv        -14.466676   \n",
       "\n",
       "      xrsa[0:60]_mean  xrsa[0:30]_mean  xrsa[0:15]_mean  xrsa[0:7]_mean  \\\n",
       "3887       -16.990677       -17.019777        -16.86546      -16.813838   \n",
       "\n",
       "      xrsa[0:3]_mean  xrsa[3:7]_mean  xrsa[7:15]_mean  xrsa[7:11]_mean  ...  \\\n",
       "3887      -16.812684      -16.814704       -16.912924       -16.859874  ...   \n",
       "\n",
       "      xrsb[101:105]_mean  xrsb[105:120]_mean  xrsb[105:112]_mean  \\\n",
       "3887          -10.892485          -10.809067          -10.796345   \n",
       "\n",
       "      xrsb[105:108]_mean  xrsb[108:112]_mean  xrsb[112:120]_mean  \\\n",
       "3887           -10.81125           -10.78531          -10.820333   \n",
       "\n",
       "      xrsb[112:116]_mean  xrsb[116:120]_mean  label  binary_label  \n",
       "3887           -10.79808          -10.843092      M             1  \n",
       "\n",
       "[1 rows x 129 columns]"
      ],
      "text/html": [
       "<div>\n",
       "<style scoped>\n",
       "    .dataframe tbody tr th:only-of-type {\n",
       "        vertical-align: middle;\n",
       "    }\n",
       "\n",
       "    .dataframe tbody tr th {\n",
       "        vertical-align: top;\n",
       "    }\n",
       "\n",
       "    .dataframe thead th {\n",
       "        text-align: right;\n",
       "    }\n",
       "</style>\n",
       "<table border=\"1\" class=\"dataframe\">\n",
       "  <thead>\n",
       "    <tr style=\"text-align: right;\">\n",
       "      <th></th>\n",
       "      <th>input_filename</th>\n",
       "      <th>xrsa[0:120]_mean</th>\n",
       "      <th>xrsa[0:60]_mean</th>\n",
       "      <th>xrsa[0:30]_mean</th>\n",
       "      <th>xrsa[0:15]_mean</th>\n",
       "      <th>xrsa[0:7]_mean</th>\n",
       "      <th>xrsa[0:3]_mean</th>\n",
       "      <th>xrsa[3:7]_mean</th>\n",
       "      <th>xrsa[7:15]_mean</th>\n",
       "      <th>xrsa[7:11]_mean</th>\n",
       "      <th>...</th>\n",
       "      <th>xrsb[101:105]_mean</th>\n",
       "      <th>xrsb[105:120]_mean</th>\n",
       "      <th>xrsb[105:112]_mean</th>\n",
       "      <th>xrsb[105:108]_mean</th>\n",
       "      <th>xrsb[108:112]_mean</th>\n",
       "      <th>xrsb[112:120]_mean</th>\n",
       "      <th>xrsb[112:116]_mean</th>\n",
       "      <th>xrsb[116:120]_mean</th>\n",
       "      <th>label</th>\n",
       "      <th>binary_label</th>\n",
       "    </tr>\n",
       "  </thead>\n",
       "  <tbody>\n",
       "    <tr>\n",
       "      <th>3887</th>\n",
       "      <td>GOES18_2024_4390_20241231_2000_input.csv</td>\n",
       "      <td>-14.466676</td>\n",
       "      <td>-16.990677</td>\n",
       "      <td>-17.019777</td>\n",
       "      <td>-16.86546</td>\n",
       "      <td>-16.813838</td>\n",
       "      <td>-16.812684</td>\n",
       "      <td>-16.814704</td>\n",
       "      <td>-16.912924</td>\n",
       "      <td>-16.859874</td>\n",
       "      <td>...</td>\n",
       "      <td>-10.892485</td>\n",
       "      <td>-10.809067</td>\n",
       "      <td>-10.796345</td>\n",
       "      <td>-10.81125</td>\n",
       "      <td>-10.78531</td>\n",
       "      <td>-10.820333</td>\n",
       "      <td>-10.79808</td>\n",
       "      <td>-10.843092</td>\n",
       "      <td>M</td>\n",
       "      <td>1</td>\n",
       "    </tr>\n",
       "  </tbody>\n",
       "</table>\n",
       "<p>1 rows × 129 columns</p>\n",
       "</div>"
      ]
     },
     "execution_count": 66,
     "metadata": {},
     "output_type": "execute_result"
    }
   ],
   "execution_count": 66
  },
  {
   "metadata": {
    "ExecuteTime": {
     "end_time": "2025-10-29T15:52:21.006955Z",
     "start_time": "2025-10-29T15:52:20.484973Z"
    }
   },
   "cell_type": "code",
   "source": [
    "# Generate counterfactuals\n",
    "cfe_genetic2 = exp_genetic.generate_counterfactuals(\n",
    "    query_instance2,\n",
    "    total_CFs=1,\n",
    "    permitted_range=min_max_dict,\n",
    "    desired_class=0\n",
    ")\n",
    "cfe_genetic2.visualize_as_dataframe(show_only_changes=True)\n",
    "cfe_df_genetic2 = cfe_genetic2.cf_examples_list[0].final_cfs_df"
   ],
   "id": "29a19a1e52c2cb85",
   "outputs": [
    {
     "name": "stderr",
     "output_type": "stream",
     "text": [
      "100%|██████████| 1/1 [00:00<00:00,  2.12it/s]"
     ]
    },
    {
     "name": "stdout",
     "output_type": "stream",
     "text": [
      "Query instance (original outcome : 1)\n"
     ]
    },
    {
     "name": "stderr",
     "output_type": "stream",
     "text": [
      "\n"
     ]
    },
    {
     "data": {
      "text/plain": [
       "   xrsa[0:120]_mean  xrsa[0:60]_mean  xrsa[0:30]_mean  xrsa[0:15]_mean  \\\n",
       "0        -14.466677       -16.990677       -17.019777       -16.865459   \n",
       "\n",
       "   xrsa[0:7]_mean  xrsa[0:3]_mean  xrsa[3:7]_mean  xrsa[7:15]_mean  \\\n",
       "0      -16.813837      -16.812683      -16.814705       -16.912924   \n",
       "\n",
       "   xrsa[7:11]_mean  xrsa[11:15]_mean  ...  xrsb[97:101]_mean  \\\n",
       "0       -16.859873        -16.968948  ...         -11.075783   \n",
       "\n",
       "   xrsb[101:105]_mean  xrsb[105:120]_mean  xrsb[105:112]_mean  \\\n",
       "0          -10.892486          -10.809067          -10.796345   \n",
       "\n",
       "   xrsb[105:108]_mean  xrsb[108:112]_mean  xrsb[112:120]_mean  \\\n",
       "0           -10.81125           -10.78531          -10.820333   \n",
       "\n",
       "   xrsb[112:116]_mean  xrsb[116:120]_mean  binary_label  \n",
       "0           -10.79808          -10.843092             1  \n",
       "\n",
       "[1 rows x 127 columns]"
      ],
      "text/html": [
       "<div>\n",
       "<style scoped>\n",
       "    .dataframe tbody tr th:only-of-type {\n",
       "        vertical-align: middle;\n",
       "    }\n",
       "\n",
       "    .dataframe tbody tr th {\n",
       "        vertical-align: top;\n",
       "    }\n",
       "\n",
       "    .dataframe thead th {\n",
       "        text-align: right;\n",
       "    }\n",
       "</style>\n",
       "<table border=\"1\" class=\"dataframe\">\n",
       "  <thead>\n",
       "    <tr style=\"text-align: right;\">\n",
       "      <th></th>\n",
       "      <th>xrsa[0:120]_mean</th>\n",
       "      <th>xrsa[0:60]_mean</th>\n",
       "      <th>xrsa[0:30]_mean</th>\n",
       "      <th>xrsa[0:15]_mean</th>\n",
       "      <th>xrsa[0:7]_mean</th>\n",
       "      <th>xrsa[0:3]_mean</th>\n",
       "      <th>xrsa[3:7]_mean</th>\n",
       "      <th>xrsa[7:15]_mean</th>\n",
       "      <th>xrsa[7:11]_mean</th>\n",
       "      <th>xrsa[11:15]_mean</th>\n",
       "      <th>...</th>\n",
       "      <th>xrsb[97:101]_mean</th>\n",
       "      <th>xrsb[101:105]_mean</th>\n",
       "      <th>xrsb[105:120]_mean</th>\n",
       "      <th>xrsb[105:112]_mean</th>\n",
       "      <th>xrsb[105:108]_mean</th>\n",
       "      <th>xrsb[108:112]_mean</th>\n",
       "      <th>xrsb[112:120]_mean</th>\n",
       "      <th>xrsb[112:116]_mean</th>\n",
       "      <th>xrsb[116:120]_mean</th>\n",
       "      <th>binary_label</th>\n",
       "    </tr>\n",
       "  </thead>\n",
       "  <tbody>\n",
       "    <tr>\n",
       "      <th>0</th>\n",
       "      <td>-14.466677</td>\n",
       "      <td>-16.990677</td>\n",
       "      <td>-17.019777</td>\n",
       "      <td>-16.865459</td>\n",
       "      <td>-16.813837</td>\n",
       "      <td>-16.812683</td>\n",
       "      <td>-16.814705</td>\n",
       "      <td>-16.912924</td>\n",
       "      <td>-16.859873</td>\n",
       "      <td>-16.968948</td>\n",
       "      <td>...</td>\n",
       "      <td>-11.075783</td>\n",
       "      <td>-10.892486</td>\n",
       "      <td>-10.809067</td>\n",
       "      <td>-10.796345</td>\n",
       "      <td>-10.81125</td>\n",
       "      <td>-10.78531</td>\n",
       "      <td>-10.820333</td>\n",
       "      <td>-10.79808</td>\n",
       "      <td>-10.843092</td>\n",
       "      <td>1</td>\n",
       "    </tr>\n",
       "  </tbody>\n",
       "</table>\n",
       "<p>1 rows × 127 columns</p>\n",
       "</div>"
      ]
     },
     "metadata": {},
     "output_type": "display_data"
    },
    {
     "name": "stdout",
     "output_type": "stream",
     "text": [
      "\n",
      "Diverse Counterfactual set (new outcome: 0)\n"
     ]
    },
    {
     "data": {
      "text/plain": [
       "      xrsa[0:120]_mean    xrsa[0:60]_mean    xrsa[0:30]_mean  \\\n",
       "0  -15.582466125488281  -17.3033351898193  -17.3304538726807   \n",
       "\n",
       "     xrsa[0:15]_mean     xrsa[0:7]_mean     xrsa[0:3]_mean     xrsa[3:7]_mean  \\\n",
       "0  -17.2890892028809  -17.2100620269775  -17.1724586486816  -17.2392234802246   \n",
       "\n",
       "     xrsa[7:15]_mean    xrsa[7:11]_mean   xrsa[11:15]_mean  ...  \\\n",
       "0  -17.3637638092041  -17.3324546813965  -17.3960819244385  ...   \n",
       "\n",
       "     xrsb[97:101]_mean   xrsb[101:105]_mean   xrsb[105:120]_mean  \\\n",
       "0  -12.234378814697266  -12.312114715576172  -12.066014289855959   \n",
       "\n",
       "   xrsb[105:112]_mean  xrsb[105:108]_mean   xrsb[108:112]_mean  \\\n",
       "0  -11.85530090332031  -11.81198501586914  -11.889065742492676   \n",
       "\n",
       "    xrsb[112:120]_mean   xrsb[112:116]_mean   xrsb[116:120]_mean binary_label  \n",
       "0  -12.295727729797363  -12.204813957214355  -12.395740509033203          0.0  \n",
       "\n",
       "[1 rows x 127 columns]"
      ],
      "text/html": [
       "<div>\n",
       "<style scoped>\n",
       "    .dataframe tbody tr th:only-of-type {\n",
       "        vertical-align: middle;\n",
       "    }\n",
       "\n",
       "    .dataframe tbody tr th {\n",
       "        vertical-align: top;\n",
       "    }\n",
       "\n",
       "    .dataframe thead th {\n",
       "        text-align: right;\n",
       "    }\n",
       "</style>\n",
       "<table border=\"1\" class=\"dataframe\">\n",
       "  <thead>\n",
       "    <tr style=\"text-align: right;\">\n",
       "      <th></th>\n",
       "      <th>xrsa[0:120]_mean</th>\n",
       "      <th>xrsa[0:60]_mean</th>\n",
       "      <th>xrsa[0:30]_mean</th>\n",
       "      <th>xrsa[0:15]_mean</th>\n",
       "      <th>xrsa[0:7]_mean</th>\n",
       "      <th>xrsa[0:3]_mean</th>\n",
       "      <th>xrsa[3:7]_mean</th>\n",
       "      <th>xrsa[7:15]_mean</th>\n",
       "      <th>xrsa[7:11]_mean</th>\n",
       "      <th>xrsa[11:15]_mean</th>\n",
       "      <th>...</th>\n",
       "      <th>xrsb[97:101]_mean</th>\n",
       "      <th>xrsb[101:105]_mean</th>\n",
       "      <th>xrsb[105:120]_mean</th>\n",
       "      <th>xrsb[105:112]_mean</th>\n",
       "      <th>xrsb[105:108]_mean</th>\n",
       "      <th>xrsb[108:112]_mean</th>\n",
       "      <th>xrsb[112:120]_mean</th>\n",
       "      <th>xrsb[112:116]_mean</th>\n",
       "      <th>xrsb[116:120]_mean</th>\n",
       "      <th>binary_label</th>\n",
       "    </tr>\n",
       "  </thead>\n",
       "  <tbody>\n",
       "    <tr>\n",
       "      <th>0</th>\n",
       "      <td>-15.582466125488281</td>\n",
       "      <td>-17.3033351898193</td>\n",
       "      <td>-17.3304538726807</td>\n",
       "      <td>-17.2890892028809</td>\n",
       "      <td>-17.2100620269775</td>\n",
       "      <td>-17.1724586486816</td>\n",
       "      <td>-17.2392234802246</td>\n",
       "      <td>-17.3637638092041</td>\n",
       "      <td>-17.3324546813965</td>\n",
       "      <td>-17.3960819244385</td>\n",
       "      <td>...</td>\n",
       "      <td>-12.234378814697266</td>\n",
       "      <td>-12.312114715576172</td>\n",
       "      <td>-12.066014289855959</td>\n",
       "      <td>-11.85530090332031</td>\n",
       "      <td>-11.81198501586914</td>\n",
       "      <td>-11.889065742492676</td>\n",
       "      <td>-12.295727729797363</td>\n",
       "      <td>-12.204813957214355</td>\n",
       "      <td>-12.395740509033203</td>\n",
       "      <td>0.0</td>\n",
       "    </tr>\n",
       "  </tbody>\n",
       "</table>\n",
       "<p>1 rows × 127 columns</p>\n",
       "</div>"
      ]
     },
     "metadata": {},
     "output_type": "display_data"
    }
   ],
   "execution_count": 64
  },
  {
   "metadata": {
    "ExecuteTime": {
     "end_time": "2025-10-29T16:12:14.164216Z",
     "start_time": "2025-10-29T16:12:14.066853Z"
    }
   },
   "cell_type": "code",
   "source": [
    "import re\n",
    "def process_header_list(header_list):\n",
    "    \"\"\"\n",
    "    Given a list of column names (e.g. from df.columns.to_list()),\n",
    "    extract columns matching the pattern:\n",
    "       <metric>@[<start>:<end>]\n",
    "    where <metric> is one of: p3_flux_ic_mean, p5_flux_ic_mean, p7_flux_ic_mean, long_mean.\n",
    "\n",
    "    Returns a list of tuples:\n",
    "         (metric, slice_str, start, end)\n",
    "    \"\"\"\n",
    "    pattern = r'^(xrsa|xrsb)\\[(\\d+:\\d+)\\]_mean$'\n",
    "    result = []\n",
    "    for col in header_list:\n",
    "        m = re.match(pattern, col)\n",
    "        if m:\n",
    "            metric = m.group(1)\n",
    "            slice_str = m.group(2)\n",
    "            start, end = map(int, slice_str.split(':'))\n",
    "            result.append((metric, slice_str, start, end))\n",
    "    return result\n",
    "\n",
    "header_list = combined_df.columns.astype(str).str.cat(sep=\"\\t\").split()\n",
    "# Process the header list to extract (metric, slice, start, end)\n",
    "entries = process_header_list(header_list)\n",
    "# Group entries by metric.\n",
    "groups = {}\n",
    "for metric, slice_str, start, end in entries:\n",
    "    groups.setdefault(metric, []).append((slice_str, start, end))\n",
    "# Sort each group by slice start and then end.\n",
    "for metric in groups:\n",
    "    groups[metric] = sorted(groups[metric], key=lambda x: (x[1], x[2]))\n",
    "df_slices = pd.DataFrame(groups)\n",
    "print(df_slices)\n",
    "\n"
   ],
   "id": "9cbd9921c476acfd",
   "outputs": [
    {
     "name": "stdout",
     "output_type": "stream",
     "text": [
      "                   xrsa                 xrsb\n",
      "0           (0:3, 0, 3)          (0:3, 0, 3)\n",
      "1           (0:7, 0, 7)          (0:7, 0, 7)\n",
      "2         (0:15, 0, 15)        (0:15, 0, 15)\n",
      "3         (0:30, 0, 30)        (0:30, 0, 30)\n",
      "4         (0:60, 0, 60)        (0:60, 0, 60)\n",
      "..                  ...                  ...\n",
      "58  (105:120, 105, 120)  (105:120, 105, 120)\n",
      "59  (108:112, 108, 112)  (108:112, 108, 112)\n",
      "60  (112:116, 112, 116)  (112:116, 112, 116)\n",
      "61  (112:120, 112, 120)  (112:120, 112, 120)\n",
      "62  (116:120, 116, 120)  (116:120, 116, 120)\n",
      "\n",
      "[63 rows x 2 columns]\n"
     ]
    }
   ],
   "execution_count": 70
  },
  {
   "metadata": {
    "ExecuteTime": {
     "end_time": "2025-10-29T16:13:22.548692Z",
     "start_time": "2025-10-29T16:13:22.542216Z"
    }
   },
   "cell_type": "code",
   "source": [
    "def extract_values(column_name):\n",
    "    extracted_list = []\n",
    "    for cell in df_slices[column_name]:\n",
    "        extracted_list.append((cell[1], cell[2]))  # Extract 2nd and 3rd values\n",
    "    return extracted_list\n",
    "\n",
    "# Extracting for a specific column\n",
    "slices = extract_values(\"xrsa\")\n",
    "print(slices)"
   ],
   "id": "6f55b8b5047d49ce",
   "outputs": [
    {
     "name": "stdout",
     "output_type": "stream",
     "text": [
      "[(0, 3), (0, 7), (0, 15), (0, 30), (0, 60), (0, 120), (3, 7), (7, 11), (7, 15), (11, 15), (15, 18), (15, 22), (15, 30), (18, 22), (22, 26), (22, 30), (26, 30), (30, 33), (30, 37), (30, 45), (30, 60), (33, 37), (37, 41), (37, 45), (41, 45), (45, 48), (45, 52), (45, 60), (48, 52), (52, 56), (52, 60), (56, 60), (60, 63), (60, 67), (60, 75), (60, 90), (60, 120), (63, 67), (67, 71), (67, 75), (71, 75), (75, 78), (75, 82), (75, 90), (78, 82), (82, 86), (82, 90), (86, 90), (90, 93), (90, 97), (90, 105), (90, 120), (93, 97), (97, 101), (97, 105), (101, 105), (105, 108), (105, 112), (105, 120), (108, 112), (112, 116), (112, 120), (116, 120)]\n"
     ]
    }
   ],
   "execution_count": 72
  },
  {
   "metadata": {
    "ExecuteTime": {
     "end_time": "2025-10-29T16:45:42.629345Z",
     "start_time": "2025-10-29T16:45:42.617342Z"
    }
   },
   "cell_type": "code",
   "source": [
    "def get_pertubed_series(csv_path, sample_cfe, flux_type, slices, start_offset_min=300, end_offset_min=660):\n",
    "    df = pd.read_csv(csv_path, delimiter=',')\n",
    "    df['timestamp'] = pd.to_datetime(df['timestamp'], format='%Y-%m-%d %H:%M:%S')\n",
    "    event_start = df['timestamp'].iloc[0] + timedelta(minutes=start_offset_min)\n",
    "    event_end = df['timestamp'].iloc[0] + timedelta(minutes=end_offset_min)\n",
    "    df_obs = df[(df['timestamp'] >= event_start) & (df['timestamp'] < event_end)].copy()\n",
    "    df_obs['minutes'] = (df_obs['timestamp'] - event_start).dt.total_seconds() / 60\n",
    "\n",
    "    offset_accum = np.zeros_like(df_obs['minutes'], dtype=float)\n",
    "    offset_count = np.zeros_like(df_obs['minutes'], dtype=int)\n",
    "\n",
    "    for start_min, end_min in slices:\n",
    "        slice_data = df_obs[(df_obs['minutes'] >= start_min) & (df_obs['minutes'] < end_min)]\n",
    "        if slice_data.empty:\n",
    "            continue\n",
    "        mask = (df_obs['minutes'] >= start_min) & (df_obs['minutes'] < end_min)\n",
    "        if np.sum(mask) == 0:\n",
    "            continue\n",
    "        flux_data = slice_data[flux_type].values\n",
    "        pattern = f'^{flux_type}\\\\[{start_min}:{end_min}\\\\]_mean$'\n",
    "        cfe_value = np.exp(sample_cfe.filter(regex=pattern).iloc[0])  # should be a single value\n",
    "        global_adjustment = cfe_value - flux_data.mean()\n",
    "        delta = flux_data + global_adjustment\n",
    "        offset_accum[mask] += delta\n",
    "        offset_count[mask] += 1\n",
    "\n",
    "    final_offset = np.zeros_like(df_obs['minutes'], dtype=float)\n",
    "    nonzero = offset_count > 0\n",
    "    final_offset[nonzero] = offset_accum[nonzero] / offset_count[nonzero]\n",
    "\n",
    "    original = df_obs[flux_type].values\n",
    "    final_series = original + final_offset\n",
    "    perturbed_series = pd.Series(final_series, index=df_obs.index)\n",
    "    original_series = pd.Series(original, index=df_obs.index)\n",
    "    min_y = min(final_series.min(), final_offset.min(), original.min())\n",
    "    max_y = max(final_series.max(), final_offset.max(), original.max())\n",
    "    return df_obs, perturbed_series, original_series, min_y, max_y\n"
   ],
   "id": "10039c53664a2758",
   "outputs": [],
   "execution_count": 115
  },
  {
   "metadata": {
    "ExecuteTime": {
     "end_time": "2025-10-29T16:38:07.630624Z",
     "start_time": "2025-10-29T16:38:07.550155Z"
    }
   },
   "cell_type": "code",
   "source": [
    "sample_cfe = cfe_df_genetic2.iloc[0]\n",
    "df_obs, final_series_xrsa, original_xrsa, min_y_xrsa, max_y_xrsa = get_pertubed_series(\n",
    "        \"../../data/processed/goes18_2024/\"+query_ts2_filename, sample_cfe=sample_cfe, flux_type=\"xrsa\", slices=slices,\n",
    "        start_offset_min=0, end_offset_min=120)\n"
   ],
   "id": "447741da5170c76",
   "outputs": [],
   "execution_count": 105
  },
  {
   "metadata": {
    "ExecuteTime": {
     "end_time": "2025-10-29T16:40:47.963957Z",
     "start_time": "2025-10-29T16:40:47.954806Z"
    }
   },
   "cell_type": "code",
   "source": "final_series_xrsa",
   "id": "43391b49726beb69",
   "outputs": [
    {
     "data": {
      "text/plain": [
       "0      3.025269e-08\n",
       "1      3.080107e-08\n",
       "2      2.831375e-08\n",
       "3      2.834858e-08\n",
       "4      2.541186e-08\n",
       "           ...     \n",
       "115    2.211888e-06\n",
       "116    2.146315e-06\n",
       "117    2.050316e-06\n",
       "118    1.970784e-06\n",
       "119    1.895755e-06\n",
       "Length: 120, dtype: float64"
      ]
     },
     "execution_count": 110,
     "metadata": {},
     "output_type": "execute_result"
    }
   ],
   "execution_count": 110
  },
  {
   "metadata": {
    "ExecuteTime": {
     "end_time": "2025-10-29T16:45:57.258669Z",
     "start_time": "2025-10-29T16:45:57.253222Z"
    }
   },
   "cell_type": "code",
   "source": "print(final_series_xrsa.max(),final_series_xrsa.min(),original_xrsa.max(),original_xrsa.min())",
   "id": "d1a44da572da804",
   "outputs": [
    {
     "name": "stdout",
     "output_type": "stream",
     "text": [
      "3.418962274300124e-06 -8.890607298350847e-08 2.2063973e-06 2.4961412e-08\n"
     ]
    }
   ],
   "execution_count": 117
  },
  {
   "metadata": {
    "ExecuteTime": {
     "end_time": "2025-10-29T17:07:26.226339Z",
     "start_time": "2025-10-29T17:07:23.951608Z"
    }
   },
   "cell_type": "code",
   "source": [
    "import matplotlib.pyplot as plt\n",
    "import matplotlib.dates as mdates\n",
    "\n",
    "fig, ax = plt.subplots(figsize=(10, 5))\n",
    "\n",
    "# --- Plot series ---\n",
    "ax.plot(\n",
    "    df_obs['timestamp'],\n",
    "    original_xrsa,\n",
    "    label=\"Original XRS-A (M/X class)\",\n",
    "    color=\"#FF0000\",\n",
    "    linewidth=1.5\n",
    ")\n",
    "ax.plot(\n",
    "    df_obs['timestamp'],\n",
    "    final_series_xrsa,\n",
    "    label=\"CFE for XRS-A (A,B,C,NF class)\",\n",
    "    color=\"#FFA500\",\n",
    "    linestyle='--',\n",
    "    linewidth=1.5\n",
    ")\n",
    "\n",
    "# --- Axis formatting ---\n",
    "ax.set_xlabel(\"Period of Observation\", fontsize=10)\n",
    "ax.set_ylabel(\"Watts/m² (log scale)\", fontsize=10)\n",
    "ax.set_yscale('log')\n",
    "ax.set_ylim(1e-8, 1e-5)  # typical XRS flare range\n",
    "\n",
    "ax.yaxis.set_major_formatter(plt.ScalarFormatter())\n",
    "ax.xaxis.set_major_formatter(mdates.DateFormatter('%Y-%m-%d %H:%M'))\n",
    "plt.setp(ax.get_xticklabels(), rotation=10, ha='center', fontsize=8)\n",
    "plt.setp(ax.get_yticklabels(), fontsize=8)\n",
    "\n",
    "# --- Title above plot ---\n",
    "ax.set_title(\"Original vs. Counterfactual Time Series (XRS-A)\", fontsize=11, pad=15)\n",
    "\n",
    "# --- Legend below plot ---\n",
    "fig.legend(\n",
    "    loc='lower center',\n",
    "    bbox_to_anchor=(0.5, -0.05),   # position below the axis\n",
    "    ncol=2,\n",
    "    frameon=False,\n",
    "    fontsize=9\n",
    ")\n",
    "\n",
    "# --- Layout adjustments ---\n",
    "plt.tight_layout(rect=[0, 0.05, 1, 0.95])  # leave space for legend below and title above\n",
    "plt.grid(alpha=0.3)\n",
    "plt.show()\n"
   ],
   "id": "95e39fdbb61fb368",
   "outputs": [
    {
     "data": {
      "text/plain": [
       "<Figure size 1000x500 with 1 Axes>"
      ],
      "image/png": "[encoded data removed]"
     },
     "metadata": {},
     "output_type": "display_data"
    }
   ],
   "execution_count": 119
  },
  {
   "metadata": {},
   "cell_type": "code",
   "outputs": [],
   "execution_count": null,
   "source": "",
   "id": "86c86a6d4f0c085a"
  }
 ],
 "metadata": {
  "kernelspec": {
   "display_name": "Python 3 (ipykernel)",
   "language": "python",
   "name": "python3"
  },
  "language_info": {
   "codemirror_mode": {
    "name": "ipython",
    "version": 2
   },
   "file_extension": ".py",
   "mimetype": "text/x-python",
   "name": "python",
   "nbconvert_exporter": "python",
   "pygments_lexer": "ipython2",
   "version": "2.7.6"
  }
 },
 "nbformat": 4,
 "nbformat_minor": 5
}
