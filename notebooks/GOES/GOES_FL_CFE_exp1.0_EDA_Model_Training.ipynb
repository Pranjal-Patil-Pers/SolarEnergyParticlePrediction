{
 "cells": [
  {
   "cell_type": "code",
   "id": "initial_id",
   "metadata": {
    "collapsed": true,
    "ExecuteTime": {
     "end_time": "2025-10-26T18:36:12.185306Z",
     "start_time": "2025-10-26T18:36:10.014678Z"
    }
   },
   "source": [
    "import wandb\n",
    "import matplotlib.pyplot as plt\n",
    "import dice_ml\n",
    "import warnings\n",
    "from sklearn.ensemble import RandomForestClassifier\n",
    "from sklearn.model_selection import GridSearchCV, StratifiedKFold\n",
    "from sklearn.metrics import f1_score, make_scorer, roc_auc_score,precision_score, recall_score\n",
    "from sklearn.metrics import accuracy_score, classification_report, confusion_matrix\n",
    "from sklearn.pipeline import Pipeline\n",
    "import seaborn as sns\n",
    "import joblib\n",
    "from sklearn.model_selection import train_test_split\n",
    "import os\n",
    "from sklearn.preprocessing import MinMaxScaler,StandardScaler\n",
    "from scripts.SEP_CFE_functions import *\n",
    "\n",
    "min_max_scaler = MinMaxScaler()\n",
    "warnings.filterwarnings(\"ignore\")\n",
    "scale_factor = 1e3"
   ],
   "outputs": [],
   "execution_count": 1
  },
  {
   "metadata": {
    "ExecuteTime": {
     "end_time": "2025-10-26T18:36:12.726221Z",
     "start_time": "2025-10-26T18:36:12.194843Z"
    }
   },
   "cell_type": "code",
   "source": [
    "abt_path_train = '../../data/GOES/goes18_2024.csv'\n",
    "df_train = pd.read_csv(abt_path_train,  sep=',' )\n",
    "df_train.columns.values[0] = 'timestamp'\n",
    "df_train['timestamp'] = pd.to_datetime(df_train['timestamp'])"
   ],
   "id": "e80451e479260ebd",
   "outputs": [],
   "execution_count": 2
  },
  {
   "metadata": {
    "ExecuteTime": {
     "end_time": "2025-10-26T18:36:24.588112Z",
     "start_time": "2025-10-26T18:36:12.840901Z"
    }
   },
   "cell_type": "code",
   "source": [
    "def create_and_save_windows(df, save_dir=\"windows\", input_hours=2, pred_hours=2, stride_hours=2):\n",
    "    os.makedirs(save_dir, exist_ok=True)\n",
    "    input_len = input_hours * 60     # convert to minutes\n",
    "    pred_len = pred_hours * 60\n",
    "    stride = stride_hours * 60\n",
    "    n = len(df)\n",
    "    timestamps = df['timestamp']\n",
    "    window_count = 0\n",
    "\n",
    "    for start in range(0, n - input_len - pred_len + 1, stride):\n",
    "        end_input = start + input_len\n",
    "        end_pred = end_input + pred_len\n",
    "\n",
    "        input_df = df.iloc[start:end_input]\n",
    "        pred_df  = df.iloc[end_input:end_pred]\n",
    "\n",
    "        start_time = timestamps[start].strftime(\"%Y%m%d_%H%M\")\n",
    "        input_file = os.path.join(save_dir, f\"GOES18_2024_{window_count:04d}_{start_time}_input.csv\")\n",
    "        pred_file  = os.path.join(save_dir, f\"GOES18_2024_{window_count:04d}_{start_time}_pred.csv\")\n",
    "\n",
    "        input_df.to_csv(input_file)\n",
    "        pred_df.to_csv(pred_file)\n",
    "        window_count += 1\n",
    "    print(f\"✅ Created {window_count} overlapping windows in '{save_dir}'\")\n",
    "\n",
    "# Create and save windows with stride = 2 hours\n",
    "create_and_save_windows(df_train, save_dir=\"../../data/processed/goes18_2024\", input_hours=2, pred_hours=2, stride_hours=2)"
   ],
   "id": "791d0b6c018f8125",
   "outputs": [
    {
     "name": "stdout",
     "output_type": "stream",
     "text": [
      "✅ Created 4391 overlapping windows in '../../data/processed/goes18_2024'\n"
     ]
    }
   ],
   "execution_count": 3
  },
  {
   "metadata": {
    "ExecuteTime": {
     "end_time": "2025-10-26T18:36:24.605598Z",
     "start_time": "2025-10-26T18:36:24.595937Z"
    }
   },
   "cell_type": "code",
   "source": [
    "def create_flare_label_dataset_from_pred(input_pred_dir, save_path=None):\n",
    "    rows = []\n",
    "    for file in sorted(os.listdir(input_pred_dir)):\n",
    "        if file.endswith(\"_pred.csv\"):\n",
    "            pred_file_path = os.path.join(input_pred_dir, file)\n",
    "            df_pred = pd.read_csv(pred_file_path)\n",
    "\n",
    "            max_flux = df_pred['xrsb'].max()\n",
    "            if max_flux >= 1e-4:\n",
    "                label = 'X'\n",
    "            elif max_flux >= 1e-5:\n",
    "                label = 'M'\n",
    "            elif max_flux >= 1e-6:\n",
    "                label = 'C'\n",
    "            elif max_flux >= 1e-7:\n",
    "                label = 'B'\n",
    "            elif max_flux >= 1e-8:\n",
    "                label = 'A'\n",
    "            else:\n",
    "                label = 'NF'\n",
    "\n",
    "            input_filename = file.replace('_pred', '_input')\n",
    "            rows.append({'input_filename': input_filename, 'label': label})\n",
    "\n",
    "    label_df = pd.DataFrame(rows)\n",
    "    if save_path:\n",
    "        label_df.to_csv(save_path, index=False)\n",
    "        print(f\"Label dataset saved to: {save_path}\")\n",
    "\n",
    "    return label_df\n"
   ],
   "id": "3124d153f341090b",
   "outputs": [],
   "execution_count": 4
  },
  {
   "metadata": {
    "ExecuteTime": {
     "end_time": "2025-10-26T18:36:30.498826Z",
     "start_time": "2025-10-26T18:36:24.623414Z"
    }
   },
   "cell_type": "code",
   "source": [
    "input_pred_dir = \"../../data/processed/goes18_2024\"\n",
    "save_file = \"../../data/processed/goes18_2024_labels.csv\"\n",
    "\n",
    "label_df = create_flare_label_dataset_from_pred(input_pred_dir, save_path=save_file)\n",
    "print(label_df.head())"
   ],
   "id": "c7757e9115c468fa",
   "outputs": [
    {
     "name": "stdout",
     "output_type": "stream",
     "text": [
      "Label dataset saved to: ../../data/processed/goes18_2024_labels.csv\n",
      "                             input_filename label\n",
      "0  GOES18_2024_0000_20240101_0000_input.csv     C\n",
      "1  GOES18_2024_0001_20240101_0200_input.csv     C\n",
      "2  GOES18_2024_0002_20240101_0400_input.csv     C\n",
      "3  GOES18_2024_0003_20240101_0600_input.csv     M\n",
      "4  GOES18_2024_0004_20240101_0800_input.csv     C\n"
     ]
    }
   ],
   "execution_count": 5
  },
  {
   "metadata": {
    "ExecuteTime": {
     "end_time": "2025-10-26T18:36:30.521974Z",
     "start_time": "2025-10-26T18:36:30.517025Z"
    }
   },
   "cell_type": "code",
   "source": "# label_df = pd.read_csv(\"../../data/processed/goes18_2024_labels.csv\")",
   "id": "9693fc2e9524fa43",
   "outputs": [],
   "execution_count": 6
  },
  {
   "metadata": {
    "ExecuteTime": {
     "end_time": "2025-10-26T18:36:30.547008Z",
     "start_time": "2025-10-26T18:36:30.536539Z"
    }
   },
   "cell_type": "code",
   "source": [
    "def recursive_slices(start, end, min_size=5):\n",
    "    length = end - start\n",
    "    if length <= min_size:\n",
    "        return [(start, end)]\n",
    "    else:\n",
    "        mid = start + length // 2\n",
    "        left = recursive_slices(start, mid, min_size)\n",
    "        right = recursive_slices(mid, end, min_size)\n",
    "        return [(start, end)] + left + right\n",
    "\n",
    "def generate_mean_features(df, min_size=5, prefix=None):\n",
    "    n_timesteps = df.shape[0]\n",
    "    slices = recursive_slices(0, n_timesteps, min_size)\n",
    "    features = {}\n",
    "    for channel in ['xrsa','xrsb']:\n",
    "        # print(channel)\n",
    "        data = pd.to_numeric(df[channel], errors='coerce').values\n",
    "        for (s, e) in slices:\n",
    "            name = f\"{prefix+'_' if prefix else ''}{channel}[{s}:{e}]_mean\"\n",
    "            val = np.mean(data[s:e])\n",
    "            features[name] = 0 if np.isnan(val) else val\n",
    "    return pd.Series(features)\n"
   ],
   "id": "dd589b79713889b",
   "outputs": [],
   "execution_count": 7
  },
  {
   "metadata": {
    "ExecuteTime": {
     "end_time": "2025-10-26T18:36:30.571843Z",
     "start_time": "2025-10-26T18:36:30.561461Z"
    }
   },
   "cell_type": "code",
   "source": [
    "def create_mean_features_by_window_sizes(input_dir, output_file, window_sizes=None):\n",
    "    rows = []\n",
    "    input_files = sorted([f for f in os.listdir(input_dir) if \"_input.csv\" in f])\n",
    "    for file in input_files:\n",
    "        df = pd.read_csv(os.path.join(input_dir, file))\n",
    "        features = generate_mean_features(df, min_size=5)\n",
    "        feature_dict = {'input_filename': file, **features.to_dict()}\n",
    "        rows.append(feature_dict)\n",
    "\n",
    "    features_df = pd.DataFrame(rows)\n",
    "    features_df.dropna(inplace=True)\n",
    "    features_df.to_csv(output_file, index=False)\n",
    "    print(f\"✅ Mean-valued features saved to: {output_file}\")\n"
   ],
   "id": "99f8e6f57e2a7763",
   "outputs": [],
   "execution_count": 8
  },
  {
   "metadata": {
    "ExecuteTime": {
     "end_time": "2025-10-26T18:36:42.394788Z",
     "start_time": "2025-10-26T18:36:30.590551Z"
    }
   },
   "cell_type": "code",
   "source": [
    "input_dir = \"../../data/processed/goes18_2024/\"  # folder containing input files\n",
    "output_file = \"../../data/processed/goes18_2024_mean_features_custom_windows.csv\"\n",
    "\n",
    "create_mean_features_by_window_sizes(input_dir, output_file)"
   ],
   "id": "1fb06817869b18bc",
   "outputs": [
    {
     "name": "stdout",
     "output_type": "stream",
     "text": [
      "✅ Mean-valued features saved to: ../../data/processed/goes18_2024_mean_features_custom_windows.csv\n"
     ]
    }
   ],
   "execution_count": 9
  },
  {
   "metadata": {
    "ExecuteTime": {
     "end_time": "2025-10-26T18:36:42.771771Z",
     "start_time": "2025-10-26T18:36:42.431656Z"
    }
   },
   "cell_type": "code",
   "source": [
    "# Count of each flare type\n",
    "flare_counts = label_df['label'].value_counts().sort_index()  # sort by label\n",
    "plt.figure(figsize=(8,5))\n",
    "sns.barplot(x=flare_counts.index, y=flare_counts.values, palette=\"viridis\")\n",
    "plt.xlabel(\"Flare Class\")\n",
    "plt.ylabel(\"Count\")\n",
    "plt.title(\"Distribution of GOES Flare Classes in 2-hour Windows\")\n",
    "plt.tight_layout()\n",
    "plt.show()\n",
    "\n"
   ],
   "id": "926226aac8b5501d",
   "outputs": [
    {
     "data": {
      "text/plain": [
       "<Figure size 800x500 with 1 Axes>"
      ],
      "image/png": "[encoded data removed]"
     },
     "metadata": {},
     "output_type": "display_data"
    }
   ],
   "execution_count": 10
  },
  {
   "metadata": {
    "ExecuteTime": {
     "end_time": "2025-10-26T18:36:43.568389Z",
     "start_time": "2025-10-26T18:36:42.774551Z"
    }
   },
   "cell_type": "code",
   "source": [
    "features_file = \"../../data/processed/goes18_2024_mean_features_custom_windows.csv\"\n",
    "features_df = pd.read_csv(features_file)\n",
    "combined_df = pd.merge(features_df, label_df, on=\"input_filename\", how=\"inner\")\n",
    "\n",
    "print(\"Combined dataset shape:\", combined_df.shape)\n",
    "print(combined_df.head())\n",
    "\n",
    "# Optionally, save to CSV\n",
    "combined_file = \"../../data/processed/goes18_2024_features_labels.csv\"\n",
    "combined_df.to_csv(combined_file, index=False)\n",
    "print(f\"✅ Combined dataset saved to: {combined_file}\")\n"
   ],
   "id": "3a106b06ea032dfd",
   "outputs": [
    {
     "name": "stdout",
     "output_type": "stream",
     "text": [
      "Combined dataset shape: (4391, 128)\n",
      "                             input_filename  xrsa[0:120]_mean  \\\n",
      "0  GOES18_2024_0000_20240101_0000_input.csv      1.177751e-07   \n",
      "1  GOES18_2024_0001_20240101_0200_input.csv      2.562598e-08   \n",
      "2  GOES18_2024_0002_20240101_0400_input.csv      9.965425e-09   \n",
      "3  GOES18_2024_0003_20240101_0600_input.csv      1.561024e-08   \n",
      "4  GOES18_2024_0004_20240101_0800_input.csv      5.757184e-07   \n",
      "\n",
      "   xrsa[0:60]_mean  xrsa[0:30]_mean  xrsa[0:15]_mean  xrsa[0:7]_mean  \\\n",
      "0     1.585111e-07     2.000465e-07     2.360244e-07    2.621947e-07   \n",
      "1     3.107531e-08     3.511606e-08     3.661682e-08    3.710156e-08   \n",
      "2     1.090954e-08     1.257245e-08     1.304101e-08    1.300326e-08   \n",
      "3     1.177995e-08     8.713668e-09     1.366712e-08    2.128694e-08   \n",
      "4     9.745299e-07     2.278376e-07     3.499181e-07    4.294937e-07   \n",
      "\n",
      "   xrsa[0:3]_mean  xrsa[3:7]_mean  xrsa[7:15]_mean  xrsa[7:11]_mean  ...  \\\n",
      "0    2.780908e-07    2.502726e-07     2.131253e-07     2.237296e-07  ...   \n",
      "1    3.822583e-08    3.625835e-08     3.619268e-08     3.632187e-08  ...   \n",
      "2    1.365711e-08    1.251288e-08     1.307404e-08     1.306313e-08  ...   \n",
      "3    2.145817e-08    2.115852e-08     6.999784e-09     9.381741e-09  ...   \n",
      "4    3.688733e-07    4.749589e-07     2.802894e-07     3.410739e-07  ...   \n",
      "\n",
      "   xrsb[97:101]_mean  xrsb[101:105]_mean  xrsb[105:120]_mean  \\\n",
      "0           0.000004            0.000002            0.000002   \n",
      "1           0.000001            0.000001            0.000001   \n",
      "2           0.000001            0.000001            0.000001   \n",
      "3           0.000001            0.000001            0.000001   \n",
      "4           0.000001            0.000001            0.000001   \n",
      "\n",
      "   xrsb[105:112]_mean  xrsb[105:108]_mean  xrsb[108:112]_mean  \\\n",
      "0            0.000002            0.000002            0.000002   \n",
      "1            0.000001            0.000001            0.000001   \n",
      "2            0.000001            0.000001            0.000001   \n",
      "3            0.000001            0.000001            0.000001   \n",
      "4            0.000001            0.000001            0.000001   \n",
      "\n",
      "   xrsb[112:120]_mean  xrsb[112:116]_mean  xrsb[116:120]_mean  label  \n",
      "0            0.000002        1.730270e-06            0.000002      C  \n",
      "1            0.000001        1.295479e-06            0.000001      C  \n",
      "2            0.000001        9.888158e-07            0.000001      C  \n",
      "3            0.000002        1.268173e-06            0.000002      M  \n",
      "4            0.000001        1.115999e-06            0.000001      C  \n",
      "\n",
      "[5 rows x 128 columns]\n",
      "✅ Combined dataset saved to: ../../data/processed/goes18_2024_features_labels.csv\n"
     ]
    }
   ],
   "execution_count": 11
  },
  {
   "metadata": {
    "ExecuteTime": {
     "end_time": "2025-10-26T18:36:44.216082Z",
     "start_time": "2025-10-26T18:36:43.602341Z"
    }
   },
   "cell_type": "code",
   "source": [
    "binary_map = {'NF': 0,'A': 0,'B': 0,'C': 0,'M': 1,'X': 1}\n",
    "combined_df['binary_label'] = combined_df['label'].map(binary_map)\n",
    "print(combined_df['binary_label'].value_counts())\n",
    "print(combined_df[['label', 'binary_label']].head())\n",
    "combined_file = \"../../data/processed/goes18_2024_features_labels.csv\"\n",
    "combined_df.to_csv(combined_file, index=False)\n",
    "print(f\"✅ Combined dataset saved to: {combined_file}\")\n"
   ],
   "id": "f91b03acb1dbcc5c",
   "outputs": [
    {
     "name": "stdout",
     "output_type": "stream",
     "text": [
      "binary_label\n",
      "0    3500\n",
      "1     891\n",
      "Name: count, dtype: int64\n",
      "  label  binary_label\n",
      "0     C             0\n",
      "1     C             0\n",
      "2     C             0\n",
      "3     M             1\n",
      "4     C             0\n",
      "✅ Combined dataset saved to: ../../data/processed/goes18_2024_features_labels.csv\n"
     ]
    }
   ],
   "execution_count": 12
  },
  {
   "metadata": {
    "ExecuteTime": {
     "end_time": "2025-10-26T18:36:44.396394Z",
     "start_time": "2025-10-26T18:36:44.242959Z"
    }
   },
   "cell_type": "code",
   "source": [
    "binary_counts = combined_df['binary_label'].value_counts().sort_index()\n",
    "\n",
    "# Plot\n",
    "plt.figure(figsize=(6,4))\n",
    "sns.barplot(x=binary_counts.index, y=binary_counts.values, palette=\"coolwarm\")\n",
    "plt.xticks([0, 1], [\"Class 0 (NF/A/B/C)\", \"Class 1 (M/X)\"])\n",
    "plt.ylabel(\"Count\")\n",
    "plt.title(\"Binary Flare Class Distribution\")\n",
    "plt.tight_layout()\n",
    "plt.show()"
   ],
   "id": "66db5c6cdd6c85a8",
   "outputs": [
    {
     "data": {
      "text/plain": [
       "<Figure size 600x400 with 1 Axes>"
      ],
      "image/png": "[encoded data removed]"
     },
     "metadata": {},
     "output_type": "display_data"
    }
   ],
   "execution_count": 13
  },
  {
   "metadata": {
    "ExecuteTime": {
     "end_time": "2025-10-26T18:36:44.458504Z",
     "start_time": "2025-10-26T18:36:44.425174Z"
    }
   },
   "cell_type": "code",
   "source": [
    "def split_df_by_percentage(df, train_frac=0.7, val_frac=0.15, test_frac=0.15, random_state=42):\n",
    "    if abs(train_frac + val_frac + test_frac - 1.0) > 1e-6:\n",
    "        raise ValueError(\"Fractions must sum to 1.0\")\n",
    "\n",
    "    train_df, temp_df = train_test_split(df, train_size=train_frac, random_state=random_state, shuffle=True)\n",
    "    temp_frac = test_frac / (val_frac + test_frac)\n",
    "    val_df, test_df = train_test_split(temp_df, test_size=temp_frac, random_state=random_state, shuffle=True)\n",
    "    return train_df.reset_index(drop=True), val_df.reset_index(drop=True), test_df.reset_index(drop=True)\n",
    "\n",
    "\n",
    "train_df, val_df, test_df = split_df_by_percentage(combined_df)\n",
    "\n",
    "print(\"Train shape:\", train_df.shape)\n",
    "print(\"Validation shape:\", val_df.shape)\n",
    "print(\"Test shape:\", test_df.shape)\n",
    "train_df = train_df[(train_df == 0).sum(axis=1) <= 10]\n",
    "val_df = val_df[(val_df == 0).sum(axis=1) <= 10]\n",
    "test_df = test_df[(test_df == 0).sum(axis=1) <= 10]\n",
    "print(\"After dropping zero:\")\n",
    "print(\"Train shape:\", train_df.shape)\n",
    "print(\"Validation shape:\", val_df.shape)\n",
    "print(\"Test shape:\", test_df.shape)"
   ],
   "id": "9caf1024ff24dd3",
   "outputs": [
    {
     "name": "stdout",
     "output_type": "stream",
     "text": [
      "Train shape: (3073, 129)\n",
      "Validation shape: (659, 129)\n",
      "Test shape: (659, 129)\n",
      "After dropping zero:\n",
      "Train shape: (2728, 129)\n",
      "Validation shape: (580, 129)\n",
      "Test shape: (580, 129)\n"
     ]
    }
   ],
   "execution_count": 14
  },
  {
   "metadata": {
    "ExecuteTime": {
     "end_time": "2025-10-26T18:36:44.535265Z",
     "start_time": "2025-10-26T18:36:44.519076Z"
    }
   },
   "cell_type": "code",
   "source": [
    "feature_cols = [c for c in train_df.columns if c not in ['input_filename', 'label', 'binary_label']]\n",
    "\n",
    "X_train = train_df[feature_cols].values * scale_factor\n",
    "y_train = train_df['binary_label'].values\n",
    "\n",
    "X_val = val_df[feature_cols].values * scale_factor\n",
    "y_val = val_df['binary_label'].values\n",
    "\n",
    "X_test = test_df[feature_cols].values *scale_factor\n",
    "y_test = test_df['binary_label'].values\n",
    "\n",
    "print(\"Shapes:\")\n",
    "print(\"X_train:\", X_train.shape, \"y_train:\", y_train.shape)\n",
    "print(\"X_val:\", X_val.shape, \"y_val:\", y_val.shape)\n",
    "print(\"X_test:\", X_test.shape, \"y_test:\", y_test.shape)\n"
   ],
   "id": "99637b0e9295e5d3",
   "outputs": [
    {
     "name": "stdout",
     "output_type": "stream",
     "text": [
      "Shapes:\n",
      "X_train: (2728, 126) y_train: (2728,)\n",
      "X_val: (580, 126) y_val: (580,)\n",
      "X_test: (580, 126) y_test: (580,)\n"
     ]
    }
   ],
   "execution_count": 15
  },
  {
   "metadata": {
    "ExecuteTime": {
     "end_time": "2025-10-26T18:39:32.743589Z",
     "start_time": "2025-10-26T18:36:44.655157Z"
    }
   },
   "cell_type": "code",
   "source": [
    "# Define the hyperparameter grid\n",
    "param_grid = {\n",
    "    'n_estimators': [50, 100, 200, 300, 400, 500],\n",
    "    'max_depth': [2, 3, 4, 5, 6, 7, 8]\n",
    "}\n",
    "rf_clf = RandomForestClassifier(random_state=42, class_weight='balanced')\n",
    "\n",
    "cv = StratifiedKFold(n_splits=5, shuffle=True, random_state=42)\n",
    "\n",
    "scorer = make_scorer(f1_score, pos_label=1)\n",
    "\n",
    "grid_search = GridSearchCV(estimator=rf_clf, param_grid=param_grid,cv=cv,scoring=scorer,n_jobs=-1,verbose=1)\n",
    "\n",
    "grid_search.fit(X_train, y_train)\n",
    "\n",
    "# Print the best hyperparameters and corresponding score from cross-validation\n",
    "print(\"Best parameters found:\", grid_search.best_params_)\n",
    "print(\"Best F1 score (for positive class) from CV:\", grid_search.best_score_)\n",
    "\n",
    "# Retrieve the best estimator and evaluate on the test data\n",
    "best_rf = grid_search.best_estimator_\n",
    "Y_pred = best_rf.predict(X_train)\n",
    "\n",
    "# Save model\n",
    "joblib.dump(best_rf, '../../models/RandomForestClassifier_model_goes18_xrs_cfe.pkl')\n",
    "\n",
    "# Output the test classification report and confusion matrix\n",
    "print(\"\\nTest Classification Report:\\n\", classification_report(y_train, Y_pred))\n",
    "print(\"Test Confusion Matrix:\\n\", confusion_matrix(y_train, Y_pred))"
   ],
   "id": "4b214b21a0239cc2",
   "outputs": [
    {
     "name": "stdout",
     "output_type": "stream",
     "text": [
      "Fitting 5 folds for each of 42 candidates, totalling 210 fits\n",
      "Best parameters found: {'max_depth': 7, 'n_estimators': 300}\n",
      "Best F1 score (for positive class) from CV: 0.5534619498105913\n",
      "\n",
      "Test Classification Report:\n",
      "               precision    recall  f1-score   support\n",
      "\n",
      "           0       0.94      0.88      0.91      2144\n",
      "           1       0.65      0.78      0.71       584\n",
      "\n",
      "    accuracy                           0.86      2728\n",
      "   macro avg       0.79      0.83      0.81      2728\n",
      "weighted avg       0.87      0.86      0.87      2728\n",
      "\n",
      "Test Confusion Matrix:\n",
      " [[1893  251]\n",
      " [ 127  457]]\n"
     ]
    }
   ],
   "execution_count": 16
  },
  {
   "metadata": {
    "ExecuteTime": {
     "end_time": "2025-10-26T18:39:32.880893Z",
     "start_time": "2025-10-26T18:39:32.801002Z"
    }
   },
   "cell_type": "code",
   "source": [
    "overall_results = []\n",
    "overall_results.append(('training set', TSS(y_train, Y_pred), HSS(y_train, Y_pred),accuracy_score(y_train, Y_pred),precision_score(y_train, Y_pred),f1_score(y_train, Y_pred),recall_score(y_train, Y_pred)))\n",
    "\n",
    "y_val_pred = best_rf.predict(X_val)\n",
    "overall_results.append(('validation set', TSS(y_val, y_val_pred), HSS(y_val, y_val_pred),accuracy_score(y_val, y_val_pred),precision_score(y_val, y_val_pred),f1_score(y_val, y_val_pred),recall_score(y_val, y_val_pred)))\n",
    "\n",
    "y_test_pred = best_rf.predict(X_test)\n",
    "overall_results.append(('testing set', TSS(y_test, y_test_pred), HSS(y_test, y_test_pred),accuracy_score(y_test, y_test_pred),precision_score(y_test, y_test_pred),f1_score(y_test, y_test_pred),recall_score(y_test, y_test_pred)))\n",
    "print(pd.DataFrame(overall_results, columns=[\"Dataset\",  \"TSS\", \"HSS\",\"Accuracy\",\"Precision Score\",\"F1_score\",\"Recall_score\"]))\n"
   ],
   "id": "e090500e906656a0",
   "outputs": [
    {
     "name": "stdout",
     "output_type": "stream",
     "text": [
      "          Dataset       TSS       HSS  Accuracy  Precision Score  F1_score  \\\n",
      "0    training set  0.665463  0.617745  0.861437         0.645480  0.707430   \n",
      "1  validation set  0.373656  0.353915  0.770690         0.468531  0.501873   \n",
      "2     testing set  0.496387  0.441863  0.808621         0.493056  0.561265   \n",
      "\n",
      "   Recall_score  \n",
      "0      0.782534  \n",
      "1      0.540323  \n",
      "2      0.651376  \n"
     ]
    }
   ],
   "execution_count": 17
  },
  {
   "metadata": {
    "ExecuteTime": {
     "end_time": "2025-10-26T18:39:33.169622Z",
     "start_time": "2025-10-26T18:39:32.880893Z"
    }
   },
   "cell_type": "code",
   "source": [
    "feature_importances = best_rf.feature_importances_\n",
    "cont_features = list(combined_df.drop([\"input_filename\",\"label\",\"binary_label\"],axis=1).columns)\n",
    "feature_importance_df = pd.DataFrame({\n",
    "    'Feature': cont_features,\n",
    "    'Importance': feature_importances\n",
    "})\n",
    "feature_importance_df = feature_importance_df.sort_values(by='Importance', ascending=False).head(20)\n",
    "print(feature_importance_df)\n",
    "\n",
    "\n",
    "plt.figure(figsize=(10, 6))\n",
    "plt.barh(feature_importance_df['Feature'], feature_importance_df['Importance'], color='skyblue')\n",
    "plt.xlabel('Importance Score')\n",
    "plt.ylabel('Feature')\n",
    "plt.title('Feature Importance based on Best Random Forest Model')\n",
    "plt.gca().invert_yaxis()  # Invert y-axis to show the most important feature at the top\n",
    "plt.show()"
   ],
   "id": "223c7bdd73abe3af",
   "outputs": [
    {
     "name": "stdout",
     "output_type": "stream",
     "text": [
      "                Feature  Importance\n",
      "125  xrsb[116:120]_mean    0.066510\n",
      "123  xrsb[112:120]_mean    0.053149\n",
      "62   xrsa[116:120]_mean    0.050795\n",
      "119  xrsb[105:120]_mean    0.039609\n",
      "111   xrsb[90:120]_mean    0.038558\n",
      "124  xrsb[112:116]_mean    0.034572\n",
      "48    xrsa[90:120]_mean    0.028518\n",
      "60   xrsa[112:120]_mean    0.027495\n",
      "56   xrsa[105:120]_mean    0.023901\n",
      "61   xrsa[112:116]_mean    0.021756\n",
      "95    xrsb[60:120]_mean    0.019184\n",
      "63     xrsb[0:120]_mean    0.018555\n",
      "32    xrsa[60:120]_mean    0.017655\n",
      "122  xrsb[108:112]_mean    0.016890\n",
      "120  xrsb[105:112]_mean    0.016527\n",
      "115    xrsb[93:97]_mean    0.013698\n",
      "118  xrsb[101:105]_mean    0.013062\n",
      "0      xrsa[0:120]_mean    0.012308\n",
      "112   xrsb[90:105]_mean    0.010169\n",
      "105    xrsb[75:82]_mean    0.009146\n"
     ]
    },
    {
     "data": {
      "text/plain": [
       "<Figure size 1000x600 with 1 Axes>"
      ],
      "image/png": "[encoded data removed]"
     },
     "metadata": {},
     "output_type": "display_data"
    }
   ],
   "execution_count": 18
  },
  {
   "metadata": {},
   "cell_type": "markdown",
   "source": "Creating DiCE Counterfactual Explainers for SEP Prediction",
   "id": "7ecf793fc9f240a3"
  },
  {
   "metadata": {
    "ExecuteTime": {
     "end_time": "2025-10-26T18:39:33.233904Z",
     "start_time": "2025-10-26T18:39:33.222221Z"
    }
   },
   "cell_type": "code",
   "source": [
    "df_cfe = test_df.drop([\"label\",\"input_filename\"],axis=1)\n",
    "df_cfe['binary_label']=df_cfe['binary_label'].astype(float)\n"
   ],
   "id": "10289d8232ced9af",
   "outputs": [],
   "execution_count": 19
  },
  {
   "metadata": {
    "ExecuteTime": {
     "end_time": "2025-10-26T18:39:33.419159Z",
     "start_time": "2025-10-26T18:39:33.306547Z"
    }
   },
   "cell_type": "code",
   "source": [
    "# --- Clean continuous features so every column has a visible decimal part ---\n",
    "for col in cont_features:\n",
    "    # Force float, replace inf/nan\n",
    "    df_cfe[col] = pd.to_numeric(df_cfe[col], errors='coerce').fillna(0).astype(float)\n",
    "    # Round and force decimal representation\n",
    "    df_cfe[col] = df_cfe[col].apply(lambda x: float(f\"{x:.10f}\"))\n",
    "\n",
    "# Optional: ensure scientific notation doesn’t hide decimals\n",
    "pd.options.display.float_format = '{:.10f}'.format\n",
    "\n",
    "print(\"✅ Cleaned df_cfe ready for DiCE:\", df_cfe.shape)\n"
   ],
   "id": "8e07f6f03f312616",
   "outputs": [
    {
     "name": "stdout",
     "output_type": "stream",
     "text": [
      "✅ Cleaned df_cfe ready for DiCE: (580, 127)\n"
     ]
    }
   ],
   "execution_count": 20
  },
  {
   "metadata": {
    "ExecuteTime": {
     "end_time": "2025-10-26T18:39:33.565827Z",
     "start_time": "2025-10-26T18:39:33.531950Z"
    }
   },
   "cell_type": "code",
   "source": [
    "print(df_cfe.dtypes)       # all float64\n",
    "print(df_cfe.isna().sum()) # all zeros\n",
    "print(df_cfe.head())\n",
    "df_cfe.columns\n",
    "# shows decimal format\n"
   ],
   "id": "af8777f73cbc3a18",
   "outputs": [
    {
     "name": "stdout",
     "output_type": "stream",
     "text": [
      "xrsa[0:120]_mean      float64\n",
      "xrsa[0:60]_mean       float64\n",
      "xrsa[0:30]_mean       float64\n",
      "xrsa[0:15]_mean       float64\n",
      "xrsa[0:7]_mean        float64\n",
      "                       ...   \n",
      "xrsb[108:112]_mean    float64\n",
      "xrsb[112:120]_mean    float64\n",
      "xrsb[112:116]_mean    float64\n",
      "xrsb[116:120]_mean    float64\n",
      "binary_label          float64\n",
      "Length: 127, dtype: object\n",
      "xrsa[0:120]_mean      0\n",
      "xrsa[0:60]_mean       0\n",
      "xrsa[0:30]_mean       0\n",
      "xrsa[0:15]_mean       0\n",
      "xrsa[0:7]_mean        0\n",
      "                     ..\n",
      "xrsb[108:112]_mean    0\n",
      "xrsb[112:120]_mean    0\n",
      "xrsb[112:116]_mean    0\n",
      "xrsb[116:120]_mean    0\n",
      "binary_label          0\n",
      "Length: 127, dtype: int64\n",
      "   xrsa[0:120]_mean  xrsa[0:60]_mean  xrsa[0:30]_mean  xrsa[0:15]_mean  \\\n",
      "0      0.0000000092     0.0000000120     0.0000000126     0.0000000147   \n",
      "1      0.0000001063     0.0000001048     0.0000000415     0.0000000265   \n",
      "2      0.0000000285     0.0000000420     0.0000000621     0.0000000436   \n",
      "3      0.0000000942     0.0000000696     0.0000000799     0.0000000878   \n",
      "4      0.0000001324     0.0000001752     0.0000002553     0.0000002953   \n",
      "\n",
      "   xrsa[0:7]_mean  xrsa[0:3]_mean  xrsa[3:7]_mean  xrsa[7:15]_mean  \\\n",
      "0    0.0000000175    0.0000000179    0.0000000173     0.0000000122   \n",
      "1    0.0000000327    0.0000000375    0.0000000291     0.0000000211   \n",
      "2    0.0000000332    0.0000000297    0.0000000358     0.0000000528   \n",
      "3    0.0000000954    0.0000001025    0.0000000900     0.0000000813   \n",
      "4    0.0000003365    0.0000003669    0.0000003137     0.0000002593   \n",
      "\n",
      "   xrsa[7:11]_mean  xrsa[11:15]_mean  ...  xrsb[97:101]_mean  \\\n",
      "0     0.0000000143      0.0000000101  ...       0.0000014508   \n",
      "1     0.0000000230      0.0000000191  ...       0.0000031357   \n",
      "2     0.0000000431      0.0000000625  ...       0.0000017682   \n",
      "3     0.0000000809      0.0000000816  ...       0.0000055052   \n",
      "4     0.0000002744      0.0000002442  ...       0.0000033144   \n",
      "\n",
      "   xrsb[101:105]_mean  xrsb[105:120]_mean  xrsb[105:112]_mean  \\\n",
      "0        0.0000014495        0.0000014425        0.0000014633   \n",
      "1        0.0000030529        0.0000032817        0.0000032318   \n",
      "2        0.0000017766        0.0000018039        0.0000017869   \n",
      "3        0.0000054217        0.0000046488        0.0000048258   \n",
      "4        0.0000032013        0.0000028247        0.0000029071   \n",
      "\n",
      "   xrsb[105:108]_mean  xrsb[108:112]_mean  xrsb[112:120]_mean  \\\n",
      "0        0.0000014373        0.0000014827        0.0000014243   \n",
      "1        0.0000031572        0.0000032877        0.0000033254   \n",
      "2        0.0000017729        0.0000017974        0.0000018189   \n",
      "3        0.0000050461        0.0000046606        0.0000044940   \n",
      "4        0.0000029743        0.0000028567        0.0000027527   \n",
      "\n",
      "   xrsb[112:116]_mean  xrsb[116:120]_mean  binary_label  \n",
      "0        0.0000014437        0.0000014050  0.0000000000  \n",
      "1        0.0000033158        0.0000033350  0.0000000000  \n",
      "2        0.0000018255        0.0000018122  0.0000000000  \n",
      "3        0.0000043920        0.0000045959  1.0000000000  \n",
      "4        0.0000027911        0.0000027142  0.0000000000  \n",
      "\n",
      "[5 rows x 127 columns]\n"
     ]
    },
    {
     "data": {
      "text/plain": [
       "Index(['xrsa[0:120]_mean', 'xrsa[0:60]_mean', 'xrsa[0:30]_mean',\n",
       "       'xrsa[0:15]_mean', 'xrsa[0:7]_mean', 'xrsa[0:3]_mean', 'xrsa[3:7]_mean',\n",
       "       'xrsa[7:15]_mean', 'xrsa[7:11]_mean', 'xrsa[11:15]_mean',\n",
       "       ...\n",
       "       'xrsb[97:101]_mean', 'xrsb[101:105]_mean', 'xrsb[105:120]_mean',\n",
       "       'xrsb[105:112]_mean', 'xrsb[105:108]_mean', 'xrsb[108:112]_mean',\n",
       "       'xrsb[112:120]_mean', 'xrsb[112:116]_mean', 'xrsb[116:120]_mean',\n",
       "       'binary_label'],\n",
       "      dtype='object', length=127)"
      ]
     },
     "execution_count": 21,
     "metadata": {},
     "output_type": "execute_result"
    }
   ],
   "execution_count": 21
  },
  {
   "metadata": {
    "ExecuteTime": {
     "end_time": "2025-10-26T18:39:33.589900Z",
     "start_time": "2025-10-26T18:39:33.581728Z"
    }
   },
   "cell_type": "code",
   "source": [
    "# import dice_ml.data_interfaces.public_data_interface as pdi\n",
    "#\n",
    "# def safe_get_decimal_precisions(self, output_type=\"dict\"):\n",
    "#     precisions = {}\n",
    "#     for col in self.data_df.columns:\n",
    "#         if self.data_df[col].dtype in [np.float32, np.float64]:\n",
    "#             modes = self.data_df[col].mode()\n",
    "#             if len(modes) == 0:\n",
    "#                 precisions[col] = 6\n",
    "#                 continue\n",
    "#             val_str = str(modes[0])\n",
    "#             precisions[col] = len(val_str.split('.')[1]) if '.' in val_str else 6\n",
    "#         else:\n",
    "#             precisions[col] = 6\n",
    "#     return precisions\n",
    "#\n",
    "# pdi.PublicData.get_decimal_precisions = safe_get_decimal_precisions\n",
    "# print(\"✅ Patched DiCE precision function safely.\")\n"
   ],
   "id": "a98196f888a3b38d",
   "outputs": [],
   "execution_count": 22
  },
  {
   "metadata": {
    "ExecuteTime": {
     "end_time": "2025-10-26T18:39:33.802283Z",
     "start_time": "2025-10-26T18:39:33.724465Z"
    }
   },
   "cell_type": "code",
   "source": [
    "cont_features = list(combined_df.drop([\"input_filename\",\"label\",\"binary_label\"],axis=1).columns)\n",
    "for feat in cont_features:\n",
    "    df_cfe[feat]=df_cfe[feat].astype(float)\n",
    "data= dice_ml.Data(dataframe=df_cfe, continuous_features=cont_features, outcome_name=\"binary_label\")"
   ],
   "id": "3fe8a98494af043e",
   "outputs": [],
   "execution_count": 23
  },
  {
   "metadata": {
    "ExecuteTime": {
     "end_time": "2025-10-26T18:58:08.819561Z",
     "start_time": "2025-10-26T18:58:08.785059Z"
    }
   },
   "cell_type": "code",
   "source": [
    "# Reset the data interface with proper ranges\n",
    "feature_ranges = {}\n",
    "for col in cont_features:\n",
    "    min_val = float(df_cfe[col].min())\n",
    "    max_val = float(df_cfe[col].max())\n",
    "    # Add small buffer to prevent edge cases\n",
    "    feature_ranges[col] = [min_val - 0.000001, max_val + 0.000001]\n",
    "\n",
    "# Create data interface with ranges\n",
    "data = dice_ml.Data(\n",
    "    dataframe=df_cfe,\n",
    "    continuous_features=cont_features,\n",
    "    outcome_name=\"binary_label\",\n",
    "    permitted_range=feature_ranges\n",
    ")"
   ],
   "id": "c978add0635cdce3",
   "outputs": [],
   "execution_count": 33
  },
  {
   "metadata": {
    "ExecuteTime": {
     "end_time": "2025-10-26T18:58:18.809288Z",
     "start_time": "2025-10-26T18:58:18.803516Z"
    }
   },
   "cell_type": "code",
   "source": [
    "# Create model wrapper\n",
    "cfe_model = dice_ml.Model(\n",
    "    model=best_rf,\n",
    "    backend=\"sklearn\",\n",
    "    model_type='classifier'\n",
    ")\n",
    "\n",
    "# Create genetic explainer with specific parameters\n",
    "exp_genetic = dice_ml.Dice(\n",
    "    data_interface=data,\n",
    "    model_interface=cfe_model,\n",
    "    method=\"genetic\"\n",
    ")"
   ],
   "id": "9270bd073b0a041f",
   "outputs": [],
   "execution_count": 34
  },
  {
   "metadata": {
    "ExecuteTime": {
     "end_time": "2025-10-26T18:52:08.015069Z",
     "start_time": "2025-10-26T18:52:08.008061Z"
    }
   },
   "cell_type": "code",
   "source": [
    "def get_query_instance(query_ts_filename, df_combined_labels, model):\n",
    "    \"\"\"\n",
    "    Retrieve the query instance and its target label for a given filename.\n",
    "\n",
    "    Args:\n",
    "           query_ts_filename (str): The filename identifying the query instance.\n",
    "           df_combined_labels (pd.DataFrame): DataFrame containing labeled data.\n",
    "           model: A trained classifier with a `.predict()` method.\n",
    "\n",
    "    Returns:\n",
    "        Tuple[pd.DataFrame, Any]: The query instance (features only) and its true label.\n",
    "     \"\"\"\n",
    "    query_instance_raw = df_combined_labels[df_combined_labels['input_filename'] == query_ts_filename]\n",
    "    query_instance = query_instance_raw.drop([\"label\", 'input_filename','binary_label'], axis=1)*scale_factor\n",
    "    query_instance = query_instance.fillna(0)\n",
    "    true_label = query_instance_raw[\"binary_label\"].values[0]\n",
    "    predicted_label = model.predict(query_instance)\n",
    "\n",
    "    print(\"Target value for the query instance:\\n\", true_label)\n",
    "    print(\"Predicted value:\\n\", predicted_label)\n",
    "\n",
    "    return query_instance, true_label, predicted_label"
   ],
   "id": "69ee61a4fee80694",
   "outputs": [],
   "execution_count": 30
  },
  {
   "metadata": {
    "ExecuteTime": {
     "end_time": "2025-10-26T18:51:54.047110Z",
     "start_time": "2025-10-26T18:51:54.036945Z"
    }
   },
   "cell_type": "code",
   "outputs": [],
   "execution_count": 27,
   "source": [
    "import dice_ml.data_interfaces.public_data_interface as pdi\n",
    "\n",
    "def safe_get_decimal_precisions(self, output_type=\"dict\"):\n",
    "    \"\"\"Safe version of get_decimal_precisions that handles edge cases\"\"\"\n",
    "    precisions = {}\n",
    "    for col in self.data_df.columns:\n",
    "        if self.data_df[col].dtype in [np.float32, np.float64]:\n",
    "            modes = self.data_df[col].mode()\n",
    "            if len(modes) == 0 or '.' not in str(modes[0]):\n",
    "                precisions[col] = 6  # default precision\n",
    "            else:\n",
    "                val_str = str(modes[0])\n",
    "                precisions[col] = len(val_str.split('.')[1])\n",
    "        else:\n",
    "            precisions[col] = 6  # default precision\n",
    "    return precisions\n",
    "\n",
    "# Patch the DiCE library\n",
    "pdi.PublicData.get_decimal_precisions = safe_get_decimal_precisions"
   ],
   "id": "ca61c7026f5507d0"
  },
  {
   "metadata": {
    "ExecuteTime": {
     "end_time": "2025-10-26T18:52:11.893237Z",
     "start_time": "2025-10-26T18:52:11.876761Z"
    }
   },
   "cell_type": "code",
   "outputs": [
    {
     "name": "stdout",
     "output_type": "stream",
     "text": [
      "Target value for the query instance:\n",
      " 0\n",
      "Predicted value:\n",
      " [0]\n"
     ]
    }
   ],
   "execution_count": 31,
   "source": [
    "query_ts1_filename ='GOES18_2024_3628_20241029_0800_input.csv'\n",
    "# query_ts1_filename ='GOES18_2024_4390_20241231_2000_input.csv'\n",
    "# query_ts1_filename ='GOES18_2024_0026_20240103_0400_input.csv'\n",
    "query_instance1, target_val1,predicted_val= get_query_instance(query_ts1_filename, df_combined_labels=combined_df, model=best_rf)\n",
    "query_instance1 = query_instance1.astype(float)\n",
    "query_instance1 = query_instance1.fillna(0)"
   ],
   "id": "aae1120814e16f24"
  },
  {
   "metadata": {
    "ExecuteTime": {
     "end_time": "2025-10-26T18:59:52.313565Z",
     "start_time": "2025-10-26T18:59:51.782809Z"
    }
   },
   "cell_type": "code",
   "outputs": [
    {
     "name": "stderr",
     "output_type": "stream",
     "text": [
      "  0%|          | 0/1 [00:00<?, ?it/s]\n"
     ]
    },
    {
     "ename": "KeyError",
     "evalue": "0",
     "output_type": "error",
     "traceback": [
      "\u001B[1;31m---------------------------------------------------------------------------\u001B[0m",
      "\u001B[1;31mKeyError\u001B[0m                                  Traceback (most recent call last)",
      "Cell \u001B[1;32mIn[36], line 2\u001B[0m\n\u001B[0;32m      1\u001B[0m \u001B[38;5;66;03m# Generate counterfactuals\u001B[39;00m\n\u001B[1;32m----> 2\u001B[0m cfe_genetic \u001B[38;5;241m=\u001B[39m exp_genetic\u001B[38;5;241m.\u001B[39mgenerate_counterfactuals(\n\u001B[0;32m      3\u001B[0m     query_instance1,\n\u001B[0;32m      4\u001B[0m     total_CFs\u001B[38;5;241m=\u001B[39m\u001B[38;5;241m4\u001B[39m,\n\u001B[0;32m      5\u001B[0m     desired_class\u001B[38;5;241m=\u001B[39m\u001B[38;5;241m1\u001B[39m,\n\u001B[0;32m      6\u001B[0m     proximity_weight\u001B[38;5;241m=\u001B[39m\u001B[38;5;241m0.5\u001B[39m,\n\u001B[0;32m      7\u001B[0m     diversity_weight\u001B[38;5;241m=\u001B[39m\u001B[38;5;241m1.0\u001B[39m,\n\u001B[0;32m      8\u001B[0m     categorical_penalty\u001B[38;5;241m=\u001B[39m\u001B[38;5;241m0.1\u001B[39m,\n\u001B[0;32m      9\u001B[0m     algorithm\u001B[38;5;241m=\u001B[39m\u001B[38;5;124m\"\u001B[39m\u001B[38;5;124mgenetic\u001B[39m\u001B[38;5;124m\"\u001B[39m,\n\u001B[0;32m     10\u001B[0m     verbose\u001B[38;5;241m=\u001B[39m\u001B[38;5;28;01mFalse\u001B[39;00m\n\u001B[0;32m     11\u001B[0m )\n",
      "File \u001B[1;32m~\\anaconda3\\Lib\\site-packages\\dice_ml\\explainer_interfaces\\explainer_base.py:186\u001B[0m, in \u001B[0;36mExplainerBase.generate_counterfactuals\u001B[1;34m(self, query_instances, total_CFs, desired_class, desired_range, permitted_range, features_to_vary, stopping_threshold, posthoc_sparsity_param, proximity_weight, sparsity_weight, diversity_weight, categorical_penalty, posthoc_sparsity_algorithm, verbose, **kwargs)\u001B[0m\n\u001B[0;32m    184\u001B[0m \u001B[38;5;28;01mfor\u001B[39;00m query_instance \u001B[38;5;129;01min\u001B[39;00m tqdm(query_instances_list):\n\u001B[0;32m    185\u001B[0m     \u001B[38;5;28mself\u001B[39m\u001B[38;5;241m.\u001B[39mdata_interface\u001B[38;5;241m.\u001B[39mset_continuous_feature_indexes(query_instance)\n\u001B[1;32m--> 186\u001B[0m     res \u001B[38;5;241m=\u001B[39m \u001B[38;5;28mself\u001B[39m\u001B[38;5;241m.\u001B[39m_generate_counterfactuals(\n\u001B[0;32m    187\u001B[0m         query_instance, total_CFs,\n\u001B[0;32m    188\u001B[0m         desired_class\u001B[38;5;241m=\u001B[39mdesired_class,\n\u001B[0;32m    189\u001B[0m         desired_range\u001B[38;5;241m=\u001B[39mdesired_range,\n\u001B[0;32m    190\u001B[0m         permitted_range\u001B[38;5;241m=\u001B[39mpermitted_range,\n\u001B[0;32m    191\u001B[0m         features_to_vary\u001B[38;5;241m=\u001B[39mfeatures_to_vary,\n\u001B[0;32m    192\u001B[0m         stopping_threshold\u001B[38;5;241m=\u001B[39mstopping_threshold,\n\u001B[0;32m    193\u001B[0m         posthoc_sparsity_param\u001B[38;5;241m=\u001B[39mposthoc_sparsity_param,\n\u001B[0;32m    194\u001B[0m         posthoc_sparsity_algorithm\u001B[38;5;241m=\u001B[39mposthoc_sparsity_algorithm,\n\u001B[0;32m    195\u001B[0m         verbose\u001B[38;5;241m=\u001B[39mverbose,\n\u001B[0;32m    196\u001B[0m         \u001B[38;5;241m*\u001B[39m\u001B[38;5;241m*\u001B[39mkwargs)\n\u001B[0;32m    197\u001B[0m     res\u001B[38;5;241m.\u001B[39mtest_instance_df \u001B[38;5;241m=\u001B[39m \u001B[38;5;28mself\u001B[39m\u001B[38;5;241m.\u001B[39mdata_interface\u001B[38;5;241m.\u001B[39mensure_consistent_type(\n\u001B[0;32m    198\u001B[0m             res\u001B[38;5;241m.\u001B[39mtest_instance_df, query_instance)\n\u001B[0;32m    199\u001B[0m     \u001B[38;5;28;01mif\u001B[39;00m res\u001B[38;5;241m.\u001B[39mfinal_cfs_df \u001B[38;5;129;01mis\u001B[39;00m \u001B[38;5;129;01mnot\u001B[39;00m \u001B[38;5;28;01mNone\u001B[39;00m \u001B[38;5;129;01mand\u001B[39;00m \u001B[38;5;28mlen\u001B[39m(res\u001B[38;5;241m.\u001B[39mfinal_cfs_df) \u001B[38;5;241m>\u001B[39m \u001B[38;5;241m0\u001B[39m:\n",
      "File \u001B[1;32m~\\anaconda3\\Lib\\site-packages\\dice_ml\\explainer_interfaces\\dice_genetic.py:287\u001B[0m, in \u001B[0;36mDiceGenetic._generate_counterfactuals\u001B[1;34m(self, query_instance, total_CFs, initialization, desired_range, desired_class, proximity_weight, sparsity_weight, diversity_weight, categorical_penalty, algorithm, features_to_vary, permitted_range, yloss_type, diversity_loss_type, feature_weights, stopping_threshold, posthoc_sparsity_param, posthoc_sparsity_algorithm, maxiterations, thresh, verbose)\u001B[0m\n\u001B[0;32m    284\u001B[0m     \u001B[38;5;28;01mif\u001B[39;00m col \u001B[38;5;129;01mnot\u001B[39;00m \u001B[38;5;129;01min\u001B[39;00m query_instance_df_dummies\u001B[38;5;241m.\u001B[39mcolumns:\n\u001B[0;32m    285\u001B[0m         query_instance_df_dummies[col] \u001B[38;5;241m=\u001B[39m \u001B[38;5;241m0\u001B[39m\n\u001B[1;32m--> 287\u001B[0m \u001B[38;5;28mself\u001B[39m\u001B[38;5;241m.\u001B[39mdo_param_initializations(total_CFs, initialization, desired_range, desired_class, query_instance,\n\u001B[0;32m    288\u001B[0m                               query_instance_df_dummies, algorithm, features_to_vary, permitted_range,\n\u001B[0;32m    289\u001B[0m                               yloss_type, diversity_loss_type, feature_weights, proximity_weight,\n\u001B[0;32m    290\u001B[0m                               sparsity_weight, diversity_weight, categorical_penalty, verbose)\n\u001B[0;32m    292\u001B[0m query_instance_df \u001B[38;5;241m=\u001B[39m \u001B[38;5;28mself\u001B[39m\u001B[38;5;241m.\u001B[39mfind_counterfactuals(query_instance, desired_range, desired_class, features_to_vary,\n\u001B[0;32m    293\u001B[0m                                               maxiterations, thresh, verbose)\n\u001B[0;32m    295\u001B[0m desired_class_param \u001B[38;5;241m=\u001B[39m \u001B[38;5;28mself\u001B[39m\u001B[38;5;241m.\u001B[39mdecode_model_output(pd\u001B[38;5;241m.\u001B[39mSeries(\u001B[38;5;28mself\u001B[39m\u001B[38;5;241m.\u001B[39mtarget_cf_class[\u001B[38;5;241m0\u001B[39m]))[\u001B[38;5;241m0\u001B[39m] \\\n\u001B[0;32m    296\u001B[0m     \u001B[38;5;28;01mif\u001B[39;00m \u001B[38;5;28mhasattr\u001B[39m(\u001B[38;5;28mself\u001B[39m, \u001B[38;5;124m'\u001B[39m\u001B[38;5;124mtarget_cf_class\u001B[39m\u001B[38;5;124m'\u001B[39m) \u001B[38;5;28;01melse\u001B[39;00m desired_class\n",
      "File \u001B[1;32m~\\anaconda3\\Lib\\site-packages\\dice_ml\\explainer_interfaces\\dice_genetic.py:194\u001B[0m, in \u001B[0;36mDiceGenetic.do_param_initializations\u001B[1;34m(self, total_CFs, initialization, desired_range, desired_class, query_instance, query_instance_df_dummies, algorithm, features_to_vary, permitted_range, yloss_type, diversity_loss_type, feature_weights, proximity_weight, sparsity_weight, diversity_weight, categorical_penalty, verbose)\u001B[0m\n\u001B[0;32m    192\u001B[0m \u001B[38;5;28mself\u001B[39m\u001B[38;5;241m.\u001B[39mfeature_range \u001B[38;5;241m=\u001B[39m \u001B[38;5;28mself\u001B[39m\u001B[38;5;241m.\u001B[39mget_valid_feature_range(normalized\u001B[38;5;241m=\u001B[39m\u001B[38;5;28;01mFalse\u001B[39;00m)\n\u001B[0;32m    193\u001B[0m \u001B[38;5;28;01mif\u001B[39;00m \u001B[38;5;28mlen\u001B[39m(\u001B[38;5;28mself\u001B[39m\u001B[38;5;241m.\u001B[39mcfs) \u001B[38;5;241m!=\u001B[39m total_CFs:\n\u001B[1;32m--> 194\u001B[0m     \u001B[38;5;28mself\u001B[39m\u001B[38;5;241m.\u001B[39mdo_cf_initializations(\n\u001B[0;32m    195\u001B[0m         total_CFs, initialization, algorithm, features_to_vary, desired_range, desired_class,\n\u001B[0;32m    196\u001B[0m         query_instance, query_instance_df_dummies, verbose)\n\u001B[0;32m    197\u001B[0m \u001B[38;5;28;01melse\u001B[39;00m:\n\u001B[0;32m    198\u001B[0m     \u001B[38;5;28mself\u001B[39m\u001B[38;5;241m.\u001B[39mtotal_CFs \u001B[38;5;241m=\u001B[39m total_CFs\n",
      "File \u001B[1;32m~\\anaconda3\\Lib\\site-packages\\dice_ml\\explainer_interfaces\\dice_genetic.py:173\u001B[0m, in \u001B[0;36mDiceGenetic.do_cf_initializations\u001B[1;34m(self, total_CFs, initialization, algorithm, features_to_vary, desired_range, desired_class, query_instance, query_instance_df_dummies, verbose)\u001B[0m\n\u001B[0;32m    169\u001B[0m \u001B[38;5;28mself\u001B[39m\u001B[38;5;241m.\u001B[39mdataset_with_predictions, \u001B[38;5;28mself\u001B[39m\u001B[38;5;241m.\u001B[39mKD_tree, \u001B[38;5;28mself\u001B[39m\u001B[38;5;241m.\u001B[39mpredictions \u001B[38;5;241m=\u001B[39m \\\n\u001B[0;32m    170\u001B[0m     \u001B[38;5;28mself\u001B[39m\u001B[38;5;241m.\u001B[39mbuild_KD_tree(\u001B[38;5;28mself\u001B[39m\u001B[38;5;241m.\u001B[39mdata_interface\u001B[38;5;241m.\u001B[39mdata_df\u001B[38;5;241m.\u001B[39mcopy(),\n\u001B[0;32m    171\u001B[0m                        desired_range, desired_class, \u001B[38;5;28mself\u001B[39m\u001B[38;5;241m.\u001B[39mpredicted_outcome_name)\n\u001B[0;32m    172\u001B[0m \u001B[38;5;28;01mif\u001B[39;00m \u001B[38;5;28mself\u001B[39m\u001B[38;5;241m.\u001B[39mKD_tree \u001B[38;5;129;01mis\u001B[39;00m \u001B[38;5;28;01mNone\u001B[39;00m:\n\u001B[1;32m--> 173\u001B[0m     \u001B[38;5;28mself\u001B[39m\u001B[38;5;241m.\u001B[39mcfs \u001B[38;5;241m=\u001B[39m \u001B[38;5;28mself\u001B[39m\u001B[38;5;241m.\u001B[39mdo_random_init(\n\u001B[0;32m    174\u001B[0m         \u001B[38;5;28mself\u001B[39m\u001B[38;5;241m.\u001B[39mpopulation_size, features_to_vary, query_instance, desired_class, desired_range)\n\u001B[0;32m    176\u001B[0m \u001B[38;5;28;01melse\u001B[39;00m:\n\u001B[0;32m    177\u001B[0m     num_queries \u001B[38;5;241m=\u001B[39m \u001B[38;5;28mmin\u001B[39m(\u001B[38;5;28mlen\u001B[39m(\u001B[38;5;28mself\u001B[39m\u001B[38;5;241m.\u001B[39mdataset_with_predictions), \u001B[38;5;28mself\u001B[39m\u001B[38;5;241m.\u001B[39mpopulation_size \u001B[38;5;241m*\u001B[39m \u001B[38;5;28mself\u001B[39m\u001B[38;5;241m.\u001B[39mtotal_CFs)\n",
      "File \u001B[1;32m~\\anaconda3\\Lib\\site-packages\\dice_ml\\explainer_interfaces\\dice_genetic.py:93\u001B[0m, in \u001B[0;36mDiceGenetic.do_random_init\u001B[1;34m(self, num_inits, features_to_vary, query_instance, desired_class, desired_range)\u001B[0m\n\u001B[0;32m     90\u001B[0m \u001B[38;5;28;01mif\u001B[39;00m feature \u001B[38;5;129;01min\u001B[39;00m features_to_vary:\n\u001B[0;32m     91\u001B[0m     \u001B[38;5;28;01mif\u001B[39;00m feature \u001B[38;5;129;01min\u001B[39;00m \u001B[38;5;28mself\u001B[39m\u001B[38;5;241m.\u001B[39mdata_interface\u001B[38;5;241m.\u001B[39mcontinuous_feature_names:\n\u001B[0;32m     92\u001B[0m         one_init[jx] \u001B[38;5;241m=\u001B[39m np\u001B[38;5;241m.\u001B[39mround(np\u001B[38;5;241m.\u001B[39mrandom\u001B[38;5;241m.\u001B[39muniform(\n\u001B[1;32m---> 93\u001B[0m             \u001B[38;5;28mself\u001B[39m\u001B[38;5;241m.\u001B[39mfeature_range[feature][\u001B[38;5;241m0\u001B[39m], \u001B[38;5;28mself\u001B[39m\u001B[38;5;241m.\u001B[39mfeature_range[feature][\u001B[38;5;241m1\u001B[39m]), precisions[jx])\n\u001B[0;32m     94\u001B[0m     \u001B[38;5;28;01melse\u001B[39;00m:\n\u001B[0;32m     95\u001B[0m         one_init[jx] \u001B[38;5;241m=\u001B[39m np\u001B[38;5;241m.\u001B[39mrandom\u001B[38;5;241m.\u001B[39mchoice(\u001B[38;5;28mself\u001B[39m\u001B[38;5;241m.\u001B[39mfeature_range[feature])\n",
      "\u001B[1;31mKeyError\u001B[0m: 0"
     ]
    }
   ],
   "execution_count": 36,
   "source": [
    "# Generate counterfactuals\n",
    "cfe_genetic = exp_genetic.generate_counterfactuals(\n",
    "    query_instance1,\n",
    "    total_CFs=4,\n",
    "    desired_class=1,\n",
    "    proximity_weight=0.5,\n",
    "    diversity_weight=1.0,\n",
    "    categorical_penalty=0.1,\n",
    "    algorithm=\"genetic\",\n",
    "    verbose=False\n",
    ")"
   ],
   "id": "5c125e1d2aa7268c"
  },
  {
   "metadata": {
    "ExecuteTime": {
     "end_time": "2025-10-26T18:47:08.126616Z",
     "start_time": "2025-10-26T18:47:08.099509Z"
    }
   },
   "cell_type": "code",
   "outputs": [
    {
     "data": {
      "text/plain": [
       "   xrsa[0:120]_mean  xrsa[0:60]_mean  xrsa[0:30]_mean  xrsa[0:15]_mean  \\\n",
       "0      0.0000000092     0.0000000120     0.0000000126     0.0000000147   \n",
       "1      0.0000001063     0.0000001048     0.0000000415     0.0000000265   \n",
       "2      0.0000000285     0.0000000420     0.0000000621     0.0000000436   \n",
       "3      0.0000000942     0.0000000696     0.0000000799     0.0000000878   \n",
       "4      0.0000001324     0.0000001752     0.0000002553     0.0000002953   \n",
       "\n",
       "   xrsa[0:7]_mean  xrsa[0:3]_mean  xrsa[3:7]_mean  xrsa[7:15]_mean  \\\n",
       "0    0.0000000175    0.0000000179    0.0000000173     0.0000000122   \n",
       "1    0.0000000327    0.0000000375    0.0000000291     0.0000000211   \n",
       "2    0.0000000332    0.0000000297    0.0000000358     0.0000000528   \n",
       "3    0.0000000954    0.0000001025    0.0000000900     0.0000000813   \n",
       "4    0.0000003365    0.0000003669    0.0000003137     0.0000002593   \n",
       "\n",
       "   xrsa[7:11]_mean  xrsa[11:15]_mean  ...  xrsb[97:101]_mean  \\\n",
       "0     0.0000000143      0.0000000101  ...       0.0000014508   \n",
       "1     0.0000000230      0.0000000191  ...       0.0000031357   \n",
       "2     0.0000000431      0.0000000625  ...       0.0000017682   \n",
       "3     0.0000000809      0.0000000816  ...       0.0000055052   \n",
       "4     0.0000002744      0.0000002442  ...       0.0000033144   \n",
       "\n",
       "   xrsb[101:105]_mean  xrsb[105:120]_mean  xrsb[105:112]_mean  \\\n",
       "0        0.0000014495        0.0000014425        0.0000014633   \n",
       "1        0.0000030529        0.0000032817        0.0000032318   \n",
       "2        0.0000017766        0.0000018039        0.0000017869   \n",
       "3        0.0000054217        0.0000046488        0.0000048258   \n",
       "4        0.0000032013        0.0000028247        0.0000029071   \n",
       "\n",
       "   xrsb[105:108]_mean  xrsb[108:112]_mean  xrsb[112:120]_mean  \\\n",
       "0        0.0000014373        0.0000014827        0.0000014243   \n",
       "1        0.0000031572        0.0000032877        0.0000033254   \n",
       "2        0.0000017729        0.0000017974        0.0000018189   \n",
       "3        0.0000050461        0.0000046606        0.0000044940   \n",
       "4        0.0000029743        0.0000028567        0.0000027527   \n",
       "\n",
       "   xrsb[112:116]_mean  xrsb[116:120]_mean  binary_label  \n",
       "0        0.0000014437        0.0000014050  0.0000000000  \n",
       "1        0.0000033158        0.0000033350  0.0000000000  \n",
       "2        0.0000018255        0.0000018122  0.0000000000  \n",
       "3        0.0000043920        0.0000045959  1.0000000000  \n",
       "4        0.0000027911        0.0000027142  0.0000000000  \n",
       "\n",
       "[5 rows x 127 columns]"
      ],
      "text/html": [
       "<div>\n",
       "<style scoped>\n",
       "    .dataframe tbody tr th:only-of-type {\n",
       "        vertical-align: middle;\n",
       "    }\n",
       "\n",
       "    .dataframe tbody tr th {\n",
       "        vertical-align: top;\n",
       "    }\n",
       "\n",
       "    .dataframe thead th {\n",
       "        text-align: right;\n",
       "    }\n",
       "</style>\n",
       "<table border=\"1\" class=\"dataframe\">\n",
       "  <thead>\n",
       "    <tr style=\"text-align: right;\">\n",
       "      <th></th>\n",
       "      <th>xrsa[0:120]_mean</th>\n",
       "      <th>xrsa[0:60]_mean</th>\n",
       "      <th>xrsa[0:30]_mean</th>\n",
       "      <th>xrsa[0:15]_mean</th>\n",
       "      <th>xrsa[0:7]_mean</th>\n",
       "      <th>xrsa[0:3]_mean</th>\n",
       "      <th>xrsa[3:7]_mean</th>\n",
       "      <th>xrsa[7:15]_mean</th>\n",
       "      <th>xrsa[7:11]_mean</th>\n",
       "      <th>xrsa[11:15]_mean</th>\n",
       "      <th>...</th>\n",
       "      <th>xrsb[97:101]_mean</th>\n",
       "      <th>xrsb[101:105]_mean</th>\n",
       "      <th>xrsb[105:120]_mean</th>\n",
       "      <th>xrsb[105:112]_mean</th>\n",
       "      <th>xrsb[105:108]_mean</th>\n",
       "      <th>xrsb[108:112]_mean</th>\n",
       "      <th>xrsb[112:120]_mean</th>\n",
       "      <th>xrsb[112:116]_mean</th>\n",
       "      <th>xrsb[116:120]_mean</th>\n",
       "      <th>binary_label</th>\n",
       "    </tr>\n",
       "  </thead>\n",
       "  <tbody>\n",
       "    <tr>\n",
       "      <th>0</th>\n",
       "      <td>0.0000000092</td>\n",
       "      <td>0.0000000120</td>\n",
       "      <td>0.0000000126</td>\n",
       "      <td>0.0000000147</td>\n",
       "      <td>0.0000000175</td>\n",
       "      <td>0.0000000179</td>\n",
       "      <td>0.0000000173</td>\n",
       "      <td>0.0000000122</td>\n",
       "      <td>0.0000000143</td>\n",
       "      <td>0.0000000101</td>\n",
       "      <td>...</td>\n",
       "      <td>0.0000014508</td>\n",
       "      <td>0.0000014495</td>\n",
       "      <td>0.0000014425</td>\n",
       "      <td>0.0000014633</td>\n",
       "      <td>0.0000014373</td>\n",
       "      <td>0.0000014827</td>\n",
       "      <td>0.0000014243</td>\n",
       "      <td>0.0000014437</td>\n",
       "      <td>0.0000014050</td>\n",
       "      <td>0.0000000000</td>\n",
       "    </tr>\n",
       "    <tr>\n",
       "      <th>1</th>\n",
       "      <td>0.0000001063</td>\n",
       "      <td>0.0000001048</td>\n",
       "      <td>0.0000000415</td>\n",
       "      <td>0.0000000265</td>\n",
       "      <td>0.0000000327</td>\n",
       "      <td>0.0000000375</td>\n",
       "      <td>0.0000000291</td>\n",
       "      <td>0.0000000211</td>\n",
       "      <td>0.0000000230</td>\n",
       "      <td>0.0000000191</td>\n",
       "      <td>...</td>\n",
       "      <td>0.0000031357</td>\n",
       "      <td>0.0000030529</td>\n",
       "      <td>0.0000032817</td>\n",
       "      <td>0.0000032318</td>\n",
       "      <td>0.0000031572</td>\n",
       "      <td>0.0000032877</td>\n",
       "      <td>0.0000033254</td>\n",
       "      <td>0.0000033158</td>\n",
       "      <td>0.0000033350</td>\n",
       "      <td>0.0000000000</td>\n",
       "    </tr>\n",
       "    <tr>\n",
       "      <th>2</th>\n",
       "      <td>0.0000000285</td>\n",
       "      <td>0.0000000420</td>\n",
       "      <td>0.0000000621</td>\n",
       "      <td>0.0000000436</td>\n",
       "      <td>0.0000000332</td>\n",
       "      <td>0.0000000297</td>\n",
       "      <td>0.0000000358</td>\n",
       "      <td>0.0000000528</td>\n",
       "      <td>0.0000000431</td>\n",
       "      <td>0.0000000625</td>\n",
       "      <td>...</td>\n",
       "      <td>0.0000017682</td>\n",
       "      <td>0.0000017766</td>\n",
       "      <td>0.0000018039</td>\n",
       "      <td>0.0000017869</td>\n",
       "      <td>0.0000017729</td>\n",
       "      <td>0.0000017974</td>\n",
       "      <td>0.0000018189</td>\n",
       "      <td>0.0000018255</td>\n",
       "      <td>0.0000018122</td>\n",
       "      <td>0.0000000000</td>\n",
       "    </tr>\n",
       "    <tr>\n",
       "      <th>3</th>\n",
       "      <td>0.0000000942</td>\n",
       "      <td>0.0000000696</td>\n",
       "      <td>0.0000000799</td>\n",
       "      <td>0.0000000878</td>\n",
       "      <td>0.0000000954</td>\n",
       "      <td>0.0000001025</td>\n",
       "      <td>0.0000000900</td>\n",
       "      <td>0.0000000813</td>\n",
       "      <td>0.0000000809</td>\n",
       "      <td>0.0000000816</td>\n",
       "      <td>...</td>\n",
       "      <td>0.0000055052</td>\n",
       "      <td>0.0000054217</td>\n",
       "      <td>0.0000046488</td>\n",
       "      <td>0.0000048258</td>\n",
       "      <td>0.0000050461</td>\n",
       "      <td>0.0000046606</td>\n",
       "      <td>0.0000044940</td>\n",
       "      <td>0.0000043920</td>\n",
       "      <td>0.0000045959</td>\n",
       "      <td>1.0000000000</td>\n",
       "    </tr>\n",
       "    <tr>\n",
       "      <th>4</th>\n",
       "      <td>0.0000001324</td>\n",
       "      <td>0.0000001752</td>\n",
       "      <td>0.0000002553</td>\n",
       "      <td>0.0000002953</td>\n",
       "      <td>0.0000003365</td>\n",
       "      <td>0.0000003669</td>\n",
       "      <td>0.0000003137</td>\n",
       "      <td>0.0000002593</td>\n",
       "      <td>0.0000002744</td>\n",
       "      <td>0.0000002442</td>\n",
       "      <td>...</td>\n",
       "      <td>0.0000033144</td>\n",
       "      <td>0.0000032013</td>\n",
       "      <td>0.0000028247</td>\n",
       "      <td>0.0000029071</td>\n",
       "      <td>0.0000029743</td>\n",
       "      <td>0.0000028567</td>\n",
       "      <td>0.0000027527</td>\n",
       "      <td>0.0000027911</td>\n",
       "      <td>0.0000027142</td>\n",
       "      <td>0.0000000000</td>\n",
       "    </tr>\n",
       "  </tbody>\n",
       "</table>\n",
       "<p>5 rows × 127 columns</p>\n",
       "</div>"
      ]
     },
     "execution_count": 25,
     "metadata": {},
     "output_type": "execute_result"
    }
   ],
   "execution_count": 25,
   "source": "df_cfe.head()",
   "id": "f5e7ea209854c70a"
  },
  {
   "metadata": {
    "ExecuteTime": {
     "end_time": "2025-10-26T18:51:51.897137Z",
     "start_time": "2025-10-26T18:51:51.836752Z"
    }
   },
   "cell_type": "code",
   "outputs": [],
   "execution_count": 26,
   "source": [
    "# Ensure all features have proper decimal representation\n",
    "for col in cont_features:\n",
    "    df_cfe[col] = df_cfe[col].apply(lambda x: float(f\"{x:.6f}\"))"
   ],
   "id": "5ae016403ff0570f"
  },
  {
   "metadata": {
    "ExecuteTime": {
     "end_time": "2025-10-26T18:52:01.096283Z",
     "start_time": "2025-10-26T18:52:01.008332Z"
    }
   },
   "cell_type": "code",
   "outputs": [
    {
     "name": "stdout",
     "output_type": "stream",
     "text": [
      "\n",
      "Random Dice explainer created successfully.\n",
      "\n"
     ]
    }
   ],
   "execution_count": 28,
   "source": [
    "cfe_model = dice_ml.Model(model=best_rf, backend=\"sklearn\", model_type='classifier')\n",
    "exp_random = dice_ml.Dice(data_interface=data, model_interface=cfe_model, method=\"random\") #method= [\"genetic\",\"kdtree\",\"random\"]\n",
    "\n",
    "joblib.dump(exp_random, \"../../models/goes18_xrs_2024_cfe_random_explainer.pkl\")\n",
    "\n",
    "print(\"\\nRandom Dice explainer created successfully.\\n\")"
   ],
   "id": "98dfda010cb8300e"
  },
  {
   "metadata": {
    "ExecuteTime": {
     "end_time": "2025-10-26T18:52:03.958159Z",
     "start_time": "2025-10-26T18:52:03.869184Z"
    }
   },
   "cell_type": "code",
   "outputs": [
    {
     "name": "stdout",
     "output_type": "stream",
     "text": [
      "\n",
      "Genetic Dice explainer created successfully.\n",
      "\n"
     ]
    }
   ],
   "execution_count": 29,
   "source": [
    "#Define a Model object using dice_ml.Model (we are using this CFE model for regressor type of prediction model\n",
    "cfe_model = dice_ml.Model(model=best_rf, backend=\"sklearn\", model_type='classifier')\n",
    "#Create the Dice explainer\n",
    "exp_genetic = dice_ml.Dice(data_interface=data, model_interface=cfe_model, method=\"genetic\") #method= [\"genetic\",\"kdtree\",\"random\"]\n",
    "\n",
    "# Save the explainer (DiCE model) using joblib\n",
    "joblib.dump(exp_genetic, \"../../models/goes18_xrs_2024_cfe_genetic_explainer.pkl\")\n",
    "\n",
    "#use `exp` to generate counterfactual explanations\n",
    "print(\"\\nGenetic Dice explainer created successfully.\\n\")"
   ],
   "id": "fd3fe0d40174df30"
  },
  {
   "metadata": {
    "ExecuteTime": {
     "end_time": "2025-10-26T18:54:35.617502Z",
     "start_time": "2025-10-26T18:54:35.147982Z"
    }
   },
   "cell_type": "code",
   "source": [
    "cfe_exp=[]\n",
    "cfe_genetic = exp_genetic.generate_counterfactuals(\n",
    "    query_instance1,  #multiple query instances can be provided as an input dataframe\n",
    "    total_CFs=4,  # Number of counterfactual examples to generate\n",
    "    desired_class=1#'opposite' #,  # Specify the desired class for a continuous target variable\n",
    "    )\n",
    "cfe_genetic.visualize_as_dataframe(show_only_changes=True)\n",
    "cfe_df = cfe_genetic.cf_examples_list[0].final_cfs_df\n",
    "\n",
    "# df_cfe_exp\n"
   ],
   "id": "fb4ae803ec5dfca6",
   "outputs": [
    {
     "name": "stderr",
     "output_type": "stream",
     "text": [
      "  0%|          | 0/1 [00:00<?, ?it/s]\n"
     ]
    },
    {
     "ename": "KeyError",
     "evalue": "0",
     "output_type": "error",
     "traceback": [
      "\u001B[1;31m---------------------------------------------------------------------------\u001B[0m",
      "\u001B[1;31mKeyError\u001B[0m                                  Traceback (most recent call last)",
      "Cell \u001B[1;32mIn[32], line 2\u001B[0m\n\u001B[0;32m      1\u001B[0m cfe_exp\u001B[38;5;241m=\u001B[39m[]\n\u001B[1;32m----> 2\u001B[0m cfe_genetic \u001B[38;5;241m=\u001B[39m exp_genetic\u001B[38;5;241m.\u001B[39mgenerate_counterfactuals(\n\u001B[0;32m      3\u001B[0m     query_instance1,  \u001B[38;5;66;03m#multiple query instances can be provided as an input dataframe\u001B[39;00m\n\u001B[0;32m      4\u001B[0m     total_CFs\u001B[38;5;241m=\u001B[39m\u001B[38;5;241m4\u001B[39m,  \u001B[38;5;66;03m# Number of counterfactual examples to generate\u001B[39;00m\n\u001B[0;32m      5\u001B[0m     desired_class\u001B[38;5;241m=\u001B[39m\u001B[38;5;241m1\u001B[39m\u001B[38;5;66;03m#'opposite' #,  # Specify the desired class for a continuous target variable\u001B[39;00m\n\u001B[0;32m      6\u001B[0m     )\n\u001B[0;32m      7\u001B[0m cfe_genetic\u001B[38;5;241m.\u001B[39mvisualize_as_dataframe(show_only_changes\u001B[38;5;241m=\u001B[39m\u001B[38;5;28;01mTrue\u001B[39;00m)\n\u001B[0;32m      8\u001B[0m cfe_df \u001B[38;5;241m=\u001B[39m cfe_genetic\u001B[38;5;241m.\u001B[39mcf_examples_list[\u001B[38;5;241m0\u001B[39m]\u001B[38;5;241m.\u001B[39mfinal_cfs_df\n",
      "File \u001B[1;32m~\\anaconda3\\Lib\\site-packages\\dice_ml\\explainer_interfaces\\explainer_base.py:186\u001B[0m, in \u001B[0;36mExplainerBase.generate_counterfactuals\u001B[1;34m(self, query_instances, total_CFs, desired_class, desired_range, permitted_range, features_to_vary, stopping_threshold, posthoc_sparsity_param, proximity_weight, sparsity_weight, diversity_weight, categorical_penalty, posthoc_sparsity_algorithm, verbose, **kwargs)\u001B[0m\n\u001B[0;32m    184\u001B[0m \u001B[38;5;28;01mfor\u001B[39;00m query_instance \u001B[38;5;129;01min\u001B[39;00m tqdm(query_instances_list):\n\u001B[0;32m    185\u001B[0m     \u001B[38;5;28mself\u001B[39m\u001B[38;5;241m.\u001B[39mdata_interface\u001B[38;5;241m.\u001B[39mset_continuous_feature_indexes(query_instance)\n\u001B[1;32m--> 186\u001B[0m     res \u001B[38;5;241m=\u001B[39m \u001B[38;5;28mself\u001B[39m\u001B[38;5;241m.\u001B[39m_generate_counterfactuals(\n\u001B[0;32m    187\u001B[0m         query_instance, total_CFs,\n\u001B[0;32m    188\u001B[0m         desired_class\u001B[38;5;241m=\u001B[39mdesired_class,\n\u001B[0;32m    189\u001B[0m         desired_range\u001B[38;5;241m=\u001B[39mdesired_range,\n\u001B[0;32m    190\u001B[0m         permitted_range\u001B[38;5;241m=\u001B[39mpermitted_range,\n\u001B[0;32m    191\u001B[0m         features_to_vary\u001B[38;5;241m=\u001B[39mfeatures_to_vary,\n\u001B[0;32m    192\u001B[0m         stopping_threshold\u001B[38;5;241m=\u001B[39mstopping_threshold,\n\u001B[0;32m    193\u001B[0m         posthoc_sparsity_param\u001B[38;5;241m=\u001B[39mposthoc_sparsity_param,\n\u001B[0;32m    194\u001B[0m         posthoc_sparsity_algorithm\u001B[38;5;241m=\u001B[39mposthoc_sparsity_algorithm,\n\u001B[0;32m    195\u001B[0m         verbose\u001B[38;5;241m=\u001B[39mverbose,\n\u001B[0;32m    196\u001B[0m         \u001B[38;5;241m*\u001B[39m\u001B[38;5;241m*\u001B[39mkwargs)\n\u001B[0;32m    197\u001B[0m     res\u001B[38;5;241m.\u001B[39mtest_instance_df \u001B[38;5;241m=\u001B[39m \u001B[38;5;28mself\u001B[39m\u001B[38;5;241m.\u001B[39mdata_interface\u001B[38;5;241m.\u001B[39mensure_consistent_type(\n\u001B[0;32m    198\u001B[0m             res\u001B[38;5;241m.\u001B[39mtest_instance_df, query_instance)\n\u001B[0;32m    199\u001B[0m     \u001B[38;5;28;01mif\u001B[39;00m res\u001B[38;5;241m.\u001B[39mfinal_cfs_df \u001B[38;5;129;01mis\u001B[39;00m \u001B[38;5;129;01mnot\u001B[39;00m \u001B[38;5;28;01mNone\u001B[39;00m \u001B[38;5;129;01mand\u001B[39;00m \u001B[38;5;28mlen\u001B[39m(res\u001B[38;5;241m.\u001B[39mfinal_cfs_df) \u001B[38;5;241m>\u001B[39m \u001B[38;5;241m0\u001B[39m:\n",
      "File \u001B[1;32m~\\anaconda3\\Lib\\site-packages\\dice_ml\\explainer_interfaces\\dice_genetic.py:287\u001B[0m, in \u001B[0;36mDiceGenetic._generate_counterfactuals\u001B[1;34m(self, query_instance, total_CFs, initialization, desired_range, desired_class, proximity_weight, sparsity_weight, diversity_weight, categorical_penalty, algorithm, features_to_vary, permitted_range, yloss_type, diversity_loss_type, feature_weights, stopping_threshold, posthoc_sparsity_param, posthoc_sparsity_algorithm, maxiterations, thresh, verbose)\u001B[0m\n\u001B[0;32m    284\u001B[0m     \u001B[38;5;28;01mif\u001B[39;00m col \u001B[38;5;129;01mnot\u001B[39;00m \u001B[38;5;129;01min\u001B[39;00m query_instance_df_dummies\u001B[38;5;241m.\u001B[39mcolumns:\n\u001B[0;32m    285\u001B[0m         query_instance_df_dummies[col] \u001B[38;5;241m=\u001B[39m \u001B[38;5;241m0\u001B[39m\n\u001B[1;32m--> 287\u001B[0m \u001B[38;5;28mself\u001B[39m\u001B[38;5;241m.\u001B[39mdo_param_initializations(total_CFs, initialization, desired_range, desired_class, query_instance,\n\u001B[0;32m    288\u001B[0m                               query_instance_df_dummies, algorithm, features_to_vary, permitted_range,\n\u001B[0;32m    289\u001B[0m                               yloss_type, diversity_loss_type, feature_weights, proximity_weight,\n\u001B[0;32m    290\u001B[0m                               sparsity_weight, diversity_weight, categorical_penalty, verbose)\n\u001B[0;32m    292\u001B[0m query_instance_df \u001B[38;5;241m=\u001B[39m \u001B[38;5;28mself\u001B[39m\u001B[38;5;241m.\u001B[39mfind_counterfactuals(query_instance, desired_range, desired_class, features_to_vary,\n\u001B[0;32m    293\u001B[0m                                               maxiterations, thresh, verbose)\n\u001B[0;32m    295\u001B[0m desired_class_param \u001B[38;5;241m=\u001B[39m \u001B[38;5;28mself\u001B[39m\u001B[38;5;241m.\u001B[39mdecode_model_output(pd\u001B[38;5;241m.\u001B[39mSeries(\u001B[38;5;28mself\u001B[39m\u001B[38;5;241m.\u001B[39mtarget_cf_class[\u001B[38;5;241m0\u001B[39m]))[\u001B[38;5;241m0\u001B[39m] \\\n\u001B[0;32m    296\u001B[0m     \u001B[38;5;28;01mif\u001B[39;00m \u001B[38;5;28mhasattr\u001B[39m(\u001B[38;5;28mself\u001B[39m, \u001B[38;5;124m'\u001B[39m\u001B[38;5;124mtarget_cf_class\u001B[39m\u001B[38;5;124m'\u001B[39m) \u001B[38;5;28;01melse\u001B[39;00m desired_class\n",
      "File \u001B[1;32m~\\anaconda3\\Lib\\site-packages\\dice_ml\\explainer_interfaces\\dice_genetic.py:194\u001B[0m, in \u001B[0;36mDiceGenetic.do_param_initializations\u001B[1;34m(self, total_CFs, initialization, desired_range, desired_class, query_instance, query_instance_df_dummies, algorithm, features_to_vary, permitted_range, yloss_type, diversity_loss_type, feature_weights, proximity_weight, sparsity_weight, diversity_weight, categorical_penalty, verbose)\u001B[0m\n\u001B[0;32m    192\u001B[0m \u001B[38;5;28mself\u001B[39m\u001B[38;5;241m.\u001B[39mfeature_range \u001B[38;5;241m=\u001B[39m \u001B[38;5;28mself\u001B[39m\u001B[38;5;241m.\u001B[39mget_valid_feature_range(normalized\u001B[38;5;241m=\u001B[39m\u001B[38;5;28;01mFalse\u001B[39;00m)\n\u001B[0;32m    193\u001B[0m \u001B[38;5;28;01mif\u001B[39;00m \u001B[38;5;28mlen\u001B[39m(\u001B[38;5;28mself\u001B[39m\u001B[38;5;241m.\u001B[39mcfs) \u001B[38;5;241m!=\u001B[39m total_CFs:\n\u001B[1;32m--> 194\u001B[0m     \u001B[38;5;28mself\u001B[39m\u001B[38;5;241m.\u001B[39mdo_cf_initializations(\n\u001B[0;32m    195\u001B[0m         total_CFs, initialization, algorithm, features_to_vary, desired_range, desired_class,\n\u001B[0;32m    196\u001B[0m         query_instance, query_instance_df_dummies, verbose)\n\u001B[0;32m    197\u001B[0m \u001B[38;5;28;01melse\u001B[39;00m:\n\u001B[0;32m    198\u001B[0m     \u001B[38;5;28mself\u001B[39m\u001B[38;5;241m.\u001B[39mtotal_CFs \u001B[38;5;241m=\u001B[39m total_CFs\n",
      "File \u001B[1;32m~\\anaconda3\\Lib\\site-packages\\dice_ml\\explainer_interfaces\\dice_genetic.py:173\u001B[0m, in \u001B[0;36mDiceGenetic.do_cf_initializations\u001B[1;34m(self, total_CFs, initialization, algorithm, features_to_vary, desired_range, desired_class, query_instance, query_instance_df_dummies, verbose)\u001B[0m\n\u001B[0;32m    169\u001B[0m \u001B[38;5;28mself\u001B[39m\u001B[38;5;241m.\u001B[39mdataset_with_predictions, \u001B[38;5;28mself\u001B[39m\u001B[38;5;241m.\u001B[39mKD_tree, \u001B[38;5;28mself\u001B[39m\u001B[38;5;241m.\u001B[39mpredictions \u001B[38;5;241m=\u001B[39m \\\n\u001B[0;32m    170\u001B[0m     \u001B[38;5;28mself\u001B[39m\u001B[38;5;241m.\u001B[39mbuild_KD_tree(\u001B[38;5;28mself\u001B[39m\u001B[38;5;241m.\u001B[39mdata_interface\u001B[38;5;241m.\u001B[39mdata_df\u001B[38;5;241m.\u001B[39mcopy(),\n\u001B[0;32m    171\u001B[0m                        desired_range, desired_class, \u001B[38;5;28mself\u001B[39m\u001B[38;5;241m.\u001B[39mpredicted_outcome_name)\n\u001B[0;32m    172\u001B[0m \u001B[38;5;28;01mif\u001B[39;00m \u001B[38;5;28mself\u001B[39m\u001B[38;5;241m.\u001B[39mKD_tree \u001B[38;5;129;01mis\u001B[39;00m \u001B[38;5;28;01mNone\u001B[39;00m:\n\u001B[1;32m--> 173\u001B[0m     \u001B[38;5;28mself\u001B[39m\u001B[38;5;241m.\u001B[39mcfs \u001B[38;5;241m=\u001B[39m \u001B[38;5;28mself\u001B[39m\u001B[38;5;241m.\u001B[39mdo_random_init(\n\u001B[0;32m    174\u001B[0m         \u001B[38;5;28mself\u001B[39m\u001B[38;5;241m.\u001B[39mpopulation_size, features_to_vary, query_instance, desired_class, desired_range)\n\u001B[0;32m    176\u001B[0m \u001B[38;5;28;01melse\u001B[39;00m:\n\u001B[0;32m    177\u001B[0m     num_queries \u001B[38;5;241m=\u001B[39m \u001B[38;5;28mmin\u001B[39m(\u001B[38;5;28mlen\u001B[39m(\u001B[38;5;28mself\u001B[39m\u001B[38;5;241m.\u001B[39mdataset_with_predictions), \u001B[38;5;28mself\u001B[39m\u001B[38;5;241m.\u001B[39mpopulation_size \u001B[38;5;241m*\u001B[39m \u001B[38;5;28mself\u001B[39m\u001B[38;5;241m.\u001B[39mtotal_CFs)\n",
      "File \u001B[1;32m~\\anaconda3\\Lib\\site-packages\\dice_ml\\explainer_interfaces\\dice_genetic.py:93\u001B[0m, in \u001B[0;36mDiceGenetic.do_random_init\u001B[1;34m(self, num_inits, features_to_vary, query_instance, desired_class, desired_range)\u001B[0m\n\u001B[0;32m     90\u001B[0m \u001B[38;5;28;01mif\u001B[39;00m feature \u001B[38;5;129;01min\u001B[39;00m features_to_vary:\n\u001B[0;32m     91\u001B[0m     \u001B[38;5;28;01mif\u001B[39;00m feature \u001B[38;5;129;01min\u001B[39;00m \u001B[38;5;28mself\u001B[39m\u001B[38;5;241m.\u001B[39mdata_interface\u001B[38;5;241m.\u001B[39mcontinuous_feature_names:\n\u001B[0;32m     92\u001B[0m         one_init[jx] \u001B[38;5;241m=\u001B[39m np\u001B[38;5;241m.\u001B[39mround(np\u001B[38;5;241m.\u001B[39mrandom\u001B[38;5;241m.\u001B[39muniform(\n\u001B[1;32m---> 93\u001B[0m             \u001B[38;5;28mself\u001B[39m\u001B[38;5;241m.\u001B[39mfeature_range[feature][\u001B[38;5;241m0\u001B[39m], \u001B[38;5;28mself\u001B[39m\u001B[38;5;241m.\u001B[39mfeature_range[feature][\u001B[38;5;241m1\u001B[39m]), precisions[jx])\n\u001B[0;32m     94\u001B[0m     \u001B[38;5;28;01melse\u001B[39;00m:\n\u001B[0;32m     95\u001B[0m         one_init[jx] \u001B[38;5;241m=\u001B[39m np\u001B[38;5;241m.\u001B[39mrandom\u001B[38;5;241m.\u001B[39mchoice(\u001B[38;5;28mself\u001B[39m\u001B[38;5;241m.\u001B[39mfeature_range[feature])\n",
      "\u001B[1;31mKeyError\u001B[0m: 0"
     ]
    }
   ],
   "execution_count": 32
  }
 ],
 "metadata": {
  "kernelspec": {
   "display_name": "Python 3",
   "language": "python",
   "name": "python3"
  },
  "language_info": {
   "codemirror_mode": {
    "name": "ipython",
    "version": 2
   },
   "file_extension": ".py",
   "mimetype": "text/x-python",
   "name": "python",
   "nbconvert_exporter": "python",
   "pygments_lexer": "ipython2",
   "version": "2.7.6"
  }
 },
 "nbformat": 4,
 "nbformat_minor": 5
}
