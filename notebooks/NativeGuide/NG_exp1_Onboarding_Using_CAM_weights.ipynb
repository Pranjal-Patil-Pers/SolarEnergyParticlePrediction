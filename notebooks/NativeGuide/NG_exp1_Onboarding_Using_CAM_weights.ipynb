{
 "cells": [
  {
   "metadata": {},
   "cell_type": "raw",
   "source": "### Class Activation Mapping and retrieving an Explanation Weight Vector",
   "id": "90da4e91e098ebdb"
  },
  {
   "metadata": {
    "ExecuteTime": {
     "end_time": "2025-08-01T13:00:46.371573Z",
     "start_time": "2025-08-01T13:00:46.348500Z"
    }
   },
   "cell_type": "code",
   "source": [
    "import tensorflow as tf\n",
    "from tensorflow import keras\n",
    "import time\n",
    "tf.get_logger().setLevel(40) # suppress deprecation messages\n",
    "tf.compat.v1.disable_v2_behavior() # disable TF2 behaviour as alibi code still relies on TF1 constructs\n",
    "from tensorflow.keras.layers import Dense, Input\n",
    "from tensorflow.keras.models import Model, load_model\n",
    "from tensorflow.keras.utils import to_categorical\n",
    "from tensorflow.keras.models import Sequential\n",
    "from tensorflow.keras.layers import Dense, Activation, Conv1D, GlobalAveragePooling1D, BatchNormalization, Conv2D\n",
    "from tensorflow.keras.layers import GlobalAveragePooling1D\n",
    "from tensorflow.keras.utils import to_categorical\n",
    "import matplotlib\n",
    "import matplotlib.pyplot as plt\n",
    "import numpy as np\n",
    "import os\n",
    "import pandas as pd\n",
    "import seaborn as sns\n",
    "import sklearn\n",
    "from scipy.spatial.distance import cdist, pdist\n",
    "from scipy import stats\n",
    "from sklearn.metrics import DistanceMetric\n",
    "from tslearn.datasets import UCR_UEA_datasets\n",
    "from tslearn.neighbors import  KNeighborsTimeSeries\n",
    "from sklearn.metrics import accuracy_score\n",
    "from scipy.interpolate import interp1d\n",
    "from sklearn import preprocessing\n",
    "print('TF version: ', tf.__version__)\n",
    "print('Eager execution enabled: ', tf.executing_eagerly()) # False\n",
    "# from counterfactual_utils import label_encoder, ucr_data_loader\n",
    "%matplotlib inline"
   ],
   "id": "28a1507dd84b439a",
   "outputs": [
    {
     "name": "stdout",
     "output_type": "stream",
     "text": [
      "TF version:  2.16.1\n",
      "Eager execution enabled:  False\n"
     ]
    }
   ],
   "execution_count": 4
  },
  {
   "metadata": {},
   "cell_type": "code",
   "outputs": [],
   "execution_count": null,
   "source": "",
   "id": "ad388c9656fdb456"
  },
  {
   "metadata": {},
   "cell_type": "code",
   "outputs": [],
   "execution_count": null,
   "source": [
    "import os\n",
    "import pandas as pd\n",
    "import numpy as np\n",
    "from sklearn.model_selection import train_test_split\n",
    "from tslearn.utils import to_time_series_dataset\n",
    "\n",
    "label_file = '../../data/raw/class_labels.csv'\n",
    "data_dir = '../../data/raw/data/'\n",
    "\n",
    "df_labels = pd.read_csv(label_file)\n",
    "label_map = dict(zip(df_labels['File'], df_labels['Label']))\n",
    "\n",
    "X = []\n",
    "y = []\n",
    "cols_to_keep = ['time_tag''p3_flux_ic']#,'p5_flux_ic', 'p7_flux_ic', 'long']\n",
    "timestamps_list=[]\n",
    "filenames=[]\n",
    "for (fname,nr) in os.listdir(data_dir):\n",
    "    if fname.endswith('.csv') and fname in label_map  :\n",
    "        file_path = os.path.join(data_dir, fname)\n",
    "        ts_df = pd.read_csv(file_path)\n",
    "\n",
    "        ts_selected = ts_df.reindex(columns=cols_to_keep, fill_value=np.nan)\n",
    "        ts_data = ts_selected.astype(float).values\n",
    "        X.append(ts_selected)\n",
    "        y.append(label_map[fname])\n",
    "        filenames.append(fname)\n",
    "\n",
    "# shape: (n_samples, n_timestamps, n_features)\n",
    "X = to_time_series_dataset(X)  # will pad with NaN if needed\n",
    "X[np.isnan(X)] = 0\n",
    "y = np.array(y)\n"
   ],
   "id": "54a86a91436556f9"
  }
 ],
 "metadata": {
  "kernelspec": {
   "display_name": "Python 3",
   "language": "python",
   "name": "python3"
  },
  "language_info": {
   "codemirror_mode": {
    "name": "ipython",
    "version": 2
   },
   "file_extension": ".py",
   "mimetype": "text/x-python",
   "name": "python",
   "nbconvert_exporter": "python",
   "pygments_lexer": "ipython2",
   "version": "2.7.6"
  }
 },
 "nbformat": 4,
 "nbformat_minor": 5
}
