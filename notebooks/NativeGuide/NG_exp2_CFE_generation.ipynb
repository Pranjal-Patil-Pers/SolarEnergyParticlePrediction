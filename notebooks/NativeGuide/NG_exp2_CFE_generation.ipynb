{
 "cells": [
  {
   "metadata": {
    "ExecuteTime": {
     "end_time": "2025-07-31T20:14:15.937314Z",
     "start_time": "2025-07-31T20:14:15.924894Z"
    }
   },
   "cell_type": "code",
   "source": [
    "import os\n",
    "import pandas as pd\n",
    "import numpy as np\n",
    "from sklearn.model_selection import train_test_split\n",
    "from tslearn.utils import to_time_series_dataset\n"
   ],
   "id": "f320fd008fa8d1bd",
   "outputs": [],
   "execution_count": 99
  },
  {
   "metadata": {
    "ExecuteTime": {
     "end_time": "2025-07-31T20:14:45.677121Z",
     "start_time": "2025-07-31T20:14:36.127077Z"
    }
   },
   "cell_type": "code",
   "source": [
    "data_dir = '../../data/raw/data/'\n",
    "label_file = '../../data/raw/class_labels.csv'\n",
    "files_with_4000_rows = []\n",
    "\n",
    "max_rows=0\n",
    "df_labels = pd.read_csv(label_file)\n",
    "label_map = dict(zip(df_labels['File'], df_labels['Label']))\n",
    "for fname in os.listdir(data_dir):\n",
    "    if fname.endswith('.csv'):\n",
    "        file_path = os.path.join(data_dir, fname)\n",
    "        try:\n",
    "            df = pd.read_csv(file_path)\n",
    "            num_rows = len(df)\n",
    "            if num_rows<=4000:\n",
    "                files_with_4000_rows.append((fname,num_rows))\n",
    "        except Exception as e:\n",
    "            print(f\"Error reading {fname}: {e}\")\n",
    "\n",
    "# Print the result\n",
    "# files_with_4000_rows=sorted(files_with_4000_rows,key=lambda x: x[1])\n",
    "# print(\"\\nFiles with <=4000 rows:\")\n",
    "# for (f,nr) in files_with_4000_rows:\n",
    "#     if f!='1991-07-01_19-14.csv':\n",
    "#         print(f,nr)\n",
    "#         print(label_map[f])\n",
    "# Optional: print total count\n",
    "print(f\"\\nTotal files with <=4000 rows: {len(files_with_4000_rows)}, max_rows{max_rows}\")\n"
   ],
   "id": "d4fbcdbd92b8de71",
   "outputs": [
    {
     "name": "stdout",
     "output_type": "stream",
     "text": [
      "\n",
      "Total files with <=4000 rows: 2846, max_rows0\n"
     ]
    }
   ],
   "execution_count": 102
  },
  {
   "metadata": {
    "collapsed": true,
    "ExecuteTime": {
     "end_time": "2025-07-31T22:20:37.194757Z",
     "start_time": "2025-07-31T22:19:49.068284Z"
    }
   },
   "cell_type": "code",
   "source": [
    "label_file = '../../data/raw/class_labels.csv'\n",
    "data_dir = '../../data/raw/data/'\n",
    "X = []\n",
    "y = []\n",
    "cols_to_keep = ['p3_flux_ic'] #, 'p5_flux_ic', 'p7_flux_ic', 'long'\n",
    "timestamps_list=[]\n",
    "filenames = []\n",
    "\n",
    "for (fname, nr) in files_with_4000_rows:\n",
    "    if fname.endswith('.csv') and fname in label_map and fname != '2005-09-07_14-25.csv':\n",
    "        file_path = os.path.join(data_dir, fname)\n",
    "        ts_df = pd.read_csv(file_path)\n",
    "\n",
    "        ts_selected = ts_df.reindex(columns=cols_to_keep, fill_value=np.nan)\n",
    "        ts_data = ts_selected.astype(float).values\n",
    "        X.append(ts_data)\n",
    "        y.append(label_map[fname])\n",
    "        filenames.append(fname)  # Track filename\n",
    "X = to_time_series_dataset(X)  # will pad with NaN if needed\n",
    "X[np.isnan(X)] = 0\n",
    "y = np.array(y)"
   ],
   "id": "initial_id",
   "outputs": [],
   "execution_count": 157
  },
  {
   "metadata": {
    "ExecuteTime": {
     "end_time": "2025-07-31T22:21:12.552889Z",
     "start_time": "2025-07-31T22:21:12.485876Z"
    }
   },
   "cell_type": "code",
   "source": [
    "# First split\n",
    "X_temp, X_test, y_temp, y_test, filenames_temp, filenames_test = train_test_split(\n",
    "    X, y, filenames, test_size=0.33, random_state=42, stratify=y\n",
    ")\n",
    "# Second split\n",
    "X_train, X_val, y_train, y_val, filenames_train, filenames_val = train_test_split(\n",
    "    X_temp, y_temp, filenames_temp, test_size=0.5, random_state=42, stratify=y_temp\n",
    ")\n"
   ],
   "id": "ee355487b854a729",
   "outputs": [],
   "execution_count": 158
  },
  {
   "metadata": {
    "ExecuteTime": {
     "end_time": "2025-07-31T22:21:14.989626Z",
     "start_time": "2025-07-31T22:21:14.465827Z"
    }
   },
   "cell_type": "code",
   "source": [
    "X_train_ts=to_time_series_dataset(X_train)\n",
    "X_test_ts=to_time_series_dataset(X_test)\n",
    "X_val_ts=to_time_series_dataset(X_val)\n",
    "np.save(\"X_train_ts.npy\", X_train_ts)\n",
    "np.save(\"X_test_ts.npy\", X_test_ts)\n",
    "np.save(\"X_val_ts.npy\", X_val_ts)\n",
    "print(X_train_ts.shape,X_test_ts.shape,X_val_ts.shape)"
   ],
   "id": "31f7a2fc17ff63c3",
   "outputs": [
    {
     "name": "stdout",
     "output_type": "stream",
     "text": [
      "(953, 3926, 1) (939, 3926, 1) (953, 3926, 1)\n"
     ]
    }
   ],
   "execution_count": 159
  },
  {
   "metadata": {
    "ExecuteTime": {
     "end_time": "2025-07-31T22:21:18.698229Z",
     "start_time": "2025-07-31T22:21:18.674401Z"
    }
   },
   "cell_type": "code",
   "source": [
    "filename_to_split_index = {}\n",
    "\n",
    "for i, fname in enumerate(filenames_train):\n",
    "    filename_to_split_index[fname] = (\"train\", i)\n",
    "\n",
    "for i, fname in enumerate(filenames_val):\n",
    "    filename_to_split_index[fname] = (\"val\", i)\n",
    "\n",
    "for i, fname in enumerate(filenames_test):\n",
    "    filename_to_split_index[fname] = (\"test\", i)\n",
    "\n",
    "X_splits = {\n",
    "    'train': X_train,\n",
    "    'val': X_val,\n",
    "    'test': X_test\n",
    "}\n",
    "y_splits = {\n",
    "    'train': y_train,\n",
    "    'val': y_val,\n",
    "    'test': y_test\n",
    "}\n",
    "\n"
   ],
   "id": "297de4d00d6c540c",
   "outputs": [],
   "execution_count": 160
  },
  {
   "metadata": {
    "ExecuteTime": {
     "end_time": "2025-07-31T22:21:21.926756Z",
     "start_time": "2025-07-31T22:21:21.921203Z"
    }
   },
   "cell_type": "code",
   "source": [
    "# === Get the Dataset and Index of the Query timeseries === #\n",
    "def get_split_and_index(filename):\n",
    "    return [filename_to_split_index.get(filename, (\"not_found\", -1)),label_map[filename]]\n"
   ],
   "id": "b1dcae89061aa8db",
   "outputs": [],
   "execution_count": 161
  },
  {
   "metadata": {
    "ExecuteTime": {
     "end_time": "2025-07-31T22:21:23.945849Z",
     "start_time": "2025-07-31T22:21:23.903732Z"
    }
   },
   "cell_type": "code",
   "source": [
    "import joblib\n",
    "from tslearn.neighbors import KNeighborsTimeSeries, KNeighborsTimeSeriesClassifier\n",
    "model = joblib.load('../../models/KNN_1_TS__classifier.pkl')"
   ],
   "id": "9c67dd246dddc044",
   "outputs": [],
   "execution_count": 162
  },
  {
   "metadata": {
    "ExecuteTime": {
     "end_time": "2025-07-31T23:04:15.011450Z",
     "start_time": "2025-07-31T23:04:15.003164Z"
    }
   },
   "cell_type": "code",
   "source": "model._X_fit = X_test_ts  # manually override it",
   "id": "91e2a21dfbf52205",
   "outputs": [],
   "execution_count": 172
  },
  {
   "metadata": {
    "ExecuteTime": {
     "end_time": "2025-07-31T23:04:16.719706Z",
     "start_time": "2025-07-31T23:04:16.704393Z"
    }
   },
   "cell_type": "code",
   "source": [
    "# === Get the Query Instance === #\n",
    "query_ts_filename= '2012-06-13_10-29.csv'\n",
    "print(get_split_and_index(query_ts_filename)[0])"
   ],
   "id": "bdaf4f0a78578111",
   "outputs": [
    {
     "name": "stdout",
     "output_type": "stream",
     "text": [
      "('test', 862)\n"
     ]
    }
   ],
   "execution_count": 173
  },
  {
   "metadata": {
    "jupyter": {
     "is_executing": true
    },
    "ExecuteTime": {
     "start_time": "2025-07-31T23:04:18.371946Z"
    }
   },
   "cell_type": "code",
   "source": [
    "import numpy as np\n",
    "X_test_ts=np.load(\"X_test_ts.npy\")\n",
    "# Replace NaNs with zeros\n",
    "X_test_ts = np.nan_to_num(X_test_ts, nan=0.0)\n",
    "y_pred = model.predict(X_test_ts)\n",
    "print(\"Predicted label:\", y_pred[0])\n",
    "\n"
   ],
   "id": "2133763ca3f556fe",
   "outputs": [],
   "execution_count": null
  },
  {
   "metadata": {
    "ExecuteTime": {
     "end_time": "2025-07-31T20:50:43.586082Z",
     "start_time": "2025-07-31T20:50:31.013236Z"
    }
   },
   "cell_type": "code",
   "source": [
    "# dataset,q_idx = get_split_and_index(query_ts_filename)[0]\n",
    "X_test = to_time_series_dataset(X_test)\n",
    "X_test_filled_with_0= np.nan_to_num(X_test, nan=0.0)\n",
    "y_pred = model.predict(X_test_filled_with_0)\n",
    "print(f\"Label of Query Instance: {y_test[862]}, Predicted label of Query Instance: {y_pred[862]}\" )"
   ],
   "id": "1695b3b9a029c1a3",
   "outputs": [
    {
     "ename": "ValueError",
     "evalue": "Dimensions of the provided timeseries(except first) must match those of the fitted data! ((953, 953) and (939, 3926) are passed shapes)",
     "output_type": "error",
     "traceback": [
      "\u001B[1;31m---------------------------------------------------------------------------\u001B[0m",
      "\u001B[1;31mValueError\u001B[0m                                Traceback (most recent call last)",
      "Cell \u001B[1;32mIn[128], line 4\u001B[0m\n\u001B[0;32m      2\u001B[0m X_test \u001B[38;5;241m=\u001B[39m to_time_series_dataset(X_test)\n\u001B[0;32m      3\u001B[0m X_test_filled_with_0\u001B[38;5;241m=\u001B[39m np\u001B[38;5;241m.\u001B[39mnan_to_num(X_test, nan\u001B[38;5;241m=\u001B[39m\u001B[38;5;241m0.0\u001B[39m)\n\u001B[1;32m----> 4\u001B[0m y_pred \u001B[38;5;241m=\u001B[39m model\u001B[38;5;241m.\u001B[39mpredict(X_test_filled_with_0)\n\u001B[0;32m      5\u001B[0m \u001B[38;5;28mprint\u001B[39m(\u001B[38;5;124mf\u001B[39m\u001B[38;5;124m\"\u001B[39m\u001B[38;5;124mLabel of Query Instance: \u001B[39m\u001B[38;5;132;01m{\u001B[39;00my_test[\u001B[38;5;241m862\u001B[39m]\u001B[38;5;132;01m}\u001B[39;00m\u001B[38;5;124m, Predicted label of Query Instance: \u001B[39m\u001B[38;5;132;01m{\u001B[39;00my_pred[\u001B[38;5;241m862\u001B[39m]\u001B[38;5;132;01m}\u001B[39;00m\u001B[38;5;124m\"\u001B[39m )\n",
      "File \u001B[1;32m~\\anaconda3\\Lib\\site-packages\\tslearn\\neighbors\\neighbors.py:529\u001B[0m, in \u001B[0;36mKNeighborsTimeSeriesClassifier.predict\u001B[1;34m(self, X)\u001B[0m\n\u001B[0;32m    527\u001B[0m X \u001B[38;5;241m=\u001B[39m to_time_series_dataset(X)\n\u001B[0;32m    528\u001B[0m X_ \u001B[38;5;241m=\u001B[39m to_sklearn_dataset(X)\n\u001B[1;32m--> 529\u001B[0m X_ \u001B[38;5;241m=\u001B[39m check_dims(X_, X_fit_dims\u001B[38;5;241m=\u001B[39m\u001B[38;5;28mself\u001B[39m\u001B[38;5;241m.\u001B[39m_X_fit\u001B[38;5;241m.\u001B[39mshape, extend\u001B[38;5;241m=\u001B[39m\u001B[38;5;28;01mFalse\u001B[39;00m)\n\u001B[0;32m    530\u001B[0m \u001B[38;5;28;01mreturn\u001B[39;00m \u001B[38;5;28msuper\u001B[39m()\u001B[38;5;241m.\u001B[39mpredict(X_)\n",
      "File \u001B[1;32m~\\anaconda3\\Lib\\site-packages\\tslearn\\utils\\utils.py:106\u001B[0m, in \u001B[0;36mcheck_dims\u001B[1;34m(X, X_fit_dims, extend, check_n_features_only)\u001B[0m\n\u001B[0;32m    104\u001B[0m     \u001B[38;5;28;01melse\u001B[39;00m:\n\u001B[0;32m    105\u001B[0m         \u001B[38;5;28;01mif\u001B[39;00m X_fit_dims[\u001B[38;5;241m1\u001B[39m:] \u001B[38;5;241m!=\u001B[39m X\u001B[38;5;241m.\u001B[39mshape[\u001B[38;5;241m1\u001B[39m:]:\n\u001B[1;32m--> 106\u001B[0m             \u001B[38;5;28;01mraise\u001B[39;00m \u001B[38;5;167;01mValueError\u001B[39;00m(\n\u001B[0;32m    107\u001B[0m                 \u001B[38;5;124m\"\u001B[39m\u001B[38;5;124mDimensions of the provided timeseries\u001B[39m\u001B[38;5;124m\"\u001B[39m\n\u001B[0;32m    108\u001B[0m                 \u001B[38;5;124m\"\u001B[39m\u001B[38;5;124m(except first) must match those of the fitted data!\u001B[39m\u001B[38;5;124m\"\u001B[39m\n\u001B[0;32m    109\u001B[0m                 \u001B[38;5;124m\"\u001B[39m\u001B[38;5;124m (\u001B[39m\u001B[38;5;132;01m{}\u001B[39;00m\u001B[38;5;124m and \u001B[39m\u001B[38;5;132;01m{}\u001B[39;00m\u001B[38;5;124m are passed shapes)\u001B[39m\u001B[38;5;124m\"\u001B[39m\u001B[38;5;241m.\u001B[39mformat(X_fit_dims, X\u001B[38;5;241m.\u001B[39mshape)\n\u001B[0;32m    110\u001B[0m             )\n\u001B[0;32m    112\u001B[0m \u001B[38;5;28;01mreturn\u001B[39;00m X\n",
      "\u001B[1;31mValueError\u001B[0m: Dimensions of the provided timeseries(except first) must match those of the fitted data! ((953, 953) and (939, 3926) are passed shapes)"
     ]
    }
   ],
   "execution_count": 128
  },
  {
   "metadata": {
    "ExecuteTime": {
     "end_time": "2025-07-31T19:36:41.618324Z",
     "start_time": "2025-07-31T19:36:41.604676Z"
    }
   },
   "cell_type": "code",
   "outputs": [],
   "execution_count": 93,
   "source": [
    "from tslearn.neighbors import KNeighborsTimeSeries, KNeighborsTimeSeriesClassifier\n",
    "#finding the nearest unlike neighbour. NB will need to account for regularization\n",
    "def native_guide_retrieval(query, predicted_label, distance, n_neighbors):\n",
    "\n",
    "    df = pd.DataFrame(y_train, columns = ['label'])\n",
    "    df.index.name = 'index'\n",
    "    #df[df['label'] == 1].index.values, df[df['label'] != 1].index.values\n",
    "\n",
    "    ts_length = X_train.shape[1]\n",
    "\n",
    "    knn = KNeighborsTimeSeries(n_neighbors=n_neighbors, metric = distance)\n",
    "\n",
    "    knn.fit(X_train[list(df[df['label'] != predicted_label].index.values)])\n",
    "\n",
    "    dist,ind = knn.kneighbors(query.reshape(1,ts_length), return_distance=True)\n",
    "    return dist[0], df[df['label'] != predicted_label].index[ind[0][:]]"
   ],
   "id": "487216fc8168a2a3"
  },
  {
   "metadata": {
    "ExecuteTime": {
     "end_time": "2025-07-31T19:22:19.628477Z",
     "start_time": "2025-07-31T19:22:19.622283Z"
    }
   },
   "cell_type": "code",
   "source": "print(model._X_fit.shape)\n",
   "id": "cc9c021a6b298e56",
   "outputs": [
    {
     "name": "stdout",
     "output_type": "stream",
     "text": [
      "(953, 953)\n"
     ]
    }
   ],
   "execution_count": 67
  },
  {
   "metadata": {
    "ExecuteTime": {
     "end_time": "2025-07-31T19:05:06.102075Z",
     "start_time": "2025-07-31T19:05:05.968307Z"
    }
   },
   "cell_type": "code",
   "source": [
    "# For KNN neighbors\n",
    "knn = KNeighborsTimeSeries(n_neighbors=1, metric='dtw').fit(X_train)\n",
    "distances, indices = knn.kneighbors(x_query, return_distance=True)\n",
    "print(\"Nearest neighbor distance:\", distances)\n",
    "print(\"Nearest neighbor index:\", indices)\n"
   ],
   "id": "49acb3806040e84d",
   "outputs": [
    {
     "name": "stdout",
     "output_type": "stream",
     "text": [
      "x_query shape before reshape: (961, 1)\n",
      "x_query shape after reshape: (961, 1)\n"
     ]
    },
    {
     "ename": "ValueError",
     "evalue": "Dimensions of the provided timeseries(except first) must match those of the fitted data! ((953, 953) and (961, 1) are passed shapes)",
     "output_type": "error",
     "traceback": [
      "\u001B[1;31m---------------------------------------------------------------------------\u001B[0m",
      "\u001B[1;31mValueError\u001B[0m                                Traceback (most recent call last)",
      "Cell \u001B[1;32mIn[51], line 17\u001B[0m\n\u001B[0;32m     14\u001B[0m \u001B[38;5;28mprint\u001B[39m(\u001B[38;5;124m\"\u001B[39m\u001B[38;5;124mx_query shape after reshape:\u001B[39m\u001B[38;5;124m\"\u001B[39m, x_query\u001B[38;5;241m.\u001B[39mshape)\n\u001B[0;32m     16\u001B[0m \u001B[38;5;66;03m# Predict\u001B[39;00m\n\u001B[1;32m---> 17\u001B[0m y_pred \u001B[38;5;241m=\u001B[39m model\u001B[38;5;241m.\u001B[39mpredict(x_query)\n\u001B[0;32m     18\u001B[0m \u001B[38;5;28mprint\u001B[39m(\u001B[38;5;124mf\u001B[39m\u001B[38;5;124m\"\u001B[39m\u001B[38;5;124mLabel of Query Instance: \u001B[39m\u001B[38;5;132;01m{\u001B[39;00my_query\u001B[38;5;132;01m}\u001B[39;00m\u001B[38;5;124m, Predicted label of Query Instance: \u001B[39m\u001B[38;5;132;01m{\u001B[39;00my_pred\u001B[38;5;132;01m}\u001B[39;00m\u001B[38;5;124m\"\u001B[39m)\n\u001B[0;32m     20\u001B[0m \u001B[38;5;66;03m# For KNN neighbors\u001B[39;00m\n",
      "File \u001B[1;32m~\\anaconda3\\Lib\\site-packages\\tslearn\\neighbors\\neighbors.py:529\u001B[0m, in \u001B[0;36mKNeighborsTimeSeriesClassifier.predict\u001B[1;34m(self, X)\u001B[0m\n\u001B[0;32m    527\u001B[0m X \u001B[38;5;241m=\u001B[39m to_time_series_dataset(X)\n\u001B[0;32m    528\u001B[0m X_ \u001B[38;5;241m=\u001B[39m to_sklearn_dataset(X)\n\u001B[1;32m--> 529\u001B[0m X_ \u001B[38;5;241m=\u001B[39m check_dims(X_, X_fit_dims\u001B[38;5;241m=\u001B[39m\u001B[38;5;28mself\u001B[39m\u001B[38;5;241m.\u001B[39m_X_fit\u001B[38;5;241m.\u001B[39mshape, extend\u001B[38;5;241m=\u001B[39m\u001B[38;5;28;01mFalse\u001B[39;00m)\n\u001B[0;32m    530\u001B[0m \u001B[38;5;28;01mreturn\u001B[39;00m \u001B[38;5;28msuper\u001B[39m()\u001B[38;5;241m.\u001B[39mpredict(X_)\n",
      "File \u001B[1;32m~\\anaconda3\\Lib\\site-packages\\tslearn\\utils\\utils.py:106\u001B[0m, in \u001B[0;36mcheck_dims\u001B[1;34m(X, X_fit_dims, extend, check_n_features_only)\u001B[0m\n\u001B[0;32m    104\u001B[0m     \u001B[38;5;28;01melse\u001B[39;00m:\n\u001B[0;32m    105\u001B[0m         \u001B[38;5;28;01mif\u001B[39;00m X_fit_dims[\u001B[38;5;241m1\u001B[39m:] \u001B[38;5;241m!=\u001B[39m X\u001B[38;5;241m.\u001B[39mshape[\u001B[38;5;241m1\u001B[39m:]:\n\u001B[1;32m--> 106\u001B[0m             \u001B[38;5;28;01mraise\u001B[39;00m \u001B[38;5;167;01mValueError\u001B[39;00m(\n\u001B[0;32m    107\u001B[0m                 \u001B[38;5;124m\"\u001B[39m\u001B[38;5;124mDimensions of the provided timeseries\u001B[39m\u001B[38;5;124m\"\u001B[39m\n\u001B[0;32m    108\u001B[0m                 \u001B[38;5;124m\"\u001B[39m\u001B[38;5;124m(except first) must match those of the fitted data!\u001B[39m\u001B[38;5;124m\"\u001B[39m\n\u001B[0;32m    109\u001B[0m                 \u001B[38;5;124m\"\u001B[39m\u001B[38;5;124m (\u001B[39m\u001B[38;5;132;01m{}\u001B[39;00m\u001B[38;5;124m and \u001B[39m\u001B[38;5;132;01m{}\u001B[39;00m\u001B[38;5;124m are passed shapes)\u001B[39m\u001B[38;5;124m\"\u001B[39m\u001B[38;5;241m.\u001B[39mformat(X_fit_dims, X\u001B[38;5;241m.\u001B[39mshape)\n\u001B[0;32m    110\u001B[0m             )\n\u001B[0;32m    112\u001B[0m \u001B[38;5;28;01mreturn\u001B[39;00m X\n",
      "\u001B[1;31mValueError\u001B[0m: Dimensions of the provided timeseries(except first) must match those of the fitted data! ((953, 953) and (961, 1) are passed shapes)"
     ]
    }
   ],
   "execution_count": 51
  },
  {
   "metadata": {
    "ExecuteTime": {
     "end_time": "2025-07-31T18:27:33.885662Z",
     "start_time": "2025-07-31T18:27:33.816463Z"
    }
   },
   "cell_type": "code",
   "source": [
    "# ===Find the nearest neighbour of the query instance with smallest DTW=== #\n",
    "knn = KNeighborsTimeSeries(n_neighbors=1, metric='dtw').fit(X_train)\n",
    "knn.kneighbors(x_query.reshape(1,-1), return_distance=True)"
   ],
   "id": "cf990681e631b13e",
   "outputs": [
    {
     "ename": "ValueError",
     "evalue": "setting an array element with a sequence. The requested array has an inhomogeneous shape after 1 dimensions. The detected shape was (953,) + inhomogeneous part.",
     "output_type": "error",
     "traceback": [
      "\u001B[1;31m---------------------------------------------------------------------------\u001B[0m",
      "\u001B[1;31mValueError\u001B[0m                                Traceback (most recent call last)",
      "Cell \u001B[1;32mIn[45], line 2\u001B[0m\n\u001B[0;32m      1\u001B[0m \u001B[38;5;66;03m# ===Find the nearest neighbour of the query instance with smallest DTW=== #\u001B[39;00m\n\u001B[1;32m----> 2\u001B[0m knn \u001B[38;5;241m=\u001B[39m KNeighborsTimeSeries(n_neighbors\u001B[38;5;241m=\u001B[39m\u001B[38;5;241m1\u001B[39m, metric\u001B[38;5;241m=\u001B[39m\u001B[38;5;124m'\u001B[39m\u001B[38;5;124mdtw\u001B[39m\u001B[38;5;124m'\u001B[39m)\u001B[38;5;241m.\u001B[39mfit(X_train)\n\u001B[0;32m      3\u001B[0m knn\u001B[38;5;241m.\u001B[39mkneighbors(x_query\u001B[38;5;241m.\u001B[39mreshape(\u001B[38;5;241m1\u001B[39m,\u001B[38;5;241m-\u001B[39m\u001B[38;5;241m1\u001B[39m), return_distance\u001B[38;5;241m=\u001B[39m\u001B[38;5;28;01mTrue\u001B[39;00m)\n",
      "File \u001B[1;32m~\\anaconda3\\Lib\\site-packages\\tslearn\\neighbors\\neighbors.py:269\u001B[0m, in \u001B[0;36mKNeighborsTimeSeries.fit\u001B[1;34m(self, X, y)\u001B[0m\n\u001B[0;32m    266\u001B[0m     \u001B[38;5;28mself\u001B[39m\u001B[38;5;241m.\u001B[39m_ts_metric \u001B[38;5;241m=\u001B[39m \u001B[38;5;28mself\u001B[39m\u001B[38;5;241m.\u001B[39mmetric\n\u001B[0;32m    267\u001B[0m     \u001B[38;5;28mself\u001B[39m\u001B[38;5;241m.\u001B[39mmetric \u001B[38;5;241m=\u001B[39m \u001B[38;5;124m\"\u001B[39m\u001B[38;5;124mprecomputed\u001B[39m\u001B[38;5;124m\"\u001B[39m\n\u001B[1;32m--> 269\u001B[0m X \u001B[38;5;241m=\u001B[39m check_array(X,\n\u001B[0;32m    270\u001B[0m                 allow_nd\u001B[38;5;241m=\u001B[39m\u001B[38;5;28;01mTrue\u001B[39;00m,\n\u001B[0;32m    271\u001B[0m                 force_all_finite\u001B[38;5;241m=\u001B[39m(\u001B[38;5;28mself\u001B[39m\u001B[38;5;241m.\u001B[39mmetric \u001B[38;5;241m!=\u001B[39m \u001B[38;5;124m\"\u001B[39m\u001B[38;5;124mprecomputed\u001B[39m\u001B[38;5;124m\"\u001B[39m))\n\u001B[0;32m    272\u001B[0m X \u001B[38;5;241m=\u001B[39m to_time_series_dataset(X)\n\u001B[0;32m    273\u001B[0m X \u001B[38;5;241m=\u001B[39m check_dims(X)\n",
      "File \u001B[1;32m~\\anaconda3\\Lib\\site-packages\\sklearn\\utils\\validation.py:1012\u001B[0m, in \u001B[0;36mcheck_array\u001B[1;34m(array, accept_sparse, accept_large_sparse, dtype, order, copy, force_writeable, force_all_finite, ensure_2d, allow_nd, ensure_min_samples, ensure_min_features, estimator, input_name)\u001B[0m\n\u001B[0;32m   1010\u001B[0m         array \u001B[38;5;241m=\u001B[39m xp\u001B[38;5;241m.\u001B[39mastype(array, dtype, copy\u001B[38;5;241m=\u001B[39m\u001B[38;5;28;01mFalse\u001B[39;00m)\n\u001B[0;32m   1011\u001B[0m     \u001B[38;5;28;01melse\u001B[39;00m:\n\u001B[1;32m-> 1012\u001B[0m         array \u001B[38;5;241m=\u001B[39m _asarray_with_order(array, order\u001B[38;5;241m=\u001B[39morder, dtype\u001B[38;5;241m=\u001B[39mdtype, xp\u001B[38;5;241m=\u001B[39mxp)\n\u001B[0;32m   1013\u001B[0m \u001B[38;5;28;01mexcept\u001B[39;00m ComplexWarning \u001B[38;5;28;01mas\u001B[39;00m complex_warning:\n\u001B[0;32m   1014\u001B[0m     \u001B[38;5;28;01mraise\u001B[39;00m \u001B[38;5;167;01mValueError\u001B[39;00m(\n\u001B[0;32m   1015\u001B[0m         \u001B[38;5;124m\"\u001B[39m\u001B[38;5;124mComplex data not supported\u001B[39m\u001B[38;5;130;01m\\n\u001B[39;00m\u001B[38;5;132;01m{}\u001B[39;00m\u001B[38;5;130;01m\\n\u001B[39;00m\u001B[38;5;124m\"\u001B[39m\u001B[38;5;241m.\u001B[39mformat(array)\n\u001B[0;32m   1016\u001B[0m     ) \u001B[38;5;28;01mfrom\u001B[39;00m \u001B[38;5;21;01mcomplex_warning\u001B[39;00m\n",
      "File \u001B[1;32m~\\anaconda3\\Lib\\site-packages\\sklearn\\utils\\_array_api.py:751\u001B[0m, in \u001B[0;36m_asarray_with_order\u001B[1;34m(array, dtype, order, copy, xp, device)\u001B[0m\n\u001B[0;32m    749\u001B[0m     array \u001B[38;5;241m=\u001B[39m numpy\u001B[38;5;241m.\u001B[39marray(array, order\u001B[38;5;241m=\u001B[39morder, dtype\u001B[38;5;241m=\u001B[39mdtype)\n\u001B[0;32m    750\u001B[0m \u001B[38;5;28;01melse\u001B[39;00m:\n\u001B[1;32m--> 751\u001B[0m     array \u001B[38;5;241m=\u001B[39m numpy\u001B[38;5;241m.\u001B[39masarray(array, order\u001B[38;5;241m=\u001B[39morder, dtype\u001B[38;5;241m=\u001B[39mdtype)\n\u001B[0;32m    753\u001B[0m \u001B[38;5;66;03m# At this point array is a NumPy ndarray. We convert it to an array\u001B[39;00m\n\u001B[0;32m    754\u001B[0m \u001B[38;5;66;03m# container that is consistent with the input's namespace.\u001B[39;00m\n\u001B[0;32m    755\u001B[0m \u001B[38;5;28;01mreturn\u001B[39;00m xp\u001B[38;5;241m.\u001B[39masarray(array)\n",
      "\u001B[1;31mValueError\u001B[0m: setting an array element with a sequence. The requested array has an inhomogeneous shape after 1 dimensions. The detected shape was (953,) + inhomogeneous part."
     ]
    }
   ],
   "execution_count": 45
  },
  {
   "metadata": {},
   "cell_type": "code",
   "outputs": [],
   "execution_count": null,
   "source": [
    "# ===Find the nearest neighbour of the query instance with opposite class(Native Guide)=== #\n",
    "native_guide_retrieval(X_test[12], y_pred[12], 'dtw', 1)"
   ],
   "id": "8c4cc6370059c873"
  }
 ],
 "metadata": {
  "kernelspec": {
   "display_name": "Python 3",
   "language": "python",
   "name": "python3"
  },
  "language_info": {
   "codemirror_mode": {
    "name": "ipython",
    "version": 2
   },
   "file_extension": ".py",
   "mimetype": "text/x-python",
   "name": "python",
   "nbconvert_exporter": "python",
   "pygments_lexer": "ipython2",
   "version": "2.7.6"
  }
 },
 "nbformat": 4,
 "nbformat_minor": 5
}
