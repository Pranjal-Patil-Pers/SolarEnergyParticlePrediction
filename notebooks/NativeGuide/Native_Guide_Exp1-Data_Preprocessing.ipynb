{
 "cells": [
  {
   "cell_type": "code",
   "id": "initial_id",
   "metadata": {
    "collapsed": true,
    "ExecuteTime": {
     "end_time": "2025-09-14T20:46:38.819346Z",
     "start_time": "2025-09-14T20:46:37.980856Z"
    }
   },
   "source": "import pandas as pd\n",
   "outputs": [],
   "execution_count": 2
  },
  {
   "metadata": {
    "ExecuteTime": {
     "end_time": "2025-09-14T20:46:39.489870Z",
     "start_time": "2025-09-14T20:46:39.461760Z"
    }
   },
   "cell_type": "code",
   "source": [
    "df = pd.read_csv(\"../../data/raw/data/1986-01-15_05-54.csv\",sep=\",\",index_col=0)\n",
    "df.head()"
   ],
   "id": "372a6514d310dbef",
   "outputs": [
    {
     "data": {
      "text/plain": [
       "                     e2_flux_ic  p2_flux_ic  p3_flux_ic  p4_flux_ic  \\\n",
       "time_stamp                                                            \n",
       "1986-01-15 05:54:00       501.8       0.349      0.2024     0.15642   \n",
       "1986-01-15 05:55:00       500.0       0.386      0.2280     0.18200   \n",
       "1986-01-15 05:56:00       503.0       0.357      0.2256     0.16094   \n",
       "1986-01-15 05:57:00       506.0       0.328      0.2232     0.13988   \n",
       "1986-01-15 05:58:00       509.0       0.299      0.2208     0.11882   \n",
       "\n",
       "                     p5_flux_ic  p6_flux_ic  p7_flux_ic         short  \\\n",
       "time_stamp                                                              \n",
       "1986-01-15 05:54:00     0.14434     0.14044     0.05422  5.200000e-09   \n",
       "1986-01-15 05:55:00     0.17000     0.16600     0.06350  5.247059e-09   \n",
       "1986-01-15 05:56:00     0.14888     0.14500     0.05878  5.223529e-09   \n",
       "1986-01-15 05:57:00     0.12776     0.12400     0.05406  5.470588e-09   \n",
       "1986-01-15 05:58:00     0.10664     0.10300     0.04934  5.082353e-09   \n",
       "\n",
       "                             long  \n",
       "time_stamp                         \n",
       "1986-01-15 05:54:00  3.314286e-07  \n",
       "1986-01-15 05:55:00  3.342857e-07  \n",
       "1986-01-15 05:56:00  3.342857e-07  \n",
       "1986-01-15 05:57:00  3.342857e-07  \n",
       "1986-01-15 05:58:00  3.314286e-07  "
      ],
      "text/html": [
       "<div>\n",
       "<style scoped>\n",
       "    .dataframe tbody tr th:only-of-type {\n",
       "        vertical-align: middle;\n",
       "    }\n",
       "\n",
       "    .dataframe tbody tr th {\n",
       "        vertical-align: top;\n",
       "    }\n",
       "\n",
       "    .dataframe thead th {\n",
       "        text-align: right;\n",
       "    }\n",
       "</style>\n",
       "<table border=\"1\" class=\"dataframe\">\n",
       "  <thead>\n",
       "    <tr style=\"text-align: right;\">\n",
       "      <th></th>\n",
       "      <th>e2_flux_ic</th>\n",
       "      <th>p2_flux_ic</th>\n",
       "      <th>p3_flux_ic</th>\n",
       "      <th>p4_flux_ic</th>\n",
       "      <th>p5_flux_ic</th>\n",
       "      <th>p6_flux_ic</th>\n",
       "      <th>p7_flux_ic</th>\n",
       "      <th>short</th>\n",
       "      <th>long</th>\n",
       "    </tr>\n",
       "    <tr>\n",
       "      <th>time_stamp</th>\n",
       "      <th></th>\n",
       "      <th></th>\n",
       "      <th></th>\n",
       "      <th></th>\n",
       "      <th></th>\n",
       "      <th></th>\n",
       "      <th></th>\n",
       "      <th></th>\n",
       "      <th></th>\n",
       "    </tr>\n",
       "  </thead>\n",
       "  <tbody>\n",
       "    <tr>\n",
       "      <th>1986-01-15 05:54:00</th>\n",
       "      <td>501.8</td>\n",
       "      <td>0.349</td>\n",
       "      <td>0.2024</td>\n",
       "      <td>0.15642</td>\n",
       "      <td>0.14434</td>\n",
       "      <td>0.14044</td>\n",
       "      <td>0.05422</td>\n",
       "      <td>5.200000e-09</td>\n",
       "      <td>3.314286e-07</td>\n",
       "    </tr>\n",
       "    <tr>\n",
       "      <th>1986-01-15 05:55:00</th>\n",
       "      <td>500.0</td>\n",
       "      <td>0.386</td>\n",
       "      <td>0.2280</td>\n",
       "      <td>0.18200</td>\n",
       "      <td>0.17000</td>\n",
       "      <td>0.16600</td>\n",
       "      <td>0.06350</td>\n",
       "      <td>5.247059e-09</td>\n",
       "      <td>3.342857e-07</td>\n",
       "    </tr>\n",
       "    <tr>\n",
       "      <th>1986-01-15 05:56:00</th>\n",
       "      <td>503.0</td>\n",
       "      <td>0.357</td>\n",
       "      <td>0.2256</td>\n",
       "      <td>0.16094</td>\n",
       "      <td>0.14888</td>\n",
       "      <td>0.14500</td>\n",
       "      <td>0.05878</td>\n",
       "      <td>5.223529e-09</td>\n",
       "      <td>3.342857e-07</td>\n",
       "    </tr>\n",
       "    <tr>\n",
       "      <th>1986-01-15 05:57:00</th>\n",
       "      <td>506.0</td>\n",
       "      <td>0.328</td>\n",
       "      <td>0.2232</td>\n",
       "      <td>0.13988</td>\n",
       "      <td>0.12776</td>\n",
       "      <td>0.12400</td>\n",
       "      <td>0.05406</td>\n",
       "      <td>5.470588e-09</td>\n",
       "      <td>3.342857e-07</td>\n",
       "    </tr>\n",
       "    <tr>\n",
       "      <th>1986-01-15 05:58:00</th>\n",
       "      <td>509.0</td>\n",
       "      <td>0.299</td>\n",
       "      <td>0.2208</td>\n",
       "      <td>0.11882</td>\n",
       "      <td>0.10664</td>\n",
       "      <td>0.10300</td>\n",
       "      <td>0.04934</td>\n",
       "      <td>5.082353e-09</td>\n",
       "      <td>3.314286e-07</td>\n",
       "    </tr>\n",
       "  </tbody>\n",
       "</table>\n",
       "</div>"
      ]
     },
     "execution_count": 3,
     "metadata": {},
     "output_type": "execute_result"
    }
   ],
   "execution_count": 3
  },
  {
   "metadata": {
    "ExecuteTime": {
     "end_time": "2025-09-14T20:47:58.214149Z",
     "start_time": "2025-09-14T20:47:58.148494Z"
    }
   },
   "cell_type": "code",
   "source": [
    "f_10min = df.resample(\"10min\").mean()\n",
    "f_10min.head()"
   ],
   "id": "a4fc61a16e27f09b",
   "outputs": [
    {
     "ename": "TypeError",
     "evalue": "Only valid with DatetimeIndex, TimedeltaIndex or PeriodIndex, but got an instance of 'Index'",
     "output_type": "error",
     "traceback": [
      "\u001B[1;31m---------------------------------------------------------------------------\u001B[0m",
      "\u001B[1;31mTypeError\u001B[0m                                 Traceback (most recent call last)",
      "Cell \u001B[1;32mIn[5], line 1\u001B[0m\n\u001B[1;32m----> 1\u001B[0m f_10min \u001B[38;5;241m=\u001B[39m df\u001B[38;5;241m.\u001B[39mresample(\u001B[38;5;124m\"\u001B[39m\u001B[38;5;124m10min\u001B[39m\u001B[38;5;124m\"\u001B[39m)\u001B[38;5;241m.\u001B[39mmean()\n\u001B[0;32m      2\u001B[0m f_10min\u001B[38;5;241m.\u001B[39mhead()\n",
      "File \u001B[1;32m~\\anaconda3\\Lib\\site-packages\\pandas\\core\\generic.py:9771\u001B[0m, in \u001B[0;36mNDFrame.resample\u001B[1;34m(self, rule, axis, closed, label, convention, kind, on, level, origin, offset, group_keys)\u001B[0m\n\u001B[0;32m   9768\u001B[0m \u001B[38;5;28;01melse\u001B[39;00m:\n\u001B[0;32m   9769\u001B[0m     convention \u001B[38;5;241m=\u001B[39m \u001B[38;5;124m\"\u001B[39m\u001B[38;5;124mstart\u001B[39m\u001B[38;5;124m\"\u001B[39m\n\u001B[1;32m-> 9771\u001B[0m \u001B[38;5;28;01mreturn\u001B[39;00m get_resampler(\n\u001B[0;32m   9772\u001B[0m     cast(\u001B[38;5;124m\"\u001B[39m\u001B[38;5;124mSeries | DataFrame\u001B[39m\u001B[38;5;124m\"\u001B[39m, \u001B[38;5;28mself\u001B[39m),\n\u001B[0;32m   9773\u001B[0m     freq\u001B[38;5;241m=\u001B[39mrule,\n\u001B[0;32m   9774\u001B[0m     label\u001B[38;5;241m=\u001B[39mlabel,\n\u001B[0;32m   9775\u001B[0m     closed\u001B[38;5;241m=\u001B[39mclosed,\n\u001B[0;32m   9776\u001B[0m     axis\u001B[38;5;241m=\u001B[39maxis,\n\u001B[0;32m   9777\u001B[0m     kind\u001B[38;5;241m=\u001B[39mkind,\n\u001B[0;32m   9778\u001B[0m     convention\u001B[38;5;241m=\u001B[39mconvention,\n\u001B[0;32m   9779\u001B[0m     key\u001B[38;5;241m=\u001B[39mon,\n\u001B[0;32m   9780\u001B[0m     level\u001B[38;5;241m=\u001B[39mlevel,\n\u001B[0;32m   9781\u001B[0m     origin\u001B[38;5;241m=\u001B[39morigin,\n\u001B[0;32m   9782\u001B[0m     offset\u001B[38;5;241m=\u001B[39moffset,\n\u001B[0;32m   9783\u001B[0m     group_keys\u001B[38;5;241m=\u001B[39mgroup_keys,\n\u001B[0;32m   9784\u001B[0m )\n",
      "File \u001B[1;32m~\\anaconda3\\Lib\\site-packages\\pandas\\core\\resample.py:2050\u001B[0m, in \u001B[0;36mget_resampler\u001B[1;34m(obj, kind, **kwds)\u001B[0m\n\u001B[0;32m   2046\u001B[0m \u001B[38;5;250m\u001B[39m\u001B[38;5;124;03m\"\"\"\u001B[39;00m\n\u001B[0;32m   2047\u001B[0m \u001B[38;5;124;03mCreate a TimeGrouper and return our resampler.\u001B[39;00m\n\u001B[0;32m   2048\u001B[0m \u001B[38;5;124;03m\"\"\"\u001B[39;00m\n\u001B[0;32m   2049\u001B[0m tg \u001B[38;5;241m=\u001B[39m TimeGrouper(obj, \u001B[38;5;241m*\u001B[39m\u001B[38;5;241m*\u001B[39mkwds)  \u001B[38;5;66;03m# type: ignore[arg-type]\u001B[39;00m\n\u001B[1;32m-> 2050\u001B[0m \u001B[38;5;28;01mreturn\u001B[39;00m tg\u001B[38;5;241m.\u001B[39m_get_resampler(obj, kind\u001B[38;5;241m=\u001B[39mkind)\n",
      "File \u001B[1;32m~\\anaconda3\\Lib\\site-packages\\pandas\\core\\resample.py:2272\u001B[0m, in \u001B[0;36mTimeGrouper._get_resampler\u001B[1;34m(self, obj, kind)\u001B[0m\n\u001B[0;32m   2263\u001B[0m \u001B[38;5;28;01melif\u001B[39;00m \u001B[38;5;28misinstance\u001B[39m(ax, TimedeltaIndex):\n\u001B[0;32m   2264\u001B[0m     \u001B[38;5;28;01mreturn\u001B[39;00m TimedeltaIndexResampler(\n\u001B[0;32m   2265\u001B[0m         obj,\n\u001B[0;32m   2266\u001B[0m         timegrouper\u001B[38;5;241m=\u001B[39m\u001B[38;5;28mself\u001B[39m,\n\u001B[1;32m   (...)\u001B[0m\n\u001B[0;32m   2269\u001B[0m         gpr_index\u001B[38;5;241m=\u001B[39max,\n\u001B[0;32m   2270\u001B[0m     )\n\u001B[1;32m-> 2272\u001B[0m \u001B[38;5;28;01mraise\u001B[39;00m \u001B[38;5;167;01mTypeError\u001B[39;00m(\n\u001B[0;32m   2273\u001B[0m     \u001B[38;5;124m\"\u001B[39m\u001B[38;5;124mOnly valid with DatetimeIndex, \u001B[39m\u001B[38;5;124m\"\u001B[39m\n\u001B[0;32m   2274\u001B[0m     \u001B[38;5;124m\"\u001B[39m\u001B[38;5;124mTimedeltaIndex or PeriodIndex, \u001B[39m\u001B[38;5;124m\"\u001B[39m\n\u001B[0;32m   2275\u001B[0m     \u001B[38;5;124mf\u001B[39m\u001B[38;5;124m\"\u001B[39m\u001B[38;5;124mbut got an instance of \u001B[39m\u001B[38;5;124m'\u001B[39m\u001B[38;5;132;01m{\u001B[39;00m\u001B[38;5;28mtype\u001B[39m(ax)\u001B[38;5;241m.\u001B[39m\u001B[38;5;18m__name__\u001B[39m\u001B[38;5;132;01m}\u001B[39;00m\u001B[38;5;124m'\u001B[39m\u001B[38;5;124m\"\u001B[39m\n\u001B[0;32m   2276\u001B[0m )\n",
      "\u001B[1;31mTypeError\u001B[0m: Only valid with DatetimeIndex, TimedeltaIndex or PeriodIndex, but got an instance of 'Index'"
     ]
    }
   ],
   "execution_count": 5
  }
 ],
 "metadata": {
  "kernelspec": {
   "display_name": "Python 3",
   "language": "python",
   "name": "python3"
  },
  "language_info": {
   "codemirror_mode": {
    "name": "ipython",
    "version": 2
   },
   "file_extension": ".py",
   "mimetype": "text/x-python",
   "name": "python",
   "nbconvert_exporter": "python",
   "pygments_lexer": "ipython2",
   "version": "2.7.6"
  }
 },
 "nbformat": 4,
 "nbformat_minor": 5
}
