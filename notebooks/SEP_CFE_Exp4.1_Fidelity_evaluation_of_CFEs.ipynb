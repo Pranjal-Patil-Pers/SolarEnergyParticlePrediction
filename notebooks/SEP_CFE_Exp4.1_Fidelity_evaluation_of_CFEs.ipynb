{
 "cells": [
  {
   "metadata": {},
   "cell_type": "raw",
   "source": "Experiment 4.1: Fidelity Evaluation of Counterfactuals",
   "id": "6773e7985c5fe02f"
  },
  {
   "metadata": {},
   "cell_type": "raw",
   "source": "Objective: The objective of the code is to generate and evaluate counterfactual explanations for space weather prediction using a trained Random Forest model, and to perform fidelity evaluation by assessing how effectively these counterfactuals change the model’s predicted class for true positive and true negative events. The program logs all key evaluation metrics—including confusion matrices, classification reports, fidelity scores, and generated counterfactual data—to Weights & Biases for experiment tracking and analysis.",
   "id": "73cfbbac28dfa939"
  },
  {
   "metadata": {
    "collapsed": true,
    "ExecuteTime": {
     "end_time": "2025-09-02T14:27:02.514812Z",
     "start_time": "2025-09-02T14:27:02.508691Z"
    }
   },
   "cell_type": "code",
   "source": [
    "import wandb\n",
    "import warnings\n",
    "from sklearn.metrics.pairwise import cosine_similarity\n",
    "import pandas as pd\n",
    "import numpy as np\n",
    "from sklearn.preprocessing import MinMaxScaler\n",
    "from dice_ml.explainer_interfaces.explainer_base import UserConfigValidationException\n",
    "import plotly.graph_objects as go\n",
    "from datetime import timedelta\n",
    "import os\n",
    "import re\n",
    "import joblib\n",
    "import io\n",
    "from PIL import Image\n",
    "import matplotlib.pyplot as plt\n",
    "from sklearn.metrics import confusion_matrix, ConfusionMatrixDisplay, classification_report\n",
    "\n",
    "\n",
    "from scripts.SEP_CFE_functions import *\n",
    "min_max_scaler = MinMaxScaler()\n",
    "warnings.filterwarnings(\"ignore\")"
   ],
   "id": "initial_id",
   "outputs": [],
   "execution_count": 17
  },
  {
   "metadata": {
    "ExecuteTime": {
     "end_time": "2025-09-02T14:27:13.271228Z",
     "start_time": "2025-09-02T14:27:03.783362Z"
    }
   },
   "cell_type": "code",
   "source": [
    "wandb.init(\n",
    "    entity=\"gsu-dmlab\",\n",
    "    project=\"SEPCFE\",  # You choose the project name\n",
    "    name=\"Exp4.1_Fidelity_evaluation_of_CFEs\",  # Give each run a name\n",
    "    config={\n",
    "        \"model\": \"RandomForestClassifier_model_sep_cfe.pkl\",\n",
    "        \"data_version\": \"mean_sliced\",\n",
    "        \"explainer_random\": \"sep_cfe_random_explainer.pkl\",\n",
    "        \"explainer_genetic\": \"sep_cfe_genetic_explainer.pkl\"\n",
    "    }\n",
    ")"
   ],
   "id": "c0efc99551e71ff1",
   "outputs": [
    {
     "data": {
      "text/plain": [
       "<IPython.core.display.HTML object>"
      ],
      "text/html": [
       "Finishing previous runs because reinit is set to 'default'."
      ]
     },
     "metadata": {},
     "output_type": "display_data"
    },
    {
     "data": {
      "text/plain": [
       "<IPython.core.display.HTML object>"
      ],
      "text/html": []
     },
     "metadata": {},
     "output_type": "display_data"
    },
    {
     "data": {
      "text/plain": [
       "<IPython.core.display.HTML object>"
      ],
      "text/html": [
       " View run <strong style=\"color:#cdcd00\">Exp4.1_Fidelity_evaluation_of_CFEs</strong> at: <a href='https://wandb.ai/gsu-dmlab/SEPCFE/runs/m3mf84r5' target=\"_blank\">https://wandb.ai/gsu-dmlab/SEPCFE/runs/m3mf84r5</a><br> View project at: <a href='https://wandb.ai/gsu-dmlab/SEPCFE' target=\"_blank\">https://wandb.ai/gsu-dmlab/SEPCFE</a><br>Synced 5 W&B file(s), 0 media file(s), 0 artifact file(s) and 0 other file(s)"
      ]
     },
     "metadata": {},
     "output_type": "display_data"
    },
    {
     "data": {
      "text/plain": [
       "<IPython.core.display.HTML object>"
      ],
      "text/html": [
       "Find logs at: <code>.\\wandb\\run-20250902_102214-m3mf84r5\\logs</code>"
      ]
     },
     "metadata": {},
     "output_type": "display_data"
    },
    {
     "data": {
      "text/plain": [
       "<IPython.core.display.HTML object>"
      ],
      "text/html": [
       "Tracking run with wandb version 0.20.1"
      ]
     },
     "metadata": {},
     "output_type": "display_data"
    },
    {
     "data": {
      "text/plain": [
       "<IPython.core.display.HTML object>"
      ],
      "text/html": [
       "Run data is saved locally in <code>D:\\workspace\\SolarEnergyParticlePrediction\\notebooks\\wandb\\run-20250902_102703-8w485xi0</code>"
      ]
     },
     "metadata": {},
     "output_type": "display_data"
    },
    {
     "data": {
      "text/plain": [
       "<IPython.core.display.HTML object>"
      ],
      "text/html": [
       "Syncing run <strong><a href='https://wandb.ai/gsu-dmlab/SEPCFE/runs/8w485xi0' target=\"_blank\">Exp4.1_Fidelity_evaluation_of_CFEs</a></strong> to <a href='https://wandb.ai/gsu-dmlab/SEPCFE' target=\"_blank\">Weights & Biases</a> (<a href='https://wandb.me/developer-guide' target=\"_blank\">docs</a>)<br>"
      ]
     },
     "metadata": {},
     "output_type": "display_data"
    },
    {
     "data": {
      "text/plain": [
       "<IPython.core.display.HTML object>"
      ],
      "text/html": [
       " View project at <a href='https://wandb.ai/gsu-dmlab/SEPCFE' target=\"_blank\">https://wandb.ai/gsu-dmlab/SEPCFE</a>"
      ]
     },
     "metadata": {},
     "output_type": "display_data"
    },
    {
     "data": {
      "text/plain": [
       "<IPython.core.display.HTML object>"
      ],
      "text/html": [
       " View run at <a href='https://wandb.ai/gsu-dmlab/SEPCFE/runs/8w485xi0' target=\"_blank\">https://wandb.ai/gsu-dmlab/SEPCFE/runs/8w485xi0</a>"
      ]
     },
     "metadata": {},
     "output_type": "display_data"
    },
    {
     "data": {
      "text/html": [
       "<button onClick=\"this.nextSibling.style.display='block';this.style.display='none';\">Display W&B run</button><iframe src='https://wandb.ai/gsu-dmlab/SEPCFE/runs/8w485xi0?jupyter=true' style='border:none;width:100%;height:420px;display:none;'></iframe>"
      ],
      "text/plain": [
       "<wandb.sdk.wandb_run.Run at 0x26fbf6faf30>"
      ]
     },
     "execution_count": 18,
     "metadata": {},
     "output_type": "execute_result"
    }
   ],
   "execution_count": 18
  },
  {
   "metadata": {
    "ExecuteTime": {
     "end_time": "2025-09-02T14:27:13.800482Z",
     "start_time": "2025-09-02T14:27:13.278946Z"
    }
   },
   "cell_type": "code",
   "source": [
    "abt_path_train = '../data/raw/mean_sliced/train_data.csv'\n",
    "df_train = pd.read_csv(abt_path_train,  sep=',',index_col=0)\n",
    "abt_path_test = '../data/raw/mean_sliced/test_data.csv'\n",
    "df_test = pd.read_csv(abt_path_test, sep=',',index_col=0)\n",
    "abt_path_val = '../data/raw/mean_sliced/valid_data.csv'\n",
    "df_val = pd.read_csv(abt_path_val, sep=',',index_col=0)"
   ],
   "id": "9f564061ae76345a",
   "outputs": [],
   "execution_count": 19
  },
  {
   "metadata": {
    "ExecuteTime": {
     "end_time": "2025-09-02T14:27:17.880210Z",
     "start_time": "2025-09-02T14:27:17.056569Z"
    }
   },
   "cell_type": "code",
   "source": [
    "X_train=pd.read_csv('../data/processed/X_train.csv',sep=',',index_col=0)\n",
    "Y_train=pd.read_csv('../data/processed/Y_train.csv',sep=',',index_col=0)\n",
    "X_test=pd.read_csv('../data/processed/X_test.csv',sep=',',index_col=0)\n",
    "Y_test=pd.read_csv('../data/processed/Y_test.csv',sep=',',index_col=0)\n",
    "X_val=pd.read_csv('../data/processed/X_val.csv',sep=',',index_col=0)\n",
    "Y_val=pd.read_csv('../data/processed/Y_val.csv',sep=',',index_col=0)\n",
    "df_multi_labels = pd.read_excel(\"../data/raw/multi_labels.xlsx\",header=0)\n",
    "df_multi_labels = df_multi_labels[df_multi_labels['File'] != '1991-06-18_23-16.csv']\n",
    "df_combined_labels=pd.read_csv('../data/processed/df_combined_labels.csv',sep=',',index_col=0)\n"
   ],
   "id": "d4b77b4aa5fbd65c",
   "outputs": [],
   "execution_count": 20
  },
  {
   "metadata": {
    "ExecuteTime": {
     "end_time": "2025-09-02T14:27:17.916552Z",
     "start_time": "2025-09-02T14:27:17.894790Z"
    }
   },
   "cell_type": "code",
   "source": [
    "pd.set_option('display.max_columns', None)\n",
    "pd.set_option('display.max_rows', None)\n",
    "all_entries = os.listdir('../data/raw/data/')        # no wildcard here\n",
    "csv_files = [f for f in all_entries if f.lower().endswith('.csv')]\n",
    "df_combined_labels['not_exists'] = ~df_combined_labels['File'].str.lower().isin(csv_files)\n",
    "missing = df_combined_labels[df_combined_labels['not_exists']]\n",
    "print(missing[['File', 'not_exists','Label','Event_Y_N']])\n",
    "print(df_combined_labels.shape)\n"
   ],
   "id": "f705eca058cc98f9",
   "outputs": [
    {
     "name": "stdout",
     "output_type": "stream",
     "text": [
      "    File  not_exists  Label  Event_Y_N\n",
      "743  NaN        True   -1.0        0.0\n",
      "(2893, 933)\n"
     ]
    }
   ],
   "execution_count": 21
  },
  {
   "metadata": {
    "ExecuteTime": {
     "end_time": "2025-09-02T14:27:19.345908Z",
     "start_time": "2025-09-02T14:27:19.294591Z"
    }
   },
   "cell_type": "code",
   "source": [
    "# Load model\n",
    "RandomForestClassifier_sep_cfe = joblib.load('../models/RandomForestClassifier_model_sep_cfe.pkl')\n",
    "Y_pred = RandomForestClassifier_sep_cfe.predict(X_train)\n",
    "#\n",
    "# # Output the test classification report and confusion matrix\n",
    "# print(\"\\nTest Classification Report:\\n\", classification_report(Y_train, Y_pred))\n",
    "# print(\"Test Confusion Matrix:\\n\", confusion_matrix(Y_train, Y_pred))"
   ],
   "id": "8c7651c01a3fc801",
   "outputs": [],
   "execution_count": 22
  },
  {
   "metadata": {},
   "cell_type": "markdown",
   "source": "**Counterfactual Explainations for SEP Prediction**",
   "id": "251c7cacde62353f"
  },
  {
   "metadata": {
    "ExecuteTime": {
     "end_time": "2025-09-02T14:27:20.657562Z",
     "start_time": "2025-09-02T14:27:20.635257Z"
    }
   },
   "cell_type": "code",
   "source": [
    "df_cfe = df_test.drop([\"Label\"],axis=1)\n",
    "#df_cfe = df_combined_labels.drop([\"Label\",\"File\",\"Label.1\"],axis=1)  # should contain the target column\n",
    "cont_features = list(df_combined_labels.drop([\"Label\",\"Event_Y_N\",\"File\",\"Multi_Label\"],axis=1).columns) #should not contain target column"
   ],
   "id": "ff2bd76e411c9759",
   "outputs": [],
   "execution_count": 23
  },
  {
   "metadata": {
    "ExecuteTime": {
     "end_time": "2025-09-02T14:27:22.175642Z",
     "start_time": "2025-09-02T14:27:21.909191Z"
    }
   },
   "cell_type": "code",
   "source": [
    "exp_random = joblib.load(\"../models/sep_cfe_random_explainer.pkl\")\n",
    "exp_genetic = joblib.load(\"../models/sep_cfe_genetic_explainer.pkl\")"
   ],
   "id": "a05141b69022087e",
   "outputs": [],
   "execution_count": 24
  },
  {
   "metadata": {
    "ExecuteTime": {
     "end_time": "2025-09-02T14:27:23.426157Z",
     "start_time": "2025-09-02T14:27:23.407728Z"
    }
   },
   "cell_type": "code",
   "source": [
    "feature_names = X_train.columns\n",
    "k=928\n",
    "sorted_normalized_weights_df  = get_feature_importance(RandomForestClassifier_sep_cfe,feature_names)\n",
    "top_k_features = sorted_normalized_weights_df['Feature'].head(k).to_list()\n",
    "top_k_normalized_weights_dict = sorted_normalized_weights_df.head(k).set_index('Feature')['Normalized Importance'].to_dict()\n",
    "# print(top_k_normalized_weights_dict)\n"
   ],
   "id": "faede0a738ee1fa0",
   "outputs": [],
   "execution_count": 25
  },
  {
   "metadata": {
    "ExecuteTime": {
     "end_time": "2025-09-02T14:27:24.671856Z",
     "start_time": "2025-09-02T14:27:24.665329Z"
    }
   },
   "cell_type": "code",
   "source": [
    "p3_flux_cols = [col for col in df_train.columns if 'p3_flux_ic_mean' in col]\n",
    "p5_flux_cols = [col for col in df_train.columns if 'p5_flux_ic_mean' in col]\n",
    "p7_flux_cols = [col for col in df_train.columns if 'p7_flux_ic_mean' in col]"
   ],
   "id": "19d0d435e01f75ff",
   "outputs": [],
   "execution_count": 26
  },
  {
   "metadata": {
    "ExecuteTime": {
     "end_time": "2025-09-02T14:27:26.033002Z",
     "start_time": "2025-09-02T14:27:26.024871Z"
    }
   },
   "cell_type": "code",
   "source": [
    "pattern = r'^(p3_flux_ic_mean|p5_flux_ic_mean|p7_flux_ic_mean|long_mean)@\\[(\\d+:\\d+)\\]$'\n",
    "header_list = df_train.columns.astype(str).str.cat(sep=\"\\t\").split()\n",
    "slices = extract_slices_from_headers(header_list,pattern,\"p3_flux_ic_mean\")\n"
   ],
   "id": "2f666857ec04cccc",
   "outputs": [],
   "execution_count": 27
  },
  {
   "metadata": {},
   "cell_type": "markdown",
   "source": "Experiment 1  Fidelity Evaluation with Records after 2003",
   "id": "9587b0d2381bd9a0"
  },
  {
   "metadata": {
    "ExecuteTime": {
     "end_time": "2025-09-02T14:27:27.248735Z",
     "start_time": "2025-09-02T14:27:27.241206Z"
    }
   },
   "cell_type": "code",
   "source": [
    "#Function to log confusion matrix to wandb\n",
    "def log_conf_mat(cm, display_labels, title):\n",
    "    fig, ax = plt.subplots(figsize=(5, 5))\n",
    "    disp = ConfusionMatrixDisplay(confusion_matrix=cm, display_labels=display_labels)\n",
    "    disp.plot(ax=ax, cmap='cividis', colorbar=False)\n",
    "    ax.title.set_color('white')\n",
    "    ax.xaxis.label.set_color('white')\n",
    "    ax.yaxis.label.set_color('white')\n",
    "    ax.tick_params(colors='white')\n",
    "\n",
    "    buf = io.BytesIO()\n",
    "    plt.savefig(buf, format='png', bbox_inches='tight')\n",
    "    buf.seek(0)\n",
    "    img = Image.open(buf)\n",
    "    wandb.log({f\"Title/{title}\": wandb.Image(img)})\n",
    "    plt.close(fig)\n"
   ],
   "id": "46d2d1057a93bbde",
   "outputs": [],
   "execution_count": 28
  },
  {
   "metadata": {
    "ExecuteTime": {
     "end_time": "2025-09-02T14:27:29.808414Z",
     "start_time": "2025-09-02T14:27:28.491181Z"
    }
   },
   "cell_type": "code",
   "source": [
    "df_test_SEP_post_2003=df_combined_labels.iloc[1970:]\n",
    "X_df_test_SEP_post_2003 = df_test_SEP_post_2003.drop([\"Label\", \"Event_Y_N\", \"Multi_Label\", \"File\", \"not_exists\"], axis=1)\n",
    "Y_df_test_SEP_post_2003 = df_test_SEP_post_2003['Event_Y_N']\n",
    "Y_df_test_SEP_post_2003_pred = RandomForestClassifier_sep_cfe.predict(X_df_test_SEP_post_2003)\n",
    "# --- Handle NaN values --- #\n",
    "mask = ~Y_df_test_SEP_post_2003.isna()\n",
    "Y_true_no_nan = Y_df_test_SEP_post_2003[mask]\n",
    "Y_pred_no_nan = Y_df_test_SEP_post_2003_pred[mask]\n",
    "cm = confusion_matrix(Y_true_no_nan,Y_pred_no_nan)\n",
    "log_conf_mat(cm, display_labels=[1, 0], title=\"ConfusionMatrix_of_records_(post 2003)\")\n"
   ],
   "id": "6101ef274b3f1184",
   "outputs": [],
   "execution_count": 29
  },
  {
   "metadata": {
    "ExecuteTime": {
     "end_time": "2025-09-02T14:27:31.047615Z",
     "start_time": "2025-09-02T14:27:31.027556Z"
    }
   },
   "cell_type": "code",
   "source": [
    "df_query_instances = df_test_SEP_post_2003.copy()\n",
    "df_query_instances['Predicted_Event_Y_N']=Y_df_test_SEP_post_2003_pred\n",
    "#filtering true positive and true negative for CFE generation\n",
    "true_positives_query_instances = df_query_instances[(df_query_instances['Event_Y_N']==1) & (df_query_instances['Predicted_Event_Y_N']==1)]\n",
    "true_negatives_query_instances = df_query_instances[(df_query_instances['Event_Y_N']==0) & (df_query_instances['Predicted_Event_Y_N']==0)]\n",
    "print(f\"count of true positive query instances:{true_positives_query_instances.shape[0]}\\ncount of True negative query instances:{true_negatives_query_instances.shape[0]}\")\n"
   ],
   "id": "f31aab2fff8eb57a",
   "outputs": [
    {
     "name": "stdout",
     "output_type": "stream",
     "text": [
      "count of true positive query instances:69\n",
      "count of True negative query instances:722\n"
     ]
    }
   ],
   "execution_count": 30
  },
  {
   "metadata": {},
   "cell_type": "markdown",
   "source": "Generating Opposite Class Counterfactuals for True Positive SEP events:",
   "id": "90d709f82da6fefc"
  },
  {
   "metadata": {
    "ExecuteTime": {
     "end_time": "2025-09-02T14:44:24.801985Z",
     "start_time": "2025-09-02T14:27:32.616478Z"
    }
   },
   "cell_type": "code",
   "source": [
    "true_positives_query_instances_copy = true_positives_query_instances.drop([\"Label\", \"Event_Y_N\", \"Multi_Label\", \"File\", \"not_exists\",\"Predicted_Event_Y_N\"], axis=1)\n",
    "cfe_exp=[]\n",
    "df_cfe_exp_genetic_TP = pd.DataFrame()\n",
    "for idx, row in true_positives_query_instances_copy.iterrows():\n",
    "    try:\n",
    "        query_instance_df = pd.DataFrame([row])\n",
    "        query_ts_filename = true_positives_query_instances.loc[idx,'File']\n",
    "        csv_path = os.path.join('../data/raw/data', query_ts_filename)\n",
    "        filtered_dict = extract_feature_ranges(csv_path,delim=',', slices=slices, top_k_features=top_k_features,flux_types = ['p3_flux_ic','p5_flux_ic','p7_flux_ic'])\n",
    "        cfe_genetic = exp_genetic.generate_counterfactuals(\n",
    "        query_instance_df,  #multiple query instances can be provided as an input dataframe\n",
    "        total_CFs=1,  # Number of counterfactual examples to generate\n",
    "        desired_class=0,#'opposite' #,  # Specify the desired class for a continuous target variable\n",
    "        permitted_range=filtered_dict\n",
    "        )\n",
    "        cfe_df = cfe_genetic.cf_examples_list[0].final_cfs_df\n",
    "        if not cfe_df.empty:\n",
    "            cfe_exp.append(cfe_df)\n",
    "            df_cfe_exp_genetic_TP = pd.concat([df_cfe_exp_genetic_TP, cfe_df], ignore_index=True)\n",
    "        else:\n",
    "            print(f\"No counterfactuals generated for index {idx}\")\n",
    "    except Exception as e:\n",
    "        print(f\"Error at index {idx}: {e}\")\n",
    "        continue\n",
    "\n",
    "\n",
    "\n",
    "\n",
    "\n",
    "\n"
   ],
   "id": "e78cf3d321ae621d",
   "outputs": [
    {
     "name": "stderr",
     "output_type": "stream",
     "text": [
      "100%|██████████| 1/1 [00:02<00:00,  2.12s/it]\n",
      "100%|██████████| 1/1 [00:32<00:00, 32.91s/it]\n"
     ]
    },
    {
     "name": "stdout",
     "output_type": "stream",
     "text": [
      "Error at index 2006: No counterfactuals found for any of the query points! Kindly check your configuration.\n"
     ]
    },
    {
     "name": "stderr",
     "output_type": "stream",
     "text": [
      "100%|██████████| 1/1 [00:01<00:00,  1.90s/it]\n",
      "100%|██████████| 1/1 [00:01<00:00,  1.91s/it]\n",
      "100%|██████████| 1/1 [00:32<00:00, 32.96s/it]\n"
     ]
    },
    {
     "name": "stdout",
     "output_type": "stream",
     "text": [
      "Error at index 2045: No counterfactuals found for any of the query points! Kindly check your configuration.\n"
     ]
    },
    {
     "name": "stderr",
     "output_type": "stream",
     "text": [
      "100%|██████████| 1/1 [00:33<00:00, 33.47s/it]\n"
     ]
    },
    {
     "name": "stdout",
     "output_type": "stream",
     "text": [
      "Error at index 2046: No counterfactuals found for any of the query points! Kindly check your configuration.\n"
     ]
    },
    {
     "name": "stderr",
     "output_type": "stream",
     "text": [
      "100%|██████████| 1/1 [00:34<00:00, 34.28s/it]\n"
     ]
    },
    {
     "name": "stdout",
     "output_type": "stream",
     "text": [
      "Error at index 2047: No counterfactuals found for any of the query points! Kindly check your configuration.\n"
     ]
    },
    {
     "name": "stderr",
     "output_type": "stream",
     "text": [
      "100%|██████████| 1/1 [00:02<00:00,  2.07s/it]\n",
      "100%|██████████| 1/1 [00:02<00:00,  2.48s/it]\n",
      "100%|██████████| 1/1 [00:02<00:00,  2.49s/it]\n",
      "100%|██████████| 1/1 [00:02<00:00,  2.07s/it]\n",
      "100%|██████████| 1/1 [00:02<00:00,  2.15s/it]\n",
      "100%|██████████| 1/1 [00:37<00:00, 37.91s/it]\n"
     ]
    },
    {
     "name": "stdout",
     "output_type": "stream",
     "text": [
      "Error at index 2152: No counterfactuals found for any of the query points! Kindly check your configuration.\n"
     ]
    },
    {
     "name": "stderr",
     "output_type": "stream",
     "text": [
      "100%|██████████| 1/1 [00:37<00:00, 37.87s/it]\n"
     ]
    },
    {
     "name": "stdout",
     "output_type": "stream",
     "text": [
      "Error at index 2153: No counterfactuals found for any of the query points! Kindly check your configuration.\n"
     ]
    },
    {
     "name": "stderr",
     "output_type": "stream",
     "text": [
      "100%|██████████| 1/1 [00:02<00:00,  2.05s/it]\n",
      "100%|██████████| 1/1 [00:37<00:00, 37.44s/it]\n"
     ]
    },
    {
     "name": "stdout",
     "output_type": "stream",
     "text": [
      "Error at index 2170: No counterfactuals found for any of the query points! Kindly check your configuration.\n"
     ]
    },
    {
     "name": "stderr",
     "output_type": "stream",
     "text": [
      "100%|██████████| 1/1 [00:02<00:00,  2.24s/it]\n",
      "100%|██████████| 1/1 [00:02<00:00,  2.27s/it]\n",
      "100%|██████████| 1/1 [00:03<00:00,  3.01s/it]\n",
      "100%|██████████| 1/1 [00:37<00:00, 37.04s/it]\n"
     ]
    },
    {
     "name": "stdout",
     "output_type": "stream",
     "text": [
      "Error at index 2199: No counterfactuals found for any of the query points! Kindly check your configuration.\n"
     ]
    },
    {
     "name": "stderr",
     "output_type": "stream",
     "text": [
      "100%|██████████| 1/1 [00:36<00:00, 36.93s/it]\n"
     ]
    },
    {
     "name": "stdout",
     "output_type": "stream",
     "text": [
      "Error at index 2200: No counterfactuals found for any of the query points! Kindly check your configuration.\n"
     ]
    },
    {
     "name": "stderr",
     "output_type": "stream",
     "text": [
      "100%|██████████| 1/1 [00:02<00:00,  2.14s/it]\n",
      "100%|██████████| 1/1 [00:36<00:00, 36.37s/it]\n"
     ]
    },
    {
     "name": "stdout",
     "output_type": "stream",
     "text": [
      "Error at index 2208: No counterfactuals found for any of the query points! Kindly check your configuration.\n"
     ]
    },
    {
     "name": "stderr",
     "output_type": "stream",
     "text": [
      "100%|██████████| 1/1 [00:01<00:00,  1.99s/it]\n",
      "100%|██████████| 1/1 [00:36<00:00, 36.45s/it]\n"
     ]
    },
    {
     "name": "stdout",
     "output_type": "stream",
     "text": [
      "Error at index 2216: No counterfactuals found for any of the query points! Kindly check your configuration.\n"
     ]
    },
    {
     "name": "stderr",
     "output_type": "stream",
     "text": [
      "100%|██████████| 1/1 [00:36<00:00, 36.82s/it]\n"
     ]
    },
    {
     "name": "stdout",
     "output_type": "stream",
     "text": [
      "Error at index 2236: No counterfactuals found for any of the query points! Kindly check your configuration.\n"
     ]
    },
    {
     "name": "stderr",
     "output_type": "stream",
     "text": [
      "100%|██████████| 1/1 [00:42<00:00, 42.16s/it]\n"
     ]
    },
    {
     "name": "stdout",
     "output_type": "stream",
     "text": [
      "Error at index 2237: No counterfactuals found for any of the query points! Kindly check your configuration.\n"
     ]
    },
    {
     "name": "stderr",
     "output_type": "stream",
     "text": [
      "100%|██████████| 1/1 [00:37<00:00, 37.29s/it]\n"
     ]
    },
    {
     "name": "stdout",
     "output_type": "stream",
     "text": [
      "Error at index 2238: No counterfactuals found for any of the query points! Kindly check your configuration.\n"
     ]
    },
    {
     "name": "stderr",
     "output_type": "stream",
     "text": [
      "100%|██████████| 1/1 [00:36<00:00, 36.57s/it]\n"
     ]
    },
    {
     "name": "stdout",
     "output_type": "stream",
     "text": [
      "Error at index 2239: No counterfactuals found for any of the query points! Kindly check your configuration.\n"
     ]
    },
    {
     "name": "stderr",
     "output_type": "stream",
     "text": [
      "100%|██████████| 1/1 [00:02<00:00,  2.22s/it]\n",
      "100%|██████████| 1/1 [00:02<00:00,  2.88s/it]\n",
      "100%|██████████| 1/1 [00:02<00:00,  2.39s/it]\n",
      "100%|██████████| 1/1 [00:05<00:00,  5.64s/it]\n",
      "100%|██████████| 1/1 [01:20<00:00, 80.65s/it]\n"
     ]
    },
    {
     "name": "stdout",
     "output_type": "stream",
     "text": [
      "Error at index 2337: No counterfactuals found for any of the query points! Kindly check your configuration.\n"
     ]
    },
    {
     "name": "stderr",
     "output_type": "stream",
     "text": [
      "100%|██████████| 1/1 [00:04<00:00,  4.27s/it]\n",
      "100%|██████████| 1/1 [00:04<00:00,  4.51s/it]\n",
      "100%|██████████| 1/1 [00:05<00:00,  5.56s/it]\n",
      "100%|██████████| 1/1 [00:04<00:00,  4.90s/it]\n",
      "100%|██████████| 1/1 [00:57<00:00, 57.26s/it]\n"
     ]
    },
    {
     "name": "stdout",
     "output_type": "stream",
     "text": [
      "Error at index 2389: No counterfactuals found for any of the query points! Kindly check your configuration.\n"
     ]
    },
    {
     "name": "stderr",
     "output_type": "stream",
     "text": [
      "100%|██████████| 1/1 [00:36<00:00, 36.71s/it]\n"
     ]
    },
    {
     "name": "stdout",
     "output_type": "stream",
     "text": [
      "Error at index 2390: No counterfactuals found for any of the query points! Kindly check your configuration.\n"
     ]
    },
    {
     "name": "stderr",
     "output_type": "stream",
     "text": [
      "100%|██████████| 1/1 [00:02<00:00,  2.19s/it]\n",
      "100%|██████████| 1/1 [00:02<00:00,  2.16s/it]\n",
      "100%|██████████| 1/1 [00:02<00:00,  2.30s/it]\n",
      "100%|██████████| 1/1 [00:38<00:00, 38.04s/it]\n"
     ]
    },
    {
     "name": "stdout",
     "output_type": "stream",
     "text": [
      "Error at index 2424: No counterfactuals found for any of the query points! Kindly check your configuration.\n"
     ]
    },
    {
     "name": "stderr",
     "output_type": "stream",
     "text": [
      "100%|██████████| 1/1 [00:02<00:00,  2.28s/it]\n",
      "100%|██████████| 1/1 [00:37<00:00, 37.06s/it]\n"
     ]
    },
    {
     "name": "stdout",
     "output_type": "stream",
     "text": [
      "Error at index 2431: No counterfactuals found for any of the query points! Kindly check your configuration.\n"
     ]
    },
    {
     "name": "stderr",
     "output_type": "stream",
     "text": [
      "100%|██████████| 1/1 [00:02<00:00,  2.10s/it]\n",
      "100%|██████████| 1/1 [00:02<00:00,  2.20s/it]\n",
      "100%|██████████| 1/1 [00:02<00:00,  2.21s/it]\n",
      "100%|██████████| 1/1 [00:02<00:00,  2.20s/it]\n",
      "100%|██████████| 1/1 [00:02<00:00,  2.23s/it]\n",
      "100%|██████████| 1/1 [00:01<00:00,  1.99s/it]\n",
      "100%|██████████| 1/1 [00:02<00:00,  2.17s/it]\n",
      "100%|██████████| 1/1 [00:02<00:00,  2.23s/it]\n",
      "100%|██████████| 1/1 [00:02<00:00,  2.26s/it]\n",
      "100%|██████████| 1/1 [00:02<00:00,  2.03s/it]\n",
      "100%|██████████| 1/1 [00:02<00:00,  2.27s/it]\n",
      "100%|██████████| 1/1 [00:02<00:00,  2.29s/it]\n",
      "100%|██████████| 1/1 [00:37<00:00, 37.34s/it]\n"
     ]
    },
    {
     "name": "stdout",
     "output_type": "stream",
     "text": [
      "Error at index 2707: No counterfactuals found for any of the query points! Kindly check your configuration.\n"
     ]
    },
    {
     "name": "stderr",
     "output_type": "stream",
     "text": [
      "100%|██████████| 1/1 [00:01<00:00,  1.99s/it]\n",
      "100%|██████████| 1/1 [00:02<00:00,  2.44s/it]\n",
      "100%|██████████| 1/1 [00:02<00:00,  2.26s/it]\n",
      "100%|██████████| 1/1 [00:01<00:00,  2.00s/it]\n",
      "100%|██████████| 1/1 [00:37<00:00, 37.13s/it]\n"
     ]
    },
    {
     "name": "stdout",
     "output_type": "stream",
     "text": [
      "Error at index 2798: No counterfactuals found for any of the query points! Kindly check your configuration.\n"
     ]
    },
    {
     "name": "stderr",
     "output_type": "stream",
     "text": [
      "100%|██████████| 1/1 [00:02<00:00,  2.25s/it]\n",
      "100%|██████████| 1/1 [00:02<00:00,  2.21s/it]\n",
      "100%|██████████| 1/1 [00:02<00:00,  2.37s/it]\n",
      "100%|██████████| 1/1 [00:02<00:00,  2.03s/it]\n",
      "100%|██████████| 1/1 [00:02<00:00,  2.26s/it]\n"
     ]
    }
   ],
   "execution_count": 31
  },
  {
   "metadata": {
    "ExecuteTime": {
     "end_time": "2025-09-02T14:44:29.568052Z",
     "start_time": "2025-09-02T14:44:29.451559Z"
    }
   },
   "cell_type": "code",
   "source": [
    "import matplotlib.pyplot as plt\n",
    "plt.style.use('dark_background')\n",
    "fig, ax = plt.subplots(figsize=(6, 6))\n",
    "X_df_cfe_exp_genetic_TP = df_cfe_exp_genetic_TP.drop([\"Event_Y_N\"], axis=1)\n",
    "Y_df_cfe_exp_genetic_TP = df_cfe_exp_genetic_TP['Event_Y_N']\n",
    "Y_df_cfe_exp_genetic_TP_pred = RandomForestClassifier_sep_cfe.predict(X_df_cfe_exp_genetic_TP)\n",
    "cm1 = confusion_matrix(Y_df_cfe_exp_genetic_TP, Y_df_cfe_exp_genetic_TP_pred, labels=[1,0])\n",
    "\n",
    "disp = ConfusionMatrixDisplay(confusion_matrix=cm1, display_labels=[1, 0])\n",
    "disp.plot(ax=ax, cmap='cividis', colorbar=False)\n",
    "ax.title.set_color('white')\n",
    "ax.xaxis.label.set_color('white')\n",
    "ax.yaxis.label.set_color('white')\n",
    "ax.tick_params(colors='white')\n",
    "\n",
    "plt.show()\n"
   ],
   "id": "946b7c0d402bac6b",
   "outputs": [
    {
     "data": {
      "text/plain": [
       "<Figure size 600x600 with 1 Axes>"
      ],
      "image/png": "[encoded data removed]"
     },
     "metadata": {},
     "output_type": "display_data"
    }
   ],
   "execution_count": 32
  },
  {
   "metadata": {},
   "cell_type": "markdown",
   "source": "Generating Counterfactuals of Opposite Class for True Negative SEP events",
   "id": "749cd59faea703ce"
  },
  {
   "metadata": {
    "ExecuteTime": {
     "end_time": "2025-09-02T15:33:01.309507Z",
     "start_time": "2025-09-02T14:44:29.650913Z"
    }
   },
   "cell_type": "code",
   "source": [
    "true_negatives_query_instances_copy = true_negatives_query_instances[:70].drop([\"Label\", \"Event_Y_N\", \"Multi_Label\", \"File\", \"not_exists\",\"Predicted_Event_Y_N\"], axis=1)\n",
    "cfe_exp=[]\n",
    "df_cfe_exp_genetic_TN = pd.DataFrame()\n",
    "for idx, row in true_negatives_query_instances_copy.iterrows():\n",
    "    try:\n",
    "        query_instance_df = pd.DataFrame([row])\n",
    "        query_ts_filename = true_negatives_query_instances.loc[idx,'File']\n",
    "        csv_path = os.path.join('../data/raw/data/', query_ts_filename)\n",
    "        filtered_dict = extract_feature_ranges(csv_path,delim=',', slices=slices, top_k_features=top_k_features,flux_types = ['p3_flux_ic','p5_flux_ic','p7_flux_ic'])\n",
    "        cfe_genetic = exp_genetic.generate_counterfactuals(\n",
    "        query_instance_df,  #multiple query instances can be provided as an input dataframe\n",
    "        total_CFs=1,  # Number of counterfactual examples to generate\n",
    "        desired_class=1,#'opposite' #,  # Specify the desired class for a continuous target variable\n",
    "        permitted_range=filtered_dict\n",
    "        )\n",
    "        cfe_df = cfe_genetic.cf_examples_list[0].final_cfs_df\n",
    "        if not cfe_df.empty:\n",
    "            cfe_exp.append(cfe_df)\n",
    "            df_cfe_exp_genetic_TN = pd.concat([df_cfe_exp_genetic_TN, cfe_df], ignore_index=True)\n",
    "        else:\n",
    "            print(f\"No counterfactuals generated for index {idx}\")\n",
    "    except Exception as e:\n",
    "        print(f\"Error at index {idx}: {e}\")\n",
    "        continue"
   ],
   "id": "5067c2f88a3e4ca0",
   "outputs": [
    {
     "name": "stderr",
     "output_type": "stream",
     "text": [
      "100%|██████████| 1/1 [00:35<00:00, 35.40s/it]\n"
     ]
    },
    {
     "name": "stdout",
     "output_type": "stream",
     "text": [
      "Error at index 1970: No counterfactuals found for any of the query points! Kindly check your configuration.\n"
     ]
    },
    {
     "name": "stderr",
     "output_type": "stream",
     "text": [
      "100%|██████████| 1/1 [00:39<00:00, 39.76s/it]\n"
     ]
    },
    {
     "name": "stdout",
     "output_type": "stream",
     "text": [
      "Error at index 1971: No counterfactuals found for any of the query points! Kindly check your configuration.\n"
     ]
    },
    {
     "name": "stderr",
     "output_type": "stream",
     "text": [
      "100%|██████████| 1/1 [00:37<00:00, 37.23s/it]\n"
     ]
    },
    {
     "name": "stdout",
     "output_type": "stream",
     "text": [
      "Error at index 1972: No counterfactuals found for any of the query points! Kindly check your configuration.\n"
     ]
    },
    {
     "name": "stderr",
     "output_type": "stream",
     "text": [
      "100%|██████████| 1/1 [00:38<00:00, 38.19s/it]\n"
     ]
    },
    {
     "name": "stdout",
     "output_type": "stream",
     "text": [
      "Error at index 1973: No counterfactuals found for any of the query points! Kindly check your configuration.\n"
     ]
    },
    {
     "name": "stderr",
     "output_type": "stream",
     "text": [
      "100%|██████████| 1/1 [00:36<00:00, 36.80s/it]\n"
     ]
    },
    {
     "name": "stdout",
     "output_type": "stream",
     "text": [
      "Error at index 1974: No counterfactuals found for any of the query points! Kindly check your configuration.\n"
     ]
    },
    {
     "name": "stderr",
     "output_type": "stream",
     "text": [
      "100%|██████████| 1/1 [00:36<00:00, 36.34s/it]\n"
     ]
    },
    {
     "name": "stdout",
     "output_type": "stream",
     "text": [
      "Error at index 1975: No counterfactuals found for any of the query points! Kindly check your configuration.\n"
     ]
    },
    {
     "name": "stderr",
     "output_type": "stream",
     "text": [
      "100%|██████████| 1/1 [00:36<00:00, 36.56s/it]\n"
     ]
    },
    {
     "name": "stdout",
     "output_type": "stream",
     "text": [
      "Error at index 1976: No counterfactuals found for any of the query points! Kindly check your configuration.\n"
     ]
    },
    {
     "name": "stderr",
     "output_type": "stream",
     "text": [
      "100%|██████████| 1/1 [00:02<00:00,  2.08s/it]\n",
      "100%|██████████| 1/1 [00:36<00:00, 36.80s/it]\n"
     ]
    },
    {
     "name": "stdout",
     "output_type": "stream",
     "text": [
      "Error at index 1978: No counterfactuals found for any of the query points! Kindly check your configuration.\n"
     ]
    },
    {
     "name": "stderr",
     "output_type": "stream",
     "text": [
      "100%|██████████| 1/1 [00:36<00:00, 36.39s/it]\n"
     ]
    },
    {
     "name": "stdout",
     "output_type": "stream",
     "text": [
      "Error at index 1979: No counterfactuals found for any of the query points! Kindly check your configuration.\n"
     ]
    },
    {
     "name": "stderr",
     "output_type": "stream",
     "text": [
      "100%|██████████| 1/1 [00:37<00:00, 37.50s/it]\n"
     ]
    },
    {
     "name": "stdout",
     "output_type": "stream",
     "text": [
      "Error at index 1980: No counterfactuals found for any of the query points! Kindly check your configuration.\n"
     ]
    },
    {
     "name": "stderr",
     "output_type": "stream",
     "text": [
      "100%|██████████| 1/1 [00:35<00:00, 35.76s/it]\n"
     ]
    },
    {
     "name": "stdout",
     "output_type": "stream",
     "text": [
      "Error at index 1981: No counterfactuals found for any of the query points! Kindly check your configuration.\n"
     ]
    },
    {
     "name": "stderr",
     "output_type": "stream",
     "text": [
      "100%|██████████| 1/1 [00:36<00:00, 36.51s/it]\n"
     ]
    },
    {
     "name": "stdout",
     "output_type": "stream",
     "text": [
      "Error at index 1982: No counterfactuals found for any of the query points! Kindly check your configuration.\n"
     ]
    },
    {
     "name": "stderr",
     "output_type": "stream",
     "text": [
      "100%|██████████| 1/1 [00:42<00:00, 42.47s/it]\n"
     ]
    },
    {
     "name": "stdout",
     "output_type": "stream",
     "text": [
      "Error at index 1983: No counterfactuals found for any of the query points! Kindly check your configuration.\n"
     ]
    },
    {
     "name": "stderr",
     "output_type": "stream",
     "text": [
      "100%|██████████| 1/1 [00:41<00:00, 41.96s/it]\n"
     ]
    },
    {
     "name": "stdout",
     "output_type": "stream",
     "text": [
      "Error at index 1984: No counterfactuals found for any of the query points! Kindly check your configuration.\n"
     ]
    },
    {
     "name": "stderr",
     "output_type": "stream",
     "text": [
      "100%|██████████| 1/1 [00:02<00:00,  2.20s/it]\n",
      "100%|██████████| 1/1 [00:02<00:00,  2.35s/it]\n",
      "100%|██████████| 1/1 [01:17<00:00, 77.36s/it]\n"
     ]
    },
    {
     "name": "stdout",
     "output_type": "stream",
     "text": [
      "Error at index 1987: No counterfactuals found for any of the query points! Kindly check your configuration.\n"
     ]
    },
    {
     "name": "stderr",
     "output_type": "stream",
     "text": [
      "100%|██████████| 1/1 [00:04<00:00,  4.10s/it]\n",
      "100%|██████████| 1/1 [01:05<00:00, 65.79s/it]\n"
     ]
    },
    {
     "name": "stdout",
     "output_type": "stream",
     "text": [
      "Error at index 1989: No counterfactuals found for any of the query points! Kindly check your configuration.\n"
     ]
    },
    {
     "name": "stderr",
     "output_type": "stream",
     "text": [
      "100%|██████████| 1/1 [00:55<00:00, 55.35s/it]\n"
     ]
    },
    {
     "name": "stdout",
     "output_type": "stream",
     "text": [
      "Error at index 1990: No counterfactuals found for any of the query points! Kindly check your configuration.\n"
     ]
    },
    {
     "name": "stderr",
     "output_type": "stream",
     "text": [
      "100%|██████████| 1/1 [00:46<00:00, 46.00s/it]\n"
     ]
    },
    {
     "name": "stdout",
     "output_type": "stream",
     "text": [
      "Error at index 1991: No counterfactuals found for any of the query points! Kindly check your configuration.\n"
     ]
    },
    {
     "name": "stderr",
     "output_type": "stream",
     "text": [
      "100%|██████████| 1/1 [00:45<00:00, 45.25s/it]\n"
     ]
    },
    {
     "name": "stdout",
     "output_type": "stream",
     "text": [
      "Error at index 1992: No counterfactuals found for any of the query points! Kindly check your configuration.\n"
     ]
    },
    {
     "name": "stderr",
     "output_type": "stream",
     "text": [
      "100%|██████████| 1/1 [00:47<00:00, 47.45s/it]\n"
     ]
    },
    {
     "name": "stdout",
     "output_type": "stream",
     "text": [
      "Error at index 1993: No counterfactuals found for any of the query points! Kindly check your configuration.\n"
     ]
    },
    {
     "name": "stderr",
     "output_type": "stream",
     "text": [
      "100%|██████████| 1/1 [00:47<00:00, 47.18s/it]\n"
     ]
    },
    {
     "name": "stdout",
     "output_type": "stream",
     "text": [
      "Error at index 1994: No counterfactuals found for any of the query points! Kindly check your configuration.\n"
     ]
    },
    {
     "name": "stderr",
     "output_type": "stream",
     "text": [
      "100%|██████████| 1/1 [00:56<00:00, 56.42s/it]\n"
     ]
    },
    {
     "name": "stdout",
     "output_type": "stream",
     "text": [
      "Error at index 1995: No counterfactuals found for any of the query points! Kindly check your configuration.\n"
     ]
    },
    {
     "name": "stderr",
     "output_type": "stream",
     "text": [
      "100%|██████████| 1/1 [01:09<00:00, 69.21s/it]\n"
     ]
    },
    {
     "name": "stdout",
     "output_type": "stream",
     "text": [
      "Error at index 1996: No counterfactuals found for any of the query points! Kindly check your configuration.\n"
     ]
    },
    {
     "name": "stderr",
     "output_type": "stream",
     "text": [
      "100%|██████████| 1/1 [01:07<00:00, 67.71s/it]\n"
     ]
    },
    {
     "name": "stdout",
     "output_type": "stream",
     "text": [
      "Error at index 1997: No counterfactuals found for any of the query points! Kindly check your configuration.\n"
     ]
    },
    {
     "name": "stderr",
     "output_type": "stream",
     "text": [
      "100%|██████████| 1/1 [01:09<00:00, 69.47s/it]\n"
     ]
    },
    {
     "name": "stdout",
     "output_type": "stream",
     "text": [
      "Error at index 1998: No counterfactuals found for any of the query points! Kindly check your configuration.\n"
     ]
    },
    {
     "name": "stderr",
     "output_type": "stream",
     "text": [
      "100%|██████████| 1/1 [01:09<00:00, 69.03s/it]\n"
     ]
    },
    {
     "name": "stdout",
     "output_type": "stream",
     "text": [
      "Error at index 1999: No counterfactuals found for any of the query points! Kindly check your configuration.\n"
     ]
    },
    {
     "name": "stderr",
     "output_type": "stream",
     "text": [
      "100%|██████████| 1/1 [01:24<00:00, 84.49s/it]\n"
     ]
    },
    {
     "name": "stdout",
     "output_type": "stream",
     "text": [
      "Error at index 2000: No counterfactuals found for any of the query points! Kindly check your configuration.\n"
     ]
    },
    {
     "name": "stderr",
     "output_type": "stream",
     "text": [
      "100%|██████████| 1/1 [01:17<00:00, 77.63s/it]\n"
     ]
    },
    {
     "name": "stdout",
     "output_type": "stream",
     "text": [
      "Error at index 2001: No counterfactuals found for any of the query points! Kindly check your configuration.\n"
     ]
    },
    {
     "name": "stderr",
     "output_type": "stream",
     "text": [
      "100%|██████████| 1/1 [01:09<00:00, 69.70s/it]\n"
     ]
    },
    {
     "name": "stdout",
     "output_type": "stream",
     "text": [
      "Error at index 2002: No counterfactuals found for any of the query points! Kindly check your configuration.\n"
     ]
    },
    {
     "name": "stderr",
     "output_type": "stream",
     "text": [
      "100%|██████████| 1/1 [01:08<00:00, 68.53s/it]\n"
     ]
    },
    {
     "name": "stdout",
     "output_type": "stream",
     "text": [
      "Error at index 2003: No counterfactuals found for any of the query points! Kindly check your configuration.\n"
     ]
    },
    {
     "name": "stderr",
     "output_type": "stream",
     "text": [
      "100%|██████████| 1/1 [00:03<00:00,  3.94s/it]\n",
      "100%|██████████| 1/1 [00:49<00:00, 49.99s/it]\n"
     ]
    },
    {
     "name": "stdout",
     "output_type": "stream",
     "text": [
      "Error at index 2009: No counterfactuals found for any of the query points! Kindly check your configuration.\n"
     ]
    },
    {
     "name": "stderr",
     "output_type": "stream",
     "text": [
      "100%|██████████| 1/1 [00:38<00:00, 38.33s/it]\n"
     ]
    },
    {
     "name": "stdout",
     "output_type": "stream",
     "text": [
      "Error at index 2010: No counterfactuals found for any of the query points! Kindly check your configuration.\n"
     ]
    },
    {
     "name": "stderr",
     "output_type": "stream",
     "text": [
      "100%|██████████| 1/1 [00:37<00:00, 37.83s/it]\n"
     ]
    },
    {
     "name": "stdout",
     "output_type": "stream",
     "text": [
      "Error at index 2011: No counterfactuals found for any of the query points! Kindly check your configuration.\n"
     ]
    },
    {
     "name": "stderr",
     "output_type": "stream",
     "text": [
      "100%|██████████| 1/1 [00:38<00:00, 38.12s/it]\n"
     ]
    },
    {
     "name": "stdout",
     "output_type": "stream",
     "text": [
      "Error at index 2012: No counterfactuals found for any of the query points! Kindly check your configuration.\n"
     ]
    },
    {
     "name": "stderr",
     "output_type": "stream",
     "text": [
      "100%|██████████| 1/1 [00:02<00:00,  2.15s/it]\n",
      "100%|██████████| 1/1 [00:39<00:00, 39.07s/it]\n"
     ]
    },
    {
     "name": "stdout",
     "output_type": "stream",
     "text": [
      "Error at index 2015: No counterfactuals found for any of the query points! Kindly check your configuration.\n"
     ]
    },
    {
     "name": "stderr",
     "output_type": "stream",
     "text": [
      "100%|██████████| 1/1 [00:38<00:00, 38.11s/it]\n"
     ]
    },
    {
     "name": "stdout",
     "output_type": "stream",
     "text": [
      "Error at index 2016: No counterfactuals found for any of the query points! Kindly check your configuration.\n"
     ]
    },
    {
     "name": "stderr",
     "output_type": "stream",
     "text": [
      "100%|██████████| 1/1 [00:37<00:00, 37.87s/it]\n"
     ]
    },
    {
     "name": "stdout",
     "output_type": "stream",
     "text": [
      "Error at index 2017: No counterfactuals found for any of the query points! Kindly check your configuration.\n"
     ]
    },
    {
     "name": "stderr",
     "output_type": "stream",
     "text": [
      "100%|██████████| 1/1 [00:39<00:00, 39.21s/it]\n"
     ]
    },
    {
     "name": "stdout",
     "output_type": "stream",
     "text": [
      "Error at index 2018: No counterfactuals found for any of the query points! Kindly check your configuration.\n"
     ]
    },
    {
     "name": "stderr",
     "output_type": "stream",
     "text": [
      "100%|██████████| 1/1 [00:38<00:00, 38.49s/it]\n"
     ]
    },
    {
     "name": "stdout",
     "output_type": "stream",
     "text": [
      "Error at index 2019: No counterfactuals found for any of the query points! Kindly check your configuration.\n"
     ]
    },
    {
     "name": "stderr",
     "output_type": "stream",
     "text": [
      "100%|██████████| 1/1 [00:37<00:00, 37.97s/it]\n"
     ]
    },
    {
     "name": "stdout",
     "output_type": "stream",
     "text": [
      "Error at index 2020: No counterfactuals found for any of the query points! Kindly check your configuration.\n"
     ]
    },
    {
     "name": "stderr",
     "output_type": "stream",
     "text": [
      "100%|██████████| 1/1 [00:37<00:00, 38.00s/it]\n"
     ]
    },
    {
     "name": "stdout",
     "output_type": "stream",
     "text": [
      "Error at index 2021: No counterfactuals found for any of the query points! Kindly check your configuration.\n"
     ]
    },
    {
     "name": "stderr",
     "output_type": "stream",
     "text": [
      "100%|██████████| 1/1 [00:47<00:00, 47.07s/it]\n"
     ]
    },
    {
     "name": "stdout",
     "output_type": "stream",
     "text": [
      "Error at index 2022: No counterfactuals found for any of the query points! Kindly check your configuration.\n"
     ]
    },
    {
     "name": "stderr",
     "output_type": "stream",
     "text": [
      "100%|██████████| 1/1 [00:48<00:00, 48.79s/it]\n"
     ]
    },
    {
     "name": "stdout",
     "output_type": "stream",
     "text": [
      "Error at index 2023: No counterfactuals found for any of the query points! Kindly check your configuration.\n"
     ]
    },
    {
     "name": "stderr",
     "output_type": "stream",
     "text": [
      "100%|██████████| 1/1 [00:49<00:00, 49.24s/it]\n"
     ]
    },
    {
     "name": "stdout",
     "output_type": "stream",
     "text": [
      "Error at index 2024: No counterfactuals found for any of the query points! Kindly check your configuration.\n"
     ]
    },
    {
     "name": "stderr",
     "output_type": "stream",
     "text": [
      "100%|██████████| 1/1 [00:42<00:00, 42.87s/it]\n"
     ]
    },
    {
     "name": "stdout",
     "output_type": "stream",
     "text": [
      "Error at index 2025: No counterfactuals found for any of the query points! Kindly check your configuration.\n"
     ]
    },
    {
     "name": "stderr",
     "output_type": "stream",
     "text": [
      "100%|██████████| 1/1 [00:38<00:00, 38.66s/it]\n"
     ]
    },
    {
     "name": "stdout",
     "output_type": "stream",
     "text": [
      "Error at index 2026: No counterfactuals found for any of the query points! Kindly check your configuration.\n"
     ]
    },
    {
     "name": "stderr",
     "output_type": "stream",
     "text": [
      "100%|██████████| 1/1 [00:38<00:00, 38.40s/it]\n"
     ]
    },
    {
     "name": "stdout",
     "output_type": "stream",
     "text": [
      "Error at index 2027: No counterfactuals found for any of the query points! Kindly check your configuration.\n"
     ]
    },
    {
     "name": "stderr",
     "output_type": "stream",
     "text": [
      "100%|██████████| 1/1 [00:39<00:00, 39.43s/it]\n"
     ]
    },
    {
     "name": "stdout",
     "output_type": "stream",
     "text": [
      "Error at index 2028: No counterfactuals found for any of the query points! Kindly check your configuration.\n"
     ]
    },
    {
     "name": "stderr",
     "output_type": "stream",
     "text": [
      "100%|██████████| 1/1 [00:40<00:00, 40.03s/it]\n"
     ]
    },
    {
     "name": "stdout",
     "output_type": "stream",
     "text": [
      "Error at index 2029: No counterfactuals found for any of the query points! Kindly check your configuration.\n"
     ]
    },
    {
     "name": "stderr",
     "output_type": "stream",
     "text": [
      "100%|██████████| 1/1 [00:02<00:00,  2.17s/it]\n",
      "100%|██████████| 1/1 [00:40<00:00, 40.13s/it]\n"
     ]
    },
    {
     "name": "stdout",
     "output_type": "stream",
     "text": [
      "Error at index 2031: No counterfactuals found for any of the query points! Kindly check your configuration.\n"
     ]
    },
    {
     "name": "stderr",
     "output_type": "stream",
     "text": [
      "100%|██████████| 1/1 [00:38<00:00, 38.17s/it]\n"
     ]
    },
    {
     "name": "stdout",
     "output_type": "stream",
     "text": [
      "Error at index 2032: No counterfactuals found for any of the query points! Kindly check your configuration.\n"
     ]
    },
    {
     "name": "stderr",
     "output_type": "stream",
     "text": [
      "100%|██████████| 1/1 [00:40<00:00, 40.69s/it]\n"
     ]
    },
    {
     "name": "stdout",
     "output_type": "stream",
     "text": [
      "Error at index 2033: No counterfactuals found for any of the query points! Kindly check your configuration.\n"
     ]
    },
    {
     "name": "stderr",
     "output_type": "stream",
     "text": [
      "100%|██████████| 1/1 [00:59<00:00, 59.91s/it]\n"
     ]
    },
    {
     "name": "stdout",
     "output_type": "stream",
     "text": [
      "Error at index 2034: No counterfactuals found for any of the query points! Kindly check your configuration.\n"
     ]
    },
    {
     "name": "stderr",
     "output_type": "stream",
     "text": [
      "100%|██████████| 1/1 [00:04<00:00,  4.07s/it]\n",
      "100%|██████████| 1/1 [01:09<00:00, 69.48s/it]\n"
     ]
    },
    {
     "name": "stdout",
     "output_type": "stream",
     "text": [
      "Error at index 2036: No counterfactuals found for any of the query points! Kindly check your configuration.\n"
     ]
    },
    {
     "name": "stderr",
     "output_type": "stream",
     "text": [
      "100%|██████████| 1/1 [01:08<00:00, 68.60s/it]\n"
     ]
    },
    {
     "name": "stdout",
     "output_type": "stream",
     "text": [
      "Error at index 2037: No counterfactuals found for any of the query points! Kindly check your configuration.\n"
     ]
    },
    {
     "name": "stderr",
     "output_type": "stream",
     "text": [
      "100%|██████████| 1/1 [01:08<00:00, 68.71s/it]\n"
     ]
    },
    {
     "name": "stdout",
     "output_type": "stream",
     "text": [
      "Error at index 2038: No counterfactuals found for any of the query points! Kindly check your configuration.\n"
     ]
    },
    {
     "name": "stderr",
     "output_type": "stream",
     "text": [
      "100%|██████████| 1/1 [00:04<00:00,  4.00s/it]\n",
      "100%|██████████| 1/1 [00:03<00:00,  3.97s/it]\n",
      "100%|██████████| 1/1 [01:09<00:00, 69.83s/it]\n"
     ]
    },
    {
     "name": "stdout",
     "output_type": "stream",
     "text": [
      "Error at index 2049: No counterfactuals found for any of the query points! Kindly check your configuration.\n"
     ]
    },
    {
     "name": "stderr",
     "output_type": "stream",
     "text": [
      "100%|██████████| 1/1 [01:09<00:00, 69.43s/it]\n"
     ]
    },
    {
     "name": "stdout",
     "output_type": "stream",
     "text": [
      "Error at index 2050: No counterfactuals found for any of the query points! Kindly check your configuration.\n"
     ]
    },
    {
     "name": "stderr",
     "output_type": "stream",
     "text": [
      "100%|██████████| 1/1 [00:04<00:00,  4.09s/it]\n",
      "100%|██████████| 1/1 [00:03<00:00,  3.86s/it]\n"
     ]
    }
   ],
   "execution_count": 33
  },
  {
   "metadata": {
    "ExecuteTime": {
     "end_time": "2025-09-02T15:33:16.332599Z",
     "start_time": "2025-09-02T15:33:16.324327Z"
    }
   },
   "cell_type": "code",
   "source": [
    "wandb.config.update({\n",
    "    \"num_cf_true_positive\": len(df_cfe_exp_genetic_TP),\n",
    "    \"num_cf_true_negative\": len(df_cfe_exp_genetic_TN),\n",
    "})"
   ],
   "id": "c011821b0437abc",
   "outputs": [],
   "execution_count": 35
  },
  {
   "metadata": {
    "ExecuteTime": {
     "end_time": "2025-09-02T15:33:19.518659Z",
     "start_time": "2025-09-02T15:33:19.363765Z"
    }
   },
   "cell_type": "code",
   "source": [
    "import matplotlib.pyplot as plt\n",
    "plt.style.use('dark_background')\n",
    "fig, ax = plt.subplots(figsize=(6, 6))\n",
    "X_df_cfe_exp_genetic_TN = df_cfe_exp_genetic_TN.drop([\"Event_Y_N\"], axis=1)\n",
    "Y_df_cfe_exp_genetic_TN = df_cfe_exp_genetic_TN['Event_Y_N']\n",
    "Y_df_cfe_exp_genetic_TN_pred = RandomForestClassifier_sep_cfe.predict(X_df_cfe_exp_genetic_TN)\n",
    "cm2 = confusion_matrix(Y_df_cfe_exp_genetic_TN, Y_df_cfe_exp_genetic_TN_pred, labels=[1,0])\n",
    "\n",
    "disp = ConfusionMatrixDisplay(confusion_matrix=cm2, display_labels=[1, 0])\n",
    "disp.plot(ax=ax, cmap='cividis', colorbar=False)\n",
    "ax.title.set_color('white')\n",
    "ax.xaxis.label.set_color('white')\n",
    "ax.yaxis.label.set_color('white')\n",
    "ax.tick_params(colors='white')\n",
    "\n",
    "plt.show()"
   ],
   "id": "e27fc1e2f250c410",
   "outputs": [
    {
     "data": {
      "text/plain": [
       "<Figure size 600x600 with 1 Axes>"
      ],
      "image/png": "[encoded data removed]"
     },
     "metadata": {},
     "output_type": "display_data"
    }
   ],
   "execution_count": 36
  },
  {
   "metadata": {
    "ExecuteTime": {
     "end_time": "2025-09-02T15:33:23.646793Z",
     "start_time": "2025-09-02T15:33:23.603039Z"
    }
   },
   "cell_type": "code",
   "source": [
    "# --- 2. Log accuracy and metrics for CFEs ---\n",
    "acc_cfe_tp = RandomForestClassifier_sep_cfe.score(X_df_cfe_exp_genetic_TP, Y_df_cfe_exp_genetic_TP)\n",
    "acc_cfe_tn = RandomForestClassifier_sep_cfe.score(X_df_cfe_exp_genetic_TN, Y_df_cfe_exp_genetic_TN)\n",
    "wandb.log({\"Accuracy_of_CFE_for_TruePositive_Input_Instances\": acc_cfe_tp})\n",
    "wandb.log({\"Accuracy_of_CFE_for_TrueNegative_Input_Instances\": acc_cfe_tn})"
   ],
   "id": "45f177e919689003",
   "outputs": [],
   "execution_count": 37
  },
  {
   "metadata": {
    "ExecuteTime": {
     "end_time": "2025-09-02T15:33:26.947146Z",
     "start_time": "2025-09-02T15:33:26.889434Z"
    }
   },
   "cell_type": "code",
   "source": [
    "from sklearn.metrics import classification_report\n",
    "report_tp = classification_report(Y_df_cfe_exp_genetic_TP, Y_df_cfe_exp_genetic_TP_pred)\n",
    "report_tn = classification_report(Y_df_cfe_exp_genetic_TN, Y_df_cfe_exp_genetic_TN_pred)\n",
    "wandb.log({\"ClassificationReport_CFE_TP\": wandb.Html(f\"<pre>{report_tp}</pre>\")})\n",
    "wandb.log({\"ClassificationReport_CFE_TN\": wandb.Html(f\"<pre>{report_tn}</pre>\")})"
   ],
   "id": "733ac660f68f578a",
   "outputs": [],
   "execution_count": 38
  },
  {
   "metadata": {
    "ExecuteTime": {
     "end_time": "2025-09-02T15:33:38.155893Z",
     "start_time": "2025-09-02T15:33:34.550607Z"
    }
   },
   "cell_type": "code",
   "source": [
    "wandb.log({\n",
    "    \"CFE_TruePositive\": wandb.Table(dataframe=df_cfe_exp_genetic_TP.head(50)),\n",
    "    \"CFE_TrueNegative\": wandb.Table(dataframe=df_cfe_exp_genetic_TN.head(50))\n",
    "})"
   ],
   "id": "ff2dc6ef6bc94de5",
   "outputs": [],
   "execution_count": 40
  },
  {
   "metadata": {
    "ExecuteTime": {
     "end_time": "2025-09-02T15:46:00.734409Z",
     "start_time": "2025-09-02T15:46:00.691579Z"
    }
   },
   "cell_type": "code",
   "source": [
    "def fidelity_score(cfs, model, desired_class):\n",
    "    preds = model.predict(cfs)  # outputs 0/1\n",
    "    num_correct = np.sum(preds == desired_class)\n",
    "    total = len(cfs)\n",
    "    return num_correct / total\n",
    "\n",
    "fidelity_scoreTP=fidelity_score(X_df_cfe_exp_genetic_TP,RandomForestClassifier_sep_cfe,0)*100\n",
    "fidelity_scoreTN=fidelity_score(X_df_cfe_exp_genetic_TN,RandomForestClassifier_sep_cfe,1)*100"
   ],
   "id": "48122799c35f1dac",
   "outputs": [],
   "execution_count": 53
  },
  {
   "metadata": {
    "ExecuteTime": {
     "end_time": "2025-09-02T15:46:03.496638Z",
     "start_time": "2025-09-02T15:46:03.487780Z"
    }
   },
   "cell_type": "code",
   "source": "fidelity_scoreTP",
   "id": "ece1e48159396f6a",
   "outputs": [
    {
     "data": {
      "text/plain": [
       "100.0"
      ]
     },
     "execution_count": 54,
     "metadata": {},
     "output_type": "execute_result"
    }
   ],
   "execution_count": 54
  },
  {
   "metadata": {
    "ExecuteTime": {
     "end_time": "2025-09-02T15:46:06.472290Z",
     "start_time": "2025-09-02T15:46:06.465802Z"
    }
   },
   "cell_type": "code",
   "source": "fidelity_scoreTN",
   "id": "eeaed0e3866b7b5d",
   "outputs": [
    {
     "data": {
      "text/plain": [
       "100.0"
      ]
     },
     "execution_count": 55,
     "metadata": {},
     "output_type": "execute_result"
    }
   ],
   "execution_count": 55
  },
  {
   "metadata": {
    "ExecuteTime": {
     "end_time": "2025-09-02T15:41:23.429697Z",
     "start_time": "2025-09-02T15:41:23.403127Z"
    }
   },
   "cell_type": "code",
   "source": [
    "wandb.log({\"Fidelity Score of True Positive Input Instances and their counterfactuals\":fidelity_scoreTP,\n",
    "\"Fidelity Score of True Negative Input Instances and their counterfactuals\": fidelity_scoreTN})"
   ],
   "id": "b7e46d053183ff79",
   "outputs": [
    {
     "ename": "Error",
     "evalue": "You must call wandb.init() before wandb.log()",
     "output_type": "error",
     "traceback": [
      "\u001B[1;31m---------------------------------------------------------------------------\u001B[0m",
      "\u001B[1;31mError\u001B[0m                                     Traceback (most recent call last)",
      "Cell \u001B[1;32mIn[48], line 1\u001B[0m\n\u001B[1;32m----> 1\u001B[0m wandb\u001B[38;5;241m.\u001B[39mlog({\u001B[38;5;124m\"\u001B[39m\u001B[38;5;124mFidelity Score of True Positive Input Instances and their counterfactuals\u001B[39m\u001B[38;5;124m\"\u001B[39m:fidelity_scoreTP,\n\u001B[0;32m      2\u001B[0m \u001B[38;5;124m\"\u001B[39m\u001B[38;5;124mFidelity Score of True Negative Input Instances and their counterfactuals\u001B[39m\u001B[38;5;124m\"\u001B[39m: fidelity_scoreTN})\n",
      "File \u001B[1;32m~\\anaconda3\\Lib\\site-packages\\wandb\\sdk\\lib\\preinit.py:36\u001B[0m, in \u001B[0;36mPreInitCallable.<locals>.preinit_wrapper\u001B[1;34m(*args, **kwargs)\u001B[0m\n\u001B[0;32m     35\u001B[0m \u001B[38;5;28;01mdef\u001B[39;00m \u001B[38;5;21mpreinit_wrapper\u001B[39m(\u001B[38;5;241m*\u001B[39margs: Any, \u001B[38;5;241m*\u001B[39m\u001B[38;5;241m*\u001B[39mkwargs: Any) \u001B[38;5;241m-\u001B[39m\u001B[38;5;241m>\u001B[39m Any:\n\u001B[1;32m---> 36\u001B[0m     \u001B[38;5;28;01mraise\u001B[39;00m wandb\u001B[38;5;241m.\u001B[39mError(\u001B[38;5;124mf\u001B[39m\u001B[38;5;124m\"\u001B[39m\u001B[38;5;124mYou must call wandb.init() before \u001B[39m\u001B[38;5;132;01m{\u001B[39;00mname\u001B[38;5;132;01m}\u001B[39;00m\u001B[38;5;124m()\u001B[39m\u001B[38;5;124m\"\u001B[39m)\n",
      "\u001B[1;31mError\u001B[0m: You must call wandb.init() before wandb.log()"
     ]
    }
   ],
   "execution_count": 48
  },
  {
   "metadata": {
    "ExecuteTime": {
     "end_time": "2025-09-02T15:36:39.490504Z",
     "start_time": "2025-09-02T15:36:36.946761Z"
    }
   },
   "cell_type": "code",
   "source": "wandb.finish()",
   "id": "6051832651db264c",
   "outputs": [
    {
     "data": {
      "text/plain": [
       "<IPython.core.display.HTML object>"
      ],
      "text/html": []
     },
     "metadata": {},
     "output_type": "display_data"
    },
    {
     "data": {
      "text/plain": [
       "<IPython.core.display.HTML object>"
      ],
      "text/html": [
       "<br>    <style><br>        .wandb-row {<br>            display: flex;<br>            flex-direction: row;<br>            flex-wrap: wrap;<br>            justify-content: flex-start;<br>            width: 100%;<br>        }<br>        .wandb-col {<br>            display: flex;<br>            flex-direction: column;<br>            flex-basis: 100%;<br>            flex: 1;<br>            padding: 10px;<br>        }<br>    </style><br><div class=\"wandb-row\"><div class=\"wandb-col\"><h3>Run history:</h3><br/><table class=\"wandb\"><tr><td>Accuracy_of_CFE_for_TrueNegative_Input_Instances</td><td>▁</td></tr><tr><td>Accuracy_of_CFE_for_TruePositive_Input_Instances</td><td>▁</td></tr><tr><td>Fidelity Score of True Negative Input Instances and their counterfactuals</td><td>▁</td></tr><tr><td>Fidelity Score of True Positive Input Instances and their counterfactuals</td><td>▁</td></tr></table><br/></div><div class=\"wandb-col\"><h3>Run summary:</h3><br/><table class=\"wandb\"><tr><td>Accuracy_of_CFE_for_TrueNegative_Input_Instances</td><td>1</td></tr><tr><td>Accuracy_of_CFE_for_TruePositive_Input_Instances</td><td>1</td></tr><tr><td>Fidelity Score of True Negative Input Instances and their counterfactuals</td><td>0</td></tr><tr><td>Fidelity Score of True Positive Input Instances and their counterfactuals</td><td>100</td></tr></table><br/></div></div>"
      ]
     },
     "metadata": {},
     "output_type": "display_data"
    },
    {
     "data": {
      "text/plain": [
       "<IPython.core.display.HTML object>"
      ],
      "text/html": [
       " View run <strong style=\"color:#cdcd00\">Exp4.1_Fidelity_evaluation_of_CFEs</strong> at: <a href='https://wandb.ai/gsu-dmlab/SEPCFE/runs/8w485xi0' target=\"_blank\">https://wandb.ai/gsu-dmlab/SEPCFE/runs/8w485xi0</a><br> View project at: <a href='https://wandb.ai/gsu-dmlab/SEPCFE' target=\"_blank\">https://wandb.ai/gsu-dmlab/SEPCFE</a><br>Synced 5 W&B file(s), 5 media file(s), 4 artifact file(s) and 0 other file(s)"
      ]
     },
     "metadata": {},
     "output_type": "display_data"
    },
    {
     "data": {
      "text/plain": [
       "<IPython.core.display.HTML object>"
      ],
      "text/html": [
       "Find logs at: <code>.\\wandb\\run-20250902_102703-8w485xi0\\logs</code>"
      ]
     },
     "metadata": {},
     "output_type": "display_data"
    }
   ],
   "execution_count": 46
  }
 ],
 "metadata": {
  "kernelspec": {
   "display_name": "Python 3",
   "language": "python",
   "name": "python3"
  },
  "language_info": {
   "codemirror_mode": {
    "name": "ipython",
    "version": 2
   },
   "file_extension": ".py",
   "mimetype": "text/x-python",
   "name": "python",
   "nbconvert_exporter": "python",
   "pygments_lexer": "ipython2",
   "version": "2.7.6"
  }
 },
 "nbformat": 4,
 "nbformat_minor": 5
}
