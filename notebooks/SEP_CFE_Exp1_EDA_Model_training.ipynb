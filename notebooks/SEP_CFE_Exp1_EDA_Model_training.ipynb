{
 "cells": [
  {
   "metadata": {},
   "cell_type": "markdown",
   "source": "Experiment: Exploratory Data Analysis and Baseline Modeling on GOES SEP Dataset",
   "id": "6c784f4a1f5bed90"
  },
  {
   "metadata": {},
   "cell_type": "markdown",
   "source": [
    "Objective:\n",
    "To perform exploratory data analysis (EDA) on the GOES SEP dataset, followed by training a baseline Random Forest classifier using stratified k-fold cross-validation. The model is evaluated on both training and validation sets. Feature importance is visualized to identify key predictors. A DiCE explainer is then created using both genetic and random generation methods for counterfactual explanations. All trained models and explainers are saved using pickle for reproducibility and future use."
   ],
   "id": "fdfe6af409ebf150"
  },
  {
   "metadata": {
    "ExecuteTime": {
     "end_time": "2025-09-02T09:57:05.947497Z",
     "start_time": "2025-09-02T09:57:05.939174Z"
    }
   },
   "cell_type": "code",
   "source": [
    "import wandb\n",
    "import matplotlib.pyplot as plt\n",
    "import dice_ml\n",
    "import warnings\n",
    "from sklearn.ensemble import RandomForestClassifier\n",
    "from sklearn.model_selection import GridSearchCV, StratifiedKFold\n",
    "from sklearn.metrics import f1_score, make_scorer, roc_auc_score\n",
    "from sklearn.metrics import accuracy_score, classification_report, confusion_matrix\n",
    "from sklearn.pipeline import Pipeline\n",
    "import seaborn as sns\n",
    "import joblib\n",
    "import os\n",
    "from sklearn.preprocessing import MinMaxScaler\n",
    "from scripts.SEP_CFE_functions import *\n",
    "\n",
    "min_max_scaler = MinMaxScaler()\n",
    "warnings.filterwarnings(\"ignore\")"
   ],
   "id": "687cac8c30744704",
   "outputs": [],
   "execution_count": 6
  },
  {
   "metadata": {
    "ExecuteTime": {
     "end_time": "2025-09-02T09:57:07.695739Z",
     "start_time": "2025-09-02T09:57:05.996846Z"
    }
   },
   "cell_type": "code",
   "source": [
    "wandb.init(\n",
    "    entity=\"gsu-dmlab\",\n",
    "    project=\"SEPCFE\",  # You choose the project name\n",
    "    name=\"Exp1_EDA_ModelTraining\",  # Give each run a name\n",
    ")\n"
   ],
   "id": "c84d345c43a3364e",
   "outputs": [
    {
     "data": {
      "text/plain": [
       "<IPython.core.display.HTML object>"
      ],
      "text/html": [
       "Finishing previous runs because reinit is set to 'default'."
      ]
     },
     "metadata": {},
     "output_type": "display_data"
    },
    {
     "data": {
      "text/plain": [
       "<IPython.core.display.HTML object>"
      ],
      "text/html": []
     },
     "metadata": {},
     "output_type": "display_data"
    },
    {
     "data": {
      "text/plain": [
       "<IPython.core.display.HTML object>"
      ],
      "text/html": [
       " View run <strong style=\"color:#cdcd00\">Exp1_EDA_ModelTraining</strong> at: <a href='https://wandb.ai/gsu-dmlab/SEPCFE/runs/oo90bsrd' target=\"_blank\">https://wandb.ai/gsu-dmlab/SEPCFE/runs/oo90bsrd</a><br> View project at: <a href='https://wandb.ai/gsu-dmlab/SEPCFE' target=\"_blank\">https://wandb.ai/gsu-dmlab/SEPCFE</a><br>Synced 5 W&B file(s), 0 media file(s), 0 artifact file(s) and 0 other file(s)"
      ]
     },
     "metadata": {},
     "output_type": "display_data"
    },
    {
     "data": {
      "text/plain": [
       "<IPython.core.display.HTML object>"
      ],
      "text/html": [
       "Find logs at: <code>.\\wandb\\run-20250902_055425-oo90bsrd\\logs</code>"
      ]
     },
     "metadata": {},
     "output_type": "display_data"
    },
    {
     "data": {
      "text/plain": [
       "<IPython.core.display.HTML object>"
      ],
      "text/html": [
       "Tracking run with wandb version 0.20.1"
      ]
     },
     "metadata": {},
     "output_type": "display_data"
    },
    {
     "data": {
      "text/plain": [
       "<IPython.core.display.HTML object>"
      ],
      "text/html": [
       "Run data is saved locally in <code>D:\\workspace\\SolarEnergyParticlePrediction\\notebooks\\wandb\\run-20250902_055706-3qggsiqs</code>"
      ]
     },
     "metadata": {},
     "output_type": "display_data"
    },
    {
     "data": {
      "text/plain": [
       "<IPython.core.display.HTML object>"
      ],
      "text/html": [
       "Syncing run <strong><a href='https://wandb.ai/gsu-dmlab/SEPCFE/runs/3qggsiqs' target=\"_blank\">Exp1_EDA_ModelTraining</a></strong> to <a href='https://wandb.ai/gsu-dmlab/SEPCFE' target=\"_blank\">Weights & Biases</a> (<a href='https://wandb.me/developer-guide' target=\"_blank\">docs</a>)<br>"
      ]
     },
     "metadata": {},
     "output_type": "display_data"
    },
    {
     "data": {
      "text/plain": [
       "<IPython.core.display.HTML object>"
      ],
      "text/html": [
       " View project at <a href='https://wandb.ai/gsu-dmlab/SEPCFE' target=\"_blank\">https://wandb.ai/gsu-dmlab/SEPCFE</a>"
      ]
     },
     "metadata": {},
     "output_type": "display_data"
    },
    {
     "data": {
      "text/plain": [
       "<IPython.core.display.HTML object>"
      ],
      "text/html": [
       " View run at <a href='https://wandb.ai/gsu-dmlab/SEPCFE/runs/3qggsiqs' target=\"_blank\">https://wandb.ai/gsu-dmlab/SEPCFE/runs/3qggsiqs</a>"
      ]
     },
     "metadata": {},
     "output_type": "display_data"
    },
    {
     "data": {
      "text/html": [
       "<button onClick=\"this.nextSibling.style.display='block';this.style.display='none';\">Display W&B run</button><iframe src='https://wandb.ai/gsu-dmlab/SEPCFE/runs/3qggsiqs?jupyter=true' style='border:none;width:100%;height:420px;display:none;'></iframe>"
      ],
      "text/plain": [
       "<wandb.sdk.wandb_run.Run at 0x29699ccd490>"
      ]
     },
     "execution_count": 7,
     "metadata": {},
     "output_type": "execute_result"
    }
   ],
   "execution_count": 7
  },
  {
   "metadata": {
    "ExecuteTime": {
     "end_time": "2025-09-02T09:57:08.117764Z",
     "start_time": "2025-09-02T09:57:07.705743Z"
    }
   },
   "cell_type": "code",
   "source": [
    "abt_path_train = '../data/raw/mean_sliced/train_data.csv'\n",
    "df_train = pd.read_csv(abt_path_train,  sep=',',index_col=0)\n",
    "df_train[\"Event_Y_N\"] = df_train['Label'].replace({0:1, -1:0})\n",
    "X_train = df_train.drop([\"Label\",\"Event_Y_N\"],axis=1)\n",
    "Y_train=df_train[\"Event_Y_N\"]\n",
    "abt_path_test = '../data/raw/mean_sliced/test_data.csv'\n",
    "df_test = pd.read_csv(abt_path_test, sep=',',index_col=0)\n",
    "df_test[\"Event_Y_N\"] = df_test['Label'].replace({0:1, -1:0})\n",
    "X_test = df_test.drop([\"Label\",\"Event_Y_N\"],axis=1)\n",
    "Y_test=df_test[\"Event_Y_N\"]\n",
    "abt_path_val = '../data/raw/mean_sliced/valid_data.csv'\n",
    "df_val = pd.read_csv(abt_path_val, sep=',',index_col=0)\n",
    "df_val[\"Event_Y_N\"] = df_val['Label'].replace({0:1, -1:0})\n",
    "X_val = df_val.drop([\"Label\",\"Event_Y_N\"],axis=1)\n",
    "Y_val=df_val[\"Event_Y_N\"]"
   ],
   "id": "20da34a3d9b3091e",
   "outputs": [],
   "execution_count": 8
  },
  {
   "metadata": {
    "ExecuteTime": {
     "end_time": "2025-09-02T09:57:10.365949Z",
     "start_time": "2025-09-02T09:57:08.163694Z"
    }
   },
   "cell_type": "code",
   "source": [
    "X_train.to_csv('../data/processed/X_train.csv')\n",
    "Y_train.to_csv('../data/processed/Y_train.csv')\n",
    "X_test.to_csv('../data/processed/X_test.csv')\n",
    "Y_test.to_csv('../data/processed/Y_test.csv')\n",
    "X_val.to_csv('../data/processed/X_val.csv')\n",
    "Y_val.to_csv('../data/processed/Y_val.csv')"
   ],
   "id": "755e5476c32566ab",
   "outputs": [],
   "execution_count": 9
  },
  {
   "metadata": {
    "ExecuteTime": {
     "end_time": "2025-09-02T09:57:13.902139Z",
     "start_time": "2025-09-02T09:57:10.409429Z"
    }
   },
   "cell_type": "code",
   "source": [
    "df_combined  = pd.DataFrame()\n",
    "df_combined = pd.concat([df_combined,df_train], ignore_index=True)\n",
    "df_combined = pd.concat([df_combined,df_val], ignore_index=True)\n",
    "df_combined = pd.concat([df_combined,df_test], ignore_index=True)\n",
    "df_multi_labels = pd.read_excel(\"../data/raw/multi_labels.xlsx\",header=0)\n",
    "df_multi_labels = df_multi_labels[df_multi_labels['File'] != '1991-06-18_23-16.csv']\n",
    "df_multi_labels.rename(columns={'Label': 'Multi_Label'}, inplace=True)\n",
    "# print(df_multi_labels)\n",
    "# print(df_combined)\n",
    "df_combined_labels= pd.concat([df_combined,df_multi_labels], axis=1 )\n",
    "df_combined_labels.to_csv('../data/processed/df_combined_labels.csv')"
   ],
   "id": "2fff453a483780a6",
   "outputs": [],
   "execution_count": 10
  },
  {
   "metadata": {
    "ExecuteTime": {
     "end_time": "2025-09-02T09:57:14.013910Z",
     "start_time": "2025-09-02T09:57:14.000865Z"
    }
   },
   "cell_type": "code",
   "source": "df_combined_labels.shape",
   "id": "82278e64570126ec",
   "outputs": [
    {
     "data": {
      "text/plain": [
       "(2893, 932)"
      ]
     },
     "execution_count": 11,
     "metadata": {},
     "output_type": "execute_result"
    }
   ],
   "execution_count": 11
  },
  {
   "metadata": {
    "ExecuteTime": {
     "end_time": "2025-09-02T09:57:14.394520Z",
     "start_time": "2025-09-02T09:57:14.207249Z"
    }
   },
   "cell_type": "code",
   "source": [
    "\n",
    "ts_directory_path = '../data/raw/data/'\n",
    "all_items = os.listdir(ts_directory_path)\n",
    "file_list = [f for f in all_items if os.path.isfile(os.path.join(ts_directory_path, f))]\n",
    "print(f\"\\nTotal number of files: {len(file_list)}\")\n",
    "missing_in_list = df_multi_labels[~df_multi_labels['File'].isin(file_list)]\n",
    "print(f\"Total missing files:{missing_in_list.shape[0]} \\nMissing timeseries files from Multi_Label.csv:\")\n",
    "print(missing_in_list)"
   ],
   "id": "cb478b6a258c1404",
   "outputs": [
    {
     "name": "stdout",
     "output_type": "stream",
     "text": [
      "\n",
      "Total number of files: 2894\n",
      "Total missing files:0 \n",
      "Missing timeseries files from Multi_Label.csv:\n",
      "Empty DataFrame\n",
      "Columns: [File, Multi_Label]\n",
      "Index: []\n"
     ]
    }
   ],
   "execution_count": 12
  },
  {
   "metadata": {},
   "cell_type": "markdown",
   "source": "Random Forest Classifier Training and Hyper Parameter Tuning on Training Dataset",
   "id": "3bcb9d34c93f0f27"
  },
  {
   "metadata": {
    "ExecuteTime": {
     "end_time": "2025-09-02T09:57:14.432438Z",
     "start_time": "2025-09-02T09:57:14.426277Z"
    }
   },
   "cell_type": "code",
   "source": [
    "# # Setup config\n",
    "# config = wandb.config\n",
    "# config.n_estimators = [50, 100, 200, 300, 400, 500]\n",
    "# config.max_depth = [2, 3, 4, 5, 6, 7, 8]\n",
    "# config.cv_splits = 5\n",
    "# config.random_state = 42"
   ],
   "id": "b87457166af05ead",
   "outputs": [],
   "execution_count": 13
  },
  {
   "metadata": {
    "ExecuteTime": {
     "end_time": "2025-09-02T09:57:14.525745Z",
     "start_time": "2025-09-02T09:57:14.513515Z"
    }
   },
   "cell_type": "code",
   "source": [
    "# pipeline = Pipeline([\n",
    "#     (\"classifier\", RandomForestClassifier(\n",
    "#         random_state=config.random_state,\n",
    "#         class_weight=\"balanced\"\n",
    "#     ))\n",
    "# ])\n",
    "# # Define hyperparameter grid using pipeline syntax\n",
    "# param_grid = {\n",
    "#     \"classifier__n_estimators\": config.n_estimators,\n",
    "#     \"classifier__max_depth\": config.max_depth\n",
    "# }\n",
    "# # Scorer focused on F1 score for positive class (1)\n",
    "# scorer = make_scorer(f1_score, pos_label=1)\n",
    "#\n",
    "# # Cross-validation strategy\n",
    "# cv = StratifiedKFold(n_splits=config.cv_splits, shuffle=True, random_state=config.random_state)\n",
    "#\n",
    "# # Run GridSearchCV\n",
    "# grid_search = GridSearchCV(\n",
    "#     estimator=pipeline,\n",
    "#     param_grid=param_grid,\n",
    "#     scoring=scorer,\n",
    "#     cv=cv,\n",
    "#     n_jobs=-1,\n",
    "#     verbose=1\n",
    "# )\n",
    "#\n",
    "# grid_search.fit(X_train, Y_train)\n",
    "# best_model = grid_search.best_estimator_\n",
    "# Y_pred = best_model.predict(X_train)\n",
    "#\n",
    "# # Log best params and score to wandb\n",
    "# wandb.log({\n",
    "#     \"best_f1_cv\": grid_search.best_score_,\n",
    "#     \"best_params\": grid_search.best_params_,\n",
    "#     \"classification_report\": classification_report(Y_train, Y_pred, output_dict=True),\n",
    "#     \"confusion_matrix\": wandb.plot.confusion_matrix(\n",
    "#         probs=None,\n",
    "#         y_true=Y_train,\n",
    "#         preds=Y_pred,\n",
    "#         class_names=[\"Non-SEP\", \"SEP\"]\n",
    "#     )\n",
    "# })\n",
    "# # Log top 15 feature importances\n",
    "# importances = best_model.named_steps[\"classifier\"].feature_importances_\n",
    "# feature_df = pd.DataFrame({\n",
    "#     \"Feature\": X_train.columns,\n",
    "#     \"Importance\": importances\n",
    "# }).sort_values(by=\"Importance\", ascending=False)\n",
    "#\n",
    "# plt.figure(figsize=(10, 6))\n",
    "# sns.barplot(x=\"Importance\", y=\"Feature\", data=feature_df.head(15))\n",
    "# plt.title(\"Top 15 Feature Importances\")\n",
    "# wandb.log({\"feature_importance_plot\": wandb.Image(plt)})\n",
    "# plt.close()\n",
    "#\n",
    "# # Save model\n",
    "# joblib.dump(best_model, '../models/RandomForestClassifier_model_sep_cfe.pkl')\n"
   ],
   "id": "b9307d4ee4f4eba8",
   "outputs": [],
   "execution_count": 14
  },
  {
   "metadata": {
    "ExecuteTime": {
     "end_time": "2025-09-02T09:57:14.668204Z",
     "start_time": "2025-09-02T09:57:14.658332Z"
    }
   },
   "cell_type": "code",
   "source": [
    "# # After training\n",
    "# Y_val_pred = best_model.predict(X_val)\n",
    "#\n",
    "# wandb.log({\n",
    "#     \"TSS on Training Dataset\":TSS(Y_train, Y_pred),\n",
    "#     \"TSS on Validation Dataset\": TSS(Y_val, Y_val_pred),\n",
    "#     \"HSS on Training Dataset\":HSS(Y_train, Y_pred),\n",
    "#     \"HSS on Validation Dataset\":HSS(Y_val, Y_val_pred),\n",
    "#     \"Accuracy on Training Dataset\": accuracy_score(Y_train, Y_pred),\n",
    "#     \"Accuracy on Validation Dataset\": accuracy_score(Y_val, Y_val_pred),\n",
    "#     \"f1_score on Training Dataset\": f1_score(Y_train,Y_pred),\n",
    "#     \"f1_score on Validation Dataset\": f1_score(Y_val,Y_val_pred),\n",
    "#     \"roc_auc_score on Training Dataset\": roc_auc_score(Y_train, Y_pred),\n",
    "#     \"roc_auc_score on Validation Dataset\":roc_auc_score(Y_val,Y_val_pred)\n",
    "# })\n"
   ],
   "id": "97d956a6ef631f8c",
   "outputs": [],
   "execution_count": 15
  },
  {
   "metadata": {
    "ExecuteTime": {
     "end_time": "2025-09-02T09:58:45.830027Z",
     "start_time": "2025-09-02T09:57:14.850833Z"
    }
   },
   "cell_type": "code",
   "source": [
    "\n",
    "# Define the hyperparameter grid\n",
    "param_grid = {\n",
    "    'n_estimators': [50, 100, 200, 300, 400, 500],\n",
    "    'max_depth': [2, 3, 4, 5, 6, 7, 8]\n",
    "}\n",
    "rf_clf = RandomForestClassifier(random_state=42, class_weight='balanced')\n",
    "\n",
    "# Define a stratified k-fold cross-validation strategy\n",
    "cv = StratifiedKFold(n_splits=5, shuffle=True, random_state=42)\n",
    "\n",
    "# Define a scorer that focuses on the F1 score of the positive class (assumed to be label 1)\n",
    "scorer = make_scorer(f1_score, pos_label=1)\n",
    "\n",
    "# Setup GridSearchCV with the classifier, parameter grid, CV strategy, and scorer\n",
    "grid_search = GridSearchCV(estimator=rf_clf,\n",
    "                           param_grid=param_grid,\n",
    "                           cv=cv,\n",
    "                           scoring=scorer,\n",
    "                           n_jobs=-1,\n",
    "                           verbose=1)\n",
    "\n",
    "# Fit the grid search to the training data\n",
    "grid_search.fit(X_train, Y_train)\n",
    "\n",
    "# Print the best hyperparameters and corresponding score from cross-validation\n",
    "print(\"Best parameters found:\", grid_search.best_params_)\n",
    "print(\"Best F1 score (for positive class) from CV:\", grid_search.best_score_)\n",
    "\n",
    "# Retrieve the best estimator and evaluate on the test data\n",
    "best_rf = grid_search.best_estimator_\n",
    "Y_pred = best_rf.predict(X_train)\n",
    "\n",
    "# Save model\n",
    "joblib.dump(best_rf, '../models/RandomForestClassifier_model_sep_cfe.pkl')\n",
    "\n",
    "# Output the test classification report and confusion matrix\n",
    "print(\"\\nTest Classification Report:\\n\", classification_report(Y_train, Y_pred))\n",
    "print(\"Test Confusion Matrix:\\n\", confusion_matrix(Y_train, Y_pred))"
   ],
   "id": "e9429e32c57e5b23",
   "outputs": [
    {
     "name": "stdout",
     "output_type": "stream",
     "text": [
      "Fitting 5 folds for each of 42 candidates, totalling 210 fits\n",
      "Best parameters found: {'max_depth': 5, 'n_estimators': 100}\n",
      "Best F1 score (for positive class) from CV: 0.6045431515839467\n",
      "\n",
      "Test Classification Report:\n",
      "               precision    recall  f1-score   support\n",
      "\n",
      "           0       0.97      0.98      0.97       842\n",
      "           1       0.86      0.82      0.84       154\n",
      "\n",
      "    accuracy                           0.95       996\n",
      "   macro avg       0.92      0.90      0.91       996\n",
      "weighted avg       0.95      0.95      0.95       996\n",
      "\n",
      "Test Confusion Matrix:\n",
      " [[822  20]\n",
      " [ 27 127]]\n"
     ]
    }
   ],
   "execution_count": 16
  },
  {
   "metadata": {
    "ExecuteTime": {
     "end_time": "2025-09-02T09:58:46.475095Z",
     "start_time": "2025-09-02T09:58:45.936637Z"
    }
   },
   "cell_type": "code",
   "source": [
    "# Log the model as an artifact in W&B\n",
    "artifact = wandb.Artifact(name='random_forest_classifier', type='model')\n",
    "artifact.add_file('../models/RandomForestClassifier_model_sep_cfe.pkl')\n",
    "wandb.log_artifact(artifact)"
   ],
   "id": "3038af01944bf1b1",
   "outputs": [
    {
     "data": {
      "text/plain": [
       "<Artifact random_forest_classifier>"
      ]
     },
     "execution_count": 17,
     "metadata": {},
     "output_type": "execute_result"
    }
   ],
   "execution_count": 17
  },
  {
   "metadata": {
    "ExecuteTime": {
     "end_time": "2025-09-02T09:58:46.556357Z",
     "start_time": "2025-09-02T09:58:46.511890Z"
    }
   },
   "cell_type": "code",
   "source": [
    "overall_results = []\n",
    "overall_results.append(('training set',accuracy_score(Y_train, Y_pred), TSS(Y_train, Y_pred), HSS(Y_train, Y_pred)))\n",
    "Y_val_pred = best_rf.predict(X_val)\n",
    "overall_results.append(('validation set',accuracy_score(Y_val, Y_val_pred), TSS(Y_val, Y_val_pred), HSS(Y_val, Y_val_pred)))\n",
    "Y_test_pred = best_rf.predict(X_test)\n",
    "overall_results.append(('testing set',accuracy_score(Y_test, Y_test_pred), TSS(Y_test, Y_test_pred), HSS(Y_test, Y_test_pred)))\n",
    "print(pd.DataFrame(overall_results, columns=[\"Dataset\", \"accuracy\", \"TSS\", \"HSS\"]))\n"
   ],
   "id": "dca0b73152a0a319",
   "outputs": [
    {
     "name": "stdout",
     "output_type": "stream",
     "text": [
      "          Dataset  accuracy       TSS       HSS\n",
      "0    training set  0.952811  0.800922  0.816077\n",
      "1  validation set  0.879877  0.423125  0.433895\n",
      "2     testing set  0.857918  0.381735  0.432794\n"
     ]
    }
   ],
   "execution_count": 18
  },
  {
   "metadata": {
    "ExecuteTime": {
     "end_time": "2025-09-02T09:58:46.635058Z",
     "start_time": "2025-09-02T09:58:46.625047Z"
    }
   },
   "cell_type": "code",
   "source": "overall_results",
   "id": "91f2d15bea510749",
   "outputs": [
    {
     "data": {
      "text/plain": [
       "[('training set', 0.9528112449799196, 0.8009223555541846, 0.816077322017916),\n",
       " ('validation set',\n",
       "  0.8798767967145791,\n",
       "  0.42312499394456127,\n",
       "  0.433895341327955),\n",
       " ('testing set', 0.8579175704989154, 0.38173503876996484, 0.4327939063219092)]"
      ]
     },
     "execution_count": 19,
     "metadata": {},
     "output_type": "execute_result"
    }
   ],
   "execution_count": 19
  },
  {
   "metadata": {
    "ExecuteTime": {
     "end_time": "2025-09-02T09:58:46.711242Z",
     "start_time": "2025-09-02T09:58:46.703596Z"
    }
   },
   "cell_type": "code",
   "source": [
    "wandb.log({\n",
    "    \"TSS on Training Dataset\":overall_results[0][2],\n",
    "    \"TSS on Validation Dataset\": overall_results[1][2],\n",
    "    \"HSS on Training Dataset\":overall_results[0][3],\n",
    "    \"HSS on Validation Dataset\":overall_results[1][3],\n",
    "    \"Accuracy on Training Dataset\": overall_results[0][1],\n",
    "    \"Accuracy on Validation Dataset\": overall_results[1][1]\n",
    "})\n"
   ],
   "id": "d6f65ffcd806cbc6",
   "outputs": [],
   "execution_count": 20
  },
  {
   "metadata": {},
   "cell_type": "markdown",
   "source": "**Plotting Feature Importance**",
   "id": "e7501366d6e634d5"
  },
  {
   "metadata": {
    "ExecuteTime": {
     "end_time": "2025-09-02T09:58:47.159374Z",
     "start_time": "2025-09-02T09:58:46.787485Z"
    }
   },
   "cell_type": "code",
   "source": [
    "# Assuming `best_rf` is your trained Random Forest model\n",
    "# and `X_train` contains the feature names\n",
    "\n",
    "# Get feature importance scores\n",
    "feature_importances = best_rf.feature_importances_\n",
    "\n",
    "# Create a DataFrame to organize feature names and their importance scores\n",
    "feature_importance_df = pd.DataFrame({\n",
    "    'Feature': X_train.columns,\n",
    "    'Importance': feature_importances\n",
    "})\n",
    "\n",
    "# Sort by importance in descending order\n",
    "feature_importance_df = feature_importance_df.sort_values(by='Importance', ascending=False).head(20)\n",
    "\n",
    "# Display the top features\n",
    "print(feature_importance_df)\n",
    "\n",
    "# Plot the feature importances\n",
    "plt.figure(figsize=(10, 6))\n",
    "plt.barh(feature_importance_df['Feature'], feature_importance_df['Importance'], color='skyblue')\n",
    "plt.xlabel('Importance Score')\n",
    "plt.ylabel('Feature')\n",
    "plt.title('Feature Importance based on Best Random Forest Model')\n",
    "plt.gca().invert_yaxis()  # Invert y-axis to show the most important feature at the top\n",
    "plt.show()\n"
   ],
   "id": "e5b929f3dafe4e5e",
   "outputs": [
    {
     "name": "stdout",
     "output_type": "stream",
     "text": [
      "                       Feature  Importance\n",
      "912  p3_flux_ic_mean@[345:351]    0.016813\n",
      "412  p3_flux_ic_mean@[294:306]    0.015512\n",
      "12   p3_flux_ic_mean@[180:360]    0.013846\n",
      "900  p3_flux_ic_mean@[336:342]    0.013482\n",
      "212  p3_flux_ic_mean@[336:359]    0.011833\n",
      "860  p3_flux_ic_mean@[306:312]    0.011426\n",
      "440  p3_flux_ic_mean@[336:348]    0.010817\n",
      "924  p3_flux_ic_mean@[354:360]    0.010343\n",
      "200  p3_flux_ic_mean@[300:323]    0.009730\n",
      "435        long_mean@[324:336]    0.009371\n",
      "211        long_mean@[324:347]    0.009296\n",
      "908  p3_flux_ic_mean@[342:348]    0.009174\n",
      "920  p3_flux_ic_mean@[351:357]    0.009126\n",
      "352  p3_flux_ic_mean@[204:216]    0.009033\n",
      "208  p3_flux_ic_mean@[324:347]    0.008997\n",
      "888  p3_flux_ic_mean@[327:333]    0.008828\n",
      "448  p3_flux_ic_mean@[348:360]    0.008497\n",
      "420  p3_flux_ic_mean@[306:318]    0.007659\n",
      "884  p3_flux_ic_mean@[324:330]    0.007371\n",
      "168  p3_flux_ic_mean@[204:227]    0.007342\n"
     ]
    },
    {
     "data": {
      "text/plain": [
       "<Figure size 1000x600 with 1 Axes>"
      ],
      "image/png": "[encoded data removed]"
     },
     "metadata": {},
     "output_type": "display_data"
    }
   ],
   "execution_count": 21
  },
  {
   "metadata": {
    "ExecuteTime": {
     "end_time": "2025-09-02T09:58:47.654844Z",
     "start_time": "2025-09-02T09:58:47.216918Z"
    }
   },
   "cell_type": "code",
   "source": " wandb.log({\"feature_importance_plot\": wandb.Image(plt)})",
   "id": "3a28ae3446e37a1c",
   "outputs": [
    {
     "data": {
      "text/plain": [
       "<Figure size 640x480 with 0 Axes>"
      ]
     },
     "metadata": {},
     "output_type": "display_data"
    }
   ],
   "execution_count": 22
  },
  {
   "metadata": {},
   "cell_type": "markdown",
   "source": "Creating DiCE Counterfactual Explainers for SEP Prediction",
   "id": "82e3df8d4bd3b436"
  },
  {
   "metadata": {
    "ExecuteTime": {
     "end_time": "2025-09-02T09:58:47.868210Z",
     "start_time": "2025-09-02T09:58:47.717864Z"
    }
   },
   "cell_type": "code",
   "source": [
    "df_cfe = df_test.drop([\"Label\"],axis=1)\n",
    "\n",
    "#df_cfe = df_combined_labels.drop([\"Label\",\"File\",\"Label.1\"],axis=1)  # should contain the target column\n",
    "cont_features = list(df_combined_labels.drop([\"Label\",\"Event_Y_N\",\"File\",\"Multi_Label\"],axis=1).columns) #should not contain target column\n",
    "data= dice_ml.Data(dataframe=df_cfe, continuous_features=cont_features, outcome_name='Event_Y_N')"
   ],
   "id": "616cb045f5e5ad7",
   "outputs": [],
   "execution_count": 23
  },
  {
   "metadata": {
    "ExecuteTime": {
     "end_time": "2025-09-02T09:58:48.356805Z",
     "start_time": "2025-09-02T09:58:47.932155Z"
    }
   },
   "cell_type": "code",
   "source": [
    "#Define a Model object using dice_ml.Model (we are using this CFE model for regressor type of prediction model\n",
    "cfe_model = dice_ml.Model(model=best_rf, backend=\"sklearn\", model_type='classifier')\n",
    "#Create the Dice explainer\n",
    "exp_random = dice_ml.Dice(data_interface=data, model_interface=cfe_model, method=\"random\") #method= [\"genetic\",\"kdtree\",\"random\"]\n",
    "\n",
    "# Save the explainer (DiCE model) using joblib\n",
    "joblib.dump(exp_random, \"../models/sep_cfe_random_explainer.pkl\")\n",
    "\n",
    "#use `exp` to generate counterfactual explanations\n",
    "print(\"\\nRandom Dice explainer created successfully.\\n\")"
   ],
   "id": "f94f068023521ace",
   "outputs": [
    {
     "name": "stdout",
     "output_type": "stream",
     "text": [
      "\n",
      "Random Dice explainer created successfully.\n",
      "\n"
     ]
    }
   ],
   "execution_count": 24
  },
  {
   "metadata": {
    "ExecuteTime": {
     "end_time": "2025-09-02T09:58:48.818807Z",
     "start_time": "2025-09-02T09:58:48.418659Z"
    }
   },
   "cell_type": "code",
   "source": [
    "# Log the model as an artifact in W&B\n",
    "artifact = wandb.Artifact(name='DiCE_Explainer-Random_Method', type='model')\n",
    "artifact.add_file(\"../models/sep_cfe_random_explainer.pkl\")\n",
    "wandb.log_artifact(artifact)"
   ],
   "id": "caafd2a42fe46285",
   "outputs": [
    {
     "data": {
      "text/plain": [
       "<Artifact DiCE_Explainer-Random_Method>"
      ]
     },
     "execution_count": 25,
     "metadata": {},
     "output_type": "execute_result"
    }
   ],
   "execution_count": 25
  },
  {
   "metadata": {
    "ExecuteTime": {
     "end_time": "2025-09-02T09:58:48.959237Z",
     "start_time": "2025-09-02T09:58:48.869989Z"
    }
   },
   "cell_type": "code",
   "source": [
    "#Define a Model object using dice_ml.Model (we are using this CFE model for regressor type of prediction model\n",
    "cfe_model = dice_ml.Model(model=best_rf, backend=\"sklearn\", model_type='classifier')\n",
    "#Create the Dice explainer\n",
    "exp_genetic = dice_ml.Dice(data_interface=data, model_interface=cfe_model, method=\"genetic\") #method= [\"genetic\",\"kdtree\",\"random\"]\n",
    "\n",
    "# Save the explainer (DiCE model) using joblib\n",
    "joblib.dump(exp_genetic, \"../models/sep_cfe_genetic_explainer.pkl\")\n",
    "\n",
    "#use `exp` to generate counterfactual explanations\n",
    "print(\"\\nGenetic Dice explainer created successfully.\\n\")"
   ],
   "id": "2543b38dc4fb04ae",
   "outputs": [
    {
     "name": "stdout",
     "output_type": "stream",
     "text": [
      "\n",
      "Genetic Dice explainer created successfully.\n",
      "\n"
     ]
    }
   ],
   "execution_count": 26
  },
  {
   "metadata": {
    "ExecuteTime": {
     "end_time": "2025-09-02T09:58:49.426446Z",
     "start_time": "2025-09-02T09:58:49.024348Z"
    }
   },
   "cell_type": "code",
   "source": [
    "# Log the model as an artifact in W&B\n",
    "artifact = wandb.Artifact(name='DiCE_Explainer-Genetic_Method', type='model')\n",
    "artifact.add_file(\"../models/sep_cfe_genetic_explainer.pkl\")\n",
    "wandb.log_artifact(artifact)"
   ],
   "id": "337d6bd6290506cf",
   "outputs": [
    {
     "data": {
      "text/plain": [
       "<Artifact DiCE_Explainer-Genetic_Method>"
      ]
     },
     "execution_count": 27,
     "metadata": {},
     "output_type": "execute_result"
    }
   ],
   "execution_count": 27
  },
  {
   "metadata": {
    "ExecuteTime": {
     "end_time": "2025-09-02T09:58:50.207786Z",
     "start_time": "2025-09-02T09:58:49.481991Z"
    }
   },
   "cell_type": "code",
   "source": "wandb.finish()",
   "id": "9904c0f4957793a5",
   "outputs": [
    {
     "data": {
      "text/plain": [
       "<IPython.core.display.HTML object>"
      ],
      "text/html": []
     },
     "metadata": {},
     "output_type": "display_data"
    },
    {
     "data": {
      "text/plain": [
       "<IPython.core.display.HTML object>"
      ],
      "text/html": [
       "<br>    <style><br>        .wandb-row {<br>            display: flex;<br>            flex-direction: row;<br>            flex-wrap: wrap;<br>            justify-content: flex-start;<br>            width: 100%;<br>        }<br>        .wandb-col {<br>            display: flex;<br>            flex-direction: column;<br>            flex-basis: 100%;<br>            flex: 1;<br>            padding: 10px;<br>        }<br>    </style><br><div class=\"wandb-row\"><div class=\"wandb-col\"><h3>Run history:</h3><br/><table class=\"wandb\"><tr><td>Accuracy on Training Dataset</td><td>▁</td></tr><tr><td>Accuracy on Validation Dataset</td><td>▁</td></tr><tr><td>HSS on Training Dataset</td><td>▁</td></tr><tr><td>HSS on Validation Dataset</td><td>▁</td></tr><tr><td>TSS on Training Dataset</td><td>▁</td></tr><tr><td>TSS on Validation Dataset</td><td>▁</td></tr></table><br/></div><div class=\"wandb-col\"><h3>Run summary:</h3><br/><table class=\"wandb\"><tr><td>Accuracy on Training Dataset</td><td>0.95281</td></tr><tr><td>Accuracy on Validation Dataset</td><td>0.87988</td></tr><tr><td>HSS on Training Dataset</td><td>0.81608</td></tr><tr><td>HSS on Validation Dataset</td><td>0.4339</td></tr><tr><td>TSS on Training Dataset</td><td>0.80092</td></tr><tr><td>TSS on Validation Dataset</td><td>0.42312</td></tr></table><br/></div></div>"
      ]
     },
     "metadata": {},
     "output_type": "display_data"
    },
    {
     "data": {
      "text/plain": [
       "<IPython.core.display.HTML object>"
      ],
      "text/html": [
       " View run <strong style=\"color:#cdcd00\">Exp1_EDA_ModelTraining</strong> at: <a href='https://wandb.ai/gsu-dmlab/SEPCFE/runs/3qggsiqs' target=\"_blank\">https://wandb.ai/gsu-dmlab/SEPCFE/runs/3qggsiqs</a><br> View project at: <a href='https://wandb.ai/gsu-dmlab/SEPCFE' target=\"_blank\">https://wandb.ai/gsu-dmlab/SEPCFE</a><br>Synced 5 W&B file(s), 1 media file(s), 0 artifact file(s) and 0 other file(s)"
      ]
     },
     "metadata": {},
     "output_type": "display_data"
    },
    {
     "data": {
      "text/plain": [
       "<IPython.core.display.HTML object>"
      ],
      "text/html": [
       "Find logs at: <code>.\\wandb\\run-20250902_055706-3qggsiqs\\logs</code>"
      ]
     },
     "metadata": {},
     "output_type": "display_data"
    }
   ],
   "execution_count": 28
  }
 ],
 "metadata": {
  "kernelspec": {
   "display_name": "Python 3",
   "language": "python",
   "name": "python3"
  },
  "language_info": {
   "codemirror_mode": {
    "name": "ipython",
    "version": 2
   },
   "file_extension": ".py",
   "mimetype": "text/x-python",
   "name": "python",
   "nbconvert_exporter": "python",
   "pygments_lexer": "ipython2",
   "version": "2.7.6"
  }
 },
 "nbformat": 4,
 "nbformat_minor": 5
}
